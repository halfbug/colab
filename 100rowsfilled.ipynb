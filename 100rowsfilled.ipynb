{
  "nbformat": 4,
  "nbformat_minor": 0,
  "metadata": {
    "colab": {
      "provenance": [],
      "authorship_tag": "ABX9TyPGeF5z7iOn+naVtIeElUG/",
      "include_colab_link": true
    },
    "kernelspec": {
      "name": "python3",
      "display_name": "Python 3"
    },
    "language_info": {
      "name": "python"
    }
  },
  "cells": [
    {
      "cell_type": "markdown",
      "metadata": {
        "id": "view-in-github",
        "colab_type": "text"
      },
      "source": [
        "<a href=\"https://colab.research.google.com/github/halfbug/colab/blob/main/100rowsfilled.ipynb\" target=\"_parent\"><img src=\"https://colab.research.google.com/assets/colab-badge.svg\" alt=\"Open In Colab\"/></a>"
      ]
    },
    {
      "cell_type": "code",
      "execution_count": 1,
      "metadata": {
        "id": "_yLeh0hiW9Iv"
      },
      "outputs": [],
      "source": [
        "import pandas as pd"
      ]
    },
    {
      "cell_type": "code",
      "source": [
        "sheet_id = '1M8mauGQDZVbXpwQPAlfrKc2suVqtdB5k'\n",
        "sheet_name = \"LevelGuide\"\n",
        "url = f\"https://docs.google.com/spreadsheets/d/{sheet_id}/gviz/tq?tqx=out:csv&sheet={sheet_name}\"\n",
        "df=pd.read_csv(url)\n",
        "# https://docs.google.com/spreadsheets/d/1M8mauGQDZVbXpwQPAlfrKc2suVqtdB5k/edit#gid=816935593"
      ],
      "metadata": {
        "id": "jzAAwhqwYF2I"
      },
      "execution_count": 2,
      "outputs": []
    },
    {
      "cell_type": "code",
      "source": [
        "print(df)"
      ],
      "metadata": {
        "colab": {
          "base_uri": "https://localhost:8080/"
        },
        "id": "K85q2qqtYQJC",
        "outputId": "5f6b12c3-13d4-4294-d35f-e8d4bcda3881"
      },
      "execution_count": 3,
      "outputs": [
        {
          "output_type": "stream",
          "name": "stdout",
          "text": [
            "                                                  join  Hemster ID  \\\n",
            "0       55718 194900722053 30F1GCDS2L 001 Michael Kors       55718   \n",
            "1      55740 196163322728 30S2G9HM6L 1999 Michael Kors       55740   \n",
            "2    55760 196163134963 30S2SCDT3L chambray Michael...       55760   \n",
            "3          55770 193144528056 MM7W775 110 Michael Kors       55770   \n",
            "4    55858 196163135120 30S2SGRL8L CHAMBRAY Michael...       55858   \n",
            "..                                                 ...         ...   \n",
            "134     55653 196108954069 43T2OLFS1D 005 Michael Kors       55653   \n",
            "135     55629 196237053305 MU2814R5PT 100 Michael Kors       55629   \n",
            "136    55625 196163150185 MS2206R50R 3110 Michael Kors       55625   \n",
            "137     55640 196237063922 MU2817O33D 001 Michael Kors       55640   \n",
            "138     55631 723088612322 77Q5928M42 110 Michael Kors       55631   \n",
            "\n",
            "           MK SKU          Description Grade         Garment Type  \\\n",
            "0    194900722053       30F1GCDS2L 001     a                 Bags   \n",
            "1    196163322728      30S2G9HM6L 1999     a                 Bags   \n",
            "2    196163134963  30S2SCDT3L chambray     a                 Bags   \n",
            "3    193144528056          MM7W775 110     a              Scarves   \n",
            "4    196163135120  30S2SGRL8L CHAMBRAY     a                 Bags   \n",
            "..            ...                  ...   ...                  ...   \n",
            "134  196108954069       43T2OLFS1D 005     a                Shoes   \n",
            "135  196237053305       MU2814R5PT 100     a       Sleeveless Top   \n",
            "136  196163150185      MS2206R50R 3110     a            Outerwear   \n",
            "137  196237063922       MU2817O33D 001     a  Basic Sleeved Dress   \n",
            "138  723088612322       77Q5928M42 110     a            Outerwear   \n",
            "\n",
            "    Category Type     MSRP  brand   image  Sold on amazon  color  \\\n",
            "0       Accessory  $200.00     NaN    NaN             NaN    NaN   \n",
            "1       Accessory  $138.00     NaN    NaN             NaN    NaN   \n",
            "2       Accessory  $150.00     NaN    NaN             NaN    NaN   \n",
            "3       Accessory  $100.00     NaN    NaN             NaN    NaN   \n",
            "4       Accessory  $250.00     NaN    NaN             NaN    NaN   \n",
            "..            ...      ...     ...    ...             ...    ...   \n",
            "134      Footwear  $110.00     NaN    NaN             NaN    NaN   \n",
            "135       Apparel  $150.00     NaN    NaN             NaN    NaN   \n",
            "136       Apparel  $595.00     NaN    NaN             NaN    NaN   \n",
            "137       Apparel  $260.00     NaN    NaN             NaN    NaN   \n",
            "138       Apparel  $220.00     NaN    NaN             NaN    NaN   \n",
            "\n",
            "     Amazon price  ASIN  UPC  \n",
            "0             NaN   NaN  NaN  \n",
            "1             NaN   NaN  NaN  \n",
            "2             NaN   NaN  NaN  \n",
            "3             NaN   NaN  NaN  \n",
            "4             NaN   NaN  NaN  \n",
            "..            ...   ...  ...  \n",
            "134           NaN   NaN  NaN  \n",
            "135           NaN   NaN  NaN  \n",
            "136           NaN   NaN  NaN  \n",
            "137           NaN   NaN  NaN  \n",
            "138           NaN   NaN  NaN  \n",
            "\n",
            "[139 rows x 15 columns]\n"
          ]
        }
      ]
    },
    {
      "cell_type": "markdown",
      "source": [
        "# Logger"
      ],
      "metadata": {
        "id": "4TygYEzH7paq"
      }
    },
    {
      "cell_type": "code",
      "source": [
        "import logging\n",
        "\n",
        "class Logger:\n",
        "    def __init__(self, logger_name):\n",
        "        self.logger = logging.getLogger(logger_name)\n",
        "        self.logger.setLevel(logging.DEBUG)\n",
        "        formatter = logging.Formatter('%(asctime)s - %(name)s - %(levelname)s - %(message)s')\n",
        "        ch = logging.StreamHandler()\n",
        "        ch.setFormatter(formatter)\n",
        "        self.logger.addHandler(ch)"
      ],
      "metadata": {
        "id": "HxMn1BfNVt4K"
      },
      "execution_count": 4,
      "outputs": []
    },
    {
      "cell_type": "markdown",
      "source": [
        "# **ExcelProcessor**"
      ],
      "metadata": {
        "id": "rgKOubuG7mj_"
      }
    },
    {
      "cell_type": "code",
      "source": [
        "class ExcelProcessor:\n",
        "    def __init__(self, file_path=None, sheet_id=None, sheet_name=\"Excel file\"):\n",
        "        # Example usage for opening a Google Sheet:\n",
        "        # sheet_id = '1M8mauGQDZVbXpwQPAlfrKc2suVqtdB5k'\n",
        "        # sheet_name = \"LevelGuide\"\n",
        "        # processor = ExcelProcessor(sheet_id=sheet_id, sheet_name=sheet_name)\n",
        "\n",
        "        if file_path:\n",
        "            self.df = pd.read_excel(file_path)\n",
        "        elif sheet_id and sheet_name:\n",
        "            url = f\"https://docs.google.com/spreadsheets/d/{sheet_id}/gviz/tq?tqx=out:csv&sheet={sheet_name}\"\n",
        "            self.df = pd.read_csv(url)\n",
        "        else:\n",
        "            raise ValueError(\"Either provide a file path or Google Sheet ID and sheet name.\")\n",
        "        self.logger = Logger(__name__).logger\n",
        "\n",
        "    def get_empty_columns_names(self):\n",
        "        empty_columns = self.df.columns[self.df.isnull().any()].tolist()\n",
        "        return empty_columns\n",
        "\n",
        "    def get_filled_columns_names(self):\n",
        "        filled_columns = self.df.columns[self.df.notnull().any()].tolist()\n",
        "        return filled_columns\n",
        "\n",
        "    def list_columns_with_values(self,num_columns=None):\n",
        "        non_empty_columns = self.df.columns[self.df.notnull().any()].tolist()\n",
        "        filtered_df = self.df[non_empty_columns]\n",
        "        if num_columns:\n",
        "            return filtered_df.values[:, :num_columns].tolist()\n",
        "        else:\n",
        "            return filtered_df.values.tolist()\n",
        "        return columns_with_values\n",
        "\n",
        "    def get_all_rows(self):\n",
        "        return self.df.values.tolist()\n",
        "\n",
        "    def get_all_rows_values(self):\n",
        "        non_empty_columns = self.df.columns[self.df.notnull().any()].tolist()\n",
        "        filtered_df = self.df[non_empty_columns]\n",
        "        return filtered_df.values.tolist()\n",
        "\n",
        "    def get_total_rows_columns(self):\n",
        "        total_rows, total_columns = self.df.shape\n",
        "        self.logger.info(\"get total rows and columns in the sheet\")\n",
        "        return total_rows, total_columns\n",
        "        # Example usage to get total rows and columns in the sheet\n",
        "        # total_rows, total_columns = processor.get_total_rows_columns()\n",
        "        # print(\"Total rows:\", total_rows)\n",
        "        # print(\"Total columns:\", total_columns)"
      ],
      "metadata": {
        "id": "bJCLz2UAjiqN"
      },
      "execution_count": 5,
      "outputs": []
    },
    {
      "cell_type": "code",
      "source": [
        "sheet_id = '1M8mauGQDZVbXpwQPAlfrKc2suVqtdB5k'\n",
        "sheet_name = \"LevelGuide\"\n",
        "processor = ExcelProcessor(sheet_id=sheet_id, sheet_name=sheet_name)\n",
        "\n",
        "print(\"Empty columns:\", processor.get_empty_columns_names())\n",
        "\n",
        "# print(\"Columns with values:\", processor.get_filled_columns_names()[ :3])\n",
        "print(\"Columns with values:\", ' '.join(processor.get_filled_columns_names()))\n",
        "\n",
        "print(\"All rows of the sheet:\")\n",
        "all_rows = processor.get_all_rows_values()\n",
        "for row in all_rows:\n",
        "    # print(row)\n",
        "    row_str = \", \".join(map(str, row))\n",
        "    # print(row_str)\n",
        "\n",
        "# Example usage to get total rows and columns in the sheet\n",
        "total_rows, total_columns = processor.get_total_rows_columns()\n",
        "print(\"Total rows:\", total_rows)\n",
        "print(\"Total columns:\", total_columns)"
      ],
      "metadata": {
        "colab": {
          "base_uri": "https://localhost:8080/"
        },
        "id": "wR9oYhMdlTJn",
        "outputId": "1b210107-58d0-4f9a-dbc8-0593cd2e0203"
      },
      "execution_count": 6,
      "outputs": [
        {
          "output_type": "stream",
          "name": "stderr",
          "text": [
            "2024-03-25 07:28:09,022 - __main__ - INFO - get total rows and columns in the sheet\n",
            "INFO:__main__:get total rows and columns in the sheet\n"
          ]
        },
        {
          "output_type": "stream",
          "name": "stdout",
          "text": [
            "Empty columns: ['brand ', 'image', 'Sold on amazon', 'color', 'Amazon price', 'ASIN', 'UPC']\n",
            "Columns with values: join Hemster ID MK SKU Description Grade Garment Type Category Type MSRP\n",
            "All rows of the sheet:\n",
            "Total rows: 139\n",
            "Total columns: 15\n"
          ]
        }
      ]
    },
    {
      "cell_type": "code",
      "source": [
        "# Check for columns with empty values\n",
        "empty_columns = df.columns[df.isnull().any()].tolist()\n",
        "empty_columns"
      ],
      "metadata": {
        "colab": {
          "base_uri": "https://localhost:8080/"
        },
        "id": "rjYTK9FpbL9s",
        "outputId": "fe574c8c-2e37-422b-b90e-9fb1f26f7d43"
      },
      "execution_count": 7,
      "outputs": [
        {
          "output_type": "execute_result",
          "data": {
            "text/plain": [
              "['brand ', 'image', 'Sold on amazon', 'color', 'Amazon price', 'ASIN', 'UPC']"
            ]
          },
          "metadata": {},
          "execution_count": 7
        }
      ]
    },
    {
      "cell_type": "markdown",
      "source": [
        "# HelperText"
      ],
      "metadata": {
        "id": "SQ7dIU4G7dDQ"
      }
    },
    {
      "cell_type": "code",
      "source": [
        "class HelperText:\n",
        "    @staticmethod\n",
        "    def format_string(input_string):\n",
        "        formatted_string = \"\"\n",
        "\n",
        "        # Split the input string into separate lines\n",
        "        lines = input_string.split('\\n')\n",
        "\n",
        "        # Iterate through each line\n",
        "        for line in lines:\n",
        "            # Check if the line contains a colon ':'\n",
        "            if ':' in line:\n",
        "                # Split the line into key and value based on the colon ':'\n",
        "                key, value = line.split(':', 1)\n",
        "                # Format the key and value and add them to the formatted string\n",
        "                formatted_string += f\"{key.strip()}: {value.strip()} \"\n",
        "            else:\n",
        "                # If the line does not contain a colon, add it as is to the formatted string\n",
        "                formatted_string += f\"{line.strip()} \"\n",
        "\n",
        "        return formatted_string\n",
        "\n",
        "\n",
        "    @staticmethod\n",
        "    def clear_code(input_string):\n",
        "        string_encode = input_string.encode(\"ascii\", \"ignore\")\n",
        "        input_string = string_encode.decode()\n",
        "        return(input_string)\n",
        "\n",
        "# Example usage:\n",
        "helper = HelperText()\n",
        "\n",
        "# Format a string\n",
        "formatted_string = helper.format_string(\"Your input string\")\n",
        "print(\"Formatted string:\", formatted_string)\n",
        "\n",
        "# Clear code from a string\n",
        "cleaned_string = helper.clear_code(\"Your input string with code\")\n",
        "print(\"Cleaned string:\", cleaned_string)\n"
      ],
      "metadata": {
        "id": "JVrf2YGm3aQp",
        "outputId": "63e1a860-a53e-426a-9faf-5aeb5e53336f",
        "colab": {
          "base_uri": "https://localhost:8080/"
        }
      },
      "execution_count": 8,
      "outputs": [
        {
          "output_type": "stream",
          "name": "stdout",
          "text": [
            "Formatted string: Your input string \n",
            "Cleaned string: Your input string with code\n"
          ]
        }
      ]
    },
    {
      "cell_type": "markdown",
      "source": [
        "# **WebScraper**"
      ],
      "metadata": {
        "id": "ZG2x1i3j7TL0"
      }
    },
    {
      "cell_type": "code",
      "source": [
        "from googleapiclient.discovery import build\n",
        "import re\n",
        "import requests\n",
        "from bs4 import BeautifulSoup\n",
        "from google.colab import userdata\n",
        "\n",
        "class WebScraper:\n",
        "    def __init__(self):\n",
        "        self.base_url = \"https://www.google.com/search?q=\"\n",
        "        self.api_key = userdata.get('GOOGLE_SEARCH_API')\n",
        "        self.service = build(\"customsearch\", \"v1\", developerKey=self.api_key)\n",
        "        self.logger = Logger(__name__).logger\n",
        "\n",
        "    def google_scraper(self, query):\n",
        "        try:\n",
        "          response = requests.get(self.base_url+query.lower().replace(' ', '+'))\n",
        "          soup = BeautifulSoup(response.content, 'html.parser')\n",
        "\n",
        "          # find first five link's content\n",
        "          # anchor_tags = soup.find_all('a', href=True)\n",
        "          # hrefs = []\n",
        "          # content = \"\"\n",
        "          # for tag in anchor_tags:\n",
        "          #   href = tag.get('href')\n",
        "          #   if href and href.startswith(\"/url?q=https\") and \"google\" not in href.lower():  # Check if href exists (it might be None)\n",
        "          #     parts = href.split('&', 1)\n",
        "          #     parts = parts[0].split('/url?q=',1)\n",
        "          #     # print(parts)\n",
        "          #     hrefs.append(parts[1])\n",
        "          #     scraped_content = scrape_text(parts[1])\n",
        "          #     content += scraped_content + \"\\n ***\"\n",
        "              # print(scraped_content)\n",
        "          # print(hrefs[:5])\n",
        "\n",
        "\n",
        "\n",
        "          body_content = soup.find('body')  # Find the body tag\n",
        "\n",
        "          if body_content:\n",
        "            # Extract only the text content from the body tag\n",
        "              text_content = body_content.get_text(strip=True)\n",
        "              # print(\"\\033[34m\" + text_content )\n",
        "\n",
        "\n",
        "\n",
        "              return helper.clear_code(text_content)    #format_string(content)\n",
        "        except Exception as e:\n",
        "          print(f\"Error occurred while scraping: {e}\")\n",
        "          return \"No search result found: Unknown\"\n",
        "        self.logger.info(\"Scraping Google search results for: %s\", query)\n",
        "\n",
        "    def scrape_text(self,url):\n",
        "    # Function to scrape the webpage for availability information\n",
        "      try:\n",
        "          response = requests.get(url)\n",
        "          soup = BeautifulSoup(response.content, 'html.parser')\n",
        "          # Search for specific keywords like \"stock availability\" on the webpage\n",
        "\n",
        "          # Step 3: Extract metadata\n",
        "          meta_tags = soup.find_all('meta')\n",
        "          metadata = {}\n",
        "          for tag in meta_tags:\n",
        "              if 'name' in tag.attrs:\n",
        "                  name = tag.attrs['name']\n",
        "                  content = tag.attrs.get('content', '')\n",
        "                  metadata[name] = content\n",
        "              elif 'property' in tag.attrs:  # For OpenGraph metadata\n",
        "                  property = tag.attrs['property']\n",
        "                  content = tag.attrs.get('content', '')\n",
        "                  metadata[property] = content\n",
        "\n",
        "          # Display the metadata\n",
        "          # for key, value in metadata.items():\n",
        "          #     print(f\"{key}: {value}\")\n",
        "\n",
        "          # print( metadata)\n",
        "\n",
        "          meta_tag = self.extract_product_info([metadata])\n",
        "\n",
        "              # Find all link elements with the 'as' attribute set to 'image'\n",
        "          image_links = soup.find_all('link', {'rel': 'preload', 'as': 'image'})\n",
        "\n",
        "          # Extract and print the href attributes\n",
        "          images = ''\n",
        "          for link in image_links:\n",
        "              image_url = link.get('href')\n",
        "              if image_url:\n",
        "                  if image_url.startswith(\"//\"):\n",
        "                    # Add protocol (http assumed):\n",
        "                    image_url= f\"http:{image_url}\"\n",
        "                  images = images +\",\"+ image_url\n",
        "                  # print(image_url)\n",
        "\n",
        "          body_content = soup.find('body')  # Find the body tag\n",
        "          print(body_content)\n",
        "          if body_content:\n",
        "            # Extract only the text content from the body tag\n",
        "              text_content = body_content.get_text(strip=True)\n",
        "\n",
        "              # Search for either \"stock\" or \"stock availability\" in the text content\n",
        "              # print(text_content)\n",
        "              string_encode = text_content.encode(\"ascii\", \"ignore\")\n",
        "              text_content = string_encode.decode()\n",
        "              return text_content + meta_tag + \"Images : \" + images\n",
        "          return f\"Content: Unknown on {url}\"\n",
        "      except Exception as e:\n",
        "          print(f\"Error occurred while scraping: {e}\")\n",
        "          return f\"Content: Unknown on {url}\"\n",
        "\n",
        "    def extract_product_info(self, meta_tags):\n",
        "        # Function to extract product information from meta tags\n",
        "        product_info = \"\"\n",
        "        for meta_tag in meta_tags:\n",
        "            if 'og:title' in meta_tag:\n",
        "                product_info += f\"\\n ***Title: {meta_tag['og:title']}\\n\"\n",
        "            if 'og:description' in meta_tag:\n",
        "                product_info += f\"Description: {meta_tag['og:description']}\\n\"\n",
        "            if 'og:price:amount' in meta_tag and 'og:price:currency' in meta_tag:\n",
        "                product_info += f\"Price: {meta_tag['og:price:amount']} {meta_tag['og:price:currency']}\\n\"\n",
        "            if 'og:image' in meta_tag:\n",
        "                    if len(meta_tag['og:image']) <= 200:  # Check if URL length is less than or equal to 200\n",
        "                        product_info += f\"Image URL: {meta_tag['og:image']} \\n\"\n",
        "            if 'og:url' in meta_tag:\n",
        "                product_info += f\"URL: {meta_tag['og:url']} \\n\"\n",
        "                # Call function to extract availability information\n",
        "                availability_info = self.extract_availability(meta_tag['og:url'])\n",
        "                product_info += f\"{availability_info}\\n\"\n",
        "                # Extract ASIN from URL if it's an Amazon link\n",
        "                asin_match = re.search(r'/dp/(\\w+)', meta_tag['og:url'])\n",
        "                if asin_match:\n",
        "                    product_info += f\"ASIN: {asin_match.group(1)} \\n\"\n",
        "            if 'og:site_name' in meta_tag:\n",
        "                product_info += f\"Site Name: {meta_tag['og:site_name']} \\n\"\n",
        "            if 'og:availability' in meta_tag:\n",
        "                product_info += f\"Availability: {meta_tag['og:availability']} \\n\"\n",
        "            if 'og:type' in meta_tag:\n",
        "                    product_info += f\"type: {meta_tag['og:type']} \\n\"\n",
        "            else:\n",
        "              product_info += f\"type: text \\n\"\n",
        "        return product_info\n",
        "\n",
        "\n",
        "    def extract_availability(self,url):\n",
        "    # Function to scrape the webpage for availability information\n",
        "      try:\n",
        "          response = requests.get(url)\n",
        "          soup = BeautifulSoup(response.content, 'html.parser')\n",
        "          # Search for specific keywords like \"stock availability\" on the webpage\n",
        "\n",
        "          body_content = soup.find('body')  # Find the body tag\n",
        "\n",
        "          if body_content:\n",
        "            # Extract only the text content from the body tag\n",
        "              text_content = body_content.get_text(strip=True)\n",
        "              # Search for either \"stock\" or \"stock availability\" in the text content\n",
        "              # print(text_content)\n",
        "              #  availability_pattern = re.compile(r\"(?:stock|stock|availability|Number\\sof\\sItems\\s*(\\d+)|in\\s*stock|(\\w+)\\s*stock\\s*(\\w+))\", re.IGNORECASE)\n",
        "\n",
        "              availability_pattern = re.compile(r\"(?:stock|stock|availability|in\\s*stock)\", re.IGNORECASE)\n",
        "              match = re.search(availability_pattern, text_content)\n",
        "              # print(match.groups())\n",
        "              if match:\n",
        "                  # print(match.group(0))\n",
        "                  return f\"Availability: {match.group(0).strip()}\"\n",
        "          # If specific keywords not found, return \"Scraped Availability: Unknown\"\n",
        "          return \"Availability: Unknown\"\n",
        "      except Exception as e:\n",
        "          print(f\"Error occurred while scraping: {e}\")\n",
        "          return \"Availability: Unknown\"\n",
        "\n",
        "    def search_google(self,query,num_results):\n",
        "      \"\"\"\n",
        "      Performs a custom search  using the Google Custom Search API.\n",
        "\n",
        "      Args:\n",
        "          query (str): The search query to use.\n",
        "          num_results (int, optional): The number of image search results to return (default: 3).\n",
        "\n",
        "      Returns:\n",
        "          str: A string containing information about the image search results. Each result includes the image URL and its corresponding link.\n",
        "      \"\"\"\n",
        "      # user_query= extract_text_between_hashes(query)\n",
        "      results = self.service.cse().list(\n",
        "          q=query, cx=userdata.get('GOOGLE_CSE_ID'),  # Replace with your custom search engine ID\n",
        "          # searchType=\"image\",  # Specify image search\n",
        "          num=3\n",
        "      ).execute()\n",
        "\n",
        "      search_results = \" \"\n",
        "      for item in results.get(\"items\", []):\n",
        "          # for key, value in item.items():\n",
        "          #   print(\"\\033[32m\" + f\"{key}: {value}\" + \"\\033[0m\")\n",
        "          image_url = item[\"pagemap\"][\"cse_image\"][0][\"src\"]\n",
        "          # print(item[\"pagemap\"][\"metatags\"])\n",
        "          # search_results.append({\"link\":item[\"link\"] ,\n",
        "          #                       \"title\": item[\"title\"] ,\n",
        "          #                       \"snippets\":item[\"snippet\"],\n",
        "          #                       \"image\": image_url,\n",
        "          #                       \"meta\": extract_product_info(item[\"pagemap\"][\"metatags\"])})\n",
        "          search_results += self.extract_product_info(item[\"pagemap\"][\"metatags\"])\n",
        "          search_results += f\"image2: {image_url} \\n\"\n",
        "          search_results += f\"link: {item['link']}\"\n",
        "\n",
        "      # len(search_results)\n",
        "      return helper.clear_code(search_results)\n",
        "\n",
        "\n",
        "    def combined_scraped_api_search(self, query):\n",
        "        # Function to perform a combined search using both scraping and API\n",
        "        scraped_results = self.google_scraper(query)\n",
        "        search_api_results = self.search_google(query,3)\n",
        "        return f\"\"\"{scraped_results} \\n {search_api_results} \"\"\"\n",
        "        self.logger.info(\"Performing combined search for: %s\", query)\n",
        "\n",
        "# Example usage:\n",
        "scraper = WebScraper()\n",
        "query = \"Apotheke 3 wick candles collection price images\"\n",
        "\n",
        "scraper.google_scraper(query)\n",
        "scraper.combined_scraped_api_search(query)"
      ],
      "metadata": {
        "id": "EM4eSJq0m6CT",
        "outputId": "8862588a-34b8-4470-9cf6-c97e9af98b66",
        "colab": {
          "base_uri": "https://localhost:8080/",
          "height": 109
        }
      },
      "execution_count": 18,
      "outputs": [
        {
          "output_type": "execute_result",
          "data": {
            "text/plain": [
              "'GooglePlease clickhereif you are not redirected within a few seconds.AllImagesShoppingBooksMapsVideosNewsSearch toolsAny timeAny timePast hourPast 24 hoursPast weekPast monthPast yearAll resultsAll resultsVerbatimAmazon.com: Apotheke 3-Wick Candles Collectionwww.amazon.com  Scented-Candles-Home-Soy-Wax-Jar-CandleRating4.2(148)In stockCaptivating Fragrance: Transform any living space with the unforgettable scent of Charcoal 3-Wick Candle from APOTHEKE. Our candles are hand poured and made...3-Wick Candles | APOTHEKEapothekeco.com  collections  3-wick-candlesSea Salt Grapefruit 3-Wick Candle. 4.8 out of 5 star rating. 4.8. 21 Reviews. $78.00  Quick View  Hinoki Lavender 3-Wick Candle. 5 out of 5 star rating.Missing:images| Show results with:imagesImagesView allView allAPOTHEKE Market Collection Luxury Scented 3-Wick Jar Candle ...www.amazon.com  APOTHEKE-Market-Collection-Luxury-ScentedRating4.2(147)In stockBuy APOTHEKE Market Collection Luxury Scented 3-Wick Jar Candle, Meyer Lemon & Mint, 32 oz - Lemon, Spearmint, Jasmine & Eucalyptus Scent, Strong Fragrance,...People also askAre 3 wick candles worth it?How long do Apotheke candles last?What is the most expensive part of a candle?What is an expensive candle?Apotheke 3-wick Candle - Alys Gracewww.alysgrace.com  products  apotheke-3-wick-candle$78.00This 3-Wick Candle fills any space with hours of warm, enticing fragrance. 120 hour approximate burn time Soy wax blend Made in the USA.Apotheke 3-Wick Candles Collection - eBaywww.ebay.com  Home & Garden  Candles & Home Fragrance  Candles$106.00Apotheke 3-Wick Candles Collection ; Item Number. 386813950073 ; UPC. 691164538630 ; EAN. 0691164538630 ; Accurate description. 4.6 ; Reasonable shipping cost. 4.9.Missing:images| Show results with:imagesApotheke Canvas-Scented 3-Wick Candle + Reviews | Crate & Barrelwww.crateandbarrel.com  ...  Scented Candles & DiffusersRating4.8(127)$78.00In stockThis triple-wick candle fills the room with clean, refreshing scent. Infused with essences of crisp linen, white musk, lily of the valley and dew drop,...Charcoal 3-Wick Candle - Apothekeapothekeco.com  products  charcoal-3-wick-candleRating4.4(125)In stockThis 3-Wick Scented Candle is made with a premium soy wax blend and essential and perfume-grade fragrance oils in a chic matte-black glass vessel. The FragranceMissing:priceimagesApotheke 3-Wick Candles Collection Charcoal | eBaywww.ebay.com  Home & Garden  Candles & Home Fragrance  Candles$109.95Apotheke 3-Wick Candles Collection Charcoal ; EAN. 0602573896181 ; MPN. CHAR-CAN-3Wick ; Accurate description. 4.9 ; Reasonable shipping cost. 5.0 ; Shipping speed.Apotheke - Bamboo 3 Wick Candle  thescentshop usthescentshop-us.myshopify.com  products  tss-1551$19.00Apotheke - Bamboo 3 Wick Candle. Regular price $19.00.Related searchesApotheke 3 wick candles collection price images usaApotheke 3 wick candles collection price images amazonApotheke Candle SetAPOTHEKE 4 Wick CandleApotheke Charcoal candle reviewAPOTHEKE mystery candleApotheke Santal Rock RoseAPOTHEKE Earl Grey BittersNext >United StatesFrom your IP address-Learn moreSign inSettingsPrivacyTermsDark theme: Off \\n  \\n ***Title: Apotheke 3-Wick Candles Collection\\nDescription: Captivating Fragrance: Transform any living space with the unforgettable scent of Charcoal 3-Wick Candle from APOTHEKE. Our candles are hand poured and made with a proprietary blend of essential and perfume-grade oils for a long-lasting fragrance. Each 26 oz candle burns for approximately 120 - 1...\\nURL: https://www.amazon.com/dp/B07PMY9PK6/ref=tsm_1_fb_lk \\nAvailability: Unknown\\nASIN: B07PMY9PK6 \\ntype: text \\nimage2: https://m.media-amazon.com/images/I/61yZbIMhvVL._AC_UF894,1000_QL80_.jpg \\nlink: https://www.amazon.com/Scented-Candles-Home-Soy-Wax-Jar-Candle/dp/B07PMY9PK6\\n ***Title: MSRP/MAP Policy\\nDescription: In order to preserve its reputation for providing customers with high value products and strong after-sales support, and to further enhance the APOTHEKE brand image and its competitiveness in the marketplace, APOTHEKE is unilaterally instituting a policy of minimum advertised price standards for APOTHEKE products.\\nImage URL: http:files/Charcoal2.jpg \\nURL: https://apothekeco.com/pages/msrpmap-policy \\nAvailability: Unknown\\nSite Name: APOTHEKE \\ntype: website \\nimage2: https://hello.zonos.com/images/flags/US.png \\nlink: https://apothekeco.com/pages/msrpmap-policy\\n ***Title: APOTHEKE Market Collection Luxury Scented 3-Wick Jar Candle, Purple Basil, 32 oz - Basil, Ginger Lime & Lily of The Valley Scent, Strong Fragrance, Aromatherapy, Long Lasting, Hand Poured in USA, Soy\\nDescription: APOTHEKE Luxury Jar Candles Purple Basil - 32 Ounce 3-Wick Jar Candle SCENT PROFILE: Purple basil, spicy ginger and juicy lime zest mingle with hints of lily of the valley Our candles are hand-poured with perfume-grade fragrance oils and a high quality soy wax blend. Each scent is formulated with...\\nURL: https://www.amazon.com/dp/B09RTPD6ZN/ref=tsm_1_fb_lk \\nAvailability: Unknown\\nASIN: B09RTPD6ZN \\ntype: text \\nimage2: https://m.media-amazon.com/images/I/618bD-pCyRL._AC_UF894,1000_QL80_.jpg \\nlink: https://www.amazon.com/APOTHEKE-Market-Collection-Luxury-Scented/dp/B09RTPD6ZN '"
            ],
            "application/vnd.google.colaboratory.intrinsic+json": {
              "type": "string"
            }
          },
          "metadata": {},
          "execution_count": 18
        }
      ]
    },
    {
      "cell_type": "code",
      "source": [
        "scraper.google_scraper(\"Apotheke 3 wick candles collection\")"
      ],
      "metadata": {
        "id": "qt2HTqzKykFj",
        "outputId": "270327a3-30fc-4e8c-cdb9-2ce2a91c2258",
        "colab": {
          "base_uri": "https://localhost:8080/",
          "height": 109
        }
      },
      "execution_count": 10,
      "outputs": [
        {
          "output_type": "execute_result",
          "data": {
            "text/plain": [
              "'GooglePlease clickhereif you are not redirected within a few seconds.AllImagesShoppingNewsMapsVideosBooksSearch toolsAny timeAny timePast hourPast 24 hoursPast weekPast monthPast yearAll resultsAll resultsVerbatim3-Wick Candles | APOTHEKEapothekeco.com  collections  3-wick-candlesMade with a premium soy wax blend and essential and perfume-grade fragrance oils, our luxury scented 3-wick candles are designed to provide a clean-burning...Canvas 3-Wick Candle - Apothekeapothekeco.com  products  canvas-3-wick-candleRating5.0(8)In stockThis 3-Wick Scented Candle is made with a premium soy wax blend and essential and perfume-grade fragrance oils in a luxe white-translucent glass vessel. The...Charcoal 3-Wick Candle - Apothekeapothekeco.com  products  charcoal-3-wick-candleRating4.4(125)In stockThis 3-Wick Scented Candle is made with a premium soy wax blend and essential and perfume-grade fragrance oils in a chic matte-black glass vessel. The FragranceAPOTHEKE Market Collection Luxury Scented 3-Wick Jar Candle ...www.amazon.com  APOTHEKE-Market-Collection-Luxury-ScentedRating4.2(147)In stockBuy APOTHEKE Market Collection Luxury Scented 3-Wick Jar Candle, Meyer Lemon & Mint, 32 oz - Lemon, Spearmint, Jasmine & Eucalyptus Scent, Strong Fragrance,...Black Iris Oak 3-Wick Candle - Apothekeapothekeco.com  products  black-iris-oak-3-wick-candleRating5.0(2)In stockThis 3-Wick Scented Candle is made with a premium soy wax blend and essential and perfume-grade fragrance oils in a glossy, smoky grey-translucent glass vessel.Eden | Spring Candle Collection  APOTHEKEapothekeco.com  collections  edenCandles & Diffusers  Candles  Best Selling Fragrance  Classic Candles  2-Wick Ceramic Candles  3-Wick Candles  Fragrance Bundles  Discovery Sets  Mini...Amazon.com: Apotheke 3-Wick Candles Collectionwww.amazon.com  Scented-Candles-Home-Soy-Wax-Jar-CandleRating4.2(148)In stockOur candles are hand poured and made with a proprietary blend of essential and perfume-grade oils for a long-lasting fragrance. Each 26 oz candle burns for...People also askAre 3 wick candles worth it?How long do Apotheke candles last?What is special about 3 wick candles?Are Apotheke candles natural?Saffron Vanilla 3-Wick Candle  APOTHEKEapothekeco.com  products  saffron-vanilla-3-wick-candleRating4.8(6)In stockCreate your paradise with the comforting and complex scent of Saffron Vanilla from the Eden Collection. This 3-Wick Scented Candle is made with a premium...APOTHEKE 3-Wick Candle - Goodywww.ongoody.com  apotheke  3-wick-candle-recipient-s-choice-1$78.00Hand-poured with perfume-grade fragrance oils and a high quality soy wax blend. This scent is formulated with a unique wick, wax, and fragrance combination...Apotheke - Tonka Oak 3 Wick Candlewww.candledelirium.com  apotheke-tonka-oak-3-wick-candle$78.00Apotheke Canvas Candle is where crisp linen, white musk, and sweet lily of the valley mingle with a dew drop accord for a clean, refreshing scent.&l.Related searchesApotheke 3 wick candles collection saleApotheke 3 wick candles collection reviewapotheke charcoal 3-wick candlecheapest 3-wick candles bath and body worksApotheke Candle SetAPOTHEKE 4 Wick Candle3 wick candles not in a Jar3-Wick Candle saleNext >United StatesFrom your IP address-Learn moreSign inSettingsPrivacyTermsDark theme: Off'"
            ],
            "application/vnd.google.colaboratory.intrinsic+json": {
              "type": "string"
            }
          },
          "metadata": {},
          "execution_count": 10
        }
      ]
    },
    {
      "cell_type": "code",
      "source": [
        "scraper.search_google(\"Apotheke 3 wick candles collection price images\",3)"
      ],
      "metadata": {
        "id": "SypGSDOh78Q4",
        "outputId": "7aaca7ac-ef62-418b-ea24-4160c88567d2",
        "colab": {
          "base_uri": "https://localhost:8080/",
          "height": 109
        }
      },
      "execution_count": 11,
      "outputs": [
        {
          "output_type": "execute_result",
          "data": {
            "text/plain": [
              "' \\n ***Title: Apotheke 3-Wick Candles Collection\\nDescription: Captivating Fragrance: Transform any living space with the unforgettable scent of Charcoal 3-Wick Candle from APOTHEKE. Our candles are hand poured and made with a proprietary blend of essential and perfume-grade oils for a long-lasting fragrance. Each 26 oz candle burns for approximately 120 - 1...\\nURL: https://www.amazon.com/dp/B07PMY9PK6/ref=tsm_1_fb_lk \\nAvailability: Unknown\\nASIN: B07PMY9PK6 \\ntype: text \\nimage2: https://m.media-amazon.com/images/I/61yZbIMhvVL._AC_UF894,1000_QL80_.jpg \\nlink: https://www.amazon.com/Scented-Candles-Home-Soy-Wax-Jar-Candle/dp/B07PMY9PK6\\n ***Title: MSRP/MAP Policy\\nDescription: In order to preserve its reputation for providing customers with high value products and strong after-sales support, and to further enhance the APOTHEKE brand image and its competitiveness in the marketplace, APOTHEKE is unilaterally instituting a policy of minimum advertised price standards for APOTHEKE products.\\nImage URL: http:files/Charcoal2.jpg \\nURL: https://apothekeco.com/pages/msrpmap-policy \\nAvailability: Unknown\\nSite Name: APOTHEKE \\ntype: website \\nimage2: https://hello.zonos.com/images/flags/US.png \\nlink: https://apothekeco.com/pages/msrpmap-policy\\n ***Title: APOTHEKE Market Collection Luxury Scented 3-Wick Jar Candle, Purple Basil, 32 oz - Basil, Ginger Lime & Lily of The Valley Scent, Strong Fragrance, Aromatherapy, Long Lasting, Hand Poured in USA, Soy\\nDescription: APOTHEKE Luxury Jar Candles Purple Basil - 32 Ounce 3-Wick Jar Candle SCENT PROFILE: Purple basil, spicy ginger and juicy lime zest mingle with hints of lily of the valley Our candles are hand-poured with perfume-grade fragrance oils and a high quality soy wax blend. Each scent is formulated with...\\nURL: https://www.amazon.com/dp/B09RTPD6ZN/ref=tsm_1_fb_lk \\nAvailability: Unknown\\nASIN: B09RTPD6ZN \\ntype: text \\nimage2: https://m.media-amazon.com/images/I/618bD-pCyRL._AC_UF894,1000_QL80_.jpg \\nlink: https://www.amazon.com/APOTHEKE-Market-Collection-Luxury-Scented/dp/B09RTPD6ZN'"
            ],
            "application/vnd.google.colaboratory.intrinsic+json": {
              "type": "string"
            }
          },
          "metadata": {},
          "execution_count": 11
        }
      ]
    },
    {
      "cell_type": "markdown",
      "source": [
        "# Document splitting"
      ],
      "metadata": {
        "id": "h9zT7ShXgoNu"
      }
    },
    {
      "cell_type": "code",
      "source": [
        "try:\n",
        "  import openai\n",
        "  from langchain_openai import ChatOpenAI\n",
        "except:\n",
        "    !pip install openai\n",
        "    !pip install langchain\n",
        "    !pip install langchain-openai"
      ],
      "metadata": {
        "id": "xPDvuNzT5vac",
        "outputId": "0407de3f-dd2d-4fec-cb4f-f79d4b6bc352",
        "colab": {
          "base_uri": "https://localhost:8080/"
        }
      },
      "execution_count": 13,
      "outputs": [
        {
          "output_type": "stream",
          "name": "stdout",
          "text": [
            "Collecting openai\n",
            "  Downloading openai-1.14.2-py3-none-any.whl (262 kB)\n",
            "\u001b[?25l     \u001b[90m━━━━━━━━━━━━━━━━━━━━━━━━━━━━━━━━━━━━━━━━\u001b[0m \u001b[32m0.0/262.4 kB\u001b[0m \u001b[31m?\u001b[0m eta \u001b[36m-:--:--\u001b[0m\r\u001b[2K     \u001b[91m━━━━━━━━━━━━━━━━━━━━━━━━━━━━━\u001b[0m\u001b[91m╸\u001b[0m\u001b[90m━━━━━━━━━━\u001b[0m \u001b[32m194.6/262.4 kB\u001b[0m \u001b[31m5.6 MB/s\u001b[0m eta \u001b[36m0:00:01\u001b[0m\r\u001b[2K     \u001b[90m━━━━━━━━━━━━━━━━━━━━━━━━━━━━━━━━━━━━━━━━\u001b[0m \u001b[32m262.4/262.4 kB\u001b[0m \u001b[31m4.6 MB/s\u001b[0m eta \u001b[36m0:00:00\u001b[0m\n",
            "\u001b[?25hRequirement already satisfied: anyio<5,>=3.5.0 in /usr/local/lib/python3.10/dist-packages (from openai) (3.7.1)\n",
            "Requirement already satisfied: distro<2,>=1.7.0 in /usr/lib/python3/dist-packages (from openai) (1.7.0)\n",
            "Collecting httpx<1,>=0.23.0 (from openai)\n",
            "  Downloading httpx-0.27.0-py3-none-any.whl (75 kB)\n",
            "\u001b[2K     \u001b[90m━━━━━━━━━━━━━━━━━━━━━━━━━━━━━━━━━━━━━━━━\u001b[0m \u001b[32m75.6/75.6 kB\u001b[0m \u001b[31m7.8 MB/s\u001b[0m eta \u001b[36m0:00:00\u001b[0m\n",
            "\u001b[?25hRequirement already satisfied: pydantic<3,>=1.9.0 in /usr/local/lib/python3.10/dist-packages (from openai) (2.6.4)\n",
            "Requirement already satisfied: sniffio in /usr/local/lib/python3.10/dist-packages (from openai) (1.3.1)\n",
            "Requirement already satisfied: tqdm>4 in /usr/local/lib/python3.10/dist-packages (from openai) (4.66.2)\n",
            "Requirement already satisfied: typing-extensions<5,>=4.7 in /usr/local/lib/python3.10/dist-packages (from openai) (4.10.0)\n",
            "Requirement already satisfied: idna>=2.8 in /usr/local/lib/python3.10/dist-packages (from anyio<5,>=3.5.0->openai) (3.6)\n",
            "Requirement already satisfied: exceptiongroup in /usr/local/lib/python3.10/dist-packages (from anyio<5,>=3.5.0->openai) (1.2.0)\n",
            "Requirement already satisfied: certifi in /usr/local/lib/python3.10/dist-packages (from httpx<1,>=0.23.0->openai) (2024.2.2)\n",
            "Collecting httpcore==1.* (from httpx<1,>=0.23.0->openai)\n",
            "  Downloading httpcore-1.0.4-py3-none-any.whl (77 kB)\n",
            "\u001b[2K     \u001b[90m━━━━━━━━━━━━━━━━━━━━━━━━━━━━━━━━━━━━━━━━\u001b[0m \u001b[32m77.8/77.8 kB\u001b[0m \u001b[31m8.8 MB/s\u001b[0m eta \u001b[36m0:00:00\u001b[0m\n",
            "\u001b[?25hCollecting h11<0.15,>=0.13 (from httpcore==1.*->httpx<1,>=0.23.0->openai)\n",
            "  Downloading h11-0.14.0-py3-none-any.whl (58 kB)\n",
            "\u001b[2K     \u001b[90m━━━━━━━━━━━━━━━━━━━━━━━━━━━━━━━━━━━━━━━━\u001b[0m \u001b[32m58.3/58.3 kB\u001b[0m \u001b[31m5.3 MB/s\u001b[0m eta \u001b[36m0:00:00\u001b[0m\n",
            "\u001b[?25hRequirement already satisfied: annotated-types>=0.4.0 in /usr/local/lib/python3.10/dist-packages (from pydantic<3,>=1.9.0->openai) (0.6.0)\n",
            "Requirement already satisfied: pydantic-core==2.16.3 in /usr/local/lib/python3.10/dist-packages (from pydantic<3,>=1.9.0->openai) (2.16.3)\n",
            "Installing collected packages: h11, httpcore, httpx, openai\n",
            "Successfully installed h11-0.14.0 httpcore-1.0.4 httpx-0.27.0 openai-1.14.2\n",
            "Collecting langchain\n",
            "  Downloading langchain-0.1.13-py3-none-any.whl (810 kB)\n",
            "\u001b[2K     \u001b[90m━━━━━━━━━━━━━━━━━━━━━━━━━━━━━━━━━━━━━━━━\u001b[0m \u001b[32m810.5/810.5 kB\u001b[0m \u001b[31m7.3 MB/s\u001b[0m eta \u001b[36m0:00:00\u001b[0m\n",
            "\u001b[?25hRequirement already satisfied: PyYAML>=5.3 in /usr/local/lib/python3.10/dist-packages (from langchain) (6.0.1)\n",
            "Requirement already satisfied: SQLAlchemy<3,>=1.4 in /usr/local/lib/python3.10/dist-packages (from langchain) (2.0.28)\n",
            "Requirement already satisfied: aiohttp<4.0.0,>=3.8.3 in /usr/local/lib/python3.10/dist-packages (from langchain) (3.9.3)\n",
            "Requirement already satisfied: async-timeout<5.0.0,>=4.0.0 in /usr/local/lib/python3.10/dist-packages (from langchain) (4.0.3)\n",
            "Collecting dataclasses-json<0.7,>=0.5.7 (from langchain)\n",
            "  Downloading dataclasses_json-0.6.4-py3-none-any.whl (28 kB)\n",
            "Collecting jsonpatch<2.0,>=1.33 (from langchain)\n",
            "  Downloading jsonpatch-1.33-py2.py3-none-any.whl (12 kB)\n",
            "Collecting langchain-community<0.1,>=0.0.29 (from langchain)\n",
            "  Downloading langchain_community-0.0.29-py3-none-any.whl (1.8 MB)\n",
            "\u001b[2K     \u001b[90m━━━━━━━━━━━━━━━━━━━━━━━━━━━━━━━━━━━━━━━━\u001b[0m \u001b[32m1.8/1.8 MB\u001b[0m \u001b[31m16.4 MB/s\u001b[0m eta \u001b[36m0:00:00\u001b[0m\n",
            "\u001b[?25hCollecting langchain-core<0.2.0,>=0.1.33 (from langchain)\n",
            "  Downloading langchain_core-0.1.33-py3-none-any.whl (269 kB)\n",
            "\u001b[2K     \u001b[90m━━━━━━━━━━━━━━━━━━━━━━━━━━━━━━━━━━━━━━━━\u001b[0m \u001b[32m269.1/269.1 kB\u001b[0m \u001b[31m16.7 MB/s\u001b[0m eta \u001b[36m0:00:00\u001b[0m\n",
            "\u001b[?25hCollecting langchain-text-splitters<0.1,>=0.0.1 (from langchain)\n",
            "  Downloading langchain_text_splitters-0.0.1-py3-none-any.whl (21 kB)\n",
            "Collecting langsmith<0.2.0,>=0.1.17 (from langchain)\n",
            "  Downloading langsmith-0.1.31-py3-none-any.whl (71 kB)\n",
            "\u001b[2K     \u001b[90m━━━━━━━━━━━━━━━━━━━━━━━━━━━━━━━━━━━━━━━━\u001b[0m \u001b[32m71.6/71.6 kB\u001b[0m \u001b[31m8.7 MB/s\u001b[0m eta \u001b[36m0:00:00\u001b[0m\n",
            "\u001b[?25hRequirement already satisfied: numpy<2,>=1 in /usr/local/lib/python3.10/dist-packages (from langchain) (1.25.2)\n",
            "Requirement already satisfied: pydantic<3,>=1 in /usr/local/lib/python3.10/dist-packages (from langchain) (2.6.4)\n",
            "Requirement already satisfied: requests<3,>=2 in /usr/local/lib/python3.10/dist-packages (from langchain) (2.31.0)\n",
            "Requirement already satisfied: tenacity<9.0.0,>=8.1.0 in /usr/local/lib/python3.10/dist-packages (from langchain) (8.2.3)\n",
            "Requirement already satisfied: aiosignal>=1.1.2 in /usr/local/lib/python3.10/dist-packages (from aiohttp<4.0.0,>=3.8.3->langchain) (1.3.1)\n",
            "Requirement already satisfied: attrs>=17.3.0 in /usr/local/lib/python3.10/dist-packages (from aiohttp<4.0.0,>=3.8.3->langchain) (23.2.0)\n",
            "Requirement already satisfied: frozenlist>=1.1.1 in /usr/local/lib/python3.10/dist-packages (from aiohttp<4.0.0,>=3.8.3->langchain) (1.4.1)\n",
            "Requirement already satisfied: multidict<7.0,>=4.5 in /usr/local/lib/python3.10/dist-packages (from aiohttp<4.0.0,>=3.8.3->langchain) (6.0.5)\n",
            "Requirement already satisfied: yarl<2.0,>=1.0 in /usr/local/lib/python3.10/dist-packages (from aiohttp<4.0.0,>=3.8.3->langchain) (1.9.4)\n",
            "Collecting marshmallow<4.0.0,>=3.18.0 (from dataclasses-json<0.7,>=0.5.7->langchain)\n",
            "  Downloading marshmallow-3.21.1-py3-none-any.whl (49 kB)\n",
            "\u001b[2K     \u001b[90m━━━━━━━━━━━━━━━━━━━━━━━━━━━━━━━━━━━━━━━━\u001b[0m \u001b[32m49.4/49.4 kB\u001b[0m \u001b[31m4.3 MB/s\u001b[0m eta \u001b[36m0:00:00\u001b[0m\n",
            "\u001b[?25hCollecting typing-inspect<1,>=0.4.0 (from dataclasses-json<0.7,>=0.5.7->langchain)\n",
            "  Downloading typing_inspect-0.9.0-py3-none-any.whl (8.8 kB)\n",
            "Collecting jsonpointer>=1.9 (from jsonpatch<2.0,>=1.33->langchain)\n",
            "  Downloading jsonpointer-2.4-py2.py3-none-any.whl (7.8 kB)\n",
            "Requirement already satisfied: anyio<5,>=3 in /usr/local/lib/python3.10/dist-packages (from langchain-core<0.2.0,>=0.1.33->langchain) (3.7.1)\n",
            "Collecting packaging<24.0,>=23.2 (from langchain-core<0.2.0,>=0.1.33->langchain)\n",
            "  Downloading packaging-23.2-py3-none-any.whl (53 kB)\n",
            "\u001b[2K     \u001b[90m━━━━━━━━━━━━━━━━━━━━━━━━━━━━━━━━━━━━━━━━\u001b[0m \u001b[32m53.0/53.0 kB\u001b[0m \u001b[31m6.2 MB/s\u001b[0m eta \u001b[36m0:00:00\u001b[0m\n",
            "\u001b[?25hCollecting orjson<4.0.0,>=3.9.14 (from langsmith<0.2.0,>=0.1.17->langchain)\n",
            "  Downloading orjson-3.9.15-cp310-cp310-manylinux_2_17_x86_64.manylinux2014_x86_64.whl (138 kB)\n",
            "\u001b[2K     \u001b[90m━━━━━━━━━━━━━━━━━━━━━━━━━━━━━━━━━━━━━━━━\u001b[0m \u001b[32m138.5/138.5 kB\u001b[0m \u001b[31m17.2 MB/s\u001b[0m eta \u001b[36m0:00:00\u001b[0m\n",
            "\u001b[?25hRequirement already satisfied: annotated-types>=0.4.0 in /usr/local/lib/python3.10/dist-packages (from pydantic<3,>=1->langchain) (0.6.0)\n",
            "Requirement already satisfied: pydantic-core==2.16.3 in /usr/local/lib/python3.10/dist-packages (from pydantic<3,>=1->langchain) (2.16.3)\n",
            "Requirement already satisfied: typing-extensions>=4.6.1 in /usr/local/lib/python3.10/dist-packages (from pydantic<3,>=1->langchain) (4.10.0)\n",
            "Requirement already satisfied: charset-normalizer<4,>=2 in /usr/local/lib/python3.10/dist-packages (from requests<3,>=2->langchain) (3.3.2)\n",
            "Requirement already satisfied: idna<4,>=2.5 in /usr/local/lib/python3.10/dist-packages (from requests<3,>=2->langchain) (3.6)\n",
            "Requirement already satisfied: urllib3<3,>=1.21.1 in /usr/local/lib/python3.10/dist-packages (from requests<3,>=2->langchain) (2.0.7)\n",
            "Requirement already satisfied: certifi>=2017.4.17 in /usr/local/lib/python3.10/dist-packages (from requests<3,>=2->langchain) (2024.2.2)\n",
            "Requirement already satisfied: greenlet!=0.4.17 in /usr/local/lib/python3.10/dist-packages (from SQLAlchemy<3,>=1.4->langchain) (3.0.3)\n",
            "Requirement already satisfied: sniffio>=1.1 in /usr/local/lib/python3.10/dist-packages (from anyio<5,>=3->langchain-core<0.2.0,>=0.1.33->langchain) (1.3.1)\n",
            "Requirement already satisfied: exceptiongroup in /usr/local/lib/python3.10/dist-packages (from anyio<5,>=3->langchain-core<0.2.0,>=0.1.33->langchain) (1.2.0)\n",
            "Collecting mypy-extensions>=0.3.0 (from typing-inspect<1,>=0.4.0->dataclasses-json<0.7,>=0.5.7->langchain)\n",
            "  Downloading mypy_extensions-1.0.0-py3-none-any.whl (4.7 kB)\n",
            "Installing collected packages: packaging, orjson, mypy-extensions, jsonpointer, typing-inspect, marshmallow, jsonpatch, langsmith, dataclasses-json, langchain-core, langchain-text-splitters, langchain-community, langchain\n",
            "  Attempting uninstall: packaging\n",
            "    Found existing installation: packaging 24.0\n",
            "    Uninstalling packaging-24.0:\n",
            "      Successfully uninstalled packaging-24.0\n",
            "Successfully installed dataclasses-json-0.6.4 jsonpatch-1.33 jsonpointer-2.4 langchain-0.1.13 langchain-community-0.0.29 langchain-core-0.1.33 langchain-text-splitters-0.0.1 langsmith-0.1.31 marshmallow-3.21.1 mypy-extensions-1.0.0 orjson-3.9.15 packaging-23.2 typing-inspect-0.9.0\n",
            "Collecting langchain-openai\n",
            "  Downloading langchain_openai-0.1.1-py3-none-any.whl (32 kB)\n",
            "Requirement already satisfied: langchain-core<0.2.0,>=0.1.33 in /usr/local/lib/python3.10/dist-packages (from langchain-openai) (0.1.33)\n",
            "Requirement already satisfied: openai<2.0.0,>=1.10.0 in /usr/local/lib/python3.10/dist-packages (from langchain-openai) (1.14.2)\n",
            "Collecting tiktoken<1,>=0.5.2 (from langchain-openai)\n",
            "  Downloading tiktoken-0.6.0-cp310-cp310-manylinux_2_17_x86_64.manylinux2014_x86_64.whl (1.8 MB)\n",
            "\u001b[2K     \u001b[90m━━━━━━━━━━━━━━━━━━━━━━━━━━━━━━━━━━━━━━━━\u001b[0m \u001b[32m1.8/1.8 MB\u001b[0m \u001b[31m11.4 MB/s\u001b[0m eta \u001b[36m0:00:00\u001b[0m\n",
            "\u001b[?25hRequirement already satisfied: PyYAML>=5.3 in /usr/local/lib/python3.10/dist-packages (from langchain-core<0.2.0,>=0.1.33->langchain-openai) (6.0.1)\n",
            "Requirement already satisfied: anyio<5,>=3 in /usr/local/lib/python3.10/dist-packages (from langchain-core<0.2.0,>=0.1.33->langchain-openai) (3.7.1)\n",
            "Requirement already satisfied: jsonpatch<2.0,>=1.33 in /usr/local/lib/python3.10/dist-packages (from langchain-core<0.2.0,>=0.1.33->langchain-openai) (1.33)\n",
            "Requirement already satisfied: langsmith<0.2.0,>=0.1.0 in /usr/local/lib/python3.10/dist-packages (from langchain-core<0.2.0,>=0.1.33->langchain-openai) (0.1.31)\n",
            "Requirement already satisfied: packaging<24.0,>=23.2 in /usr/local/lib/python3.10/dist-packages (from langchain-core<0.2.0,>=0.1.33->langchain-openai) (23.2)\n",
            "Requirement already satisfied: pydantic<3,>=1 in /usr/local/lib/python3.10/dist-packages (from langchain-core<0.2.0,>=0.1.33->langchain-openai) (2.6.4)\n",
            "Requirement already satisfied: requests<3,>=2 in /usr/local/lib/python3.10/dist-packages (from langchain-core<0.2.0,>=0.1.33->langchain-openai) (2.31.0)\n",
            "Requirement already satisfied: tenacity<9.0.0,>=8.1.0 in /usr/local/lib/python3.10/dist-packages (from langchain-core<0.2.0,>=0.1.33->langchain-openai) (8.2.3)\n",
            "Requirement already satisfied: distro<2,>=1.7.0 in /usr/lib/python3/dist-packages (from openai<2.0.0,>=1.10.0->langchain-openai) (1.7.0)\n",
            "Requirement already satisfied: httpx<1,>=0.23.0 in /usr/local/lib/python3.10/dist-packages (from openai<2.0.0,>=1.10.0->langchain-openai) (0.27.0)\n",
            "Requirement already satisfied: sniffio in /usr/local/lib/python3.10/dist-packages (from openai<2.0.0,>=1.10.0->langchain-openai) (1.3.1)\n",
            "Requirement already satisfied: tqdm>4 in /usr/local/lib/python3.10/dist-packages (from openai<2.0.0,>=1.10.0->langchain-openai) (4.66.2)\n",
            "Requirement already satisfied: typing-extensions<5,>=4.7 in /usr/local/lib/python3.10/dist-packages (from openai<2.0.0,>=1.10.0->langchain-openai) (4.10.0)\n",
            "Requirement already satisfied: regex>=2022.1.18 in /usr/local/lib/python3.10/dist-packages (from tiktoken<1,>=0.5.2->langchain-openai) (2023.12.25)\n",
            "Requirement already satisfied: idna>=2.8 in /usr/local/lib/python3.10/dist-packages (from anyio<5,>=3->langchain-core<0.2.0,>=0.1.33->langchain-openai) (3.6)\n",
            "Requirement already satisfied: exceptiongroup in /usr/local/lib/python3.10/dist-packages (from anyio<5,>=3->langchain-core<0.2.0,>=0.1.33->langchain-openai) (1.2.0)\n",
            "Requirement already satisfied: certifi in /usr/local/lib/python3.10/dist-packages (from httpx<1,>=0.23.0->openai<2.0.0,>=1.10.0->langchain-openai) (2024.2.2)\n",
            "Requirement already satisfied: httpcore==1.* in /usr/local/lib/python3.10/dist-packages (from httpx<1,>=0.23.0->openai<2.0.0,>=1.10.0->langchain-openai) (1.0.4)\n",
            "Requirement already satisfied: h11<0.15,>=0.13 in /usr/local/lib/python3.10/dist-packages (from httpcore==1.*->httpx<1,>=0.23.0->openai<2.0.0,>=1.10.0->langchain-openai) (0.14.0)\n",
            "Requirement already satisfied: jsonpointer>=1.9 in /usr/local/lib/python3.10/dist-packages (from jsonpatch<2.0,>=1.33->langchain-core<0.2.0,>=0.1.33->langchain-openai) (2.4)\n",
            "Requirement already satisfied: orjson<4.0.0,>=3.9.14 in /usr/local/lib/python3.10/dist-packages (from langsmith<0.2.0,>=0.1.0->langchain-core<0.2.0,>=0.1.33->langchain-openai) (3.9.15)\n",
            "Requirement already satisfied: annotated-types>=0.4.0 in /usr/local/lib/python3.10/dist-packages (from pydantic<3,>=1->langchain-core<0.2.0,>=0.1.33->langchain-openai) (0.6.0)\n",
            "Requirement already satisfied: pydantic-core==2.16.3 in /usr/local/lib/python3.10/dist-packages (from pydantic<3,>=1->langchain-core<0.2.0,>=0.1.33->langchain-openai) (2.16.3)\n",
            "Requirement already satisfied: charset-normalizer<4,>=2 in /usr/local/lib/python3.10/dist-packages (from requests<3,>=2->langchain-core<0.2.0,>=0.1.33->langchain-openai) (3.3.2)\n",
            "Requirement already satisfied: urllib3<3,>=1.21.1 in /usr/local/lib/python3.10/dist-packages (from requests<3,>=2->langchain-core<0.2.0,>=0.1.33->langchain-openai) (2.0.7)\n",
            "Installing collected packages: tiktoken, langchain-openai\n",
            "Successfully installed langchain-openai-0.1.1 tiktoken-0.6.0\n"
          ]
        }
      ]
    },
    {
      "cell_type": "code",
      "source": [
        "from langchain.text_splitter import RecursiveCharacterTextSplitter\n",
        "\n",
        "class DocumentSplitter:\n",
        "    def __init__(self, chunk_size=700, chunk_overlap=150):\n",
        "        self.text_splitter = RecursiveCharacterTextSplitter(chunk_size=chunk_size, chunk_overlap=chunk_overlap)\n",
        "        self.splits = []\n",
        "\n",
        "    def split_document(self, document):\n",
        "        self.splits = self.text_splitter.split_text(document)\n",
        "        return self.splits"
      ],
      "metadata": {
        "id": "Fin9bKHRgvZ8"
      },
      "execution_count": 14,
      "outputs": []
    },
    {
      "cell_type": "code",
      "source": [
        "splitter = DocumentSplitter()\n",
        "# Split the document\n",
        "splits = splitter.split_document(scraper.combined_scraped_api_search(query))"
      ],
      "metadata": {
        "id": "oply5pAlhoLj"
      },
      "execution_count": 19,
      "outputs": []
    },
    {
      "cell_type": "code",
      "source": [
        "splits"
      ],
      "metadata": {
        "id": "yPv3eOfAiy2F",
        "outputId": "e28e8324-88b2-453e-973d-2abbb42e11b2",
        "colab": {
          "base_uri": "https://localhost:8080/"
        }
      },
      "execution_count": 20,
      "outputs": [
        {
          "output_type": "execute_result",
          "data": {
            "text/plain": [
              "['GooglePlease clickhereif you are not redirected within a few seconds.AllImagesShoppingBooksMapsVideosNewsSearch toolsAny timeAny timePast hourPast 24 hoursPast weekPast monthPast yearAll resultsAll resultsVerbatimAmazon.com: Apotheke 3-Wick Candles Collectionwww.amazon.com  Scented-Candles-Home-Soy-Wax-Jar-CandleRating4.2(148)In stockCaptivating Fragrance: Transform any living space with the unforgettable scent of Charcoal 3-Wick Candle from APOTHEKE. Our candles are hand poured and made...3-Wick Candles | APOTHEKEapothekeco.com  collections  3-wick-candlesSea Salt Grapefruit 3-Wick Candle. 4.8 out of 5 star rating. 4.8. 21 Reviews. $78.00  Quick View  Hinoki Lavender 3-Wick Candle. 5 out of',\n",
              " 'Salt Grapefruit 3-Wick Candle. 4.8 out of 5 star rating. 4.8. 21 Reviews. $78.00  Quick View  Hinoki Lavender 3-Wick Candle. 5 out of 5 star rating.Missing:images| Show results with:imagesImagesView allView allAPOTHEKE Market Collection Luxury Scented 3-Wick Jar Candle ...www.amazon.com  APOTHEKE-Market-Collection-Luxury-ScentedRating4.2(147)In stockBuy APOTHEKE Market Collection Luxury Scented 3-Wick Jar Candle, Meyer Lemon & Mint, 32 oz - Lemon, Spearmint, Jasmine & Eucalyptus Scent, Strong Fragrance,...People also askAre 3 wick candles worth it?How long do Apotheke candles last?What is the most expensive part of a candle?What is an expensive candle?Apotheke 3-wick Candle - Alys',\n",
              " 'worth it?How long do Apotheke candles last?What is the most expensive part of a candle?What is an expensive candle?Apotheke 3-wick Candle - Alys Gracewww.alysgrace.com  products  apotheke-3-wick-candle$78.00This 3-Wick Candle fills any space with hours of warm, enticing fragrance. 120 hour approximate burn time Soy wax blend Made in the USA.Apotheke 3-Wick Candles Collection - eBaywww.ebay.com  Home & Garden  Candles & Home Fragrance  Candles$106.00Apotheke 3-Wick Candles Collection ; Item Number. 386813950073 ; UPC. 691164538630 ; EAN. 0691164538630 ; Accurate description. 4.6 ; Reasonable shipping cost. 4.9.Missing:images| Show results with:imagesApotheke Canvas-Scented 3-Wick Candle +',\n",
              " '; Accurate description. 4.6 ; Reasonable shipping cost. 4.9.Missing:images| Show results with:imagesApotheke Canvas-Scented 3-Wick Candle + Reviews | Crate & Barrelwww.crateandbarrel.com  ...  Scented Candles & DiffusersRating4.8(127)$78.00In stockThis triple-wick candle fills the room with clean, refreshing scent. Infused with essences of crisp linen, white musk, lily of the valley and dew drop,...Charcoal 3-Wick Candle - Apothekeapothekeco.com  products  charcoal-3-wick-candleRating4.4(125)In stockThis 3-Wick Scented Candle is made with a premium soy wax blend and essential and perfume-grade fragrance oils in a chic matte-black glass vessel. The FragranceMissing:priceimagesApotheke 3-Wick',\n",
              " 'soy wax blend and essential and perfume-grade fragrance oils in a chic matte-black glass vessel. The FragranceMissing:priceimagesApotheke 3-Wick Candles Collection Charcoal | eBaywww.ebay.com  Home & Garden  Candles & Home Fragrance  Candles$109.95Apotheke 3-Wick Candles Collection Charcoal ; EAN. 0602573896181 ; MPN. CHAR-CAN-3Wick ; Accurate description. 4.9 ; Reasonable shipping cost. 5.0 ; Shipping speed.Apotheke - Bamboo 3 Wick Candle  thescentshop usthescentshop-us.myshopify.com  products  tss-1551$19.00Apotheke - Bamboo 3 Wick Candle. Regular price $19.00.Related searchesApotheke 3 wick candles collection price images usaApotheke 3 wick candles collection price images amazonApotheke',\n",
              " 'price $19.00.Related searchesApotheke 3 wick candles collection price images usaApotheke 3 wick candles collection price images amazonApotheke Candle SetAPOTHEKE 4 Wick CandleApotheke Charcoal candle reviewAPOTHEKE mystery candleApotheke Santal Rock RoseAPOTHEKE Earl Grey BittersNext >United StatesFrom your IP address-Learn moreSign inSettingsPrivacyTermsDark theme: Off',\n",
              " '***Title: Apotheke 3-Wick Candles Collection\\nDescription: Captivating Fragrance: Transform any living space with the unforgettable scent of Charcoal 3-Wick Candle from APOTHEKE. Our candles are hand poured and made with a proprietary blend of essential and perfume-grade oils for a long-lasting fragrance. Each 26 oz candle burns for approximately 120 - 1...\\nURL: https://www.amazon.com/dp/B07PMY9PK6/ref=tsm_1_fb_lk \\nAvailability: Unknown\\nASIN: B07PMY9PK6 \\ntype: text \\nimage2: https://m.media-amazon.com/images/I/61yZbIMhvVL._AC_UF894,1000_QL80_.jpg \\nlink: https://www.amazon.com/Scented-Candles-Home-Soy-Wax-Jar-Candle/dp/B07PMY9PK6\\n ***Title: MSRP/MAP Policy',\n",
              " 'link: https://www.amazon.com/Scented-Candles-Home-Soy-Wax-Jar-Candle/dp/B07PMY9PK6\\n ***Title: MSRP/MAP Policy\\nDescription: In order to preserve its reputation for providing customers with high value products and strong after-sales support, and to further enhance the APOTHEKE brand image and its competitiveness in the marketplace, APOTHEKE is unilaterally instituting a policy of minimum advertised price standards for APOTHEKE products.\\nImage URL: http:files/Charcoal2.jpg \\nURL: https://apothekeco.com/pages/msrpmap-policy \\nAvailability: Unknown\\nSite Name: APOTHEKE \\ntype: website \\nimage2: https://hello.zonos.com/images/flags/US.png \\nlink: https://apothekeco.com/pages/msrpmap-policy',\n",
              " 'Site Name: APOTHEKE \\ntype: website \\nimage2: https://hello.zonos.com/images/flags/US.png \\nlink: https://apothekeco.com/pages/msrpmap-policy\\n ***Title: APOTHEKE Market Collection Luxury Scented 3-Wick Jar Candle, Purple Basil, 32 oz - Basil, Ginger Lime & Lily of The Valley Scent, Strong Fragrance, Aromatherapy, Long Lasting, Hand Poured in USA, Soy\\nDescription: APOTHEKE Luxury Jar Candles Purple Basil - 32 Ounce 3-Wick Jar Candle SCENT PROFILE: Purple basil, spicy ginger and juicy lime zest mingle with hints of lily of the valley Our candles are hand-poured with perfume-grade fragrance oils and a high quality soy wax blend. Each scent is formulated with...',\n",
              " 'URL: https://www.amazon.com/dp/B09RTPD6ZN/ref=tsm_1_fb_lk \\nAvailability: Unknown\\nASIN: B09RTPD6ZN \\ntype: text \\nimage2: https://m.media-amazon.com/images/I/618bD-pCyRL._AC_UF894,1000_QL80_.jpg \\nlink: https://www.amazon.com/APOTHEKE-Market-Collection-Luxury-Scented/dp/B09RTPD6ZN']"
            ]
          },
          "metadata": {},
          "execution_count": 20
        }
      ]
    }
  ]
}