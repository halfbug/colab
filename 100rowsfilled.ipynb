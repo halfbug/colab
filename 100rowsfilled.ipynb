{
  "nbformat": 4,
  "nbformat_minor": 0,
  "metadata": {
    "colab": {
      "provenance": [],
      "authorship_tag": "ABX9TyPslB8BxWblek6ZlUuly7Ej",
      "include_colab_link": true
    },
    "kernelspec": {
      "name": "python3",
      "display_name": "Python 3"
    },
    "language_info": {
      "name": "python"
    }
  },
  "cells": [
    {
      "cell_type": "markdown",
      "metadata": {
        "id": "view-in-github",
        "colab_type": "text"
      },
      "source": [
        "<a href=\"https://colab.research.google.com/github/halfbug/colab/blob/main/100rowsfilled.ipynb\" target=\"_parent\"><img src=\"https://colab.research.google.com/assets/colab-badge.svg\" alt=\"Open In Colab\"/></a>"
      ]
    },
    {
      "cell_type": "code",
      "execution_count": 2,
      "metadata": {
        "id": "_yLeh0hiW9Iv"
      },
      "outputs": [],
      "source": [
        "import pandas as pd"
      ]
    },
    {
      "cell_type": "code",
      "source": [
        "sheet_id = '1M8mauGQDZVbXpwQPAlfrKc2suVqtdB5k'\n",
        "sheet_name = \"LevelGuide\"\n",
        "url = f\"https://docs.google.com/spreadsheets/d/{sheet_id}/gviz/tq?tqx=out:csv&sheet={sheet_name}\"\n",
        "df=pd.read_csv(url)\n",
        "# https://docs.google.com/spreadsheets/d/1M8mauGQDZVbXpwQPAlfrKc2suVqtdB5k/edit#gid=816935593"
      ],
      "metadata": {
        "id": "jzAAwhqwYF2I"
      },
      "execution_count": 9,
      "outputs": []
    },
    {
      "cell_type": "code",
      "source": [
        "print(df)"
      ],
      "metadata": {
        "id": "K85q2qqtYQJC",
        "outputId": "2972f845-0069-48fb-f50d-62e7342aff97",
        "colab": {
          "base_uri": "https://localhost:8080/"
        }
      },
      "execution_count": 10,
      "outputs": [
        {
          "output_type": "stream",
          "name": "stdout",
          "text": [
            "                                                  join  Hemster ID  \\\n",
            "0       55718 194900722053 30F1GCDS2L 001 Michael Kors       55718   \n",
            "1      55740 196163322728 30S2G9HM6L 1999 Michael Kors       55740   \n",
            "2    55760 196163134963 30S2SCDT3L chambray Michael...       55760   \n",
            "3          55770 193144528056 MM7W775 110 Michael Kors       55770   \n",
            "4    55858 196163135120 30S2SGRL8L CHAMBRAY Michael...       55858   \n",
            "..                                                 ...         ...   \n",
            "134     55653 196108954069 43T2OLFS1D 005 Michael Kors       55653   \n",
            "135     55629 196237053305 MU2814R5PT 100 Michael Kors       55629   \n",
            "136    55625 196163150185 MS2206R50R 3110 Michael Kors       55625   \n",
            "137     55640 196237063922 MU2817O33D 001 Michael Kors       55640   \n",
            "138     55631 723088612322 77Q5928M42 110 Michael Kors       55631   \n",
            "\n",
            "           MK SKU          Description Grade         Garment Type  \\\n",
            "0    194900722053       30F1GCDS2L 001     a                 Bags   \n",
            "1    196163322728      30S2G9HM6L 1999     a                 Bags   \n",
            "2    196163134963  30S2SCDT3L chambray     a                 Bags   \n",
            "3    193144528056          MM7W775 110     a              Scarves   \n",
            "4    196163135120  30S2SGRL8L CHAMBRAY     a                 Bags   \n",
            "..            ...                  ...   ...                  ...   \n",
            "134  196108954069       43T2OLFS1D 005     a                Shoes   \n",
            "135  196237053305       MU2814R5PT 100     a       Sleeveless Top   \n",
            "136  196163150185      MS2206R50R 3110     a            Outerwear   \n",
            "137  196237063922       MU2817O33D 001     a  Basic Sleeved Dress   \n",
            "138  723088612322       77Q5928M42 110     a            Outerwear   \n",
            "\n",
            "    Category Type     MSRP  brand   image  Sold on amazon  color  \\\n",
            "0       Accessory  $200.00     NaN    NaN             NaN    NaN   \n",
            "1       Accessory  $138.00     NaN    NaN             NaN    NaN   \n",
            "2       Accessory  $150.00     NaN    NaN             NaN    NaN   \n",
            "3       Accessory  $100.00     NaN    NaN             NaN    NaN   \n",
            "4       Accessory  $250.00     NaN    NaN             NaN    NaN   \n",
            "..            ...      ...     ...    ...             ...    ...   \n",
            "134      Footwear  $110.00     NaN    NaN             NaN    NaN   \n",
            "135       Apparel  $150.00     NaN    NaN             NaN    NaN   \n",
            "136       Apparel  $595.00     NaN    NaN             NaN    NaN   \n",
            "137       Apparel  $260.00     NaN    NaN             NaN    NaN   \n",
            "138       Apparel  $220.00     NaN    NaN             NaN    NaN   \n",
            "\n",
            "     Amazon price  ASIN  UPC  \n",
            "0             NaN   NaN  NaN  \n",
            "1             NaN   NaN  NaN  \n",
            "2             NaN   NaN  NaN  \n",
            "3             NaN   NaN  NaN  \n",
            "4             NaN   NaN  NaN  \n",
            "..            ...   ...  ...  \n",
            "134           NaN   NaN  NaN  \n",
            "135           NaN   NaN  NaN  \n",
            "136           NaN   NaN  NaN  \n",
            "137           NaN   NaN  NaN  \n",
            "138           NaN   NaN  NaN  \n",
            "\n",
            "[139 rows x 15 columns]\n"
          ]
        }
      ]
    },
    {
      "cell_type": "code",
      "source": [
        "class ExcelProcessor:\n",
        "    def __init__(self, file_path=None, sheet_id=None, sheet_name=\"Excel file\"):\n",
        "        # Example usage for opening a Google Sheet:\n",
        "        # sheet_id = '1M8mauGQDZVbXpwQPAlfrKc2suVqtdB5k'\n",
        "        # sheet_name = \"LevelGuide\"\n",
        "        # processor = ExcelProcessor(sheet_id=sheet_id, sheet_name=sheet_name)\n",
        "        if file_path:\n",
        "            self.df = pd.read_excel(file_path)\n",
        "        elif sheet_id and sheet_name:\n",
        "            url = f\"https://docs.google.com/spreadsheets/d/{sheet_id}/gviz/tq?tqx=out:csv&sheet={sheet_name}\"\n",
        "            self.df = pd.read_csv(url)\n",
        "        else:\n",
        "            raise ValueError(\"Either provide a file path or Google Sheet ID and sheet name.\")\n",
        "\n",
        "    def get_empty_columns_names(self):\n",
        "        empty_columns = self.df.columns[self.df.isnull().any()].tolist()\n",
        "        return empty_columns\n",
        "\n",
        "    def get_filled_columns_names(self):\n",
        "        filled_columns = self.df.columns[self.df.notnull().any()].tolist()\n",
        "        return filled_columns\n",
        "\n",
        "    def list_columns_with_values(self,num_columns=None):\n",
        "        non_empty_columns = self.df.columns[self.df.notnull().any()].tolist()\n",
        "        filtered_df = self.df[non_empty_columns]\n",
        "        if num_columns:\n",
        "            return filtered_df.values[:, :num_columns].tolist()\n",
        "        else:\n",
        "            return filtered_df.values.tolist()\n",
        "        return columns_with_values\n",
        "\n",
        "    def get_all_rows(self):\n",
        "        return self.df.values.tolist()\n",
        "\n",
        "    def get_all_rows_values(self):\n",
        "        non_empty_columns = self.df.columns[self.df.notnull().any()].tolist()\n",
        "        filtered_df = self.df[non_empty_columns]\n",
        "        return filtered_df.values.tolist()\n",
        "\n",
        "    def get_total_rows_columns(self):\n",
        "        total_rows, total_columns = self.df.shape\n",
        "        return total_rows, total_columns\n",
        "        # Example usage to get total rows and columns in the sheet\n",
        "        # total_rows, total_columns = processor.get_total_rows_columns()\n",
        "        # print(\"Total rows:\", total_rows)\n",
        "        # print(\"Total columns:\", total_columns)"
      ],
      "metadata": {
        "id": "bJCLz2UAjiqN"
      },
      "execution_count": 33,
      "outputs": []
    },
    {
      "cell_type": "code",
      "source": [
        "sheet_id = '1M8mauGQDZVbXpwQPAlfrKc2suVqtdB5k'\n",
        "sheet_name = \"LevelGuide\"\n",
        "processor = ExcelProcessor(sheet_id=sheet_id, sheet_name=sheet_name)\n",
        "\n",
        "print(\"Empty columns:\", processor.get_empty_columns_names())\n",
        "\n",
        "print(\"Columns with values:\", processor.get_filled_columns_names()[ :3])\n",
        "\n",
        "print(\"All rows of the sheet:\")\n",
        "all_rows = processor.get_all_rows_values()\n",
        "for row in all_rows:\n",
        "    # print(row)\n",
        "    row_str = \", \".join(map(str, row))\n",
        "    # print(row_str)\n",
        "\n",
        "# Example usage to get total rows and columns in the sheet\n",
        "total_rows, total_columns = processor.get_total_rows_columns()\n",
        "print(\"Total rows:\", total_rows)\n",
        "print(\"Total columns:\", total_columns)"
      ],
      "metadata": {
        "id": "wR9oYhMdlTJn",
        "outputId": "0d9a20b8-ddb2-4fd1-802c-571157c5a1b3",
        "colab": {
          "base_uri": "https://localhost:8080/"
        }
      },
      "execution_count": 37,
      "outputs": [
        {
          "output_type": "stream",
          "name": "stdout",
          "text": [
            "Empty columns: ['brand ', 'image', 'Sold on amazon', 'color', 'Amazon price', 'ASIN', 'UPC']\n",
            "Columns with values: ['join', 'Hemster ID', 'MK SKU']\n",
            "All rows of the sheet:\n",
            "Total rows: 139\n",
            "Total columns: 15\n"
          ]
        }
      ]
    },
    {
      "cell_type": "code",
      "source": [
        "# Check for columns with empty values\n",
        "empty_columns = df.columns[df.isnull().any()].tolist()\n",
        "empty_columns"
      ],
      "metadata": {
        "id": "rjYTK9FpbL9s",
        "outputId": "18e2bf8d-2bc6-4a89-a0a9-d0926eed1037",
        "colab": {
          "base_uri": "https://localhost:8080/"
        }
      },
      "execution_count": 11,
      "outputs": [
        {
          "output_type": "execute_result",
          "data": {
            "text/plain": [
              "['brand ', 'image', 'Sold on amazon', 'color', 'Amazon price', 'ASIN', 'UPC']"
            ]
          },
          "metadata": {},
          "execution_count": 11
        }
      ]
    }
  ]
}