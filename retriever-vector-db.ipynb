{
  "nbformat": 4,
  "nbformat_minor": 0,
  "metadata": {
    "colab": {
      "provenance": [],
      "authorship_tag": "ABX9TyMVu9xArN0iut1IHGX5+8jn",
      "include_colab_link": true
    },
    "kernelspec": {
      "name": "python3",
      "display_name": "Python 3"
    },
    "language_info": {
      "name": "python"
    }
  },
  "cells": [
    {
      "cell_type": "markdown",
      "metadata": {
        "id": "view-in-github",
        "colab_type": "text"
      },
      "source": [
        "<a href=\"https://colab.research.google.com/github/halfbug/colab/blob/main/retriever-vector-db.ipynb\" target=\"_parent\"><img src=\"https://colab.research.google.com/assets/colab-badge.svg\" alt=\"Open In Colab\"/></a>"
      ]
    },
    {
      "cell_type": "markdown",
      "source": [
        "## **LangChain and OpenAI installation**\n"
      ],
      "metadata": {
        "id": "mkl0jefz5ppY"
      }
    },
    {
      "cell_type": "code",
      "source": [
        "try:\n",
        "  import openai\n",
        "  from langchain_openai import ChatOpenAI\n",
        "except:\n",
        "    !pip install openai\n",
        "    !pip install langchain\n",
        "    !pip install langchain-openai"
      ],
      "metadata": {
        "id": "xPDvuNzT5vac",
        "outputId": "c450c92f-e67b-42c8-ba35-d0dd0a51311e",
        "colab": {
          "base_uri": "https://localhost:8080/"
        }
      },
      "execution_count": 2,
      "outputs": [
        {
          "output_type": "stream",
          "name": "stdout",
          "text": [
            "Collecting openai\n",
            "  Downloading openai-1.14.0-py3-none-any.whl (257 kB)\n",
            "\u001b[2K     \u001b[90m━━━━━━━━━━━━━━━━━━━━━━━━━━━━━━━━━━━━━━━━\u001b[0m \u001b[32m257.5/257.5 kB\u001b[0m \u001b[31m2.7 MB/s\u001b[0m eta \u001b[36m0:00:00\u001b[0m\n",
            "\u001b[?25hRequirement already satisfied: anyio<5,>=3.5.0 in /usr/local/lib/python3.10/dist-packages (from openai) (3.7.1)\n",
            "Requirement already satisfied: distro<2,>=1.7.0 in /usr/lib/python3/dist-packages (from openai) (1.7.0)\n",
            "Collecting httpx<1,>=0.23.0 (from openai)\n",
            "  Downloading httpx-0.27.0-py3-none-any.whl (75 kB)\n",
            "\u001b[2K     \u001b[90m━━━━━━━━━━━━━━━━━━━━━━━━━━━━━━━━━━━━━━━━\u001b[0m \u001b[32m75.6/75.6 kB\u001b[0m \u001b[31m2.8 MB/s\u001b[0m eta \u001b[36m0:00:00\u001b[0m\n",
            "\u001b[?25hRequirement already satisfied: pydantic<3,>=1.9.0 in /usr/local/lib/python3.10/dist-packages (from openai) (2.6.3)\n",
            "Requirement already satisfied: sniffio in /usr/local/lib/python3.10/dist-packages (from openai) (1.3.1)\n",
            "Requirement already satisfied: tqdm>4 in /usr/local/lib/python3.10/dist-packages (from openai) (4.66.2)\n",
            "Requirement already satisfied: typing-extensions<5,>=4.7 in /usr/local/lib/python3.10/dist-packages (from openai) (4.10.0)\n",
            "Requirement already satisfied: idna>=2.8 in /usr/local/lib/python3.10/dist-packages (from anyio<5,>=3.5.0->openai) (3.6)\n",
            "Requirement already satisfied: exceptiongroup in /usr/local/lib/python3.10/dist-packages (from anyio<5,>=3.5.0->openai) (1.2.0)\n",
            "Requirement already satisfied: certifi in /usr/local/lib/python3.10/dist-packages (from httpx<1,>=0.23.0->openai) (2024.2.2)\n",
            "Collecting httpcore==1.* (from httpx<1,>=0.23.0->openai)\n",
            "  Downloading httpcore-1.0.4-py3-none-any.whl (77 kB)\n",
            "\u001b[2K     \u001b[90m━━━━━━━━━━━━━━━━━━━━━━━━━━━━━━━━━━━━━━━━\u001b[0m \u001b[32m77.8/77.8 kB\u001b[0m \u001b[31m11.4 MB/s\u001b[0m eta \u001b[36m0:00:00\u001b[0m\n",
            "\u001b[?25hCollecting h11<0.15,>=0.13 (from httpcore==1.*->httpx<1,>=0.23.0->openai)\n",
            "  Downloading h11-0.14.0-py3-none-any.whl (58 kB)\n",
            "\u001b[2K     \u001b[90m━━━━━━━━━━━━━━━━━━━━━━━━━━━━━━━━━━━━━━━━\u001b[0m \u001b[32m58.3/58.3 kB\u001b[0m \u001b[31m8.2 MB/s\u001b[0m eta \u001b[36m0:00:00\u001b[0m\n",
            "\u001b[?25hRequirement already satisfied: annotated-types>=0.4.0 in /usr/local/lib/python3.10/dist-packages (from pydantic<3,>=1.9.0->openai) (0.6.0)\n",
            "Requirement already satisfied: pydantic-core==2.16.3 in /usr/local/lib/python3.10/dist-packages (from pydantic<3,>=1.9.0->openai) (2.16.3)\n",
            "Installing collected packages: h11, httpcore, httpx, openai\n",
            "Successfully installed h11-0.14.0 httpcore-1.0.4 httpx-0.27.0 openai-1.14.0\n",
            "Collecting langchain\n",
            "  Downloading langchain-0.1.12-py3-none-any.whl (809 kB)\n",
            "\u001b[2K     \u001b[90m━━━━━━━━━━━━━━━━━━━━━━━━━━━━━━━━━━━━━━━━\u001b[0m \u001b[32m809.1/809.1 kB\u001b[0m \u001b[31m4.6 MB/s\u001b[0m eta \u001b[36m0:00:00\u001b[0m\n",
            "\u001b[?25hRequirement already satisfied: PyYAML>=5.3 in /usr/local/lib/python3.10/dist-packages (from langchain) (6.0.1)\n",
            "Requirement already satisfied: SQLAlchemy<3,>=1.4 in /usr/local/lib/python3.10/dist-packages (from langchain) (2.0.28)\n",
            "Requirement already satisfied: aiohttp<4.0.0,>=3.8.3 in /usr/local/lib/python3.10/dist-packages (from langchain) (3.9.3)\n",
            "Requirement already satisfied: async-timeout<5.0.0,>=4.0.0 in /usr/local/lib/python3.10/dist-packages (from langchain) (4.0.3)\n",
            "Collecting dataclasses-json<0.7,>=0.5.7 (from langchain)\n",
            "  Downloading dataclasses_json-0.6.4-py3-none-any.whl (28 kB)\n",
            "Collecting jsonpatch<2.0,>=1.33 (from langchain)\n",
            "  Downloading jsonpatch-1.33-py2.py3-none-any.whl (12 kB)\n",
            "Collecting langchain-community<0.1,>=0.0.28 (from langchain)\n",
            "  Downloading langchain_community-0.0.28-py3-none-any.whl (1.8 MB)\n",
            "\u001b[2K     \u001b[90m━━━━━━━━━━━━━━━━━━━━━━━━━━━━━━━━━━━━━━━━\u001b[0m \u001b[32m1.8/1.8 MB\u001b[0m \u001b[31m29.7 MB/s\u001b[0m eta \u001b[36m0:00:00\u001b[0m\n",
            "\u001b[?25hCollecting langchain-core<0.2.0,>=0.1.31 (from langchain)\n",
            "  Downloading langchain_core-0.1.32-py3-none-any.whl (260 kB)\n",
            "\u001b[2K     \u001b[90m━━━━━━━━━━━━━━━━━━━━━━━━━━━━━━━━━━━━━━━━\u001b[0m \u001b[32m260.9/260.9 kB\u001b[0m \u001b[31m32.5 MB/s\u001b[0m eta \u001b[36m0:00:00\u001b[0m\n",
            "\u001b[?25hCollecting langchain-text-splitters<0.1,>=0.0.1 (from langchain)\n",
            "  Downloading langchain_text_splitters-0.0.1-py3-none-any.whl (21 kB)\n",
            "Collecting langsmith<0.2.0,>=0.1.17 (from langchain)\n",
            "  Downloading langsmith-0.1.26-py3-none-any.whl (67 kB)\n",
            "\u001b[2K     \u001b[90m━━━━━━━━━━━━━━━━━━━━━━━━━━━━━━━━━━━━━━━━\u001b[0m \u001b[32m67.9/67.9 kB\u001b[0m \u001b[31m11.9 MB/s\u001b[0m eta \u001b[36m0:00:00\u001b[0m\n",
            "\u001b[?25hRequirement already satisfied: numpy<2,>=1 in /usr/local/lib/python3.10/dist-packages (from langchain) (1.25.2)\n",
            "Requirement already satisfied: pydantic<3,>=1 in /usr/local/lib/python3.10/dist-packages (from langchain) (2.6.3)\n",
            "Requirement already satisfied: requests<3,>=2 in /usr/local/lib/python3.10/dist-packages (from langchain) (2.31.0)\n",
            "Requirement already satisfied: tenacity<9.0.0,>=8.1.0 in /usr/local/lib/python3.10/dist-packages (from langchain) (8.2.3)\n",
            "Requirement already satisfied: aiosignal>=1.1.2 in /usr/local/lib/python3.10/dist-packages (from aiohttp<4.0.0,>=3.8.3->langchain) (1.3.1)\n",
            "Requirement already satisfied: attrs>=17.3.0 in /usr/local/lib/python3.10/dist-packages (from aiohttp<4.0.0,>=3.8.3->langchain) (23.2.0)\n",
            "Requirement already satisfied: frozenlist>=1.1.1 in /usr/local/lib/python3.10/dist-packages (from aiohttp<4.0.0,>=3.8.3->langchain) (1.4.1)\n",
            "Requirement already satisfied: multidict<7.0,>=4.5 in /usr/local/lib/python3.10/dist-packages (from aiohttp<4.0.0,>=3.8.3->langchain) (6.0.5)\n",
            "Requirement already satisfied: yarl<2.0,>=1.0 in /usr/local/lib/python3.10/dist-packages (from aiohttp<4.0.0,>=3.8.3->langchain) (1.9.4)\n",
            "Collecting marshmallow<4.0.0,>=3.18.0 (from dataclasses-json<0.7,>=0.5.7->langchain)\n",
            "  Downloading marshmallow-3.21.1-py3-none-any.whl (49 kB)\n",
            "\u001b[2K     \u001b[90m━━━━━━━━━━━━━━━━━━━━━━━━━━━━━━━━━━━━━━━━\u001b[0m \u001b[32m49.4/49.4 kB\u001b[0m \u001b[31m7.5 MB/s\u001b[0m eta \u001b[36m0:00:00\u001b[0m\n",
            "\u001b[?25hCollecting typing-inspect<1,>=0.4.0 (from dataclasses-json<0.7,>=0.5.7->langchain)\n",
            "  Downloading typing_inspect-0.9.0-py3-none-any.whl (8.8 kB)\n",
            "Collecting jsonpointer>=1.9 (from jsonpatch<2.0,>=1.33->langchain)\n",
            "  Downloading jsonpointer-2.4-py2.py3-none-any.whl (7.8 kB)\n",
            "Requirement already satisfied: anyio<5,>=3 in /usr/local/lib/python3.10/dist-packages (from langchain-core<0.2.0,>=0.1.31->langchain) (3.7.1)\n",
            "Collecting packaging<24.0,>=23.2 (from langchain-core<0.2.0,>=0.1.31->langchain)\n",
            "  Downloading packaging-23.2-py3-none-any.whl (53 kB)\n",
            "\u001b[2K     \u001b[90m━━━━━━━━━━━━━━━━━━━━━━━━━━━━━━━━━━━━━━━━\u001b[0m \u001b[32m53.0/53.0 kB\u001b[0m \u001b[31m9.5 MB/s\u001b[0m eta \u001b[36m0:00:00\u001b[0m\n",
            "\u001b[?25hCollecting orjson<4.0.0,>=3.9.14 (from langsmith<0.2.0,>=0.1.17->langchain)\n",
            "  Downloading orjson-3.9.15-cp310-cp310-manylinux_2_17_x86_64.manylinux2014_x86_64.whl (138 kB)\n",
            "\u001b[2K     \u001b[90m━━━━━━━━━━━━━━━━━━━━━━━━━━━━━━━━━━━━━━━━\u001b[0m \u001b[32m138.5/138.5 kB\u001b[0m \u001b[31m21.3 MB/s\u001b[0m eta \u001b[36m0:00:00\u001b[0m\n",
            "\u001b[?25hRequirement already satisfied: annotated-types>=0.4.0 in /usr/local/lib/python3.10/dist-packages (from pydantic<3,>=1->langchain) (0.6.0)\n",
            "Requirement already satisfied: pydantic-core==2.16.3 in /usr/local/lib/python3.10/dist-packages (from pydantic<3,>=1->langchain) (2.16.3)\n",
            "Requirement already satisfied: typing-extensions>=4.6.1 in /usr/local/lib/python3.10/dist-packages (from pydantic<3,>=1->langchain) (4.10.0)\n",
            "Requirement already satisfied: charset-normalizer<4,>=2 in /usr/local/lib/python3.10/dist-packages (from requests<3,>=2->langchain) (3.3.2)\n",
            "Requirement already satisfied: idna<4,>=2.5 in /usr/local/lib/python3.10/dist-packages (from requests<3,>=2->langchain) (3.6)\n",
            "Requirement already satisfied: urllib3<3,>=1.21.1 in /usr/local/lib/python3.10/dist-packages (from requests<3,>=2->langchain) (2.0.7)\n",
            "Requirement already satisfied: certifi>=2017.4.17 in /usr/local/lib/python3.10/dist-packages (from requests<3,>=2->langchain) (2024.2.2)\n",
            "Requirement already satisfied: greenlet!=0.4.17 in /usr/local/lib/python3.10/dist-packages (from SQLAlchemy<3,>=1.4->langchain) (3.0.3)\n",
            "Requirement already satisfied: sniffio>=1.1 in /usr/local/lib/python3.10/dist-packages (from anyio<5,>=3->langchain-core<0.2.0,>=0.1.31->langchain) (1.3.1)\n",
            "Requirement already satisfied: exceptiongroup in /usr/local/lib/python3.10/dist-packages (from anyio<5,>=3->langchain-core<0.2.0,>=0.1.31->langchain) (1.2.0)\n",
            "Collecting mypy-extensions>=0.3.0 (from typing-inspect<1,>=0.4.0->dataclasses-json<0.7,>=0.5.7->langchain)\n",
            "  Downloading mypy_extensions-1.0.0-py3-none-any.whl (4.7 kB)\n",
            "Installing collected packages: packaging, orjson, mypy-extensions, jsonpointer, typing-inspect, marshmallow, jsonpatch, langsmith, dataclasses-json, langchain-core, langchain-text-splitters, langchain-community, langchain\n",
            "  Attempting uninstall: packaging\n",
            "    Found existing installation: packaging 24.0\n",
            "    Uninstalling packaging-24.0:\n",
            "      Successfully uninstalled packaging-24.0\n",
            "Successfully installed dataclasses-json-0.6.4 jsonpatch-1.33 jsonpointer-2.4 langchain-0.1.12 langchain-community-0.0.28 langchain-core-0.1.32 langchain-text-splitters-0.0.1 langsmith-0.1.26 marshmallow-3.21.1 mypy-extensions-1.0.0 orjson-3.9.15 packaging-23.2 typing-inspect-0.9.0\n",
            "Collecting langchain-openai\n",
            "  Downloading langchain_openai-0.0.8-py3-none-any.whl (32 kB)\n",
            "Requirement already satisfied: langchain-core<0.2.0,>=0.1.27 in /usr/local/lib/python3.10/dist-packages (from langchain-openai) (0.1.32)\n",
            "Requirement already satisfied: openai<2.0.0,>=1.10.0 in /usr/local/lib/python3.10/dist-packages (from langchain-openai) (1.14.0)\n",
            "Collecting tiktoken<1,>=0.5.2 (from langchain-openai)\n",
            "  Downloading tiktoken-0.6.0-cp310-cp310-manylinux_2_17_x86_64.manylinux2014_x86_64.whl (1.8 MB)\n",
            "\u001b[2K     \u001b[90m━━━━━━━━━━━━━━━━━━━━━━━━━━━━━━━━━━━━━━━━\u001b[0m \u001b[32m1.8/1.8 MB\u001b[0m \u001b[31m9.9 MB/s\u001b[0m eta \u001b[36m0:00:00\u001b[0m\n",
            "\u001b[?25hRequirement already satisfied: PyYAML>=5.3 in /usr/local/lib/python3.10/dist-packages (from langchain-core<0.2.0,>=0.1.27->langchain-openai) (6.0.1)\n",
            "Requirement already satisfied: anyio<5,>=3 in /usr/local/lib/python3.10/dist-packages (from langchain-core<0.2.0,>=0.1.27->langchain-openai) (3.7.1)\n",
            "Requirement already satisfied: jsonpatch<2.0,>=1.33 in /usr/local/lib/python3.10/dist-packages (from langchain-core<0.2.0,>=0.1.27->langchain-openai) (1.33)\n",
            "Requirement already satisfied: langsmith<0.2.0,>=0.1.0 in /usr/local/lib/python3.10/dist-packages (from langchain-core<0.2.0,>=0.1.27->langchain-openai) (0.1.26)\n",
            "Requirement already satisfied: packaging<24.0,>=23.2 in /usr/local/lib/python3.10/dist-packages (from langchain-core<0.2.0,>=0.1.27->langchain-openai) (23.2)\n",
            "Requirement already satisfied: pydantic<3,>=1 in /usr/local/lib/python3.10/dist-packages (from langchain-core<0.2.0,>=0.1.27->langchain-openai) (2.6.3)\n",
            "Requirement already satisfied: requests<3,>=2 in /usr/local/lib/python3.10/dist-packages (from langchain-core<0.2.0,>=0.1.27->langchain-openai) (2.31.0)\n",
            "Requirement already satisfied: tenacity<9.0.0,>=8.1.0 in /usr/local/lib/python3.10/dist-packages (from langchain-core<0.2.0,>=0.1.27->langchain-openai) (8.2.3)\n",
            "Requirement already satisfied: distro<2,>=1.7.0 in /usr/lib/python3/dist-packages (from openai<2.0.0,>=1.10.0->langchain-openai) (1.7.0)\n",
            "Requirement already satisfied: httpx<1,>=0.23.0 in /usr/local/lib/python3.10/dist-packages (from openai<2.0.0,>=1.10.0->langchain-openai) (0.27.0)\n",
            "Requirement already satisfied: sniffio in /usr/local/lib/python3.10/dist-packages (from openai<2.0.0,>=1.10.0->langchain-openai) (1.3.1)\n",
            "Requirement already satisfied: tqdm>4 in /usr/local/lib/python3.10/dist-packages (from openai<2.0.0,>=1.10.0->langchain-openai) (4.66.2)\n",
            "Requirement already satisfied: typing-extensions<5,>=4.7 in /usr/local/lib/python3.10/dist-packages (from openai<2.0.0,>=1.10.0->langchain-openai) (4.10.0)\n",
            "Requirement already satisfied: regex>=2022.1.18 in /usr/local/lib/python3.10/dist-packages (from tiktoken<1,>=0.5.2->langchain-openai) (2023.12.25)\n",
            "Requirement already satisfied: idna>=2.8 in /usr/local/lib/python3.10/dist-packages (from anyio<5,>=3->langchain-core<0.2.0,>=0.1.27->langchain-openai) (3.6)\n",
            "Requirement already satisfied: exceptiongroup in /usr/local/lib/python3.10/dist-packages (from anyio<5,>=3->langchain-core<0.2.0,>=0.1.27->langchain-openai) (1.2.0)\n",
            "Requirement already satisfied: certifi in /usr/local/lib/python3.10/dist-packages (from httpx<1,>=0.23.0->openai<2.0.0,>=1.10.0->langchain-openai) (2024.2.2)\n",
            "Requirement already satisfied: httpcore==1.* in /usr/local/lib/python3.10/dist-packages (from httpx<1,>=0.23.0->openai<2.0.0,>=1.10.0->langchain-openai) (1.0.4)\n",
            "Requirement already satisfied: h11<0.15,>=0.13 in /usr/local/lib/python3.10/dist-packages (from httpcore==1.*->httpx<1,>=0.23.0->openai<2.0.0,>=1.10.0->langchain-openai) (0.14.0)\n",
            "Requirement already satisfied: jsonpointer>=1.9 in /usr/local/lib/python3.10/dist-packages (from jsonpatch<2.0,>=1.33->langchain-core<0.2.0,>=0.1.27->langchain-openai) (2.4)\n",
            "Requirement already satisfied: orjson<4.0.0,>=3.9.14 in /usr/local/lib/python3.10/dist-packages (from langsmith<0.2.0,>=0.1.0->langchain-core<0.2.0,>=0.1.27->langchain-openai) (3.9.15)\n",
            "Requirement already satisfied: annotated-types>=0.4.0 in /usr/local/lib/python3.10/dist-packages (from pydantic<3,>=1->langchain-core<0.2.0,>=0.1.27->langchain-openai) (0.6.0)\n",
            "Requirement already satisfied: pydantic-core==2.16.3 in /usr/local/lib/python3.10/dist-packages (from pydantic<3,>=1->langchain-core<0.2.0,>=0.1.27->langchain-openai) (2.16.3)\n",
            "Requirement already satisfied: charset-normalizer<4,>=2 in /usr/local/lib/python3.10/dist-packages (from requests<3,>=2->langchain-core<0.2.0,>=0.1.27->langchain-openai) (3.3.2)\n",
            "Requirement already satisfied: urllib3<3,>=1.21.1 in /usr/local/lib/python3.10/dist-packages (from requests<3,>=2->langchain-core<0.2.0,>=0.1.27->langchain-openai) (2.0.7)\n",
            "Installing collected packages: tiktoken, langchain-openai\n",
            "Successfully installed langchain-openai-0.0.8 tiktoken-0.6.0\n"
          ]
        }
      ]
    },
    {
      "cell_type": "code",
      "source": [
        "import openai\n",
        "from google.colab import userdata\n",
        "import os\n",
        "\n",
        "os.environ[\"OPENAI_API_KEY\"] = userdata.get('OPENAI_API_KEY')\n",
        "# llm = ChatOpenAI(openai_api_key=os.getenv('OPENAI_API_KEY'))\n",
        "openai.api_key  = os.getenv('OPENAI_API_KEY')"
      ],
      "metadata": {
        "id": "8U76-LF_6Z8y"
      },
      "execution_count": 3,
      "outputs": []
    },
    {
      "cell_type": "code",
      "source": [
        "from langchain.chat_models import ChatOpenAI\n",
        "import datetime\n",
        "current_date = datetime.datetime.now().date()\n",
        "# llm_name = \"gpt-4\"\n",
        "if current_date < datetime.date(2023, 9, 2):\n",
        "    llm_name = \"gpt-3.5-turbo-0301\"\n",
        "else:\n",
        "    llm_name = \"gpt-3.5-turbo\"\n",
        "print(llm_name)\n",
        "llm = ChatOpenAI(model_name=llm_name, temperature=0)\n",
        "llm.invoke(\"Hello world!\")"
      ],
      "metadata": {
        "colab": {
          "base_uri": "https://localhost:8080/"
        },
        "id": "gtNkHmw77N5Q",
        "outputId": "bd9f2c66-4053-4678-e603-12c91c5678b0"
      },
      "execution_count": 4,
      "outputs": [
        {
          "output_type": "stream",
          "name": "stdout",
          "text": [
            "gpt-3.5-turbo\n"
          ]
        },
        {
          "output_type": "stream",
          "name": "stderr",
          "text": [
            "/usr/local/lib/python3.10/dist-packages/langchain_core/_api/deprecation.py:117: LangChainDeprecationWarning: The class `langchain_community.chat_models.openai.ChatOpenAI` was deprecated in langchain-community 0.0.10 and will be removed in 0.2.0. An updated version of the class exists in the langchain-openai package and should be used instead. To use it run `pip install -U langchain-openai` and import as `from langchain_openai import ChatOpenAI`.\n",
            "  warn_deprecated(\n"
          ]
        },
        {
          "output_type": "execute_result",
          "data": {
            "text/plain": [
              "AIMessage(content='Hello! How can I assist you today?', response_metadata={'finish_reason': 'stop', 'logprobs': None})"
            ]
          },
          "metadata": {},
          "execution_count": 4
        }
      ]
    },
    {
      "cell_type": "markdown",
      "source": [
        "# Scraper"
      ],
      "metadata": {
        "id": "Zrtqs4fFAqdO"
      }
    },
    {
      "cell_type": "code",
      "source": [
        "import re\n",
        "import requests\n",
        "from bs4 import BeautifulSoup\n",
        "\n",
        "def extract_availability(url):\n",
        "    # Function to scrape the webpage for availability information\n",
        "    try:\n",
        "        response = requests.get(url)\n",
        "        soup = BeautifulSoup(response.content, 'html.parser')\n",
        "         # Search for specific keywords like \"stock availability\" on the webpage\n",
        "\n",
        "        body_content = soup.find('body')  # Find the body tag\n",
        "\n",
        "        if body_content:\n",
        "           # Extract only the text content from the body tag\n",
        "            text_content = body_content.get_text(strip=True)\n",
        "            # Search for either \"stock\" or \"stock availability\" in the text content\n",
        "            # print(text_content)\n",
        "            #  availability_pattern = re.compile(r\"(?:stock|stock|availability|Number\\sof\\sItems\\s*(\\d+)|in\\s*stock|(\\w+)\\s*stock\\s*(\\w+))\", re.IGNORECASE)\n",
        "\n",
        "            availability_pattern = re.compile(r\"(?:stock|stock|availability|in\\s*stock)\", re.IGNORECASE)\n",
        "            match = re.search(availability_pattern, text_content)\n",
        "            # print(match.groups())\n",
        "            if match:\n",
        "                # print(match.group(0))\n",
        "                return f\"Availability: {match.group(0).strip()}\"\n",
        "        # If specific keywords not found, return \"Scraped Availability: Unknown\"\n",
        "        return \"Availability: Unknown\"\n",
        "    except Exception as e:\n",
        "        print(f\"Error occurred while scraping: {e}\")\n",
        "        return \"Availability: Unknown\""
      ],
      "metadata": {
        "id": "7JPNBjzH_psn"
      },
      "execution_count": 5,
      "outputs": []
    },
    {
      "cell_type": "code",
      "source": [
        "def scrape_text(url):\n",
        "    # Function to scrape the webpage for availability information\n",
        "    try:\n",
        "        response = requests.get(url)\n",
        "        soup = BeautifulSoup(response.content, 'html.parser')\n",
        "         # Search for specific keywords like \"stock availability\" on the webpage\n",
        "\n",
        "         # Step 3: Extract metadata\n",
        "        meta_tags = soup.find_all('meta')\n",
        "        metadata = {}\n",
        "        for tag in meta_tags:\n",
        "            if 'name' in tag.attrs:\n",
        "                name = tag.attrs['name']\n",
        "                content = tag.attrs.get('content', '')\n",
        "                metadata[name] = content\n",
        "            elif 'property' in tag.attrs:  # For OpenGraph metadata\n",
        "                property = tag.attrs['property']\n",
        "                content = tag.attrs.get('content', '')\n",
        "                metadata[property] = content\n",
        "\n",
        "        # Display the metadata\n",
        "        # for key, value in metadata.items():\n",
        "        #     print(f\"{key}: {value}\")\n",
        "\n",
        "        # print( metadata)\n",
        "\n",
        "        meta_tag = extract_product_info([metadata])\n",
        "\n",
        "            # Find all link elements with the 'as' attribute set to 'image'\n",
        "        image_links = soup.find_all('link', {'rel': 'preload', 'as': 'image'})\n",
        "\n",
        "        # Extract and print the href attributes\n",
        "        images = ''\n",
        "        for link in image_links:\n",
        "            image_url = link.get('href')\n",
        "            if image_url:\n",
        "                if image_url.startswith(\"//\"):\n",
        "                  # Add protocol (http assumed):\n",
        "                  image_url= f\"http:{image_url}\"\n",
        "                images = images +\",\"+ image_url\n",
        "                # print(image_url)\n",
        "\n",
        "        body_content = soup.find('body')  # Find the body tag\n",
        "        print(body_content)\n",
        "        if body_content:\n",
        "           # Extract only the text content from the body tag\n",
        "            text_content = body_content.get_text(strip=True)\n",
        "\n",
        "            # Search for either \"stock\" or \"stock availability\" in the text content\n",
        "            # print(text_content)\n",
        "            string_encode = text_content.encode(\"ascii\", \"ignore\")\n",
        "            text_content = string_encode.decode()\n",
        "            return text_content + meta_tag + \"Images : \" + images\n",
        "        return f\"Content: Unknown on {url}\"\n",
        "    except Exception as e:\n",
        "        print(f\"Error occurred while scraping: {e}\")\n",
        "        return f\"Content: Unknown on {url}\""
      ],
      "metadata": {
        "id": "yQJRObHNri7t"
      },
      "execution_count": 68,
      "outputs": []
    },
    {
      "cell_type": "code",
      "source": [
        "def format_string(input_string):\n",
        "    formatted_string = \"\"\n",
        "\n",
        "    # Split the input string into separate lines\n",
        "    lines = input_string.split('\\n')\n",
        "\n",
        "    # Iterate through each line\n",
        "    for line in lines:\n",
        "        # Check if the line contains a colon ':'\n",
        "        if ':' in line:\n",
        "            # Split the line into key and value based on the colon ':'\n",
        "            key, value = line.split(':', 1)\n",
        "            # Format the key and value and add them to the formatted string\n",
        "            formatted_string += f\"{key.strip()}: {value.strip()} \"\n",
        "        else:\n",
        "            # If the line does not contain a colon, add it as is to the formatted string\n",
        "            formatted_string += f\"{line.strip()} \"\n",
        "\n",
        "    return formatted_string\n",
        "\n",
        "# Example usage\n",
        "input_string = \"($)Date of the price:010203040506070809101112/01020304050607080910111213141516171819202122232425262728293031/Pleasesign into provide feedback.Submit FeedbackProduct detailsProduct Dimensions\\n                                    \\n                                        :\\n                                    6 x 6 x 6 inches; 11.04 ouncesItem model number\\n                                    \\n                                        :', ':\\n                                    CHAR-CAN-3WickDate First Available\\n                                    \\n                                        :\\n                                    March 16, 2019Manufacturer\\n                                    \\n                                        :\\n                                    APOTHEKEASIN\\n                                    \\n                                        :', 'B07PMY9PK6Customer Reviews:4.24.2 out of 5 stars147 ratingsExplore more recommendationsBrief content visible, double tap to read full content.Full content visible, double tap to read brief content.VideosPage1of1Start OverPage 1 of 1Previous pageVideos for this product1:14Click to play videoThe best gift all year long, a candle that lasts 120-150 hours!xAJohnsonVideos for this product1:08Click to play video#thisorthat aesthetic candle favoritesBonnies Favorite\"\n",
        "formatted_output = format_string(input_string)\n",
        "print(formatted_output)\n"
      ],
      "metadata": {
        "id": "qv4ilL1TK1B3",
        "outputId": "9e93e965-750d-46fb-9b71-0cad843d9b67",
        "colab": {
          "base_uri": "https://localhost:8080/"
        }
      },
      "execution_count": 58,
      "outputs": [
        {
          "output_type": "stream",
          "name": "stdout",
          "text": [
            "($)Date of the price: 010203040506070809101112/01020304050607080910111213141516171819202122232425262728293031/Pleasesign into provide feedback.Submit FeedbackProduct detailsProduct Dimensions  :  6 x 6 x 6 inches; 11.04 ouncesItem model number  : ', ': CHAR-CAN-3WickDate First Available  :  March 16, 2019Manufacturer  :  APOTHEKEASIN  : ', 'B07PMY9PK6Customer Reviews:4.24.2 out of 5 stars147 ratingsExplore more recommendationsBrief content visible, double tap to read full content.Full content visible, double tap to read brief content.VideosPage1of1Start OverPage 1 of 1Previous pageVideos for this product1:14Click to play videoThe best gift all year long, a candle that lasts 120-150 hours!xAJohnsonVideos for this product1:08Click to play video#thisorthat aesthetic candle favoritesBonnies Favorite \n"
          ]
        }
      ]
    },
    {
      "cell_type": "code",
      "source": [
        "def google_scraper(query) :\n",
        "    try:\n",
        "        response = requests.get(\"https://www.google.com/search?q=\"+query.lower().replace(' ', '+')+\"upc\")\n",
        "        soup = BeautifulSoup(response.content, 'html.parser')\n",
        "\n",
        "        # find first five link's content\n",
        "        # anchor_tags = soup.find_all('a', href=True)\n",
        "        # hrefs = []\n",
        "        # content = \"\"\n",
        "        # for tag in anchor_tags:\n",
        "        #   href = tag.get('href')\n",
        "        #   if href and href.startswith(\"/url?q=https\") and \"google\" not in href.lower():  # Check if href exists (it might be None)\n",
        "        #     parts = href.split('&', 1)\n",
        "        #     parts = parts[0].split('/url?q=',1)\n",
        "        #     # print(parts)\n",
        "        #     hrefs.append(parts[1])\n",
        "        #     scraped_content = scrape_text(parts[1])\n",
        "        #     content += scraped_content + \"\\n ***\"\n",
        "            # print(scraped_content)\n",
        "        # print(hrefs[:5])\n",
        "\n",
        "\n",
        "\n",
        "        body_content = soup.find('body')  # Find the body tag\n",
        "\n",
        "        if body_content:\n",
        "           # Extract only the text content from the body tag\n",
        "            text_content = body_content.get_text(strip=True)\n",
        "            # print(\"\\033[34m\" + text_content )\n",
        "            return text_content    #format_string(content)\n",
        "    except Exception as e:\n",
        "        print(f\"Error occurred while scraping: {e}\")\n",
        "        return \"No search result found: Unknown\"\n",
        "google_scraper(\"Apotheke 3 wick candles collection\")"
      ],
      "metadata": {
        "colab": {
          "base_uri": "https://localhost:8080/",
          "height": 318
        },
        "id": "KjvRZlOLBc09",
        "outputId": "29dc59c8-a826-4405-d2b4-e8d79f9bd8aa"
      },
      "execution_count": 74,
      "outputs": [
        {
          "output_type": "execute_result",
          "data": {
            "text/plain": [
              "'Google×Please clickhereif you are not redirected within a few seconds.AllImagesShoppingVideosMapsNewsBooksSearch toolsAny timeAny timePast hourPast 24 hoursPast weekPast monthPast yearAll resultsAll resultsVerbatimShowing results forapotheke 3 wick candlescollection upcSearch instead forapotheke 3 wick candles collectionupcApotheke 3-Wick Candles Collection Charcoal | eBaywww.ebay.com › Home & Garden › Candles & Home Fragrance › Candles$109.950602573896181. MPN. CHAR-CAN-3Wick. UPC. 602573896181. Brand. APOTHEKE. Scent. Charcoal. Type. Does Not Apply. Category. Home & Garden > Candles & Home\\xa0...Apotheke 3-Wick Candles Collection - Amazon.comwww.amazon.com › Scented-Candles-Home-Soy-Wax-Jar-CandleRating4.2(147)·$78.00·In stockOur candles are hand poured and made with a proprietary blend of essential and perfume-grade oils for a long-lasting fragrance. Each 26 oz candle burns for\\xa0...Missing:upc| Show results with:upcdiscounted purchases Apotheke 3-Wick Candles Collection ...kannauj-fragrance.com › Candles & Tea LightsEAN: 0602573896181. MPN: CHAR-CAN-3Wick. UPC: 602573896181. Brand: APOTHEKE. Scent: Charcoal. Type: Does Not Apply. Product description. Review rating. 4.9. (\\xa0...3-Wick Candles | APOTHEKEapothekeco.com › collections › 3-wick-candlesMade with a premium soy wax blend and essential and perfume-grade fragrance oils, our luxury scented 3-wick candles are designed to provide a clean-burning\\xa0...Missing:upc| Show results with:upcApotheke 3-Wick Candles (Santal Rock Rose, 3-Wick) Santal ... - eBaywww.ebay.com › Home & Garden › Candles & Home Fragrance › Candles$109.97SROCK-CAN-3Wick. UPC. 850015641602. Brand. APOTHEKE. Scent. Santal Rock Rose. Type. Does Not Apply. Category. Home & Garden > Candles & Home Fragrance > Candles.APOTHEKE WHITE VETIVER Scented Candle 3 Wick 32 OZ (HUGE)www.yoamomis15.com › apotheke-white-vetiver-scented-candle-3-wick-3...COP\\xa060.00UPC:850015641213. Wholesale and Overstock Deals Every Day! Store HomeView ListingsBookmark UsFeedbackContact Us MENU Store Categories Apparel & Clothing Buy\\xa0...People also askHow long do Apotheke candles last?Are Apotheke candles natural?Why buy 3 wick candles?What does apotheke charcoal smell like?Amazon.com: Apotheke 3-Wick Candles (Canvas, 3-Wick)www.amazon.com › Scented-Candles-Home-Soy-Wax-Jar-CandleRating4.2(147)·$78.00·In stockCaptivating Fragrance: Transform any living space with the unforgettable scent of Canvas 3-Wick Candle from APOTHEKE. Our candles are hand poured and made with\\xa0...Missing:upc| Show results with:upcApotheke - Bamboo 3 Wick Candle – thescentshop usthescentshop-us.myshopify.com › products › tss-1551$19.00In stockApotheke Bamboo 3 Wick Candle is white flowers, light moss, and white thyme blend with robust bamboo leaves, enveloping the room with a clean and earthy\\xa0...Charcoal 3-Wick Candle - Burke Decorwww.burkedecor.com › charcoal-3-wick-candle-design-by-apotheke$78.00Cedarwood and sandalwood combine with notes of smokey amber and oud to build a broody, full-bodied fragrance. Our candles are hand-poured with perfume-grade\\xa0...Sea Salt Grapefruit 3-Wick Candle design by Apothekedesigner-rug.com › products › sea-salt-grapefruit-3-wick-candle-design-by...$64.00Our candles are hand-poured with perfume-grade fragrance oils and a high quality soy wax blend. Each scent is formulated with a unique wick, wax, and fragrance\\xa0...Related searchesApotheke 3 wick candles collection upc saleApotheke 3 wick candles collection upc reviewApotheke 3 wick candles collection upc amazonAPOTHEKE holiday candlesApotheke Tomato CandleApotheke Votive CandleApotheke winter Discovery SetAPOTHEKE mystery candleNext >United StatesFrom your IP address-Learn moreSign inSettingsPrivacyTermsDark theme: Off'"
            ],
            "application/vnd.google.colaboratory.intrinsic+json": {
              "type": "string"
            }
          },
          "metadata": {},
          "execution_count": 74
        }
      ]
    },
    {
      "cell_type": "code",
      "source": [
        "import re\n",
        "\n",
        "def extract_product_info(meta_tags):\n",
        "    product_info = \"\"\n",
        "    for meta_tag in meta_tags:\n",
        "        if 'og:title' in meta_tag:\n",
        "            product_info += f\"\\n ***Title: {meta_tag['og:title']}\\n\"\n",
        "        if 'og:description' in meta_tag:\n",
        "            product_info += f\"Description: {meta_tag['og:description']}\\n\"\n",
        "        if 'og:price:amount' in meta_tag and 'og:price:currency' in meta_tag:\n",
        "            product_info += f\"Price: {meta_tag['og:price:amount']} {meta_tag['og:price:currency']}\\n\"\n",
        "        if 'og:image' in meta_tag:\n",
        "                if len(meta_tag['og:image']) <= 200:  # Check if URL length is less than or equal to 200\n",
        "                    product_info += f\"Image URL: {meta_tag['og:image']} \\n\"\n",
        "        if 'og:url' in meta_tag:\n",
        "            product_info += f\"URL: {meta_tag['og:url']} \\n\"\n",
        "            # Call function to extract availability information\n",
        "            availability_info = extract_availability(meta_tag['og:url'])\n",
        "            product_info += f\"{availability_info}\\n\"\n",
        "            # Extract ASIN from URL if it's an Amazon link\n",
        "            asin_match = re.search(r'/dp/(\\w+)', meta_tag['og:url'])\n",
        "            if asin_match:\n",
        "                product_info += f\"ASIN: {asin_match.group(1)} \\n\"\n",
        "        if 'og:site_name' in meta_tag:\n",
        "            product_info += f\"Site Name: {meta_tag['og:site_name']} \\n\"\n",
        "        if 'og:availability' in meta_tag:\n",
        "            product_info += f\"Availability: {meta_tag['og:availability']} \\n\"\n",
        "        if 'og:type' in meta_tag:\n",
        "                product_info += f\"type: {meta_tag['og:type']} \\n\"\n",
        "        else:\n",
        "          product_info += f\"type: text \\n\"\n",
        "    return product_info\n",
        "\n",
        "# Example usage:\n",
        "# meta_tags = [{'apple-itunes-app': 'app-id=529356019, app-argument=https://www.crateandbarrel.com/apotheke-canvas-scented-3-wick-candle/s569504',\n",
        "#  'og:image': 'https://cb.scene7.com/is/image/Crate/ApothekeCnvs3WickCandleSSF23', 'og:type': 'product', 'og:image:alt': 'Apotheke Canvas-Scented 3-Wick Candle',\n",
        "#   'twitter:card': 'summary_large_image', 'twitter:title': 'Apotheke Canvas-Scented 3-Wick Candle + Reviews | Crate & Barrel', 'og:site_name': 'Crate & Barrel', 'og:availability':\n",
        "#    'InStock', 'og:price:amount': '$78.00', 'author': 'Crate & Barrel', 'og:title': 'Apotheke Canvas-Scented 3-Wick Candle + Reviews | Crate & Barrel', 'og:price:currency': 'USD', 'language':\n",
        "#     'English', 'og:description': 'Shop Apotheke Canvas-Scented 3-Wick Candle.  This hand-poured candle fills the room with clean, refreshing scent.  Infused with essences of crisp linen, white musk,\n",
        "#      lily of the valley and dew drop, the soy-blend wax candle burns for many hours releasing a sweet, fresh fragrance.', 'og:price:standard_amount': '$78.00', 'twitter:site': '@CrateandBarrel',\n",
        "#      'viewport': 'width=device-width, initial-scale=1.0', 'fb:admins': '1769841725', 'og:url': 'https://www.amazon.com/dp/B09RTPD6ZN/ref=tsm_1_fb_lk'}]\n",
        "# product_info = extract_product_info(meta_tags)\n",
        "# print(product_info)"
      ],
      "metadata": {
        "id": "XAziLz2Tu2x4"
      },
      "execution_count": 9,
      "outputs": []
    },
    {
      "cell_type": "markdown",
      "source": [
        "# Google Search API"
      ],
      "metadata": {
        "id": "g7I2-4zj--CF"
      }
    },
    {
      "cell_type": "code",
      "source": [
        "from googleapiclient.discovery import build\n",
        "\n",
        "API_KEY = userdata.get('GOOGLE_SEARCH_API')\n",
        "# os.environ[\"GOOGLE_CSE_ID\"] = userdata.get('GOOGLE_CSE_ID')\n",
        "\n",
        "service = build(\"customsearch\", \"v1\", developerKey=API_KEY)\n",
        "# clientProd = build(\"shopping\", \"v1\", developerKey=API_KEY)"
      ],
      "metadata": {
        "id": "BR7JRWrw_Qc5"
      },
      "execution_count": 10,
      "outputs": []
    },
    {
      "cell_type": "code",
      "source": [
        "def search_google(query):\n",
        "    \"\"\"\n",
        "    Performs a custom search  using the Google Custom Search API.\n",
        "\n",
        "    Args:\n",
        "        query (str): The search query to use.\n",
        "        num_results (int, optional): The number of image search results to return (default: 3).\n",
        "\n",
        "    Returns:\n",
        "        str: A string containing information about the image search results. Each result includes the image URL and its corresponding link.\n",
        "    \"\"\"\n",
        "    # user_query= extract_text_between_hashes(query)\n",
        "    results = service.cse().list(\n",
        "        q=query, cx=userdata.get('GOOGLE_CSE_ID'),  # Replace with your custom search engine ID\n",
        "        # searchType=\"image\",  # Specify image search\n",
        "        num=3\n",
        "    ).execute()\n",
        "\n",
        "    search_results = \" \"\n",
        "    for item in results.get(\"items\", []):\n",
        "        # for key, value in item.items():\n",
        "        #   print(\"\\033[32m\" + f\"{key}: {value}\" + \"\\033[0m\")\n",
        "        image_url = item[\"pagemap\"][\"cse_image\"][0][\"src\"]\n",
        "        # print(item[\"pagemap\"][\"metatags\"])\n",
        "        # search_results.append({\"link\":item[\"link\"] ,\n",
        "        #                       \"title\": item[\"title\"] ,\n",
        "        #                       \"snippets\":item[\"snippet\"],\n",
        "        #                       \"image\": image_url,\n",
        "        #                       \"meta\": extract_product_info(item[\"pagemap\"][\"metatags\"])})\n",
        "        search_results += extract_product_info(item[\"pagemap\"][\"metatags\"])\n",
        "        search_results += f\"image2: {image_url} \\n\"\n",
        "        search_results += f\"link: {item['link']}\"\n",
        "\n",
        "    len(search_results)\n",
        "    return search_results\n",
        "\n",
        "# Example usage:\n",
        "image_results = search_google(\"Apotheke 3 wick candles collection price images\")\n",
        "# image_results\n",
        "print(image_results)"
      ],
      "metadata": {
        "id": "OOYvjSbUvXRc",
        "colab": {
          "base_uri": "https://localhost:8080/"
        },
        "outputId": "032127d9-a1f9-4e21-abb3-92af45f9c6df"
      },
      "execution_count": 97,
      "outputs": [
        {
          "output_type": "stream",
          "name": "stdout",
          "text": [
            " \n",
            " ***Title: Apotheke 3-Wick Candles Collection\n",
            "Description: Captivating Fragrance: Transform any living space with the unforgettable scent of Charcoal 3-Wick Candle from APOTHEKE. Our candles are hand poured and made with a proprietary blend of essential and perfume-grade oils for a long-lasting fragrance. Each 26 oz candle burns for approximately 120 - 1...\n",
            "URL: https://www.amazon.com/dp/B07PMY9PK6/ref=tsm_1_fb_lk \n",
            "Availability: In Stock\n",
            "ASIN: B07PMY9PK6 \n",
            "type: text \n",
            "image2: https://m.media-amazon.com/images/I/51PyziKMJdL._AC_UF894,1000_QL80_.jpg \n",
            "link: https://www.amazon.com/Scented-Candles-Home-Soy-Wax-Jar-Candle/dp/B07PMY9PK6\n",
            " ***Title: 1 Hotels Signature Kindling Candle\n",
            "Description: An aromatic bouquet of exotic eucalyptus leaves and sultry cedar wood meld together with a transparent Oakwood to create an uplifting impression. While a base of sheer musk and earthy tree moss impart a touch of nature’s luxury. Available in multiple sizes:  - 2oz Votive - 9oz 1 Wick - 28oz 3 Wick\n",
            "Price: 32.00 USD\n",
            "Image URL: http://shop.1hotels.com/cdn/shop/files/1HCandle1_1200x1200.jpg?v=1682705341 \n",
            "URL: https://shop.1hotels.com/products/1-hotels-signature-kindling-candle \n",
            "Availability: Unknown\n",
            "Site Name: 1 Hotels Goodthings \n",
            "type: product \n",
            "image2: http://shop.1hotels.com/cdn/shop/files/1HCandle1_1200x1200.jpg?v=1682705341 \n",
            "link: https://shop.1hotels.com/products/1-hotels-signature-kindling-candle\n",
            " ***Title: APOTHEKE Market Collection Luxury Scented 3-Wick Jar Candle, Purple Basil, 32 oz - Basil, Ginger Lime & Lily of The Valley Scent, Strong Fragrance, Aromatherapy, Long Lasting, Hand Poured in USA, Soy\n",
            "Description: APOTHEKE Luxury Jar Candles Purple Basil - 32 Ounce 3-Wick Jar Candle SCENT PROFILE: Purple basil, spicy ginger and juicy lime zest mingle with hints of lily of the valley Our candles are hand-poured with perfume-grade fragrance oils and a high quality soy wax blend. Each scent is formulated with...\n",
            "URL: https://www.amazon.com/dp/B09RTPD6ZN/ref=tsm_1_fb_lk \n",
            "Availability: Unknown\n",
            "ASIN: B09RTPD6ZN \n",
            "type: text \n",
            "image2: https://m.media-amazon.com/images/I/618bD-pCyRL._AC_UF894,1000_QL80_.jpg \n",
            "link: https://www.amazon.com/APOTHEKE-Market-Collection-Luxury-Scented/dp/B09RTPD6ZN\n"
          ]
        }
      ]
    },
    {
      "cell_type": "code",
      "source": [
        "def combined_scraped_api_search(query):\n",
        "  scraped_results = google_scraper(query)\n",
        "  search_api_results = search_google(query)\n",
        "  return f\"\"\"{scraped_results} \\n {search_api_results} \"\"\"\n"
      ],
      "metadata": {
        "id": "aORCC_-FG4kh"
      },
      "execution_count": 98,
      "outputs": []
    },
    {
      "cell_type": "markdown",
      "source": [
        "# RAG"
      ],
      "metadata": {
        "id": "HdQAguEtvM-5"
      }
    },
    {
      "cell_type": "code",
      "source": [
        "column =  \"Apotheke 3 wick candles collection\""
      ],
      "metadata": {
        "id": "Wg6y5nTB4N-l"
      },
      "execution_count": 13,
      "outputs": []
    },
    {
      "cell_type": "code",
      "source": [
        "google_scraper(column)"
      ],
      "metadata": {
        "colab": {
          "base_uri": "https://localhost:8080/",
          "height": 109
        },
        "id": "t2WBujM50Xge",
        "outputId": "1f3b690d-6caf-44ed-dbc4-a704e8756692"
      },
      "execution_count": 19,
      "outputs": [
        {
          "output_type": "execute_result",
          "data": {
            "text/plain": [
              "'Skip to main contentShop by categoryShop by categoryEnter your search keywordAll CategoriesAdvancedHi (Sign into bid or buy)Daily DealsBrand OutletGift CardsHelp & ContactSellWatchlistExpand Watch ListLoading...Sign into see your user informationMy eBayExpand My eBaySummaryRecently ViewedBids/OffersWatchlistPurchase HistoryBuy AgainSellingSaved SearchesSaved SellersMy GarageSizesMessagesCollection betaThe eBay vaultNotificationExpand CartLoading...Something went wrong. View cart for details.{\"delay\": 300}Back to home page|Listed in category:breadcrumbHome & GardenCandles & Home FragranceCandlesShare|Add to WatchlistPicture 1 of 7Picture 1 of 7Have one to sell?Sell nowApotheke 3-Wick Candles Collection CharcoalDizon Group(9552)98.3% positiveSeller\\'s other itemsSeller\\'s other itemsContact sellerUS $109.95No Interest if paid in full in 6 mo on $99+ withPayPal Credit*Condition:NewNewQuantity:5 availableBuy It NowApotheke 3-Wick Candles Collection CharcoalSign in to check outCheck out as guestAdd to cartAdd to watchlistOops! Looks like we\\'re having trouble connecting to our server.Refresh your browser window to try again.Refresh BrowserBreathe easy.Free shipping and returns.Shipping:FreeStandard Shipping.See detailsfor shippingLocated in: Lexington, Kentucky, United StatesDelivery:Estimated betweenTue, Mar 19andThu, Mar 21to51503Delivery time is estimated using our proprietary method which is based on the buyer\\'s proximity to the item location, the shipping service selected, the seller\\'s shipping history, and other factors. Delivery times may vary, especially during peak periods.Returns:30 days returns.Seller pays for return shipping.See details- for more information about returnsPayments:*No Interest if paid in full in 6 months on $99+.See terms and apply now- for PayPal Credit, opens in a new window or tabEarn up to 5x points when you use your eBay Mastercard.Learn moreabout earning points with eBay MastercardShop with confidenceeBay Money Back GuaranteeGet the item you ordered or your money back.Learn moreeBay Money Back Guarantee - opens new window or tabReport this itemReport this item - opens in new window or tabAbout this itemShipping, returns, and paymentsSeller assumes all responsibility for this listing.eBay item number:155928752194Last updated onMar 10, 2024 19:41:24 PDTView all revisionsView all revisionsItem specificsConditionNew: A brand-new, unused, unopened, undamaged item in its original packaging (where packaging is ...Read moreabout the conditionNew: A brand-new, unused, unopened, undamaged item in its original packaging (where packaging is applicable). Packaging should be the same as what is found in a retail store, unless the item is handmade or was packaged by the manufacturer in non-retail packaging, such as an unprinted box or plastic bag. See the seller\\'s listing for full details.See all condition definitionsopens in a new window or tabEAN0602573896181MPNCHAR-CAN-3WickUPC602573896181BrandAPOTHEKEScentCharcoalTypeDoes Not ApplyItem description from the sellerSeller assumes all responsibility for this listing.eBay item number:155928752194Last updated onMar 10, 2024 19:41:24 PDTView all revisionsView all revisionsShipping and handlingItem location:Lexington, Kentucky, United StatesShips to:Afghanistan, Albania, Algeria, Andorra, Angola, Anguilla, Antigua and Barbuda, Argentina, Armenia, Aruba, Australia, Austria, Azerbaijan Republic, Bahamas, Bahrain, Bangladesh, Belgium, Belize, Benin, Bermuda, Bhutan, Bolivia, Bosnia and Herzegovina, Botswana, Brazil, Brunei Darussalam, Bulgaria, Burkina Faso, Burundi, Cambodia, Cameroon, Canada, Cape Verde Islands, Cayman Islands, Central African Republic, Chad, Chile, China, Colombia, Costa Rica, Cyprus, Czech Republic, Cte d\\'Ivoire (Ivory Coast), Democratic Republic of the Congo, Denmark, Djibouti, Dominican Republic, Ecuador, Egypt, El Salvador, Equatorial Guinea, Eritrea, Estonia, Ethiopia, Fiji, Finland, France, Gabon Republic, Gambia, Georgia, Germany, Ghana, Gibraltar, Greece, Greenland, Grenada, Guatemala, Guinea, Guinea-Bissau, Guyana, Haiti, Honduras, Hong Kong, Hungary, Iceland, India, Indonesia, Ireland, Italy, Jamaica, Japan, Jordan, Kazakhstan, Kenya, Kiribati, Kuwait, Kyrgyzstan, Laos, Latvia, Lebanon, Lesotho, Liberia, Liechtenstein, Lithuania, Luxembourg, Macau, Macedonia, Madagascar, Malawi, Malaysia, Maldives, Mali, Malta, Mauritania, Mauritius, Mexico, Moldova, Monaco, Mongolia, Montenegro, Montserrat, Morocco, Mozambique, Namibia, Nauru, Nepal, Netherlands, New Zealand, Nicaragua, Niger, Nigeria, Norway, Oman, Pakistan, Panama, Papua New Guinea, Paraguay, Peru, Philippines, Poland, Portugal, Qatar, Republic of Croatia, Republic of the Congo, Romania, Rwanda, Saint Kitts-Nevis, Saint Lucia, Saint Vincent and the Grenadines, San Marino, Saudi Arabia, Senegal, Serbia, Seychelles, Sierra Leone, Singapore, Slovakia, Slovenia, Solomon Islands, South Africa, South Korea, Spain, Sri Lanka, Suriname, Swaziland, Sweden, Switzerland, Taiwan, Tajikistan, Tanzania, Thailand, Togo, Tonga, Trinidad and Tobago, Tunisia, Turkey, Turkmenistan, Turks and Caicos Islands, Uganda, United Arab Emirates, United Kingdom, United States, Uruguay, Uzbekistan, Vanuatu, Vatican City State, Vietnam, Wallis and Futuna, Western Samoa, Yemen, Zambia, ZimbabweExcludes:PO Box, APO/FPO, Alaska/Hawaii, Barbados, French Guiana, French Polynesia, Guadeloupe, Libya, Martinique, New Caledonia, Reunion, Russian Federation, US Protectorates, Ukraine, VenezuelaQuantity:Change country:-Select-AfghanistanAlbaniaAlgeriaAndorraAngolaAnguillaAntigua and BarbudaArgentinaArmeniaArubaAustraliaAustriaAzerbaijan RepublicBahamasBahrainBangladeshBelgiumBelizeBeninBermudaBhutanBoliviaBosnia and HerzegovinaBotswanaBrazilBrunei DarussalamBulgariaBurkina FasoBurundiCambodiaCameroonCanadaCape Verde IslandsCayman IslandsCentral African RepublicChadChileChinaColombiaCosta RicaCyprusCzech RepublicCte d\\'Ivoire (Ivory Coast)Democratic Republic of the CongoDenmarkDjiboutiDominican RepublicEcuadorEgyptEl SalvadorEquatorial GuineaEritreaEstoniaEthiopiaFijiFinlandFranceGabon RepublicGambiaGeorgiaGermanyGhanaGibraltarGreeceGreenlandGrenadaGuatemalaGuineaGuinea-BissauGuyanaHaitiHondurasHong KongHungaryIcelandIndiaIndonesiaIrelandItalyJamaicaJapanJordanKazakhstanKenyaKiribatiKuwaitKyrgyzstanLaosLatviaLebanonLesothoLiberiaLiechtensteinLithuaniaLuxembourgMacauMacedoniaMadagascarMalawiMalaysiaMaldivesMaliMaltaMauritaniaMauritiusMexicoMoldovaMonacoMongoliaMontenegroMontserratMoroccoMozambiqueNamibiaNauruNepalNetherlandsNew ZealandNicaraguaNigerNigeriaNorwayOmanPakistanPanamaPapua New GuineaParaguayPeruPhilippinesPolandPortugalQatarRepublic of CroatiaRepublic of the CongoRomaniaRwandaSaint Kitts-NevisSaint LuciaSaint Vincent and the GrenadinesSan MarinoSaudi ArabiaSenegalSerbiaSeychellesSierra LeoneSingaporeSlovakiaSloveniaSolomon IslandsSouth AfricaSouth KoreaSpainSri LankaSurinameSwazilandSwedenSwitzerlandTaiwanTajikistanTanzaniaThailandTogoTongaTrinidad and TobagoTunisiaTurkeyTurkmenistanTurks and Caicos IslandsUgandaUnited Arab EmiratesUnited KingdomUnited StatesUruguayUzbekistanVanuatuVatican City StateVietnamWallis and FutunaWestern SamoaYemenZambiaZimbabweZIP Code:Get RatesShipping and handlingEach additional itemToServiceDelivery*See Delivery notesFree shippingFreeUnited StatesStandard ShippingEstimated betweenTue, Mar 19andThu, Mar 21to51503*Estimated delivery dates- opens in a new window or tabinclude seller\\'s handling time, origin ZIP Code, destination ZIP Code and time of acceptance and will depend on shipping service selected and receipt of cleared payment. Delivery times may vary, especially during peak periods.Notes - Delivery *Estimated delivery dates include seller\\'s handling time, origin ZIP Code, destination ZIP Code and time of acceptance and will depend on shipping service selected and receipt of cleared payment. Delivery times may vary, especially during peak periods.Handling timeWill usually ship within 3 business days of receiving cleared payment.TaxesTaxes may be applicable at checkout.Learn moreabout paying tax on ebay.Return policyAfter receiving the item, contact seller withinRefund will be given asReturn shipping30 daysMoney BackSeller pays for return shippingRefer toeBay Return policyopens in a new tab or windowfor more details. You are covered by theeBay Money Back Guaranteeopens in a new tab or windowif you receive an item that is not as described in the listing.Payment detailsPayment methodsSpecial financing availableSelect PayPal Credit at checkout to have the option to pay over time.Qualifying purchases could enjoy No Interest if paid in full in 6 months on purchases of $99 or more. Other offers may also be available.Interest will be charged to your account from the purchase date if the balance is not paid in full within 6 months. Minimum monthly payments are required. Subject to credit approval.See terms- for PayPal Credit, opens in a new window or tabThe PayPal Credit account is issued by Synchrony Bank.Dizon Group98.3%Positive Feedback34Kitems soldVisit storeContactSave sellerJoined Mar 2003Detailed seller ratingsAverage for the last 12 monthsAccurate description4.9Reasonable shipping cost5.0Shipping speed4.9Communication4.9Seller feedback(9,235)y***_ (140)- Feedback left by buyer.Past 6 monthsVerified purchaseI received a good quality item for a low price. Shipping was super-fast. My item arrived in a cute Christmas box, suitable for re use. Seller also thoughtfully included a shiny Christmas card. I enjoyed the personal touch!DomeStar Christmas Hat, Funny Hat Novelty Santa Hat Crazy Hats Elf Hat Santa ... (#155297176458)-***i (6606)- Feedback left by buyer.Past 6 monthsVerified purchasePacked to secure fast and safe delivery, smooth transaction, good communication, seller recommended!Mandy\\'s 20pcs Light Pink Flowers Artificial Calla Lily Silk Flowers 13.4\" for... (#155513741660)o***t (28)- Feedback left by buyer.Past monthVerified purchaseBought item as a gift, so I can\\'t really speak for the item. However, the seller shipped it the very same day I purchased it! It appears to be packaged well, and arrived more quickly than expected. I\\'ll buy from this seller again.MTM CRC Gun Cleaning Rod Case Red (#162971238974)See all feedbackProduct ratings and reviewsLearn moreWrite a reviewNo ratings or reviews yetBe the first towrite the review.Back to home pageReturn to topMore to explore :Candle 3-Wick Candle Holders & Accessories,3-Wick Candle Metal Candle Holders & Accessories,Bath & Body Works Candle 3-Wick Candle Holders & Accessories,Large 3-Wick Candle Holders & Accessories,Candle Wick Cutters,Multiple Wicks Dcor Candles,Brass Candle Wick Cutters,Yankee Candle Wicks Cutters Candle Holders & Accessories,Multiple Wicks VOLUSPA Dcor Candles,Air Wick Jars/Container CandlesRelated Searchesyankee candleAdditional site navigationAbout eBayAnnouncementsCommunitySecurity CenterSeller CenterPoliciesAffiliatesHelp & ContactSite MapCopyright  1995-2024 eBay Inc. All Rights Reserved.Accessibility,User Agreement,Privacy,Payments Terms of Use,Cookies,CA Privacy Notice,Your Privacy ChoicesandAdChoice ***Title: Apotheke 3-Wick Candles Collection Charcoal  | eBay Description: Apotheke 3-Wick Candles Collection. - Manufacturer \\u200f : \\u200e APOTHEKE. - Manufacturer: \\u200eAPOTHEKE. - Scent: Charcoal. - Scent: \\u200eCharcoal. Product Information. - Part Number: \\u200eCHAR-CAN-3Wick. - Date First Available \\u200f : \\u200e March 16, 2019. Image URL: https://i.ebayimg.com/images/g/EesAAOSwtkJlbm4r/s-l400.jpg URL: https://www.ebay.com/itm/155928752194 Availability: Unknown Site Name: eBay type: ebay-objects:item Images: ,https://i.ebayimg.com/images/g/EesAAOSwtkJlbm4r/s-l1600.jpg ***Skip to main content.usAllSelect the department you want to search inAll DepartmentsAlexa SkillsAll The Best PetsAmazon ClinicAmazon DevicesAmazon FreshAmazon PharmacyAmazon WarehouseAppliancesApps & GamesArts, Crafts & SewingAudible Books & OriginalsAutomotive Parts & AccessoriesBabyBartell\\'sBeauty & Personal CareBooksBristol FarmsCardenasCards SupermarketCDs & VinylCell Phones & AccessoriesClothing, Shoes & JewelryWomenMenGirlsBoysBabyCollectibles & Fine ArtComputersCredit and Payment CardsDigital MusicElectronicsFresh ThymeGarden & OutdoorGift CardsGrocery & Gourmet FoodHandmadeHealth, Household & Baby CareHome & Business ServicesHome & KitchenIndustrial & ScientificJust for PrimeKegNBottleKindle StoreLuckyLuggage & Travel GearLuxury StoresMagazine SubscriptionsMission Wine & SpiritsMovies & TVMusical InstrumentsOffice ProductsPet Food ExpressPet SuppliesPremium BeautyPrime VideoRite AidSave MartSmart HomeSoftwareSousa\\'s Wine & LiquorsSports & OutdoorsSubscribe & SaveSubscription BoxesSurdyk\\'s Liquor & Cheese ShopTools & Home ImprovementToys & GamesUnder $10Video GamesWeisWhole Foods MarketSearch AmazonENHelloAccount & ListsReturns& OrdersCartAllDisability Customer SupportMedical CareGroceriesBest SellersAmazon BasicsNew ReleasesCustomer ServiceMusicToday\\'s DealsRegistryBooksAmazon HomePharmacyGift CardsFashionLuxury StoresSmart HomeCouponsSellToys & GamesFind a GiftComputersAutomotiveHome ImprovementHousehold, Health & Baby CareBeauty & Personal CarePet SuppliesVideo GamesWorks with AlexaSports & OutdoorsHandmadeHealth & HouseholdHealth CareAlternative MedicineAromatherapyCandlesBuy new: To see product details, add this item to your cart.FREE ReturnsReturn this item for freeFree returns are available for the shipping address you chose. You can return the item for any reason in new and unused condition: no shipping chargesLearn more about free returns.How to return the item?Go to your orders and start the returnSelect the return methodShip it!Ships from:AmazonSold by:APOTHEKETo see product details, add this item to your cart. You can always remove it later.FREE ReturnsReturn this item for freeFree returns are available for the shipping address you chose. You can return the item for any reason in new and unused condition: no shipping chargesLearn more about free returns.How to return the item?Go to your orders and start the returnSelect the return methodShip it!Select delivery locationQuantity:123456789101112131415161718192021222324252627282930Quantity:1Add to CartBuy NowEnhancements you chose aren\\'t available for this seller.DetailsTo add the following enhancements to your purchase, choose a different seller.%cardName%${cardName} not available for the seller you chose${cardName} unavailable for quantities greater than ${maxQuantity}.Ships fromAmazonShips fromAmazonSold byAPOTHEKESold byAPOTHEKEReturnsEligible for Return, Refund or Replacement within 30 days of receiptEligible for Return, Refund or Replacement within 30 days of receiptThis item can be returned in its original condition for a full refund or replacement within 30 days of receipt.Read full return policyReturnsEligible for Return, Refund or Replacement within 30 days of receiptThis item can be returned in its original condition for a full refund or replacement within 30 days of receipt.Read full return policyPaymentSecure transactionYour transaction is secureWe work hard to protect your security and privacy. Our payment security system encrypts your information during transmission. We dont share your credit card details with third-party sellers, and we dont sell your information to others.Learn morePaymentSecure transactionWe work hard to protect your security and privacy. Our payment security system encrypts your information during transmission. We dont share your credit card details with third-party sellers, and we dont sell your information to others.Learn moreCustomer ServiceAmazonCustomer ServiceAmazonDetailsSee moreAdd a gift receipt for easy returnsTo see product details, add this item to your cart. You can always remove it later.Add to ListAdded toUnable to add item to List. Please try again.Sorry, there was a problem.There was an error retrieving your Wish Lists. Please try again.Sorry, there was a problem.List unavailable.5 VIDEOSApotheke Candles, Soaps & LotionsAPOTHEKEImage UnavailableImage not available forColor:To view this video downloadFlash PlayerVIDEOS360 VIEWIMAGESApotheke 3-Wick Candles CollectionVisit the APOTHEKE Store4.24.2 out of 5 stars147 ratings|Search this page50+ bought in past monthTo see product details, add this item to your cart. You can always remove it later.To see product details, add this item to your cart. You can always remove it later.To see product details, add this item to your cart. You can always remove it later.Coupon:Apply 5% couponShop items|TermsCoupon:Save an extra 5% on your first Subscribe and Save order.Shop items|TermsCoupon:Apply 5% couponShop items|TermsEligible for Return, Refund or Replacement within 30 days of receiptThis item can be returned in its original condition for a full refund or replacement within 30 days of receipt.Read full return policyScent:CharcoalBlack Iris OakCanvasCedarwood GingerCharcoalCharcoal RougeEarl Grey BittersLemon Meyer And MintOrange Blossom NeroliPurple BasilSaffron VanillaSantal Rock RoseSea Salt GrapefruitStrawberry LimeWhite VetiverPurchase options and add-onsBrandAPOTHEKEProduct Dimensions5.5\"W x 5.25\"HItem Weight11.04 ouncesNumber of Items1ScentCharcoalAre Batteries IncludedNoIndoor/Outdoor UsageIndoorSpecific Uses For ProductAromatherapyShapeRoundMaterialSoy WaxSee moreAbout this itemCaptivating Fragrance: Transform any living space with the unforgettable scent of Charcoal 3-Wick Candle from APOTHEKE. Our candles are hand poured and made with a proprietary blend of essential and perfume-grade oils for a long-lasting fragrance. Each 26 oz candle burns for approximately 120 - 140 hours. Dimensions: 5 inches x 4.8 inches.The Fragrance: Charcoal combines cedarwood and sandalwood with smoky embers, burnt maple, and a hint of raspberry for a broody and full-bodied fragrance.Scents That Last: We know that fragrance can transform any space and elevate every mood. That\\'s why we work with world-renowned perfumers to make scents that last. All APOTHEKE candles contain 15%-18% fragrance oils  over three times the amount found in typical scented candles.We Keep It Clean: Our candles are made with a soy wax blend and cotton wick, making them a safer choice for your home. We use the best practices to ensure that our candles are plant and mineral based and cruelty free. APOTHEKE products are sulfate and phthalate free, vegan, non-GMO, and gentle for sensitive skin. Proudly made in our factory in Brooklyn, NY.With Love, From Brooklyn: Starting in 2011 as a personal exploration of scent formulation and soapmaking in a Brooklyn kitchen, founder Chrissy Fichtl has grown APOTHEKE into a renowned luxury lifestyle fragrance brand. True to its Brooklyn roots and contemporary ethos, APOTHEKE believes that simplicity is the ultimate expression of luxury.See more product detailsAdditional DetailsSmall BusinessShop products from small business brands sold in Amazons store. Discover more about the small businesses partnering with Amazon and Amazons commitment to empowering them.Learn moreSmall BusinessThis product is from a small business brand. Support small.Learn moreReport an issue with this product or sellerFrequently bought togetherThis item:Apotheke 3-Wick Candles Collection$78.00$78.00($2.44/Ounce)Get it as soon asMonday, Mar 18In StockSold by APOTHEKE and ships from Amazon Fulfillment.+Apotheke Luxury Scented Candles for Home, Charcoal - Aromatherapy Jar Candle with Soy Wax Blend$44.00$44.00Get it as soon asMonday, Mar 18In StockSold by APOTHEKE and ships from Amazon Fulfillment.+APOTHEKE Liquid Soap - Plant-Based (10fl oz) - Made in The USA (Charcoal)$18.00$18.00($1.33/Fl Oz)Get it as soon asMonday, Mar 18In StockSold by APOTHEKE and ships from Amazon Fulfillment.Total price:To see our price, add these items to your cart.Try again!DetailsAdded to CartAdd all 3 to CartChoose items to buy together.Compare with similar itemsThis ItemAPOTHEKEApotheke 3-Wick Candles CollectionRecommendationsNEST FragrancesNEST New York Luxury Scented Votive Candle SetdummyAPOTHEKEApotheke Luxury Scented Candles for Home, Santal Rock Rose - Aromatherapy Jar Candle with Soy Wax BlenddummyBenevolence LA3 Wick Candles | Charcoal Scented Large Candle | 14.5 Oz Valentine Candles, Scented Candles for Men | Natural Candles for Women | 45 Hour Burn Long Lasting Candles, Bathroom CandledummyLulu Candles| Jasmine, Oud & Sandalwood | Luxury Scented Soy Jar Candle | Hand Poured in The USA | Highly Scented & Long Lasting (9 Oz.)dummyAPOTHEKEApotheke Luxury Scented Candles for Home, Charcoal - Aromatherapy Jar Candle with Soy Wax BlendTry again!DetailsAdded to CartAdd to CartTry again!DetailsAdded to CartAdd to CartTry again!DetailsAdded to CartAdd to CartTry again!DetailsAdded to CartAdd to CartTry again!DetailsAdded to CartAdd to CartTry again!DetailsAdded to CartAdd to CartPrice$78.00$78.00-15%$39.06$39.06List:$46.00$44.00$44.00$27.99$27.99$19.95$19.95$44.00$44.00DeliveryGet it as soon asMonday, Mar 18Get it as soon asMonday, Mar 18Get it as soon asMonday, Mar 18Get it as soon asMonday, Mar 18Get it as soon asMonday, Mar 18Get it as soon asMonday, Mar 18Customer Ratings4.24.2 out of 5 stars1474.64.6 out of 5 stars2864.34.3 out of 5 stars4534.24.2 out of 5 stars16,6124.34.3 out of 5 stars5,3544.34.3 out of 5 stars453Scent4.24.64.03.63.94.0Longevity4.14.04.33.74.04.3Value for money2.94.03.54.33.73.5Giftable3.43.63.94.03.6Sold ByAPOTHEKEAmazon.comAPOTHEKEBenevolence LALulucandlesAPOTHEKEscentCharcoalBamboo, Grapefruit, Moroccan Amber, Ocean Mist & Sea Salt, Amalfi Lemon & Mint, Wild Mint & EucalyptusSantal Rock RoseCharcoal - Black WaxJasmine, Oud & SandalwoodCharcoalunit count325.71114.511size3-WickOne Size1 EA14.5 oz - 3 wick9 Oz.11 ozmaterialSoy WaxGlassSoy WaxSoy Waxsynthetic, soy wax, Soy WaxSoy Waxspecific usesAromatherapyRelaxationScentedScentedScentedoperating time70 hours4 hours70 hours5 hours70 hoursspecial featureLong Lasting,Scented,Strong FragranceHighly Scented, Clean BurnLong Lasting,ScentedClean Burn, Long Burning, Scented, Essential Oils, Odor EliminatorHighly Scented, Long LastingLong Lasting,ScentedSimilar items that may deliver to you quicklyPage1of1Start overPage 1 of 1Previous pageApotheke Luxury Scented Candles for Home, Canvas - Aromatherapy Jar Candle with Soy Wax Blend4.3 out of 5 stars453Amazon\\'sChoicein Jar Candles$44.00$44.00Get it as soon asMonday, Mar 18FREE Shipping by AmazonApotheke Luxury Scented Candles for Home, Magnolia Bouquet - Aromatherapy Jar Candle with Soy Wax Blend4.3 out of 5 stars453$44.00$44.00($4.00/Ounce)Get it as soon asMonday, Mar 18FREE Shipping by AmazonBenevolence LA 3 Wick Candles | Charcoal Scented Large Candle | 14.5 Oz Valentine Candles, Scented Candles for Men | Natural Candles for Women | 45 Hour Burn Long Lasting Candles, Bathroom Candle4.2 out of 5 stars16,612$27.99$27.99($1.93/Fl Oz)Get it as soon asMonday, Mar 18FREE Shipping on orders over $35 shipped by AmazonApotheke 2-Wick Scented Candles for Home, Charcoal - 13 oz Long-Lasting Soy Wax Jar Candle, 60-70 Hours Burn Time - Notes of Cedarwood & Sandalwood, Smoky Embers, Burnt Maple, & Hint of Raspberry$62.00$62.00Get it as soon asMonday, Mar 18FREE Shipping by AmazonOnly 17 left in stock - order soon.Apotheke Luxury Scented Candles for Home, Amber Woods - Aromatherapy Jar Candle with Soy Wax Blend4.3 out of 5 stars453Amazon\\'sChoicein Aromatherapy Candles$44.00$44.00($4.00/Ounce)Get it as soon asMonday, Mar 18FREE Shipping by AmazonApotheke 3-Wick Candles (Black Iris Oak, 3-Wick)4.2 out of 5 stars147$78.00$78.00($2.44/Ounce)Get it as soon asMonday, Mar 18FREE Shipping by AmazonNext pageProduct informationTechnical DetailsBrandAPOTHEKEProduct Dimensions5.5\"W x 5.25\"HItem Weight11.04 ouncesNumber of Items1ScentCharcoalAre Batteries IncludedNoIndoor/Outdoor UsageIndoorSpecific Uses For ProductAromatherapyShapeRoundMaterialSoy WaxOccasionWedding, Father\\'s Day, BirthdaySeasonsAll SeasonSpecial FeatureLong Lasting,Scented,Strong FragrancePackage InformationJarUnit Count32 OunceManufacturerAPOTHEKEPart NumberCHAR-CAN-3WickItem Weight11 ouncesItem model numberCHAR-CAN-3WickSpecial FeaturesLong Lasting,Scented,Strong FragranceBatteries Included?NoBatteries Required?NoAdditional InformationASINB07PMY9PK6Customer Reviews4.24.2 out of 5 stars147 ratings4.2 out of 5 starsBest Sellers Rank#88,376 in Health & Household (See Top 100 in Health & Household)#323 inAromatherapy CandlesDate First AvailableMarch 16, 2019Warranty & SupportProduct Warranty:For warranty information about this product, pleaseclick hereFeedbackWould you like totell us about a lower price?Apotheke 3-Wick Candles CollectionShare:Found a lower price? Let us know. Although we can\\'t match every price reported, we\\'ll use your feedback to ensure that our prices remain competitive.Where did you see a lower price?Website (Online)URL:Price: ($)Shipping cost:  ($)Date of the price: 010203040506070809101112/01020304050607080910111213141516171819202122232425262728293031/Store (Offline)Store name:City:State:Please select provincePlease select provincePrice: ($)Date of the price: 010203040506070809101112/01020304050607080910111213141516171819202122232425262728293031/Pleasesign into provide feedback.Submit FeedbackProduct detailsProduct Dimensions  :  6 x 6 x 6 inches; 11.04 ouncesItem model number  :  CHAR-CAN-3WickDate First Available  :  March 16, 2019Manufacturer  :  APOTHEKEASIN  :  B07PMY9PK6Customer Reviews: 4.24.2 out of 5 stars147 ratingsExplore more recommendationsBrief content visible, double tap to read full content.Full content visible, double tap to read brief content.VideosPage1of1Start OverPage 1 of 1Previous pageVideos for this product1:14Click to play videoThe best gift all year long, a candle that lasts 120-150 hours!xAJohnsonVideos for this product1:08Click to play video#thisorthat aesthetic candle favoritesBonnies Favorite FindsVideos for this product0:52Click to play videoApotheke Candle Review!caseyyisfetchhVideos for this product0:08Click to play videosmells incredible, long lastingBonnies Favorite FindsVideos for this product0:22Click to play videoApotheke Candles, Soaps & LotionsAPOTHEKENext pageUpload your videoProduct DescriptionCANDLESOur candles are a combination of high-quality, perfume-grade fragrance in a vegan, soy wax blend. Our cruelty-free, hand-poured candles, available in our signature scents, will easily fill your whole living room.REED DIFFUSERYou control the fragrance level. The \\'set it and forget\\' it is doable with these fresh reed diffusers. If you are sensitive to fragrance just leave the reeds and flip them when you cant smell the fragrance anymore. If you love a strong fragrance, flip the reeds daily, or once a week! If you prefer a subtle scent, either use fewer reeds or flip less often. Either way - you control the scent throw!LIQUID SOAP AND LOTIONOur invigorating liquid soap is made using aloe vera, known for its anti-aging, moisturizing, and healing qualities.Our plant-based lotions blend aloe vera, essential oils, and natural botanicals for fast-absorbing moisture and light, refreshing fragranceFrom the brandPrevious pageBest SellersVisit the StoreCandlesVisit the StoreReed DiffusersVisit the StoreBody CareVisit the StoreNext pageImportant informationTo report an issue with this product or seller,click here.Related PostsPrevious pageLA JOLIE MUSE+ FollowDo you know how, every year, certain things leave you with a warm, fuzzy feeling that reminds you that the holiday season is near (maybe its a song or a movie)? Amber perfume is that feeling in a bottle, which explains why people will immediately flock to you when youre wearing it.See more Posts >GIFTAWAY+ FollowCoconut Mandarin Vanilla Scented Candle, woodwick candle, natural soy candle, aromatherapy candle scented, large decorative candle, relaxation candle, calming candle, unisex candle, soy cleansing candle, bathroom candle, candle woodwick, high end candles, decorative candles with lidSee more Posts >Hidden Label+ FollowCollect Muse colorful glass jar, light different candle everyday. Leave a comment to tell us your favourite one!See more Posts >Hearthfire Hygge+ FollowIlluminate your space with the enchanting glow of our Bubble CandleSee more Posts >Paddywax Candles+ FollowHygge - a quality of coziness and comfortable conviviality that engenders a feeling of contentment or well-being (regarded as a defining characteristic of Danish culture).See more Posts >Hyoola+ FollowOur White Three-Wick Pillar Candle burns for up to 146 hours and is made with lead-free cotton wicks! See more Posts >Thymes+ FollowDecorative and delicately crafted to bring forth warm light and the comforting, warm aroma of palo santo wood, amber, clary sage, benzoin resin and green fig.See more Posts >Teeken+ FollowWarm fragrant candles accompany you through this cold winter night#candle home scented#candle home gift set#candle gift home scented#candles for home scentedSee more Posts >Scentered+ FollowScentered Tips to Prevent Vacation Blues: 1. Get outside, even if it\\'s raining! The outdoors is the best way to lift your mood. 2. Reminisce about your summer memories 3. Make plans There are little things you can do throughout the year to stave off vacation blues. 4. Take up a hobby 5. Enjoy the quiet Summer can be a really busy time, which is great. But you can end up forgetting about your own self-care and well-being as you are always on the go. Enjoy relaxing in the bath and lighting a candle for some me time. #summer #summerblues #aromatherapySee more Posts >Benevolence LA+ Follow Illuminate Your Space with the Alluring Scent of Black Mulberry!  Elevate your senses with our luxurious Black Mulberry Scented Soy Wax Candle. See more Posts >Next pageLooking for specific info?Customer reviews4.2 out of 5 stars4.2 out of 5147 global ratings5 star70%4 star6%3 star5%2 star8%1 star10%How customer reviews and ratings workCustomer Reviews, including Product Star Ratings help customers to learn more about the product and decide whether it is the right product for them.To calculate the overall star rating and percentage breakdown by star, we dont use a simple average. Instead, our system considers things like how recent a review is and if the reviewer bought the item on Amazon. It also analyzed reviews to verify trustworthiness.Learn more how customers reviews work on AmazonView Image GalleryAmazon Customer5.0 out of 5 starsImages in this reviewReviews with imagesSee all photosPrevious pageNext pageAll photosAmazon Customer1 StarDEFECTIVE -- NO WICKS!!!!I bought this candle to give as a gift and only looked at it more closely when I was about to wrap it. To my great surprise and disappointment, this \"luxury\" three-wick candle was missing all its wicks! What shoddy quality control for such a pricey candle. And I missed the return window -- a frustrating shopping experience.MoreHideThank you for your feedbackCloseSorry, there was an errorCloseSorry we couldn\\'t load the reviewTry againSort reviews byTop reviewsMost recentTop reviewsTop reviews from the United StatesThere was a problem filtering reviews right now. Please try again later.Amazon Customer5.0 out of 5 starsSmells amazingReviewed in the United States on January 21, 2024Scent: CharcoalVerified PurchaseRepeat buy. Smells amazing. It does tunnel a bit so not a super clean burnRead more2 people found this helpfulHelpfulReportAmazon Customer5.0 out of 5 starsGreatest fragranceReviewed in the United States on March 7, 2023Scent: Sea Salt GrapefruitVerified PurchaseThe candle was a little pricey but the scent fills the room. I like to light a candle when Im working as well as cooking. Brought a diffuser also again a bit pricey but great fragrance not overpoweringRead more2 people found this helpfulHelpfulReportNatalie5.0 out of 5 starsSmells fantastic!Reviewed in the United States on July 19, 2023Scent: White VetiverVerified PurchaseGot this on sale during prime day. The smell is fantastic. Just as good as some of my crazy expensive D-que candles. The wicks do burn a little dirtier than Id like (black soot pools in all white candle), but for the price and the quality/throw of fragrance I absolutely give 5 stars!Read more4 people found this helpfulHelpfulReportJanet1.0 out of 5 starsWhat happened to the quality of your candlesReviewed in the United States on June 23, 2023Scent: White VetiverVerified PurchaseI absolutely love rather loved the white Vetiver candles.  I always purchased the 32 ounce three wick or the four wick  I believe its 98 ounce I cant remejmber what size your largest candle is it goes now for $198. I have purchased this three times in the last three months.  I have also been purchasing these candles from you for about four or five years your price keeps going up; your quality keeps going down. You will lose your client base. The quality of your candles has consistently gotten worse. It is very obvious you are using the old fashion way of making your candles where theres a lot of wax around three little candles.  The last three candles I have purchased  have problems keeping the wicks lit. I just purchased a candle, and only one wick out of three works.  The candles was  $78  I do not have a problem, paying for a quality item.  Based on what I am seeing and on the number of purchases I have made which are quite a few. I consider this to be an insult to your customers.  If you were going to reduce your quality of your candles, reduce your price, I could make a better candle than the candle that I just recently purchased through Amazon, which is yours.  It is extremely upsetting to have a company like yours allow themself to reduce their quality to the point that it is right now. I hope other customers will reach out to you and make you aware of how unhappy they are with your low quality which has been since Covid.  If you cant make a quality candle, reduce your price at least by 2/3rd. These candles used to be worth the price, but the quality of your candles now, they are not worth the price.  Its better to buy your own vetiver, yes, it is expensive, and and make your own candles because then at least you know, your wicks will work and they wont be made cheaply the way that you are now making them. These are no longer high-quality candles. They are not worth the price. I am really sorry to say that because I have enjoyed these candles tremendously.  You have ruined your company. You have ruined your companys  reputation by your lack of caring about the quality and service you are providing your customers. I will also be submitting this on your website.  When I first started purchasing your candles, I gave you five stars. Youre down to one star if there was a possibility of doing zero stars that is exactly what I would give you.  Paying $78 for a candle that is a three wick candle and only one wick is works and you can obviously see there are three little candles just filled with wax around them unlike the way you used to make them.  Your customers are noticing the downward spiral. Your company is taking in quality. You will lose them.Read more24 people found this helpfulHelpfulReportEOS Decorating5.0 out of 5 starsBetter then the restReviewed in the United States on January 2, 2024Scent: CharcoalVerified PurchaseThis candle is absolutely AMAZING! I\\'ve had it for about a month and use it multiple times a week.I was stewing on this product for a long while but couldn\\'t justify the price. $80 for a candle just seems outrageous! Finally, I made the decision to purchase it here and figured at worst, I would return it. I\\'ve heard from others that the scent reminds them of a sexy man, and I must concur. It truly is an amazing smell and it covers smells from cooked food to smoke  to so on.I use this in my bedroom and only have to light it for 30 minutes to 1 hour and it completely fills up the room, enters the hallway, and master bath. I haven\\'t made a dent in the candle and I suspect it\\'ll last me 6 months or more!  For reference, the bedroom size is about 40 ft by 20 ft. In order for me to get this kind of throw I would have to light 2 to 3 candles for hours on end, speaking specifically about the most popular brands. Because of this purchase, I decided to purchase the advent calendar from their site in order to sample a lot of their other fragrances and found some gems.  Some other smells that are fantastic are Earl Grey Bitters and Hinoki Lavender in their candle and reed diffusers.Their products definitely costs more then any other company I\\'ve seen but the quality is second to none.  They\\'re legit when they talk about the amount of fragrance oils, quality of the candles base, vessel, and so on.  As I\\'m writing this review I\\'m subscribing to another scent,  Earl Grey Bitters in the large 3 wick candle. This size candle is one of their better values if you enjoy the scent.Read more2 people found this helpfulHelpfulReportmihaela birca2.0 out of 5 starsNot worth the priceReviewed in the United States on February 16, 2024Scent: White VetiverVerified PurchaseThe candle looks great and the packaging was nice, but almost no scent. Disappointed about choosing this product to gift. Had it lit for a few hours and still cant feel anything. Bummer, could have chosen a cheaper option and avoid the embarrassment.Read moreOne person found this helpfulHelpfulReportThom Lundy5.0 out of 5 starsOne of my favorite candles!Reviewed in the United States on January 24, 2024Scent: CharcoalVerified PurchaseI am a candle maker, and this is one od a handful of candles I still buy regularly!  The scent is truly unisex and the design of the candle vessel is suitable to most design aesthetics.  Do yourself a favor and buy it - you wont be disappointed!Read moreOne person found this helpfulHelpfulReportSusan H.4.0 out of 5 starsUneven burnReviewed in the United States on February 18, 2024Scent: CharcoalVerified PurchaseEnjoyed the scent and it filled the living room area. Candle didn\\'t burn evenly and seemed like it could have used a fourth wick or the spacing was off. Purchased during a sale so wasn\\'t disappointed.Read moreHelpfulReportSee more reviewsTop reviews from other countriesBen J.5.0 out of 5 starsOutstanding candleReviewed in Australia on July 17, 2021Scent: CharcoalVerified PurchaseBeautiful quality.Read moreReportSee more reviewsTopAbout this itemSimilarProduct informationQuestionsReviewsBack to topEnglishUnited StatesConditions of UsePrivacy NoticeYour Ads Privacy Choices 1996-2024, Amazon.com, Inc. or its affiliatestype: text Images:  ***Content: Unknown on https://kannauj-fragrance.com/%3Fp%3Dqk/E512037.html ***type: text Images:  ***Skip to contentEnjoy complementary shipping on orders $100+ *Exclusions applyMenuCandles & DiffusersCandlesBest Selling FragranceClassic Candles2-Wick Ceramic Candles3-Wick CandlesFragrance BundlesDiscovery SetsMini CandlesTaper CandlesCandle AccessoriesDiffusersReed DiffusersRoom SpraysPura Smart Home DiffuserFragrance CardsSubscriptionsClassic Mystery Box SubscriptionPremium Mystery Box SubscriptionReed Diffuser RefillsFeaturedGift CardsAPOTHEKE x League Creative Co.APOTHEKE x MASTAPOTHEKE x SanctuaryBody CareBar SoapLiquid SoapLotionBody Care BundlesLiquid Soap RefillsFragrancesThe Signature CollectionApricot Red CurrantCanvasEarl Grey BittersHinoki LavenderSantal Rock RoseSea Salt GrapefruitTonka OakWild Mint and IvyWhite VetiverThe Charcoal Fragrance CollectionCharcoalCharcoal RougeThe Eden CollectionBlack Iris OakCedarwood GingerOrange Blossom NeroliSaffron VanillaFragrance FamiliesAromaticCitrusFloralFruityGourmandGreenWoodyAboutBlogCandle Buying GuideOur StoryVisit UsFind Your FragranceRewardsAccountSearchSearchBasket0CartClose navigationCandles & DiffusersCandlesBest Selling FragranceClassic Candles2-Wick Ceramic Candles3-Wick CandlesFragrance BundlesDiscovery SetsMini CandlesTaper CandlesCandle AccessoriesDiffusersReed DiffusersRoom SpraysPura Smart Home DiffuserFragrance CardsSubscriptionsClassic Mystery Box SubscriptionPremium Mystery Box SubscriptionReed Diffuser RefillsFeaturedGift CardsAPOTHEKE x League Creative Co.APOTHEKE x MASTAPOTHEKE x SanctuaryBody CareBar SoapLiquid SoapLotionBody Care BundlesLiquid Soap RefillsFragrancesThe Signature CollectionApricot Red CurrantCanvasEarl Grey BittersHinoki LavenderSantal Rock RoseSea Salt GrapefruitTonka OakWild Mint and IvyWhite VetiverThe Charcoal Fragrance CollectionCharcoalCharcoal RougeThe Eden CollectionBlack Iris OakCedarwood GingerOrange Blossom NeroliSaffron VanillaFragrance FamiliesAromaticCitrusFloralFruityGourmandGreenWoodyAboutBlogCandle Buying GuideOur StoryVisit UsFind Your FragranceRewardsAccountShow filtersPrice$$Product type3-Wick CandlesFragrance FamilyAromaticCitrusFloralFruityGourmandGreenWoodySort byBest sellingAlphabetically, A-ZAlphabetically, Z-APrice, low to highPrice, high to lowDate, old to newDate, new to oldSubmitQuick ViewCharcoal 3-Wick Candle$78.00Quick ViewCharcoal Rouge 3-Wick Candle$78.00Quick ViewWhite Vetiver 3-Wick Candle$78.00Quick ViewSea Salt Grapefruit 3-Wick Candle$78.00Quick ViewHinoki Lavender 3-Wick Candle$78.00Quick ViewCanvas 3-Wick Candle$78.00Quick ViewSantal Rock Rose 3-Wick Candle$78.00Quick ViewEarl Grey Bitters 3-Wick Candle$78.00Quick ViewOrange Blossom Neroli 3-Wick Candle$78.00Quick ViewBlack Iris Oak 3-Wick Candle$78.00Quick ViewCedarwood Ginger 3-Wick Candle$78.00Quick ViewSaffron Vanilla 3-Wick Candle$78.00Quick ViewTonka Oak 3-Wick Candle$78.00Quick ViewWild Mint and Ivy 3-Wick Candle$78.00Quick ViewApricot Red Currant 3-Wick Candle$78.00Follow UsYoutubeInstagramPinterestTwitterQuick LinksStore LocatorShipping & ReturnsAPOTHEKE RewardsBecome an AmbassadorBlogFAQPrivacyTerms & ConditionsMSRP/MAP PolicyApply for WholesaleContact UsSign up to receive exclusive discounts, stay up to date with the latest releases, and learn a little bit about... us!Right arrow longCurrencyUnited States (USD$)Australia(USD$)Austria(USD$)Belgium(USD$)Bulgaria(USD$)Canada(USD$)Czechia(USD$)Denmark(USD$)Estonia(USD$)Finland(USD$)France(USD$)Germany(USD$)Hong Kong SAR(USD$)Hungary(USD$)India(USD$)Ireland(USD$)Israel(USD$)Italy(USD$)Japan(USD$)Latvia(USD$)Lithuania(USD$)Luxembourg(USD$)Malaysia(USD$)Mexico(USD$)Monaco(USD$)Netherlands(USD$)New Zealand(USD$)Poland(USD$)Portugal(USD$)Romania(USD$)Saudi Arabia(USD$)Singapore(USD$)Slovakia(USD$)Slovenia(USD$)South Korea(USD$)Spain(USD$)Sweden(USD$)Switzerland(USD$)Taiwan(USD$)Thailand(USD$)Trkiye(USD$)United Arab Emirates(USD$)United Kingdom(USD$)United States(USD$) 2024APOTHEKE.Powered by ShopifyRight arrow long ***Title: 3-Wick Candles | APOTHEKE Description: Made with a premium soy wax blend and essential and perfume-grade fragrance oils, our luxury scented 3-wick candles are designed to provide a clean-burning and exceptional scent experience. Image URL: http:collections/3-wick-candles-681433.jpg URL: https://apothekeco.com/collections/3-wick-candles Availability: Unknown Site Name: APOTHEKE type: product.group Images: ,http://apothekeco.com/cdn/shop/collections/3-wick-candles-681433.jpg?v=1661870647&width=1950 ***Skip to main contentShop by categoryShop by categoryEnter your search keywordAll CategoriesAdvancedHi (Sign into bid or buy)Daily DealsBrand OutletGift CardsHelp & ContactSellWatchlistExpand Watch ListLoading...Sign into see your user informationMy eBayExpand My eBaySummaryRecently ViewedBids/OffersWatchlistPurchase HistoryBuy AgainSellingSaved SearchesSaved SellersMy GarageSizesMessagesCollection betaThe eBay vaultNotificationExpand CartLoading...Something went wrong. View cart for details.{\"delay\": 300}Back to home page|Listed in category:breadcrumbHome & GardenCandles & Home FragranceCandlesShare|Add to WatchlistPicture 1 of 6Picture 1 of 6Have one to sell?Sell nowApotheke 3-Wick Candles (Santal Rock Rose, 3-Wick) Santal Rock RoseDizon Group(9552)98.3% positiveSeller\\'s other itemsSeller\\'s other itemsContact sellerUS $109.97No Interest if paid in full in 6 mo on $99+ withPayPal Credit*Condition:NewNewQuantity:5 availableBuy It NowApotheke 3-Wick Candles (Santal Rock Rose, 3-Wick) Santal Rock RoseSign in to check outCheck out as guestAdd to cartAdd to watchlistOops! Looks like we\\'re having trouble connecting to our server.Refresh your browser window to try again.Refresh BrowserBreathe easy.Free shipping and returns.Shipping:FreeStandard Shipping.See detailsfor shippingLocated in: Lexington, Kentucky, United StatesDelivery:Estimated betweenTue, Mar 19andThu, Mar 21to51503Delivery time is estimated using our proprietary method which is based on the buyer\\'s proximity to the item location, the shipping service selected, the seller\\'s shipping history, and other factors. Delivery times may vary, especially during peak periods.Returns:30 days returns.Seller pays for return shipping.See details- for more information about returnsPayments:*No Interest if paid in full in 6 months on $99+.See terms and apply now- for PayPal Credit, opens in a new window or tabEarn up to 5x points when you use your eBay Mastercard.Learn moreabout earning points with eBay MastercardShop with confidenceeBay Money Back GuaranteeGet the item you ordered or your money back.Learn moreeBay Money Back Guarantee - opens new window or tabReport this itemReport this item - opens in new window or tabAbout this itemShipping, returns, and paymentsSeller assumes all responsibility for this listing.eBay item number:166479091656Last updated onDec 04, 2023 16:27:30 PSTView all revisionsView all revisionsItem specificsConditionNew: A brand-new, unused, unopened, undamaged item in its original packaging (where packaging is ...Read moreabout the conditionNew: A brand-new, unused, unopened, undamaged item in its original packaging (where packaging is applicable). Packaging should be the same as what is found in a retail store, unless the item is handmade or was packaged by the manufacturer in non-retail packaging, such as an unprinted box or plastic bag. See the seller\\'s listing for full details.See all condition definitionsopens in a new window or tabEAN0850015641602MPNSROCK-CAN-3WickUPC850015641602BrandAPOTHEKEScentSantal Rock RoseTypeDoes Not ApplyItem description from the sellerSeller assumes all responsibility for this listing.eBay item number:166479091656Last updated onDec 04, 2023 16:27:30 PSTView all revisionsView all revisionsShipping and handlingItem location:Lexington, Kentucky, United StatesShips to:Afghanistan, Albania, Algeria, Andorra, Angola, Anguilla, Antigua and Barbuda, Argentina, Armenia, Aruba, Australia, Azerbaijan Republic, Bahamas, Bahrain, Bangladesh, Belize, Benin, Bermuda, Bhutan, Bolivia, Bosnia and Herzegovina, Botswana, Brazil, Brunei Darussalam, Burkina Faso, Burundi, Cambodia, Cameroon, Canada, Cape Verde Islands, Cayman Islands, Central African Republic, Chad, Chile, China, Colombia, Costa Rica, Cte d\\'Ivoire (Ivory Coast), Democratic Republic of the Congo, Djibouti, Dominican Republic, Ecuador, Egypt, El Salvador, Equatorial Guinea, Eritrea, Ethiopia, Fiji, Gabon Republic, Gambia, Georgia, Ghana, Gibraltar, Grenada, Guatemala, Guinea, Guinea-Bissau, Guyana, Haiti, Honduras, Hong Kong, Iceland, India, Indonesia, Jamaica, Japan, Jordan, Kazakhstan, Kenya, Kiribati, Kuwait, Kyrgyzstan, Laos, Lebanon, Lesotho, Liberia, Liechtenstein, Macau, Macedonia, Madagascar, Malawi, Malaysia, Maldives, Mali, Mauritania, Mauritius, Mexico, Moldova, Mongolia, Montenegro, Montserrat, Morocco, Mozambique, Namibia, Nauru, Nepal, New Zealand, Nicaragua, Niger, Nigeria, Norway, Oman, Pakistan, Panama, Papua New Guinea, Paraguay, Peru, Philippines, Qatar, Republic of the Congo, Rwanda, Saint Helena, Saint Kitts-Nevis, Saint Lucia, Saint Pierre and Miquelon, Saint Vincent and the Grenadines, San Marino, Saudi Arabia, Senegal, Serbia, Seychelles, Sierra Leone, Singapore, Solomon Islands, South Africa, South Korea, Sri Lanka, Suriname, Swaziland, Switzerland, Taiwan, Tajikistan, Tanzania, Thailand, Togo, Tonga, Trinidad and Tobago, Tunisia, Turkey, Turkmenistan, Turks and Caicos Islands, Uganda, United Arab Emirates, United Kingdom, United States, Uruguay, Uzbekistan, Vanuatu, Vatican City State, Vietnam, Wallis and Futuna, Western Samoa, Yemen, Zambia, ZimbabweExcludes:PO Box, APO/FPO, Alaska/Hawaii, Barbados, French Guiana, French Polynesia, Guadeloupe, Libya, Martinique, New Caledonia, Reunion, Russian Federation, US Protectorates, Ukraine, VenezuelaQuantity:Change country:-Select-AfghanistanAlbaniaAlgeriaAndorraAngolaAnguillaAntigua and BarbudaArgentinaArmeniaArubaAustraliaAzerbaijan RepublicBahamasBahrainBangladeshBelizeBeninBermudaBhutanBoliviaBosnia and HerzegovinaBotswanaBrazilBrunei DarussalamBurkina FasoBurundiCambodiaCameroonCanadaCape Verde IslandsCayman IslandsCentral African RepublicChadChileChinaColombiaCosta RicaCte d\\'Ivoire (Ivory Coast)Democratic Republic of the CongoDjiboutiDominican RepublicEcuadorEgyptEl SalvadorEquatorial GuineaEritreaEthiopiaFijiGabon RepublicGambiaGeorgiaGhanaGibraltarGrenadaGuatemalaGuineaGuinea-BissauGuyanaHaitiHondurasHong KongIcelandIndiaIndonesiaJamaicaJapanJordanKazakhstanKenyaKiribatiKuwaitKyrgyzstanLaosLebanonLesothoLiberiaLiechtensteinMacauMacedoniaMadagascarMalawiMalaysiaMaldivesMaliMauritaniaMauritiusMexicoMoldovaMongoliaMontenegroMontserratMoroccoMozambiqueNamibiaNauruNepalNew ZealandNicaraguaNigerNigeriaNorwayOmanPakistanPanamaPapua New GuineaParaguayPeruPhilippinesQatarRepublic of the CongoRwandaSaint HelenaSaint Kitts-NevisSaint LuciaSaint Pierre and MiquelonSaint Vincent and the GrenadinesSan MarinoSaudi ArabiaSenegalSerbiaSeychellesSierra LeoneSingaporeSolomon IslandsSouth AfricaSouth KoreaSri LankaSurinameSwazilandSwitzerlandTaiwanTajikistanTanzaniaThailandTogoTongaTrinidad and TobagoTunisiaTurkeyTurkmenistanTurks and Caicos IslandsUgandaUnited Arab EmiratesUnited KingdomUnited StatesUruguayUzbekistanVanuatuVatican City StateVietnamWallis and FutunaWestern SamoaYemenZambiaZimbabweZIP Code:Get RatesShipping and handlingEach additional itemToServiceDelivery*See Delivery notesFree shippingFreeUnited StatesStandard ShippingEstimated betweenTue, Mar 19andThu, Mar 21to51503*Estimated delivery dates- opens in a new window or tabinclude seller\\'s handling time, origin ZIP Code, destination ZIP Code and time of acceptance and will depend on shipping service selected and receipt of cleared payment. Delivery times may vary, especially during peak periods.Notes - Delivery *Estimated delivery dates include seller\\'s handling time, origin ZIP Code, destination ZIP Code and time of acceptance and will depend on shipping service selected and receipt of cleared payment. Delivery times may vary, especially during peak periods.Handling timeWill usually ship within 3 business days of receiving cleared payment.TaxesTaxes may be applicable at checkout.Learn moreabout paying tax on ebay.Return policyAfter receiving the item, contact seller withinRefund will be given asReturn shipping30 daysMoney BackSeller pays for return shippingRefer toeBay Return policyopens in a new tab or windowfor more details. You are covered by theeBay Money Back Guaranteeopens in a new tab or windowif you receive an item that is not as described in the listing.Payment detailsPayment methodsSpecial financing availableSelect PayPal Credit at checkout to have the option to pay over time.Qualifying purchases could enjoy No Interest if paid in full in 6 months on purchases of $99 or more. Other offers may also be available.Interest will be charged to your account from the purchase date if the balance is not paid in full within 6 months. Minimum monthly payments are required. Subject to credit approval.See terms- for PayPal Credit, opens in a new window or tabThe PayPal Credit account is issued by Synchrony Bank.Dizon Group98.3%Positive Feedback34Kitems soldVisit storeContactSave sellerJoined Mar 2003Detailed seller ratingsAverage for the last 12 monthsAccurate description4.9Reasonable shipping cost5.0Shipping speed4.9Communication4.9Seller feedback(9,235)y***_ (140)- Feedback left by buyer.Past 6 monthsVerified purchaseI received a good quality item for a low price. Shipping was super-fast. My item arrived in a cute Christmas box, suitable for re use. Seller also thoughtfully included a shiny Christmas card. I enjoyed the personal touch!DomeStar Christmas Hat, Funny Hat Novelty Santa Hat Crazy Hats Elf Hat Santa ... (#155297176458)-***i (6606)- Feedback left by buyer.Past 6 monthsVerified purchasePacked to secure fast and safe delivery, smooth transaction, good communication, seller recommended!Mandy\\'s 20pcs Light Pink Flowers Artificial Calla Lily Silk Flowers 13.4\" for... (#155513741660)o***t (28)- Feedback left by buyer.Past monthVerified purchaseBought item as a gift, so I can\\'t really speak for the item. However, the seller shipped it the very same day I purchased it! It appears to be packaged well, and arrived more quickly than expected. I\\'ll buy from this seller again.MTM CRC Gun Cleaning Rod Case Red (#162971238974)See all feedbackBack to home pageReturn to topMore to explore :Rose Wedding Standard Wick-Burning Candles Holders,3-Wick Candle Metal Candle Holders & Accessories,Large 3-Wick Candle Holders & Accessories,Air Wick Rose Air Fresheners,Lillian Rose Wedding Standard Wick-Burning Candles Holders,Bath & Body Works Candle 3-Wick Candle Holders & Accessories,Candle Wick Cutters,Multiple Wicks Dcor Candles,Rose Candles,Stainless Steel Candle Wick CuttersRelated Searchesyankee candleAdditional site navigationAbout eBayAnnouncementsCommunitySecurity CenterSeller CenterPoliciesAffiliatesHelp & ContactSite MapCopyright  1995-2024 eBay Inc. All Rights Reserved.Accessibility,User Agreement,Privacy,Payments Terms of Use,Cookies,CA Privacy Notice,Your Privacy ChoicesandAdChoice ***Title: Apotheke 3-Wick Candles (Santal Rock Rose, 3-Wick) Santal Rock Rose  | eBay Description: Apotheke 3-Wick Candles (Santal Rock Rose, 3-Wick). - Manufacturer \\u200f : \\u200e APOTHEKE. - Manufacturer: \\u200eAPOTHEKE. - Scent: Santal Rock Rose. - Scent: \\u200eSantal Rock Rose. - Color: Rose. - Color: \\u200eRose. - Part Number: \\u200eSROCK-CAN-3Wick. Image URL: https://i.ebayimg.com/images/g/chMAAOSww49lbm5P/s-l400.jpg URL: https://www.ebay.com/itm/166479091656 Availability: Unknown Site Name: eBay type: ebay-objects:item Images: ,https://i.ebayimg.com/images/g/chMAAOSww49lbm5P/s-l1600.jpg ***Error 403 - Forbidden access.Sorry, you do not have permission to access this resource on the server due to a security restriction.If you are the site owner, please check your site management tools to verify your WAF settings or contact us if the problem persists.nginxtype: text Images:  ***Skip to contentClose menuNEWAll New ArrivalsNew Bath & BodyNew CandlesNew Room FragranceBestsellersAll BestsellersCandelsDiffusers & Room SpraysBath & BodyBrandsAERINAgrariaAndy WarholAntica FarmacistaApothekeArchipelagoBaobabJean-Michel BasquiatBloomquist & CoBodewell HomeBohemeBoy SmellsCander ParisCapri BlueCarriere FreresCharles FarrisChez GagnChristian TortuCire TrudonComme des GarconsCoqui CoquiCoreternoDeliriumDiptyqueDr. VranjesEthics Supply CoFornasettiFrasier FirFury BrosHereticHillhouse NaturalsHollow TreeIconic ScentsImaginary AuthorsJonathan AdlerJoshua TreeKeith HaringLAFCOLladroLor de SeraphineLumira CandlesM. GreengrassMad et LenMaison La BougieMalin & GoetzMatthew WilliamsonMistralMichael AramMolton BrownMoodcastNestNiven MorganNomad NoeOrtigia SiciliaPaddywaxP.F. Candle Co.ReWinedRigaudSaintScent of CopenhagenSeda FranceSkandinaviskSocial Light LightersSOH MelbourneSoohyangThymesToccaTrappTrue GraceViaggiVintage 27VoluspaVotivoFragrancesAppleBayberryBeachCinnamonCranberryDessertEucalyptusFloralFreshGardeniaGingerLavenderLeatherLemonLemongrassMan & CologneOrange & CitrusPatchouliPumpkinRoseSpiceTobaccoTropicalWoodVanillaUnscentedProductsGlass Jar Candles3 Wick CandlesVotive CandlesTravel & Tin CandlesLarge CandlesPillar  CandlesCeramic CandlesSoy  CandlesDiffusersRoom SpraysBath & BodyPotpourriCandle AccessoriesSeasonsSummerFallWinterSpringHolidayValentine\\'s DayMother\\'s DayFather\\'s DayGift IdeasGift CertificatesEditor\\'s PicksCandle Gift SetsWedding GiftsMonthly SubscriptionInstagramFacebookPinterestCartClose cartInstagramFacebookPinterestSearchSite navigationSearchCartNEWAll New ArrivalsNew Bath & BodyNew CandlesNew Room FragranceBestsellersAll BestsellersCandelsDiffusers & Room SpraysBath & BodyBrandsAERINAgrariaAndy WarholAntica FarmacistaApothekeArchipelagoBaobabJean-Michel BasquiatBloomquist & CoBodewell HomeBohemeBoy SmellsCander ParisCapri BlueCarriere FreresCharles FarrisChez GagnChristian TortuCire TrudonComme des GarconsCoqui CoquiCoreternoDeliriumDiptyqueDr. VranjesEthics Supply CoFornasettiFrasier FirFury BrosHereticHillhouse NaturalsHollow TreeIconic ScentsImaginary AuthorsJonathan AdlerJoshua TreeKeith HaringLAFCOLladroLor de SeraphineLumira CandlesM. GreengrassMad et LenMaison La BougieMalin & GoetzMatthew WilliamsonMistralMichael AramMolton BrownMoodcastNestNiven MorganNomad NoeOrtigia SiciliaPaddywaxP.F. Candle Co.ReWinedRigaudSaintScent of CopenhagenSeda FranceSkandinaviskSocial Light LightersSOH MelbourneSoohyangThymesToccaTrappTrue GraceViaggiVintage 27VoluspaVotivoFragrancesAppleBayberryBeachCinnamonCranberryDessertEucalyptusFloralFreshGardeniaGingerLavenderLeatherLemonLemongrassMan & CologneOrange & CitrusPatchouliPumpkinRoseSpiceTobaccoTropicalWoodVanillaUnscentedProductsGlass Jar Candles3 Wick CandlesVotive CandlesTravel & Tin CandlesLarge CandlesPillar  CandlesCeramic CandlesSoy  CandlesDiffusersRoom SpraysBath & BodyPotpourriCandle AccessoriesSeasonsSummerFallWinterSpringHolidayValentine\\'s DayMother\\'s DayFather\\'s DayGift IdeasGift CertificatesEditor\\'s PicksCandle Gift SetsWedding GiftsMonthly SubscriptionSearch\"Close (esc)\"View moreFree shippingOn all orders over $100Hassle-free returns30-day postage paid returnsApotheke - Bamboo 3 Wick CandleRegular price$19.00/Default Title - $19.00 USDOnly 10 items in stock!Add to cart[{\"id\": 37592622891174,\"title\":\"Default Title\",\"option1\":\"Default Title\",\"option2\":null,\"option3\":null,\"sku\":\"TSS-1551\",\"requires_shipping\":true,\"taxable\":false,\"featured_image\":null,\"available\":true,\"name\":\"Apotheke - Bamboo 3 Wick Candle\",\"public_title\":null,\"options\":[\"Default Title\"],\"price\":1900,\"weight\":100,\"compare_at_price\":null,\"inventory_management\":\"shopify\",\"barcode\":\"TSS-1551\",\"requires_selling_plan\":false,\"selling_plan_allocations\":[]}]Description & DetailsApotheke Bamboo3 WickCandleis white flowers, light moss, and white thyme blend with robust bamboo leaves, enveloping the room with a clean and earthy scent.Apotheke Candles include extraordinary scents that burn clean, enhancing any room with beautiful, simple design. Apotheke Candles are made in Brooklyn, of a high quality soy wax blend and burn 120 hours.More InformationBrandApothekeBurn Time120 hoursScent FamilyEarthyPrimary ScentsBamboo,Moss,Thyme,White FlowersWax FamilySoy BlendNet Weight32 oz.Dimensions4.5\" tall by 5\" wideShareShare on FacebookTweetTweet on TwitterPin itPin on PinterestWhy choose us?Explain your brand philosophyUse this section to explain your company philosophy or standards. Showcase lifestyle photography for added emphasis. This content will appear on all products.TestimonialsAdd customer reviews and testimonials to showcase your stores happy customers and to provide social proof.Author\\'s nameAdd customer reviews and testimonials to showcase your stores happy customers and to provide social proof.Author\\'s nameImprovedImage with textPair large text with an image to tell a story, explain a detail about your product, or describe a new promotion.Optional buttonImprovedImage with textPair large text with an image to tell a story, explain a detail about your product, or describe a new promotion.Optional buttonTwo linetitle imageAnd optional subtextOptional buttonYou may also likeApotheke - Bamboo 3 Wick Candle$19.00Site-wide promotionUse this section to promote content throughout every page of your site. Add images for further impact.Optional buttonSite-wide promotionUse this section to promote content throughout every page of your site. Add images for further impact.Optional buttonSite-wide promotionUse this section to promote content throughout every page of your site. Add images for further impact.Optional buttonSearchSign up and saveSign up and saveSubscribe to get special offers, free giveaways, and once-in-a-lifetime deals.Enter your emailSubscribeInstagramFacebookPinterestPowered by ShopifyPreviousNext\"Close (esc)\" ***Title: Apotheke - Bamboo 3 Wick Candle Description: Description &amp; Details Apotheke Bamboo\\xa03 Wick\\xa0Candle\\xa0is white flowers, light moss, and white thyme blend with robust bamboo leaves, enveloping the room with a clean and earthy scent.\\xa0 Apotheke Candles include extraordinary scents that burn clean, enhancing any room with beautiful, simple design. Apotheke Candles are made in Brooklyn, of a high quality soy wax blend and burn 120 hours. More Information Brand Apotheke Burn Time 120 hours Scent Family Earthy Primary Scents Bamboo, Moss, Thyme, White Flowers Wax Family Soy Blend Net Weight 32 oz. Dimensions 4.5\" tall by 5\" wide Image URL: http://thescentshop-us.myshopify.com/cdn/shop/products/apo_3wickbox_bamboo_1200x1200.jpg?v=1611108535 URL: https://thescentshop-us.myshopify.com/products/tss-1551 Availability: in stock Site Name: thescentshop us type: product Images:  ***Skip to contentSTORESSPASEVENTSShopBestsellersSkincareMakeupHair CareBath & BodyFragranceTools & AccessoriesHome & LifestyleSun CareMenTravelGiftsLast Chance & OffersBy CategoryShop AllSkincareMakeupHair CareBath & BodyFragranceTools & AccessoriesNow TrendingBy BrandAugustinus BaderChantecailleDr. Barbara SturmDiptyqueDysonEltaMDLa MerLune+AsterM-61OribeSkinceuticalsTrish McEvoyDr. Barbara Sturm Hyaluronic SerumProvides long-term hydration & refreshed-looking skinBy CategoryShop AllBestsellersCleansersExfoliators & PeelsEye CareLip CareMasksMoisturizersSun CareTools & DevicesTravel SizeTreatment & SerumsVitamins & SupplementsBy Brand111SkinAugustinus BaderDr. Barbara SturmIS ClinicalLa MerM-61ObagiOSEARViveSkinCeuticalsSkinMedicaU BeautyVintner\\'s DaughterIndie Lee Stem Cell SerumLeave skin feeling hydrated and suppleBy CategoryShop AllBestsellersBags & AccessoriesBrushes & ToolsEyesFace & CheeksLipsMakeup RemoversNailsPalettes & SetsTravel SizeBy BrandBobbi BrownChantecailleHourglassJane IredaleKjaer WeisKosasLaura MercierLune + AsterNarsOgeePat McGrath LabsRMS BeautySisley-ParisSurrattTom FordTrish McEvoyTrish McEvoy So Pretty Makeup PlannerTake you from bare-faced to full glamBy CategoryShop AllBestsellersBrushes & AccessoriesColor CareHair Loss & ThinningHair ToolsHair TreatmentsShampoos & ConditionersStyling ProductsTravel SizeVitamins & SupplementsBy BrandAct + AcreBouclmeBriogeoBumble and bumbleChristophe RobinDysonMoroccanoilOlaplexOribeR+CoR+Co BleuVirtueFlakes, OutDefeat dandruff, dryness, irritation, & moreBy CategoryShop AllActive LifestyleBestsellersBath & ShowerBody MoisturizersHand & Foot CareIntimate CarePersonal CarePre- & Postnatal CareSelf-TannersSun CareTools & AccessoriesTravel SizeVitamins & SupplementsBy BrandAesopAloCerulean 6CorpusFreshFurMolton BrownOSEASupergoop!Susanne KaufmannTan LuxeVellaNEW Odacit Hydra-Firm BodyFace Grade Ingredients + Double Dose of Vitamin CThe GuideBy CategoryShop AllBestsellersCandlesColognesDiffusersPerfumesRollerballs & Travel SizeRoom & Pillow SpraysTravel SizeBy BrandAcqua di ParmaAromatherapy AssociatesCerulean 6DiptyqueJo Malone LondonLafcoLake & SkyeMaison La BougieMolton BrownNestNetteSana JardinThe MakerVilhelm ParfumerieVitruviThe New RomanticsA cool, slightly quirky scent will last all year longBy CategoryShop AllBestsellersBath & Body ToolsHair BrushesHair ToolsHigh-Tech ToolsMakeup Brushes & ToolsMakeup AccessoriesSkincare Tools & DevicesBy BrandCanopyDermaflashDysonGHDHigherDoseLightStimMason PearsonNoodNuFaceSolawaveT3The Light SalonTherabodyYves DurifZuviIt\\'s Tool TimeTake your routine to the next level!By CategoryShop AllActive LifestyleCandlesCleaning & LaundryDiffusersHand Soaps & SanitizersRoom & Pillow SpraysTowels & Bath AccessoriesVitamins & SupplementsBy BrandBalaCanopyDiptyqueLAvant CollectiveLafcoLarqLoftieNestNodpodPort and PolishVitruviWaldenWifi-Enabled Loftie LampBringing you healthier sleep & happier morningsBy CategoryShop AllBody SunscreensFace SunscreensLip SunscreensSelf-TannersTravel SizeBy BrandDune SuncareEltaMDHampton SunM-61SkinCeuticalsSolara SuncareSoleil ToujoursSt. TropezSupergoop!Tan-LuxeUnsunVacationSPF FTW (For the Winter)Yes, you still need sunscreen in February!By CategoryShop AllBath & BodyCologneGrooming & Beard CareHair CareSkincareBy BrandAtwaterAcqua di ParmaAugustinus BaderCosta BrazilHumanraceJack BlackKiehl\\'s Since 1851Le DomaineWellbelSkinCeuticalsAtwater Skin and Shave EssentialsGrooming essentials built for all skin typesAll GiftsE-Gift CardsGifts By CategoryGifts by RecipientGift SetsBy PriceUnder $25Under $50Under $75Under $100$100 and OverShow Some LoveFind something that makes the heart skip a beatBy CategoryAll OffersGifts with PurchaseUp to 50% OffFree Gifts with PurchaseExplore complimentary productsDon\\'t Miss Out!Up to 50% off select gift sets, candles & moreBy CategoryBags & AccessoriesBath & BodyHair CareMakeupRollerballs & FragranceSkincareSun CareTop Travel PicksBreak TimeDon\\'t forget these must-pack productsWellinsulated: Upgrade Your Makeup BagProtect against temperature changesNew!By CategoryShop AllSkincareMakeupHair CareBath & BodyFragranceTools & AccessoriesGifts$517 Value! The Troublemaker EditFeaturing the women-led beauty brands you loveNew at Bluemercury: SkinmedicaUncover what your skin needsBrandsShop All BrandsDiverse OwnedBestsellersAugustinus BaderChantecailleDiptyqueDr. Barbara SturmDysonEltaMDLa MerLune+AsterM-61OribeOSEATom Ford#NewAtBlueAesopBDK ParfumsBoy SmellsCerulean 6D.S. & DurgaSusanne KaufmannTenovertenTherabodyValdeProfessional SkincareAvneDermalogicaIS ClinicalJan MariniObagiPCA SkinSkinCeuticalsSkinMedicaThe CacheBiocol LabsClark\\'s BotanicalsViktor MichaelWomen-OwnedLake & SkyeSolara SuncareTrish McEvoyVintner\\'s DaughterExploreFeatured#ExclusivelyBlueBlue NotesBuying GuidesConscious BeautyNow TrendingRoutine RebootThe CacheThe Founders SeriesThe Love ListTravel EssentialsMOREfeaturedCelebrating Women OwnersExplore some of our favorite women-owned brandsExplore The CacheBringing you whats new and now in beautyBlueRewardsMy AccountAccount OverviewMy PurchasesMy BlueRewardsMy WishlistDetails + PreferencesEarn $10 for every $250Free to Join! Learn More >The CacheExplore The CacheAccess to new + exclusive brands starts nowNew to Bluemercury: Viktor MichaelAddressing the recovery needs of skin post injectionBy BrandShop AllBiocol LabsClark\\'s BotanicalsViktor MichaelLast Chance!SearchSign In/UpWishlistBagBagFree Shipping and Free Returns for BlueRewards MembersFree Gifts with Purchase. Browse Now >Free Samples with All OrdersShopCharcoal 2-Wick Ceramic Scented CandleYour message has been successfully sent.Get notified whenis back in stockEMAILSet reminderFacebookPinterestTwitterView allView all  imagesFacebookPinterestTwitterApothekeCharcoal 2-Wick Ceramic Scented Candle0 Reviews$62$62Rich and addictive, this two-wick scented candle features a premium soy wax blend in an elegant ceramic vessel with matching lid.Size:13 ozLimit ofper order1Add to bagGo to set reminderBy continuing, you agree to Bluemercury\\'sPrivacy Notice.Limit ofper orderGet notified when Charcoal 2-Wick Ceramic Scented Candle is back in stockEmail Address:Set ReminderGet notified when Charcoal 2-Wick Ceramic Scented Candle arrivesEmail Address:Set ReminderBlueRewards ExclusiveCharcoal 2-Wick Ceramic Scented Candle is only available to BlueRewards membersSign In / Join Now1Add to bagGo to set reminderBy continuing, you agree to Bluemercury\\'sPrivacy Notice.Shipping & ReturnsShipping & ReturnsFree ReturnsReturns & Exchanges are free and accepted in store and by mail within 60 days of purchase.ShippingBlueRewards MembersNon-MemberGround ShippingFree for all BlueRewards MembersFree over $100 spend, $7 for orders less than $100Two-Day ShippingFree over $150 spend, $10 for orders less than $150$10Priority Shipping (when available)$20$20Join BlueRewardsOrders placed by 12 p.m. Eastern time will be processed the same business day. Orders placed on weekends and holidays will be processed the next business day.For curbside pickup, call your local store. You canfind your closest store here.View ourfull policy here.CloseProduct InformationProduct InformationRich and addictive, Charcoal combines cedarwood, smoky embers, and burnt maple with a hint of raspberry to create a broody, full-bodied fragrance. Made with a premium soy wax blend and essential and perfume-grade fragrance oils, this luxury scented candle is designed to provide a clean-burning and exceptional scent experience. Comes in an elegantly designed solid off-white specialty ceramic vessel with matching lid.Key BenefitsFeatures 2 wicks and burns for approximately 70 to 80 hours.Top:Burnt Maple,Raspberry,Unripened Tomato SkinMiddle:Green Clove Leaf,Faint CinnamonBottom:Smoky Embers,Cedarwood,Guaiac WoodUPC850028163849How To UseHow To UseUpon first lighting, let candle burn until the melted pool of wax reaches the edge of the vessel. This will help it perform optimally upon each subsequent lighting.Always burn candle on a flat, heat-resistant surface away from drafts, and do not burn for more than 3-4 hours for both safety and to preserve the fragrance.Center and straighten wick(s) after extinguishing flame.Keep wick(s) trimmed to  for an ideal, clean burn, and keep wick trimmings and other debris out of the wax.Discontinue burning when  of wax remains or vessel may shatter.Upon first lighting, let candle burn until the melted pool of wax reaches the edge of the vessel. This will help it perform optimally upon each subsequent lighting.Always burn candle on a flat, heat-resistant surface away from drafts, and do not burn for more than 3-4 hours for both safety and to preserve the fragrance.Center and straighten wick(s) after extinguishing flame.Keep wick(s) trimmed to  for an ideal, clean burn, and keep wick trimmings and other debris out of the wax.Discontinue burning when  of wax remains or vessel may shatter.Complete the RoutineComplete the RoutineApothekeCharcoal Reed Diffuser6$60.00ReviewsFree GiftsQualifying brand purchases come with presents!View Current OfferingsExclusive EventsVisit us in store or online for beauty happenings.Find Upcoming EventsBluemercury SpaIndulge in a luxurious, customized treatment.Book NowBlueRewardsEarn perks, like $10 for every $250 you spend!View Program DetailsGet Expert Beauty Insight &  OffersBy continuing, you agree to Bluemercury\\'sPrivacy Notice.Copyright 2024 bluemercury. All Rights Reserved.BluemercuryOur CompanyStore LocatorIn-Store EventsSpaCareersVendor SubmissionsDiversity, Equity & InclusionBluemercuryOur CompanyStore LocatorIn-Store & Online EventsSpa MenuCareersVendor SubmissionsDiversity, Equity & InclusionMy AccountMy AccountBlueRewardsGift Card Balance CheckerCustomer SupportContact UsHelp & FAQShipping, Returns & ExchangesGift CardsOffers & PromotionsKlarnaResourcesTerms & ConditionsPrivacy NoticeDo Not Sell or Share My Personal InformationCA Privacy RightsAccessibilityAffiliate ProgramCookie PreferencesTerms of ServiceRefund policyMy AccountMy AccountBlueRewardsGift Card Balance CheckerCustomer ServiceContact UsHelp & FAQShipping, Returns & ExchangesStart an Online ReturnGift CardsOffers & PromotionsKlarnaResourcesTerms & ConditionsPrivacy NoticeDo Not Sell or Share My Personal InformationCA Privacy RightsAccessibilityAffiliate ProgramCookie PreferencesSign In/UpBlueRewardsBestsellersLast Chance!The CacheBrandsALL BRANDSBestsellersAugustinus BaderChantecailleDiptyqueDr. Barbara SturmDysonEltaMDLa MerLune+AsterM-61OribeTom FordTrish McEvoy#NewAtBlueAesopBDK ParfumsCerulean 6D.S. & DurgaNeenSusanne KaufmannTenovertenTherabodyValdeDiverse OwnedAAPI-OwnedBlack-OwnedHispanic-OwnedLGBTQ-OwnedWomen-OwnedSpa Favorites111SkinHigherDoseObagiPCA SkinRViveSisley-ParisSkinCeuticalsSkinMedicaU BeautyWomen-OwnedThe CacheFeaturedNew!#ExclusivelyBlueIn-Store EventsThe CacheLuxuryLearn & ExploreBlue NotesBuying GuidesConscious BeautyDoctor\\'s Orders: The Love ListNow TrendingRoutine RebootThe Founders SeriesTravel EssentialsWellnessMoreSkincareALL SKINCAREBestsellersCleansersAll CleansersFace WashFace WipesMakeup RemoversMists & EssencesTonersExfoliators & PeelsAll Exfoliators & PeelsFacial PeelsScrubs & ExfoliatorsEye CareAll Eye CareEye CreamsEye MasksEye SerumsLip CareAll Lip CareLip BalmsLip MasksLip OilsLip SunscreensMasksAll MasksEye MasksFace MasksHand & Foot MasksLED MasksLip MasksSheet MasksMoisturizersAll MoisturizersBB & CC CreamsDaily SPFDecollete & Neck CreamsFace MoisturizersFace OilsMists & EssencesNight CreamsTinted MoisturizersSun CareAll Sun CareBody SunscreensFace SunscreensLip SunscreensSelf-TannersSkincare Tools & DevicesAll Skincare Tools & DevicesCleansing & Exfoliation BrushesFace RollersHigh-Tech ToolsTreatment & SerumsAll Treatments & SerumsFace OilsFace SerumsFacial PeelsScrubs & ExfoliatorsSpot TreatmentsTonersVitamins & SupplementsMakeupALL MAKEUPBestsellersBrushes & ToolsAll Brushes & ToolsBrow BrushesBrush CleansersBrush SetsEye BrushesEyelash CurlersFace BrushesLip BrushesSharpenersSponges & ApplicatorsTweezers & Eyebrow ToolsEyesAll EyesEye PrimersEyebrowsEyelinersEyeshadowsFalse EyelashesMascarasUndereye ConcealersFace & CheeksAll Face & CheeksBB & CC CreamsBlushesBronzersConcealersContoursFace PalettesFoundationsHighlighters & LuminizersPrimersSetting Sprays & PowdersTinted MoisturizersLipsAll LipsLip BalmsLip GlossesLiplinersLip OilsLip StainsLipsticksMakeup Bags & AccessoriesAll Makeup Bags & AccessoriesMakeup AccessoriesMakeup Bags & CasesMakeup RemoversNailsAll NailsNail CareNail PolishNail SetsPalettes & SetsHair CareALL HAIR CAREBestsellersBrushes & AccessoriesAll Brushes & AccessoriesCombsHair AccessoriesHair BrushesColor CareHair Loss & ThinningHair ToolsAll Hair ToolsCurling Irons & RollersHair Dryers & DiffusersStraighteners & Flat IronsHair TreatmentsAll Hair TreatmentsHair MasksHair OilsHair SerumsScalp Scrubs & TreatmentsShampoos & ConditionersAll Shampoos & ConditionersConditionersDry ShampoosLeave-In ConditionersShampoosStyling ProductsAll Styling ProductsCurl EnhancersHair Color & Root Touch UpsHairspraysHeat Protection & PrimersStyling CreamsHair PomadesVitamins & SupplementsBath & BodyALL BATH & BODYActive LifestyleBestsellersBath & ShowerAll Bath & ShowerBar SoapsBath Salts & SoaksBody Washes & Shower GelsScrubs & ExfoliantsBody MoisturizersAll Body MoisturizersBody LotionsBody OilsHand & Foot CareAll Hand & Foot CareFoot CareHand & Foot TreatmentsHand CreamsHand Soaps & SanitizersIntimate CarePersonal CareDeodorants & AntiperspirantsShaving & GroomingPre- & Postnatal CareSelf-TannersFor BodyFor FaceSun CareBody SunscreensFace SunscreensLip SunscreensSelf-TannersTools & AccessoriesBath & Shower AccessoriesBody BrushesFace RollersHigh-Tech ToolsShaving & GroomingSleep AccessoriesVitamins & SupplementsFragranceALL FRAGRANCEBestsellersThe Fragrance GuideCandlesColognesDiffusersPerfumesRollerballs & Travel SizeRoom & Pillow SpraysTools & AccessoriesALL TOOLS & ACCESSORIESBestsellersBath & Body ToolsAll Bath & Body ToolsBath & Shower AccessoriesBody BrushesShaving & GroomingHigh-Tech ToolsRollers & MassageSleep AccessoriesHair BrushesHair ToolsAll Hair Hot ToolsCurling Irons & RollersHair Dryers & DiffusersStraighteners & Flat IronsHigh-Tech ToolsMakeup Brushes & ToolsAll Makeup Brushes & ToolsBrow BrushesBrush CleansersBrush SetsEye BrushesEyelash CurlersFace BrushesLip BrushesSharpenersSponges & ApplicatorsTweezers & Eyebrow ToolsMakeup AccessoriesAll Makeup AccessoriesMakeup AccessoriesMakeup Bags & CasesSkincare Tools & DevicesAll Skin Care Tools & DevicesCleansing & Exfoliation BrushesFace RollersHigh-Tech ToolsHome & LifestyleALL HOME & LIFESTYLEActive LifestyleCandlesCleaning & LaundryDiffusersHand Soaps & SanitizersHome FragranceAll Home FragranceCandlesDiffusersRoom & Pillow SpraysRoom & Pillow SpraysTowels & Bath AccessoriesVitamins & SupplementsSun CareALL SUN CAREBody SunscreensFace SunscreensLip SunscreensSelf-TannersTravelAll Travel SizeBags & AccessoriesBath & BodyHair CareMakeupRollerballs & FragranceSkincareSun CareTop Travel PicksMenALL MENBath & BodyAll Men\\'s Bath & BodyBody WashesBody LotionsDeodorantsHand CreamsShavingFragrances & ColognesAll Men\\'s FragranceAftershavesColognesHair Care & GroomingAll Men\\'s Hair & GroomingBeard OilsShampoos & ConditionersStyling ProductsThinning Hair & Hair LossShavingAll Men\\'s ShavingAftershavesBeard OilsShaving CreamsSkincareAll Men\\'s Skin CareEye CreamsFace WashesLip BalmsMoisturizersScrubs & ExfoliatorsTreatments & SerumsGiftsALL GIFTSShop All GiftsE-Gift CardsShop By CategoryShop By RecipientGift SetsFeaturedStaff SelectionsPersonal Fragrance GiftsLuxury GiftsMini GiftsShop By PriceUnder $25Under $50Under $75Under $100Luxury GiftsLast Chance & OffersAll OffersGifts with PurchaseUp to 50% OffSTORESSPASEVENTSBlueRewards ExclusiveIf you\\'re not already a member, sign upSign UpIf you are a member, sign inSign InSign UpSubmitting...Birthday MonthJanuaryFebruaryMarchAprilMayJuneJulyAugustSeptemberOctoberNovemberDecemberJoinBlueRewardsEarn $10 for every $250 you spend, plus FREE birthday gifts & treatments!By continuing, you agree to Bluemercury\\'sPrivacy Notice.Create AccountAlready have a bluemercury.com account?Sign InSign InSubmitDon\\'t have an account?Create one ***Title: Charcoal 2-Wick Ceramic Scented Candle Description: Shop Apotheke Charcoal 2-Wick Ceramic Scented Candle at Bluemercury. Rich and addictive, this two-wick scented candle features a premium soy wax blend in an elegant ceramic vessel with matching lid. Enjoy free samples with all orders. Image URL: http://bluemercury.com/cdn/shop/files/global_images-850028163849-3_grande.jpg?v=1699308481 URL: https://bluemercury.com/products/apotheke-charcoal-2-wick-ceramic-scented-candle Availability: in stock Site Name: bluemercury type: product Images:  ***Skip to contentClose menuGIFTSTrendingFor HerFor HimFor KidsFeatured Gift IdeasHostess GiftsBusiness GiftsShop for YourselfQuick Ship GiftsConfections + GroceryScented GiftsHoliday ScentsCandlesBath Soaks + SoapsSprays + ScentsDiffusersSpa GiftsLotionsPopular GiftsBusiness GiftsScented GiftsThoughtful GiftsPlayful GiftsStocking StuffersHOLIDAYNewTrending Top SellersHoliday ScentsAll HolidayWinter LooksDinnerwareDrinkware + BarwareParty TosswareHoliday ServewareHoliday CenterpiecesTable LinensHoliday DecorChristmas Trees + LightsStockings + TreeskirtsWreaths + GarlandsOrnamentsMenorahsVotives + CandelabrasVases + CenterpiecesHoliday HomePillows + ThrowsFor the GuestsGift Wrapping + StationaryConfections + GroceryGiftshome decorBaskets + BinsBooksBookendsBowlsCandlesCuriosClocksMirrorsPhoto FramesVasesWall ArtFURNITUREAccent TablesBedsDressersBenchesDesksChairsTablesCredenzas & CabinetsConsolesSofasEntertainment CentersOutdoorRUGSRugs By ColorBeige RugsBlack RugsBlack & White RugsBlue RugsBrown RugsGold RugsGreen RugsGrey RugsIvory RugsOrange RugsPink RugsPurple RugsRed RugsSilver RugsTurquoise RugsWhite RugsMulti-Color RugsRug PadsRugs By Size2 x 3 Rugs3 x 5 Rugs4 x 6 Rugs5 x 8 Rugs6 X 8 Rugs7 X 10 Rugs8 x 10 Rugs9 X 12 Rugs10 X 14 RugsRunnersRound RugsSquare RugsShop Rugs by MaterialWool RugsNatural Fiber RugsCotton RugsHemp RugsBamboo RugsLeather RugsCowhide RugsSisal RugsLuxe RugsSheepskin RugsSynthetic RugsOutdoor RugsShop Rugs by StyleAnimal Pattern RugsBohemian RugsBraided RugsChevron RugsIkat RugsFlat Weave RugsFloral RugsGraphic RugsModern RugsSculptural RugsTraditional RugsShag RugsSolid RugsStriped RugsKids RugsBED + BATHLightingChandeliersTable LampsFloor LampsSconcesPILLOWS + THROWSPillowsBlankets & ThrowsPoufsTABLETOPDinnerwareServing PiecesBar + GlasswareFlatwareCooking + BakingSALELog inCartClose cart25% OFF SITE WIDE WITH CODE: BLACKOUT*noted exclusions applyFree shippingOn all orders over $100SearchSite navigationLog inSearchCartGIFTSTrendingFor HerFor HimFor KidsFeatured Gift IdeasHostess GiftsBusiness GiftsShop for YourselfQuick Ship GiftsConfections + GroceryScented GiftsHoliday ScentsCandlesBath Soaks + SoapsSprays + ScentsDiffusersSpa GiftsLotionsPopular GiftsBusiness GiftsScented GiftsThoughtful GiftsPlayful GiftsStocking StuffersHOLIDAYNewTrending Top SellersHoliday ScentsAll HolidayWinter LooksDinnerwareDrinkware + BarwareParty TosswareHoliday ServewareHoliday CenterpiecesTable LinensHoliday DecorChristmas Trees + LightsStockings + TreeskirtsWreaths + GarlandsOrnamentsMenorahsVotives + CandelabrasVases + CenterpiecesHoliday HomePillows + ThrowsFor the GuestsGift Wrapping + StationaryConfections + GroceryGiftshome decorBaskets + BinsBooksBookendsBowlsCandlesCuriosClocksMirrorsPhoto FramesVasesWall ArtFURNITUREAccent TablesBedsDressersBenchesDesksChairsTablesCredenzas & CabinetsConsolesSofasEntertainment CentersOutdoorRUGSRugs By ColorBeige RugsBlack RugsBlack & White RugsBlue RugsBrown RugsGold RugsGreen RugsGrey RugsIvory RugsOrange RugsPink RugsPurple RugsRed RugsSilver RugsTurquoise RugsWhite RugsMulti-Color RugsRug PadsRugs By Size2 x 3 Rugs3 x 5 Rugs4 x 6 Rugs5 x 8 Rugs6 X 8 Rugs7 X 10 Rugs8 x 10 Rugs9 X 12 Rugs10 X 14 RugsRunnersRound RugsSquare RugsShop Rugs by MaterialWool RugsNatural Fiber RugsCotton RugsHemp RugsBamboo RugsLeather RugsCowhide RugsSisal RugsLuxe RugsSheepskin RugsSynthetic RugsOutdoor RugsShop Rugs by StyleAnimal Pattern RugsBohemian RugsBraided RugsChevron RugsIkat RugsFlat Weave RugsFloral RugsGraphic RugsModern RugsSculptural RugsTraditional RugsShag RugsSolid RugsStriped RugsKids RugsBED + BATHLightingChandeliersTable LampsFloor LampsSconcesPILLOWS + THROWSPillowsBlankets & ThrowsPoufsTABLETOPDinnerwareServing PiecesBar + GlasswareFlatwareCooking + BakingSALESearch\"Close (esc)\"View moreClose (esc)Close (esc)Close (esc)Close (esc)Home/Sea Salt Grapefruit 3-Wick Candle design by ApothekeRegular price$64.00Save $-64.00/Default Title - $64.00 USDQuantity+Only 0 items in stock!Add to cartEMAIL WHEN AVAILABLEThis Item is no longer available.View all candlesBrowse ApothekeSold Out{\"id\":1863665123389,\"title\":\"Sea Salt Grapefruit 3-Wick Candle design by Apotheke\",\"handle\":\"sea-salt-grapefruit-3-wick-candle-design-by-apotheke\",\"description\":\"\\\\u003cp\\\\u003e\\\\u003cspan\\\\u003eThe tang of sea salt, black pepper, and ripe grapefruit is balanced by dew drop accords and tarragon, for a fragrance like summer by the sea.\\\\u003c\\\\/span\\\\u003e\\\\u003c\\\\/p\\\\u003e\\\\n\\\\u003cp\\\\u003e\\\\u003cspan\\\\u003eOur candles are hand-poured with perfume-grade fragrance oils and a high quality soy wax blend. Each scent is formulated with a unique wick, wax, and fragrance combination to create a strong and clean burn.\\\\u003c\\\\/span\\\\u003e\\\\u003c\\\\/p\\\\u003e\\\\n\\\\u003cp\\\\u003e\\\\u003cstrong\\\\u003eEstimated Burn Time:\\\\u003c\\\\/strong\\\\u003e 120 hours\\\\u003c\\\\/p\\\\u003e\",\"published_at\":\"2019-04-01T11:35:57-04:00\",\"created_at\":\"2019-04-01T11:35:58-04:00\",\"vendor\":\"Apotheke\",\"type\":\"candles\",\"tags\":[\"3 Wick\",\"50-75\",\"all products\",\"apotheke\",\"business gift\",\"candle\",\"candles\",\"gift\",\"Gift Wrap\",\"SCENTS\",\"THOUGHTFUL\",\"UPDATE\"],\"price\":6400,\"price_min\":6400,\"price_max\":6400,\"available\":true,\"price_varies\":false,\"compare_at_price\":null,\"compare_at_price_min\":0,\"compare_at_price_max\":0,\"compare_at_price_varies\":false,\"variants\":[{\"id\":14099513278525,\"title\":\"Default Title\",\"option1\":\"Default Title\",\"option2\":null,\"option3\":null,\"sku\":\"AP03-SG\",\"requires_shipping\":true,\"taxable\":true,\"featured_image\":null,\"available\":true,\"name\":\"Sea Salt Grapefruit 3-Wick Candle design by Apotheke\",\"public_title\":null,\"options\":[\"Default Title\"],\"price\":6400,\"weight\":2268,\"compare_at_price\":null,\"inventory_quantity\":0,\"inventory_management\":\"shopify\",\"inventory_policy\":\"continue\",\"barcode\":\"\",\"requires_selling_plan\":false,\"selling_plan_allocations\":[],\"quantity_rule\":{\"min\":1,\"max\":null,\"increment\":1}}],\"images\":[\"\\\\/\\\\/designer-rug.com\\\\/cdn\\\\/shop\\\\/products\\\\/Sea-Salt-Grapefruit-32oz_1296x_c47c39c0-a397-43f8-9bdf-525d84c6aec0.webp?v=1672762305\",\"\\\\/\\\\/designer-rug.com\\\\/cdn\\\\/shop\\\\/products\\\\/Sea-Salt-Grapefruit-3-Wick-Candle-Apotheke-04_900x_f4a662b4-3f67-43b7-acef-0fdca41f24a0.webp?v=1672762305\",\"\\\\/\\\\/designer-rug.com\\\\/cdn\\\\/shop\\\\/products\\\\/sea-salt-grapefruit-3-wick-candleapotheke-co3-wick-candleapotheke-co-168632_900x_2eaf9a8c-9363-4bef-ac58-f0c7454d8002.webp?v=1672762305\",\"\\\\/\\\\/designer-rug.com\\\\/cdn\\\\/shop\\\\/products\\\\/Sea-Salt-Grapefruit-3-Wick-Candle-Apotheke-05_900x_c1789cc1-8ff1-4143-bf54-43b00c062b11.webp?v=1672762305\"],\"featured_image\":\"\\\\/\\\\/designer-rug.com\\\\/cdn\\\\/shop\\\\/products\\\\/Sea-Salt-Grapefruit-32oz_1296x_c47c39c0-a397-43f8-9bdf-525d84c6aec0.webp?v=1672762305\",\"options\":[\"Title\"],\"media\":[{\"alt\":null,\"id\":23365251498020,\"position\":1,\"preview_image\":{\"aspect_ratio\":1.0,\"height\":1024,\"width\":1024,\"src\":\"\\\\/\\\\/designer-rug.com\\\\/cdn\\\\/shop\\\\/products\\\\/Sea-Salt-Grapefruit-32oz_1296x_c47c39c0-a397-43f8-9bdf-525d84c6aec0.webp?v=1672762305\"},\"aspect_ratio\":1.0,\"height\":1024,\"media_type\":\"image\",\"src\":\"\\\\/\\\\/designer-rug.com\\\\/cdn\\\\/shop\\\\/products\\\\/Sea-Salt-Grapefruit-32oz_1296x_c47c39c0-a397-43f8-9bdf-525d84c6aec0.webp?v=1672762305\",\"width\":1024},{\"alt\":null,\"id\":23365251432484,\"position\":2,\"preview_image\":{\"aspect_ratio\":1.0,\"height\":900,\"width\":900,\"src\":\"\\\\/\\\\/designer-rug.com\\\\/cdn\\\\/shop\\\\/products\\\\/Sea-Salt-Grapefruit-3-Wick-Candle-Apotheke-04_900x_f4a662b4-3f67-43b7-acef-0fdca41f24a0.webp?v=1672762305\"},\"aspect_ratio\":1.0,\"height\":900,\"media_type\":\"image\",\"src\":\"\\\\/\\\\/designer-rug.com\\\\/cdn\\\\/shop\\\\/products\\\\/Sea-Salt-Grapefruit-3-Wick-Candle-Apotheke-04_900x_f4a662b4-3f67-43b7-acef-0fdca41f24a0.webp?v=1672762305\",\"width\":900},{\"alt\":null,\"id\":23365251530788,\"position\":3,\"preview_image\":{\"aspect_ratio\":1.0,\"height\":900,\"width\":900,\"src\":\"\\\\/\\\\/designer-rug.com\\\\/cdn\\\\/shop\\\\/products\\\\/sea-salt-grapefruit-3-wick-candleapotheke-co3-wick-candleapotheke-co-168632_900x_2eaf9a8c-9363-4bef-ac58-f0c7454d8002.webp?v=1672762305\"},\"aspect_ratio\":1.0,\"height\":900,\"media_type\":\"image\",\"src\":\"\\\\/\\\\/designer-rug.com\\\\/cdn\\\\/shop\\\\/products\\\\/sea-salt-grapefruit-3-wick-candleapotheke-co3-wick-candleapotheke-co-168632_900x_2eaf9a8c-9363-4bef-ac58-f0c7454d8002.webp?v=1672762305\",\"width\":900},{\"alt\":null,\"id\":23365251399716,\"position\":4,\"preview_image\":{\"aspect_ratio\":1.0,\"height\":900,\"width\":900,\"src\":\"\\\\/\\\\/designer-rug.com\\\\/cdn\\\\/shop\\\\/products\\\\/Sea-Salt-Grapefruit-3-Wick-Candle-Apotheke-05_900x_c1789cc1-8ff1-4143-bf54-43b00c062b11.webp?v=1672762305\"},\"aspect_ratio\":1.0,\"height\":900,\"media_type\":\"image\",\"src\":\"\\\\/\\\\/designer-rug.com\\\\/cdn\\\\/shop\\\\/products\\\\/Sea-Salt-Grapefruit-3-Wick-Candle-Apotheke-05_900x_c1789cc1-8ff1-4143-bf54-43b00c062b11.webp?v=1672762305\",\"width\":900}],\"requires_selling_plan\":false,\"selling_plan_groups\":[],\"content\":\"\\\\u003cp\\\\u003e\\\\u003cspan\\\\u003eThe tang of sea salt, black pepper, and ripe grapefruit is balanced by dew drop accords and tarragon, for a fragrance like summer by the sea.\\\\u003c\\\\/span\\\\u003e\\\\u003c\\\\/p\\\\u003e\\\\n\\\\u003cp\\\\u003e\\\\u003cspan\\\\u003eOur candles are hand-poured with perfume-grade fragrance oils and a high quality soy wax blend. Each scent is formulated with a unique wick, wax, and fragrance combination to create a strong and clean burn.\\\\u003c\\\\/span\\\\u003e\\\\u003c\\\\/p\\\\u003e\\\\n\\\\u003cp\\\\u003e\\\\u003cstrong\\\\u003eEstimated Burn Time:\\\\u003c\\\\/strong\\\\u003e 120 hours\\\\u003c\\\\/p\\\\u003e\"}[{\"id\":14099513278525,\"title\":\"Default Title\",\"option1\":\"Default Title\",\"option2\":null,\"option3\":null,\"sku\":\"AP03-SG\",\"requires_shipping\":true,\"taxable\":true,\"featured_image\":null,\"available\":true,\"name\":\"Sea Salt Grapefruit 3-Wick Candle design by Apotheke\",\"public_title\":null,\"options\":[\"Default Title\"],\"price\":6400,\"weight\":2268,\"compare_at_price\":null,\"inventory_quantity\":0,\"inventory_management\":\"shopify\",\"inventory_policy\":\"continue\",\"barcode\":\"\",\"requires_selling_plan\":false,\"selling_plan_allocations\":[],\"quantity_rule\":{\"min\":1,\"max\":null,\"increment\":1}}]{\"id\":14099513278525,\"title\":\"Default Title\",\"option1\":\"Default Title\",\"option2\":null,\"option3\":null,\"sku\":\"AP03-SG\",\"requires_shipping\":true,\"taxable\":true,\"featured_image\":null,\"available\":true,\"name\":\"Sea Salt Grapefruit 3-Wick Candle design by Apotheke\",\"public_title\":null,\"options\":[\"Default Title\"],\"price\":6400,\"weight\":2268,\"compare_at_price\":null,\"inventory_quantity\":0,\"inventory_management\":\"shopify\",\"inventory_policy\":\"continue\",\"barcode\":\"\",\"requires_selling_plan\":false,\"selling_plan_allocations\":[],\"quantity_rule\":{\"min\":1,\"max\":null,\"increment\":1}}{ }The tang of sea salt, black pepper, and ripe grapefruit is balanced by dew drop accords and tarragon, for a fragrance like summer by the sea.Our candles are hand-poured with perfume-grade fragrance oils and a high quality soy wax blend. Each scent is formulated with a unique wick, wax, and fragrance combination to create a strong and clean burn.Estimated Burn Time: 120 hoursReviewsShareShare on FacebookTweetTweet on TwitterPin itPin on PinterestYou may also likeQuick viewSea Salt Grapefruit 3-Wick Candle design by Apotheke$64.00kitchen centralshop nowset the moodshop nowget cozyshop nowSign up and saveSign up and saveSubscribe to get special offers, free giveaways, and once-in-a-lifetime deals.Enter your emailSubscribesearchcontact usshipping & deliveriesreturns & exchangesaccessibility statementtermsradioAmerican ExpressApple PayDiners ClubDiscoverMeta PayGoogle PayMastercardPayPalShop PayVenmoVisaPOSandEcommerce by ShopifyPreviousNext\"Close (esc)\" ***Title: Sea Salt Grapefruit 3-Wick Candle design by Apotheke Description: The tang of sea salt, black pepper, and ripe grapefruit is balanced by dew drop accords and tarragon, for a fragrance like summer by the sea. Our candles are hand-poured with perfume-grade fragrance oils and a high quality soy wax blend.\\xa0 Each scent is formulated with a unique wick, wax, and fragrance combination to cr Price: 64.00 USD Image URL: http://designer-rug.com/cdn/shop/products/sea-salt-grapefruit-3-wick-candleapotheke-co3-wick-candleapotheke-co-168632_900x_2eaf9a8c-9363-4bef-ac58-f0c7454d8002_1200x630.webp?v=1672762305 URL: https://designer-rug.com/products/sea-salt-grapefruit-3-wick-candle-design-by-apotheke Availability: Stock Site Name: designer-rug.com type: product Images:  *** '"
            ],
            "application/vnd.google.colaboratory.intrinsic+json": {
              "type": "string"
            }
          },
          "metadata": {},
          "execution_count": 19
        }
      ]
    },
    {
      "cell_type": "markdown",
      "source": [
        "## Document Splitting"
      ],
      "metadata": {
        "id": "C2G9HcWW28W8"
      }
    },
    {
      "cell_type": "code",
      "source": [
        "from langchain.text_splitter import RecursiveCharacterTextSplitter\n",
        "text_splitter = RecursiveCharacterTextSplitter(chunk_size = 700,chunk_overlap = 150)\n"
      ],
      "metadata": {
        "id": "_ie-Lhja3dTz"
      },
      "execution_count": 15,
      "outputs": []
    },
    {
      "cell_type": "code",
      "source": [
        "splits = text_splitter.split_text(combined_scraped_api_search(column) )#google_scraper(column))\n",
        "len(splits)"
      ],
      "metadata": {
        "colab": {
          "base_uri": "https://localhost:8080/"
        },
        "id": "GDH6RzqL3gnR",
        "outputId": "8f93592e-797c-4956-9369-f04c3bde2b4d"
      },
      "execution_count": 99,
      "outputs": [
        {
          "output_type": "execute_result",
          "data": {
            "text/plain": [
              "11"
            ]
          },
          "metadata": {},
          "execution_count": 99
        }
      ]
    },
    {
      "cell_type": "code",
      "source": [
        "splits\n"
      ],
      "metadata": {
        "colab": {
          "base_uri": "https://localhost:8080/"
        },
        "id": "5EuJwQkrvRe2",
        "outputId": "2025c5ac-a479-443f-87fd-b4f8aed4ca99"
      },
      "execution_count": 100,
      "outputs": [
        {
          "output_type": "execute_result",
          "data": {
            "text/plain": [
              "[\"Google×Please clickhereif you are not redirected within a few seconds.AllImagesShoppingVideosMapsNewsBooksSearch toolsAny timeAny timePast hourPast 24 hoursPast weekPast monthPast yearAll resultsAll resultsVerbatimShowing results forapotheke 3 wick candlescollection upcSearch instead forapotheke 3 wick candles collectionupcSponsoredⓘShop apotheke 3 wick candles collection upcApotheke 3‑Wick Candles (Sea ...$78.00Amazon.comApotheke 3‑Wick Candles (White ...$78.00Amazon.comApotheke 3‑Wick Candles, Charcoal$49.98Sam's ClubApotheke 3-Wick Candles Collection Charcoal | eBaywww.ebay.com › Home & Garden › Candles & Home Fragrance › Candles$109.950602573896181. MPN. CHAR-CAN-3Wick. UPC.\",\n",
              " 'Candles Collection Charcoal | eBaywww.ebay.com › Home & Garden › Candles & Home Fragrance › Candles$109.950602573896181. MPN. CHAR-CAN-3Wick. UPC. 602573896181. Brand. APOTHEKE. Scent. Charcoal. Type. Does Not Apply. Category. Home & Garden > Candles & Home\\xa0...Apotheke 3-Wick Candles Collection - Amazon.comwww.amazon.com › Scented-Candles-Home-Soy-Wax-Jar-CandleRating4.2(147)·$78.00·In stockOur candles are hand poured and made with a proprietary blend of essential and perfume-grade oils for a long-lasting fragrance. Each 26 oz candle burns for\\xa0...Missing:upc| Show results with:upcdiscounted purchases Apotheke 3-Wick Candles Collection ...kannauj-fragrance.com › Candles & Tea LightsEAN:',\n",
              " 'for\\xa0...Missing:upc| Show results with:upcdiscounted purchases Apotheke 3-Wick Candles Collection ...kannauj-fragrance.com › Candles & Tea LightsEAN: 0602573896181. MPN: CHAR-CAN-3Wick. UPC: 602573896181. Brand: APOTHEKE. Scent: Charcoal. Type: Does Not Apply. Product description. Review rating. 4.9. (\\xa0...Amazon.com: Apotheke 3-Wick Candles (Canvas, 3-Wick)www.amazon.com › Scented-Candles-Home-Soy-Wax-Jar-CandleRating4.2(147)·$78.00·In stockCaptivating Fragrance: Transform any living space with the unforgettable scent of Canvas 3-Wick Candle from APOTHEKE. Our candles are hand poured and made with\\xa0...Missing:upc| Show results with:upc3-Wick Candles | APOTHEKEapothekeco.com › collections ›',\n",
              " 'from APOTHEKE. Our candles are hand poured and made with\\xa0...Missing:upc| Show results with:upc3-Wick Candles | APOTHEKEapothekeco.com › collections › 3-wick-candlesMade with a premium soy wax blend and essential and perfume-grade fragrance oils, our luxury scented 3-wick candles are designed to provide a clean-burning\\xa0...Missing:upc| Show results with:upcApotheke 3-Wick Candles (Santal Rock Rose, 3-Wick) Santal ... - eBaywww.ebay.com › Home & Garden › Candles & Home Fragrance › Candles$109.97SROCK-CAN-3Wick. UPC. 850015641602. Brand. APOTHEKE. Scent. Santal Rock Rose. Type. Does Not Apply. Category. Home & Garden > Candles & Home Fragrance > Candles.People also askHow long do Apotheke',\n",
              " 'Scent. Santal Rock Rose. Type. Does Not Apply. Category. Home & Garden > Candles & Home Fragrance > Candles.People also askHow long do Apotheke candles last?Are Apotheke candles natural?Why buy 3 wick candles?What does apotheke charcoal smell like?APOTHEKE WHITE VETIVER Scented Candle 3 Wick 32 OZ (HUGE)www.yoamomis15.com › apotheke-white-vetiver-scented-candle-3-wick-3...COP\\xa060.00UPC:850015641213. Wholesale and Overstock Deals Every Day! Store HomeView ListingsBookmark UsFeedbackContact Us MENU Store Categories Apparel & Clothing Buy\\xa0...Apotheke - Bamboo 3 Wick Candle – thescentshop usthescentshop-us.myshopify.com › products › tss-1551$19.00In stockApotheke Bamboo 3 Wick Candle is white',\n",
              " '- Bamboo 3 Wick Candle – thescentshop usthescentshop-us.myshopify.com › products › tss-1551$19.00In stockApotheke Bamboo 3 Wick Candle is white flowers, light moss, and white thyme blend with robust bamboo leaves, enveloping the room with a clean and earthy\\xa0...Charcoal 3-Wick Candle - Burke Decorwww.burkedecor.com › charcoal-3-wick-candle-design-by-apotheke$78.00Cedarwood and sandalwood combine with notes of smokey amber and oud to build a broody, full-bodied fragrance. Our candles are hand-poured with perfume-grade\\xa0...Sea Salt Grapefruit 3-Wick Candle design by Apothekedesigner-rug.com › products › sea-salt-grapefruit-3-wick-candle-design-by...$64.00Our candles are hand-poured with',\n",
              " '3-Wick Candle design by Apothekedesigner-rug.com › products › sea-salt-grapefruit-3-wick-candle-design-by...$64.00Our candles are hand-poured with perfume-grade fragrance oils and a high quality soy wax blend. Each scent is formulated with a unique wick, wax, and fragrance\\xa0...Related searchesApotheke 3 wick candles collection upc saleApotheke 3 wick candles collection upc reviewApotheke 3 wick candles collection upc amazonAPOTHEKE holiday candlesApotheke Tomato CandleApotheke Votive CandleApotheke winter Discovery SetAPOTHEKE mystery candleNext >United StatesFrom your IP address-Learn moreSign inSettingsPrivacyTermsDark theme: Off',\n",
              " '***Title: 3-Wick Candles | APOTHEKE\\nDescription: Made with a premium soy wax blend and essential and perfume-grade fragrance oils, our luxury scented 3-wick candles are designed to provide a clean-burning and exceptional scent experience.\\nImage URL: http:collections/3-wick-candles-681433.jpg \\nURL: https://apothekeco.com/collections/3-wick-candles \\nAvailability: Unknown\\nSite Name: APOTHEKE \\ntype: product.group \\nimage2: https://apothekeco.com/cdn/shop/products/White-Vetiver-3-Wick-Candle-Lifestyle-1_aca75c58-dd56-4c91-8fc2-8d29e5e9b617_1024x1024.jpg?v=1704389406 \\nlink: https://apothekeco.com/collections/3-wick-candles\\n ***Title: Apotheke 3-Wick Candles Collection',\n",
              " 'link: https://apothekeco.com/collections/3-wick-candles\\n ***Title: Apotheke 3-Wick Candles Collection\\nDescription: Captivating Fragrance: Transform any living space with the unforgettable scent of Charcoal 3-Wick Candle from APOTHEKE. Our candles are hand poured and made with a proprietary blend of essential and perfume-grade oils for a long-lasting fragrance. Each 26 oz candle burns for approximately 120 - 1...\\nURL: https://www.amazon.com/dp/B07PMY9PK6/ref=tsm_1_fb_lk \\nAvailability: In Stock\\nASIN: B07PMY9PK6 \\ntype: text \\nimage2: https://m.media-amazon.com/images/I/51PyziKMJdL._AC_UF894,1000_QL80_.jpg \\nlink: https://www.amazon.com/Scented-Candles-Home-Soy-Wax-Jar-Candle/dp/B07PMY9PK6',\n",
              " 'link: https://www.amazon.com/Scented-Candles-Home-Soy-Wax-Jar-Candle/dp/B07PMY9PK6\\n ***Title: Canvas 3-Wick Candle\\nDescription: Our Canvas 3-Wick Candle fills any room in your home with hours of light, refreshing fragrance. Notes of crisp linen, white musk, and sweet lily of the valley all mingle with dew drops to create an invigorating, fresh scent. Light Canvas every morning to start every day with a fresh start.\\nPrice: 78.00 USD\\nImage URL: http:products/AP03-CA_Canvas_26oz_3WickCandle.jpg \\nURL: https://apothekeco.com/products/canvas-3-wick-candle \\nAvailability: in stock\\nSite Name: APOTHEKE \\ntype: product',\n",
              " 'URL: https://apothekeco.com/products/canvas-3-wick-candle \\nAvailability: in stock\\nSite Name: APOTHEKE \\ntype: product \\nimage2: https://cdn.shopify.com/s/files/1/0101/7420/1956/products/Saffron-Vanilla-3-Wick-Candle-Lifestyle-1_1024x1024.jpg?v=1705427083 \\nlink: https://apothekeco.com/products/canvas-3-wick-candle']"
            ]
          },
          "metadata": {},
          "execution_count": 100
        }
      ]
    },
    {
      "cell_type": "code",
      "source": [
        "# docs = text_splitter.split_documents(google_scraper(column))\n",
        "# len(docs)\n",
        "# docs"
      ],
      "metadata": {
        "id": "TtL8rJx5JTXS",
        "outputId": "3e3a4aca-1bc5-4779-e161-4c20473b34d3",
        "colab": {
          "base_uri": "https://localhost:8080/",
          "height": 297
        }
      },
      "execution_count": 18,
      "outputs": [
        {
          "output_type": "error",
          "ename": "AttributeError",
          "evalue": "'str' object has no attribute 'page_content'",
          "traceback": [
            "\u001b[0;31m---------------------------------------------------------------------------\u001b[0m",
            "\u001b[0;31mAttributeError\u001b[0m                            Traceback (most recent call last)",
            "\u001b[0;32m<ipython-input-18-0b28ea66debc>\u001b[0m in \u001b[0;36m<cell line: 1>\u001b[0;34m()\u001b[0m\n\u001b[0;32m----> 1\u001b[0;31m \u001b[0mdocs\u001b[0m \u001b[0;34m=\u001b[0m \u001b[0mtext_splitter\u001b[0m\u001b[0;34m.\u001b[0m\u001b[0msplit_documents\u001b[0m\u001b[0;34m(\u001b[0m\u001b[0mgoogle_scraper\u001b[0m\u001b[0;34m(\u001b[0m\u001b[0mcolumn\u001b[0m\u001b[0;34m)\u001b[0m\u001b[0;34m)\u001b[0m\u001b[0;34m\u001b[0m\u001b[0;34m\u001b[0m\u001b[0m\n\u001b[0m\u001b[1;32m      2\u001b[0m \u001b[0mlen\u001b[0m\u001b[0;34m(\u001b[0m\u001b[0mdocs\u001b[0m\u001b[0;34m)\u001b[0m\u001b[0;34m\u001b[0m\u001b[0;34m\u001b[0m\u001b[0m\n\u001b[1;32m      3\u001b[0m \u001b[0mdocs\u001b[0m\u001b[0;34m\u001b[0m\u001b[0;34m\u001b[0m\u001b[0m\n",
            "\u001b[0;32m/usr/local/lib/python3.10/dist-packages/langchain_text_splitters/base.py\u001b[0m in \u001b[0;36msplit_documents\u001b[0;34m(self, documents)\u001b[0m\n\u001b[1;32m     91\u001b[0m         \u001b[0mtexts\u001b[0m\u001b[0;34m,\u001b[0m \u001b[0mmetadatas\u001b[0m \u001b[0;34m=\u001b[0m \u001b[0;34m[\u001b[0m\u001b[0;34m]\u001b[0m\u001b[0;34m,\u001b[0m \u001b[0;34m[\u001b[0m\u001b[0;34m]\u001b[0m\u001b[0;34m\u001b[0m\u001b[0;34m\u001b[0m\u001b[0m\n\u001b[1;32m     92\u001b[0m         \u001b[0;32mfor\u001b[0m \u001b[0mdoc\u001b[0m \u001b[0;32min\u001b[0m \u001b[0mdocuments\u001b[0m\u001b[0;34m:\u001b[0m\u001b[0;34m\u001b[0m\u001b[0;34m\u001b[0m\u001b[0m\n\u001b[0;32m---> 93\u001b[0;31m             \u001b[0mtexts\u001b[0m\u001b[0;34m.\u001b[0m\u001b[0mappend\u001b[0m\u001b[0;34m(\u001b[0m\u001b[0mdoc\u001b[0m\u001b[0;34m.\u001b[0m\u001b[0mpage_content\u001b[0m\u001b[0;34m)\u001b[0m\u001b[0;34m\u001b[0m\u001b[0;34m\u001b[0m\u001b[0m\n\u001b[0m\u001b[1;32m     94\u001b[0m             \u001b[0mmetadatas\u001b[0m\u001b[0;34m.\u001b[0m\u001b[0mappend\u001b[0m\u001b[0;34m(\u001b[0m\u001b[0mdoc\u001b[0m\u001b[0;34m.\u001b[0m\u001b[0mmetadata\u001b[0m\u001b[0;34m)\u001b[0m\u001b[0;34m\u001b[0m\u001b[0;34m\u001b[0m\u001b[0m\n\u001b[1;32m     95\u001b[0m         \u001b[0;32mreturn\u001b[0m \u001b[0mself\u001b[0m\u001b[0;34m.\u001b[0m\u001b[0mcreate_documents\u001b[0m\u001b[0;34m(\u001b[0m\u001b[0mtexts\u001b[0m\u001b[0;34m,\u001b[0m \u001b[0mmetadatas\u001b[0m\u001b[0;34m=\u001b[0m\u001b[0mmetadatas\u001b[0m\u001b[0;34m)\u001b[0m\u001b[0;34m\u001b[0m\u001b[0;34m\u001b[0m\u001b[0m\n",
            "\u001b[0;31mAttributeError\u001b[0m: 'str' object has no attribute 'page_content'"
          ]
        }
      ]
    },
    {
      "cell_type": "markdown",
      "source": [
        "## Embeddings and Vectorstores\n",
        "Let's take our splits and embed them."
      ],
      "metadata": {
        "id": "Ok2IFWFB2eUG"
      }
    },
    {
      "cell_type": "code",
      "source": [
        "from langchain.embeddings.openai import OpenAIEmbeddings\n",
        "embedding = OpenAIEmbeddings()"
      ],
      "metadata": {
        "id": "TAt1_Hf92juq"
      },
      "execution_count": 21,
      "outputs": []
    },
    {
      "cell_type": "code",
      "source": [
        "!pip install chromadb\n",
        "\n",
        "from langchain.vectorstores import Chroma\n",
        "persist_directory = 'docs/chroma/'\n",
        "\n",
        "import sys\n",
        "sys.path.append('../..')\n",
        "\n",
        "\n"
      ],
      "metadata": {
        "colab": {
          "base_uri": "https://localhost:8080/"
        },
        "id": "_ykwtXcf3-mV",
        "outputId": "f5b51a8b-70c9-400d-a6e4-8866a5fa2b05"
      },
      "execution_count": 22,
      "outputs": [
        {
          "output_type": "stream",
          "name": "stdout",
          "text": [
            "Collecting chromadb\n",
            "  Downloading chromadb-0.4.24-py3-none-any.whl (525 kB)\n",
            "\u001b[2K     \u001b[90m━━━━━━━━━━━━━━━━━━━━━━━━━━━━━━━━━━━━━━━━\u001b[0m \u001b[32m525.5/525.5 kB\u001b[0m \u001b[31m3.6 MB/s\u001b[0m eta \u001b[36m0:00:00\u001b[0m\n",
            "\u001b[?25hRequirement already satisfied: build>=1.0.3 in /usr/local/lib/python3.10/dist-packages (from chromadb) (1.1.1)\n",
            "Requirement already satisfied: requests>=2.28 in /usr/local/lib/python3.10/dist-packages (from chromadb) (2.31.0)\n",
            "Requirement already satisfied: pydantic>=1.9 in /usr/local/lib/python3.10/dist-packages (from chromadb) (2.6.3)\n",
            "Collecting chroma-hnswlib==0.7.3 (from chromadb)\n",
            "  Downloading chroma_hnswlib-0.7.3-cp310-cp310-manylinux_2_17_x86_64.manylinux2014_x86_64.whl (2.4 MB)\n",
            "\u001b[2K     \u001b[90m━━━━━━━━━━━━━━━━━━━━━━━━━━━━━━━━━━━━━━━━\u001b[0m \u001b[32m2.4/2.4 MB\u001b[0m \u001b[31m23.8 MB/s\u001b[0m eta \u001b[36m0:00:00\u001b[0m\n",
            "\u001b[?25hCollecting fastapi>=0.95.2 (from chromadb)\n",
            "  Downloading fastapi-0.110.0-py3-none-any.whl (92 kB)\n",
            "\u001b[2K     \u001b[90m━━━━━━━━━━━━━━━━━━━━━━━━━━━━━━━━━━━━━━━━\u001b[0m \u001b[32m92.1/92.1 kB\u001b[0m \u001b[31m13.3 MB/s\u001b[0m eta \u001b[36m0:00:00\u001b[0m\n",
            "\u001b[?25hCollecting uvicorn[standard]>=0.18.3 (from chromadb)\n",
            "  Downloading uvicorn-0.28.0-py3-none-any.whl (60 kB)\n",
            "\u001b[2K     \u001b[90m━━━━━━━━━━━━━━━━━━━━━━━━━━━━━━━━━━━━━━━━\u001b[0m \u001b[32m60.6/60.6 kB\u001b[0m \u001b[31m1.8 MB/s\u001b[0m eta \u001b[36m0:00:00\u001b[0m\n",
            "\u001b[?25hRequirement already satisfied: numpy>=1.22.5 in /usr/local/lib/python3.10/dist-packages (from chromadb) (1.25.2)\n",
            "Collecting posthog>=2.4.0 (from chromadb)\n",
            "  Downloading posthog-3.5.0-py2.py3-none-any.whl (41 kB)\n",
            "\u001b[2K     \u001b[90m━━━━━━━━━━━━━━━━━━━━━━━━━━━━━━━━━━━━━━━━\u001b[0m \u001b[32m41.3/41.3 kB\u001b[0m \u001b[31m5.6 MB/s\u001b[0m eta \u001b[36m0:00:00\u001b[0m\n",
            "\u001b[?25hRequirement already satisfied: typing-extensions>=4.5.0 in /usr/local/lib/python3.10/dist-packages (from chromadb) (4.10.0)\n",
            "Collecting pulsar-client>=3.1.0 (from chromadb)\n",
            "  Downloading pulsar_client-3.4.0-cp310-cp310-manylinux_2_17_x86_64.manylinux2014_x86_64.whl (5.4 MB)\n",
            "\u001b[2K     \u001b[90m━━━━━━━━━━━━━━━━━━━━━━━━━━━━━━━━━━━━━━━━\u001b[0m \u001b[32m5.4/5.4 MB\u001b[0m \u001b[31m57.5 MB/s\u001b[0m eta \u001b[36m0:00:00\u001b[0m\n",
            "\u001b[?25hCollecting onnxruntime>=1.14.1 (from chromadb)\n",
            "  Downloading onnxruntime-1.17.1-cp310-cp310-manylinux_2_27_x86_64.manylinux_2_28_x86_64.whl (6.8 MB)\n",
            "\u001b[2K     \u001b[90m━━━━━━━━━━━━━━━━━━━━━━━━━━━━━━━━━━━━━━━━\u001b[0m \u001b[32m6.8/6.8 MB\u001b[0m \u001b[31m23.5 MB/s\u001b[0m eta \u001b[36m0:00:00\u001b[0m\n",
            "\u001b[?25hCollecting opentelemetry-api>=1.2.0 (from chromadb)\n",
            "  Downloading opentelemetry_api-1.23.0-py3-none-any.whl (58 kB)\n",
            "\u001b[2K     \u001b[90m━━━━━━━━━━━━━━━━━━━━━━━━━━━━━━━━━━━━━━━━\u001b[0m \u001b[32m58.4/58.4 kB\u001b[0m \u001b[31m8.8 MB/s\u001b[0m eta \u001b[36m0:00:00\u001b[0m\n",
            "\u001b[?25hCollecting opentelemetry-exporter-otlp-proto-grpc>=1.2.0 (from chromadb)\n",
            "  Downloading opentelemetry_exporter_otlp_proto_grpc-1.23.0-py3-none-any.whl (18 kB)\n",
            "Collecting opentelemetry-instrumentation-fastapi>=0.41b0 (from chromadb)\n",
            "  Downloading opentelemetry_instrumentation_fastapi-0.44b0-py3-none-any.whl (11 kB)\n",
            "Collecting opentelemetry-sdk>=1.2.0 (from chromadb)\n",
            "  Downloading opentelemetry_sdk-1.23.0-py3-none-any.whl (105 kB)\n",
            "\u001b[2K     \u001b[90m━━━━━━━━━━━━━━━━━━━━━━━━━━━━━━━━━━━━━━━━\u001b[0m \u001b[32m105.7/105.7 kB\u001b[0m \u001b[31m15.9 MB/s\u001b[0m eta \u001b[36m0:00:00\u001b[0m\n",
            "\u001b[?25hRequirement already satisfied: tokenizers>=0.13.2 in /usr/local/lib/python3.10/dist-packages (from chromadb) (0.15.2)\n",
            "Collecting pypika>=0.48.9 (from chromadb)\n",
            "  Downloading PyPika-0.48.9.tar.gz (67 kB)\n",
            "\u001b[2K     \u001b[90m━━━━━━━━━━━━━━━━━━━━━━━━━━━━━━━━━━━━━━━━\u001b[0m \u001b[32m67.3/67.3 kB\u001b[0m \u001b[31m10.9 MB/s\u001b[0m eta \u001b[36m0:00:00\u001b[0m\n",
            "\u001b[?25h  Installing build dependencies ... \u001b[?25l\u001b[?25hdone\n",
            "  Getting requirements to build wheel ... \u001b[?25l\u001b[?25hdone\n",
            "  Preparing metadata (pyproject.toml) ... \u001b[?25l\u001b[?25hdone\n",
            "Requirement already satisfied: tqdm>=4.65.0 in /usr/local/lib/python3.10/dist-packages (from chromadb) (4.66.2)\n",
            "Collecting overrides>=7.3.1 (from chromadb)\n",
            "  Downloading overrides-7.7.0-py3-none-any.whl (17 kB)\n",
            "Requirement already satisfied: importlib-resources in /usr/local/lib/python3.10/dist-packages (from chromadb) (6.1.3)\n",
            "Requirement already satisfied: grpcio>=1.58.0 in /usr/local/lib/python3.10/dist-packages (from chromadb) (1.62.1)\n",
            "Collecting bcrypt>=4.0.1 (from chromadb)\n",
            "  Downloading bcrypt-4.1.2-cp39-abi3-manylinux_2_28_x86_64.whl (698 kB)\n",
            "\u001b[2K     \u001b[90m━━━━━━━━━━━━━━━━━━━━━━━━━━━━━━━━━━━━━━━━\u001b[0m \u001b[32m698.9/698.9 kB\u001b[0m \u001b[31m68.5 MB/s\u001b[0m eta \u001b[36m0:00:00\u001b[0m\n",
            "\u001b[?25hRequirement already satisfied: typer>=0.9.0 in /usr/local/lib/python3.10/dist-packages (from chromadb) (0.9.0)\n",
            "Collecting kubernetes>=28.1.0 (from chromadb)\n",
            "  Downloading kubernetes-29.0.0-py2.py3-none-any.whl (1.6 MB)\n",
            "\u001b[2K     \u001b[90m━━━━━━━━━━━━━━━━━━━━━━━━━━━━━━━━━━━━━━━━\u001b[0m \u001b[32m1.6/1.6 MB\u001b[0m \u001b[31m108.5 MB/s\u001b[0m eta \u001b[36m0:00:00\u001b[0m\n",
            "\u001b[?25hRequirement already satisfied: tenacity>=8.2.3 in /usr/local/lib/python3.10/dist-packages (from chromadb) (8.2.3)\n",
            "Requirement already satisfied: PyYAML>=6.0.0 in /usr/local/lib/python3.10/dist-packages (from chromadb) (6.0.1)\n",
            "Collecting mmh3>=4.0.1 (from chromadb)\n",
            "  Downloading mmh3-4.1.0-cp310-cp310-manylinux_2_5_x86_64.manylinux1_x86_64.manylinux_2_17_x86_64.manylinux2014_x86_64.whl (67 kB)\n",
            "\u001b[2K     \u001b[90m━━━━━━━━━━━━━━━━━━━━━━━━━━━━━━━━━━━━━━━━\u001b[0m \u001b[32m67.6/67.6 kB\u001b[0m \u001b[31m10.5 MB/s\u001b[0m eta \u001b[36m0:00:00\u001b[0m\n",
            "\u001b[?25hRequirement already satisfied: orjson>=3.9.12 in /usr/local/lib/python3.10/dist-packages (from chromadb) (3.9.15)\n",
            "Requirement already satisfied: packaging>=19.0 in /usr/local/lib/python3.10/dist-packages (from build>=1.0.3->chromadb) (23.2)\n",
            "Requirement already satisfied: pyproject_hooks in /usr/local/lib/python3.10/dist-packages (from build>=1.0.3->chromadb) (1.0.0)\n",
            "Requirement already satisfied: tomli>=1.1.0 in /usr/local/lib/python3.10/dist-packages (from build>=1.0.3->chromadb) (2.0.1)\n",
            "Collecting starlette<0.37.0,>=0.36.3 (from fastapi>=0.95.2->chromadb)\n",
            "  Downloading starlette-0.36.3-py3-none-any.whl (71 kB)\n",
            "\u001b[2K     \u001b[90m━━━━━━━━━━━━━━━━━━━━━━━━━━━━━━━━━━━━━━━━\u001b[0m \u001b[32m71.5/71.5 kB\u001b[0m \u001b[31m11.5 MB/s\u001b[0m eta \u001b[36m0:00:00\u001b[0m\n",
            "\u001b[?25hRequirement already satisfied: certifi>=14.05.14 in /usr/local/lib/python3.10/dist-packages (from kubernetes>=28.1.0->chromadb) (2024.2.2)\n",
            "Requirement already satisfied: six>=1.9.0 in /usr/local/lib/python3.10/dist-packages (from kubernetes>=28.1.0->chromadb) (1.16.0)\n",
            "Requirement already satisfied: python-dateutil>=2.5.3 in /usr/local/lib/python3.10/dist-packages (from kubernetes>=28.1.0->chromadb) (2.8.2)\n",
            "Requirement already satisfied: google-auth>=1.0.1 in /usr/local/lib/python3.10/dist-packages (from kubernetes>=28.1.0->chromadb) (2.27.0)\n",
            "Requirement already satisfied: websocket-client!=0.40.0,!=0.41.*,!=0.42.*,>=0.32.0 in /usr/local/lib/python3.10/dist-packages (from kubernetes>=28.1.0->chromadb) (1.7.0)\n",
            "Requirement already satisfied: requests-oauthlib in /usr/local/lib/python3.10/dist-packages (from kubernetes>=28.1.0->chromadb) (1.4.0)\n",
            "Requirement already satisfied: oauthlib>=3.2.2 in /usr/local/lib/python3.10/dist-packages (from kubernetes>=28.1.0->chromadb) (3.2.2)\n",
            "Requirement already satisfied: urllib3>=1.24.2 in /usr/local/lib/python3.10/dist-packages (from kubernetes>=28.1.0->chromadb) (2.0.7)\n",
            "Collecting coloredlogs (from onnxruntime>=1.14.1->chromadb)\n",
            "  Downloading coloredlogs-15.0.1-py2.py3-none-any.whl (46 kB)\n",
            "\u001b[2K     \u001b[90m━━━━━━━━━━━━━━━━━━━━━━━━━━━━━━━━━━━━━━━━\u001b[0m \u001b[32m46.0/46.0 kB\u001b[0m \u001b[31m6.8 MB/s\u001b[0m eta \u001b[36m0:00:00\u001b[0m\n",
            "\u001b[?25hRequirement already satisfied: flatbuffers in /usr/local/lib/python3.10/dist-packages (from onnxruntime>=1.14.1->chromadb) (24.3.7)\n",
            "Requirement already satisfied: protobuf in /usr/local/lib/python3.10/dist-packages (from onnxruntime>=1.14.1->chromadb) (3.20.3)\n",
            "Requirement already satisfied: sympy in /usr/local/lib/python3.10/dist-packages (from onnxruntime>=1.14.1->chromadb) (1.12)\n",
            "Collecting deprecated>=1.2.6 (from opentelemetry-api>=1.2.0->chromadb)\n",
            "  Downloading Deprecated-1.2.14-py2.py3-none-any.whl (9.6 kB)\n",
            "Collecting importlib-metadata<7.0,>=6.0 (from opentelemetry-api>=1.2.0->chromadb)\n",
            "  Downloading importlib_metadata-6.11.0-py3-none-any.whl (23 kB)\n",
            "Requirement already satisfied: googleapis-common-protos~=1.52 in /usr/local/lib/python3.10/dist-packages (from opentelemetry-exporter-otlp-proto-grpc>=1.2.0->chromadb) (1.63.0)\n",
            "Collecting opentelemetry-exporter-otlp-proto-common==1.23.0 (from opentelemetry-exporter-otlp-proto-grpc>=1.2.0->chromadb)\n",
            "  Downloading opentelemetry_exporter_otlp_proto_common-1.23.0-py3-none-any.whl (17 kB)\n",
            "Collecting opentelemetry-proto==1.23.0 (from opentelemetry-exporter-otlp-proto-grpc>=1.2.0->chromadb)\n",
            "  Downloading opentelemetry_proto-1.23.0-py3-none-any.whl (50 kB)\n",
            "\u001b[2K     \u001b[90m━━━━━━━━━━━━━━━━━━━━━━━━━━━━━━━━━━━━━━━━\u001b[0m \u001b[32m50.8/50.8 kB\u001b[0m \u001b[31m7.7 MB/s\u001b[0m eta \u001b[36m0:00:00\u001b[0m\n",
            "\u001b[?25hCollecting opentelemetry-instrumentation-asgi==0.44b0 (from opentelemetry-instrumentation-fastapi>=0.41b0->chromadb)\n",
            "  Downloading opentelemetry_instrumentation_asgi-0.44b0-py3-none-any.whl (14 kB)\n",
            "Collecting opentelemetry-instrumentation==0.44b0 (from opentelemetry-instrumentation-fastapi>=0.41b0->chromadb)\n",
            "  Downloading opentelemetry_instrumentation-0.44b0-py3-none-any.whl (28 kB)\n",
            "Collecting opentelemetry-semantic-conventions==0.44b0 (from opentelemetry-instrumentation-fastapi>=0.41b0->chromadb)\n",
            "  Downloading opentelemetry_semantic_conventions-0.44b0-py3-none-any.whl (36 kB)\n",
            "Collecting opentelemetry-util-http==0.44b0 (from opentelemetry-instrumentation-fastapi>=0.41b0->chromadb)\n",
            "  Downloading opentelemetry_util_http-0.44b0-py3-none-any.whl (6.9 kB)\n",
            "Requirement already satisfied: setuptools>=16.0 in /usr/local/lib/python3.10/dist-packages (from opentelemetry-instrumentation==0.44b0->opentelemetry-instrumentation-fastapi>=0.41b0->chromadb) (67.7.2)\n",
            "Requirement already satisfied: wrapt<2.0.0,>=1.0.0 in /usr/local/lib/python3.10/dist-packages (from opentelemetry-instrumentation==0.44b0->opentelemetry-instrumentation-fastapi>=0.41b0->chromadb) (1.14.1)\n",
            "Collecting asgiref~=3.0 (from opentelemetry-instrumentation-asgi==0.44b0->opentelemetry-instrumentation-fastapi>=0.41b0->chromadb)\n",
            "  Downloading asgiref-3.7.2-py3-none-any.whl (24 kB)\n",
            "Collecting monotonic>=1.5 (from posthog>=2.4.0->chromadb)\n",
            "  Downloading monotonic-1.6-py2.py3-none-any.whl (8.2 kB)\n",
            "Collecting backoff>=1.10.0 (from posthog>=2.4.0->chromadb)\n",
            "  Downloading backoff-2.2.1-py3-none-any.whl (15 kB)\n",
            "Requirement already satisfied: annotated-types>=0.4.0 in /usr/local/lib/python3.10/dist-packages (from pydantic>=1.9->chromadb) (0.6.0)\n",
            "Requirement already satisfied: pydantic-core==2.16.3 in /usr/local/lib/python3.10/dist-packages (from pydantic>=1.9->chromadb) (2.16.3)\n",
            "Requirement already satisfied: charset-normalizer<4,>=2 in /usr/local/lib/python3.10/dist-packages (from requests>=2.28->chromadb) (3.3.2)\n",
            "Requirement already satisfied: idna<4,>=2.5 in /usr/local/lib/python3.10/dist-packages (from requests>=2.28->chromadb) (3.6)\n",
            "Requirement already satisfied: huggingface_hub<1.0,>=0.16.4 in /usr/local/lib/python3.10/dist-packages (from tokenizers>=0.13.2->chromadb) (0.20.3)\n",
            "Requirement already satisfied: click<9.0.0,>=7.1.1 in /usr/local/lib/python3.10/dist-packages (from typer>=0.9.0->chromadb) (8.1.7)\n",
            "Requirement already satisfied: h11>=0.8 in /usr/local/lib/python3.10/dist-packages (from uvicorn[standard]>=0.18.3->chromadb) (0.14.0)\n",
            "Collecting httptools>=0.5.0 (from uvicorn[standard]>=0.18.3->chromadb)\n",
            "  Downloading httptools-0.6.1-cp310-cp310-manylinux_2_5_x86_64.manylinux1_x86_64.manylinux_2_17_x86_64.manylinux2014_x86_64.whl (341 kB)\n",
            "\u001b[2K     \u001b[90m━━━━━━━━━━━━━━━━━━━━━━━━━━━━━━━━━━━━━━━━\u001b[0m \u001b[32m341.4/341.4 kB\u001b[0m \u001b[31m40.9 MB/s\u001b[0m eta \u001b[36m0:00:00\u001b[0m\n",
            "\u001b[?25hCollecting python-dotenv>=0.13 (from uvicorn[standard]>=0.18.3->chromadb)\n",
            "  Downloading python_dotenv-1.0.1-py3-none-any.whl (19 kB)\n",
            "Collecting uvloop!=0.15.0,!=0.15.1,>=0.14.0 (from uvicorn[standard]>=0.18.3->chromadb)\n",
            "  Downloading uvloop-0.19.0-cp310-cp310-manylinux_2_17_x86_64.manylinux2014_x86_64.whl (3.4 MB)\n",
            "\u001b[2K     \u001b[90m━━━━━━━━━━━━━━━━━━━━━━━━━━━━━━━━━━━━━━━━\u001b[0m \u001b[32m3.4/3.4 MB\u001b[0m \u001b[31m58.4 MB/s\u001b[0m eta \u001b[36m0:00:00\u001b[0m\n",
            "\u001b[?25hCollecting watchfiles>=0.13 (from uvicorn[standard]>=0.18.3->chromadb)\n",
            "  Downloading watchfiles-0.21.0-cp310-cp310-manylinux_2_17_x86_64.manylinux2014_x86_64.whl (1.3 MB)\n",
            "\u001b[2K     \u001b[90m━━━━━━━━━━━━━━━━━━━━━━━━━━━━━━━━━━━━━━━━\u001b[0m \u001b[32m1.3/1.3 MB\u001b[0m \u001b[31m77.5 MB/s\u001b[0m eta \u001b[36m0:00:00\u001b[0m\n",
            "\u001b[?25hCollecting websockets>=10.4 (from uvicorn[standard]>=0.18.3->chromadb)\n",
            "  Downloading websockets-12.0-cp310-cp310-manylinux_2_5_x86_64.manylinux1_x86_64.manylinux_2_17_x86_64.manylinux2014_x86_64.whl (130 kB)\n",
            "\u001b[2K     \u001b[90m━━━━━━━━━━━━━━━━━━━━━━━━━━━━━━━━━━━━━━━━\u001b[0m \u001b[32m130.2/130.2 kB\u001b[0m \u001b[31m19.8 MB/s\u001b[0m eta \u001b[36m0:00:00\u001b[0m\n",
            "\u001b[?25hRequirement already satisfied: cachetools<6.0,>=2.0.0 in /usr/local/lib/python3.10/dist-packages (from google-auth>=1.0.1->kubernetes>=28.1.0->chromadb) (5.3.3)\n",
            "Requirement already satisfied: pyasn1-modules>=0.2.1 in /usr/local/lib/python3.10/dist-packages (from google-auth>=1.0.1->kubernetes>=28.1.0->chromadb) (0.3.0)\n",
            "Requirement already satisfied: rsa<5,>=3.1.4 in /usr/local/lib/python3.10/dist-packages (from google-auth>=1.0.1->kubernetes>=28.1.0->chromadb) (4.9)\n",
            "Requirement already satisfied: filelock in /usr/local/lib/python3.10/dist-packages (from huggingface_hub<1.0,>=0.16.4->tokenizers>=0.13.2->chromadb) (3.13.1)\n",
            "Requirement already satisfied: fsspec>=2023.5.0 in /usr/local/lib/python3.10/dist-packages (from huggingface_hub<1.0,>=0.16.4->tokenizers>=0.13.2->chromadb) (2023.6.0)\n",
            "Requirement already satisfied: zipp>=0.5 in /usr/local/lib/python3.10/dist-packages (from importlib-metadata<7.0,>=6.0->opentelemetry-api>=1.2.0->chromadb) (3.17.0)\n",
            "Requirement already satisfied: anyio<5,>=3.4.0 in /usr/local/lib/python3.10/dist-packages (from starlette<0.37.0,>=0.36.3->fastapi>=0.95.2->chromadb) (3.7.1)\n",
            "Collecting humanfriendly>=9.1 (from coloredlogs->onnxruntime>=1.14.1->chromadb)\n",
            "  Downloading humanfriendly-10.0-py2.py3-none-any.whl (86 kB)\n",
            "\u001b[2K     \u001b[90m━━━━━━━━━━━━━━━━━━━━━━━━━━━━━━━━━━━━━━━━\u001b[0m \u001b[32m86.8/86.8 kB\u001b[0m \u001b[31m12.1 MB/s\u001b[0m eta \u001b[36m0:00:00\u001b[0m\n",
            "\u001b[?25hRequirement already satisfied: mpmath>=0.19 in /usr/local/lib/python3.10/dist-packages (from sympy->onnxruntime>=1.14.1->chromadb) (1.3.0)\n",
            "Requirement already satisfied: sniffio>=1.1 in /usr/local/lib/python3.10/dist-packages (from anyio<5,>=3.4.0->starlette<0.37.0,>=0.36.3->fastapi>=0.95.2->chromadb) (1.3.1)\n",
            "Requirement already satisfied: exceptiongroup in /usr/local/lib/python3.10/dist-packages (from anyio<5,>=3.4.0->starlette<0.37.0,>=0.36.3->fastapi>=0.95.2->chromadb) (1.2.0)\n",
            "Requirement already satisfied: pyasn1<0.6.0,>=0.4.6 in /usr/local/lib/python3.10/dist-packages (from pyasn1-modules>=0.2.1->google-auth>=1.0.1->kubernetes>=28.1.0->chromadb) (0.5.1)\n",
            "Building wheels for collected packages: pypika\n",
            "  Building wheel for pypika (pyproject.toml) ... \u001b[?25l\u001b[?25hdone\n",
            "  Created wheel for pypika: filename=PyPika-0.48.9-py2.py3-none-any.whl size=53724 sha256=b0927fa02591e26832bbfda761264bf3113cc949723e099980402c2f5d3b47a4\n",
            "  Stored in directory: /root/.cache/pip/wheels/e1/26/51/d0bffb3d2fd82256676d7ad3003faea3bd6dddc9577af665f4\n",
            "Successfully built pypika\n",
            "Installing collected packages: pypika, monotonic, mmh3, websockets, uvloop, uvicorn, python-dotenv, pulsar-client, overrides, opentelemetry-util-http, opentelemetry-semantic-conventions, opentelemetry-proto, importlib-metadata, humanfriendly, httptools, deprecated, chroma-hnswlib, bcrypt, backoff, asgiref, watchfiles, starlette, posthog, opentelemetry-exporter-otlp-proto-common, opentelemetry-api, coloredlogs, opentelemetry-sdk, opentelemetry-instrumentation, onnxruntime, kubernetes, fastapi, opentelemetry-instrumentation-asgi, opentelemetry-exporter-otlp-proto-grpc, opentelemetry-instrumentation-fastapi, chromadb\n",
            "  Attempting uninstall: importlib-metadata\n",
            "    Found existing installation: importlib_metadata 7.0.2\n",
            "    Uninstalling importlib_metadata-7.0.2:\n",
            "      Successfully uninstalled importlib_metadata-7.0.2\n",
            "Successfully installed asgiref-3.7.2 backoff-2.2.1 bcrypt-4.1.2 chroma-hnswlib-0.7.3 chromadb-0.4.24 coloredlogs-15.0.1 deprecated-1.2.14 fastapi-0.110.0 httptools-0.6.1 humanfriendly-10.0 importlib-metadata-6.11.0 kubernetes-29.0.0 mmh3-4.1.0 monotonic-1.6 onnxruntime-1.17.1 opentelemetry-api-1.23.0 opentelemetry-exporter-otlp-proto-common-1.23.0 opentelemetry-exporter-otlp-proto-grpc-1.23.0 opentelemetry-instrumentation-0.44b0 opentelemetry-instrumentation-asgi-0.44b0 opentelemetry-instrumentation-fastapi-0.44b0 opentelemetry-proto-1.23.0 opentelemetry-sdk-1.23.0 opentelemetry-semantic-conventions-0.44b0 opentelemetry-util-http-0.44b0 overrides-7.7.0 posthog-3.5.0 pulsar-client-3.4.0 pypika-0.48.9 python-dotenv-1.0.1 starlette-0.36.3 uvicorn-0.28.0 uvloop-0.19.0 watchfiles-0.21.0 websockets-12.0\n"
          ]
        }
      ]
    },
    {
      "cell_type": "code",
      "source": [
        "!rm -rf ./docs/chroma  # remove old database files if any"
      ],
      "metadata": {
        "id": "EGkolKQ-FWB5"
      },
      "execution_count": 101,
      "outputs": []
    },
    {
      "cell_type": "code",
      "source": [
        "vectordb = Chroma(\n",
        "    persist_directory=persist_directory,\n",
        "    embedding_function=embedding\n",
        ")"
      ],
      "metadata": {
        "id": "3QpR0yFe4OkW"
      },
      "execution_count": 102,
      "outputs": []
    },
    {
      "cell_type": "code",
      "source": [
        "vectordb = Chroma.from_texts(splits, embedding=embedding)"
      ],
      "metadata": {
        "id": "LSQmBKkUi5vY"
      },
      "execution_count": 104,
      "outputs": []
    },
    {
      "cell_type": "code",
      "source": [
        "print(vectordb._collection.count())"
      ],
      "metadata": {
        "id": "RG5vU-q7mdzy",
        "outputId": "99836d57-016d-44b1-c671-ea128d7902eb",
        "colab": {
          "base_uri": "https://localhost:8080/"
        }
      },
      "execution_count": 105,
      "outputs": [
        {
          "output_type": "stream",
          "name": "stdout",
          "text": [
            "187\n"
          ]
        }
      ]
    },
    {
      "cell_type": "code",
      "source": [
        "vectordb.similarity_search(column, k=5)"
      ],
      "metadata": {
        "colab": {
          "base_uri": "https://localhost:8080/"
        },
        "id": "qi06WfIZjEaF",
        "outputId": "09508799-107d-43f7-b5d3-af68706d3654"
      },
      "execution_count": 82,
      "outputs": [
        {
          "output_type": "execute_result",
          "data": {
            "text/plain": [
              "[Document(page_content='& ContactSite MapCopyright  1995-2024 eBay Inc. All Rights Reserved.Accessibility,User Agreement,Privacy,Payments Terms of Use,Cookies,CA Privacy Notice,Your Privacy ChoicesandAdChoice ***Title: Apotheke 3-Wick Candles Collection Charcoal  | eBay Description: Apotheke 3-Wick Candles Collection. - Manufacturer \\u200f : \\u200e APOTHEKE. - Manufacturer: \\u200eAPOTHEKE. - Scent: Charcoal. - Scent: \\u200eCharcoal. Product Information. - Part Number: \\u200eCHAR-CAN-3Wick. - Date First Available \\u200f : \\u200e March 16, 2019. Image URL: https://i.ebayimg.com/images/g/EesAAOSwtkJlbm4r/s-l400.jpg URL: https://www.ebay.com/itm/155928752194 Availability: Unknown Site Name: eBay type: ebay-objects:item Images:'),\n",
              " Document(page_content='Google×Please clickhereif you are not redirected within a few seconds.AllImagesShoppingVideosMapsNewsBooksSearch toolsAny timeAny timePast hourPast 24 hoursPast weekPast monthPast yearAll resultsAll resultsVerbatimShowing results forapotheke 3 wick candlescollection upcSearch instead forapotheke 3 wick candles collectionupcApotheke 3-Wick Candles Collection Charcoal | eBaywww.ebay.com › Home & Garden › Candles & Home Fragrance › Candles$109.950602573896181. MPN. CHAR-CAN-3Wick. UPC. 602573896181. Brand. APOTHEKE. Scent. Charcoal. Type. Does Not Apply. Category. Home & Garden > Candles & Home\\xa0...Apotheke 3-Wick Candles Collection - Amazon.comwww.amazon.com ›'),\n",
              " Document(page_content='item:Apotheke 3-Wick Candles Collection$78.00$78.00($2.44/Ounce)Get it as soon asMonday, Mar 18In StockSold by APOTHEKE and ships from Amazon Fulfillment.+Apotheke Luxury Scented Candles for Home, Charcoal - Aromatherapy Jar Candle with Soy Wax Blend$44.00$44.00Get it as soon asMonday, Mar 18In StockSold by APOTHEKE and ships from Amazon Fulfillment.+APOTHEKE Liquid Soap - Plant-Based (10fl oz) - Made in The USA (Charcoal)$18.00$18.00($1.33/Fl Oz)Get it as soon asMonday, Mar 18In StockSold by APOTHEKE and ships from Amazon Fulfillment.Total price:To see our price, add these items to your cart.Try again!DetailsAdded to CartAdd all 3 to CartChoose items to buy together.Compare with similar'),\n",
              " Document(page_content=\"& GardenCandles & Home FragranceCandlesShare|Add to WatchlistPicture 1 of 7Picture 1 of 7Have one to sell?Sell nowApotheke 3-Wick Candles Collection CharcoalDizon Group(9552)98.3% positiveSeller's other itemsSeller's other itemsContact sellerUS $109.95No Interest if paid in full in 6 mo on $99+ withPayPal Credit*Condition:NewNewQuantity:5 availableBuy It NowApotheke 3-Wick Candles Collection CharcoalSign in to check outCheck out as guestAdd to cartAdd to watchlistOops! Looks like we're having trouble connecting to our server.Refresh your browser window to try again.Refresh BrowserBreathe easy.Free shipping and returns.Shipping:FreeStandard Shipping.See detailsfor shippingLocated in:\"),\n",
              " Document(page_content='candle features a premium soy wax blend in an elegant ceramic vessel with matching lid. Apotheke Charcoal Scented\\xa0...Related searchesApotheke 3 wick candles collection upc saleApotheke 3 wick candles collection upc reviewApotheke 3 wick candles collection upc amazonAPOTHEKE holiday candlesApotheke Tomato CandleApotheke Votive CandleApotheke winter Discovery SetAPOTHEKE mystery candleNext >United StatesFrom your IP address-Learn moreSign inSettingsPrivacyTermsDark theme: Off')]"
            ]
          },
          "metadata": {},
          "execution_count": 82
        }
      ]
    },
    {
      "cell_type": "code",
      "source": [
        "vectordb.max_marginal_relevance_search(\"Apotheke 3-Wick Candles Collection charcoal ASIN\",k=1)"
      ],
      "metadata": {
        "colab": {
          "base_uri": "https://localhost:8080/"
        },
        "id": "0BG5lhqlm6tW",
        "outputId": "203dfb13-f27e-4456-a636-a4f74d8dea4e"
      },
      "execution_count": 66,
      "outputs": [
        {
          "output_type": "execute_result",
          "data": {
            "text/plain": [
              "[Document(page_content='& ContactSite MapCopyright  1995-2024 eBay Inc. All Rights Reserved.Accessibility,User Agreement,Privacy,Payments Terms of Use,Cookies,CA Privacy Notice,Your Privacy ChoicesandAdChoice ***Title: Apotheke 3-Wick Candles Collection Charcoal  | eBay Description: Apotheke 3-Wick Candles Collection. - Manufacturer \\u200f : \\u200e APOTHEKE. - Manufacturer: \\u200eAPOTHEKE. - Scent: Charcoal. - Scent: \\u200eCharcoal. Product Information. - Part Number: \\u200eCHAR-CAN-3Wick. - Date First Available \\u200f : \\u200e March 16, 2019. Image URL: https://i.ebayimg.com/images/g/EesAAOSwtkJlbm4r/s-l400.jpg URL: https://www.ebay.com/itm/155928752194 Availability: Unknown Site Name: eBay type: ebay-objects:item Images:')]"
            ]
          },
          "metadata": {},
          "execution_count": 66
        }
      ]
    },
    {
      "cell_type": "code",
      "source": [
        "retriever = vectordb.as_retriever(search_type=\"mmr\", search_kwargs={\"k\": 3})"
      ],
      "metadata": {
        "id": "KNCB2i0tjab8"
      },
      "execution_count": 137,
      "outputs": []
    },
    {
      "cell_type": "code",
      "source": [
        "retriever.get_relevant_documents(\"Apotheke 3-Wick Candles Collection charcoal UPC ASIN\")\n"
      ],
      "metadata": {
        "id": "QYk3RyN2jd0e",
        "outputId": "ac410ab3-bac8-4a14-db5c-0e670d06aeff",
        "colab": {
          "base_uri": "https://localhost:8080/"
        }
      },
      "execution_count": 136,
      "outputs": [
        {
          "output_type": "execute_result",
          "data": {
            "text/plain": [
              "[Document(page_content='Google×Please clickhereif you are not redirected within a few seconds.AllImagesShoppingVideosMapsNewsBooksSearch toolsAny timeAny timePast hourPast 24 hoursPast weekPast monthPast yearAll resultsAll resultsVerbatimShowing results forapotheke 3 wick candlescollection upcSearch instead forapotheke 3 wick candles collectionupcApotheke 3-Wick Candles Collection Charcoal | eBaywww.ebay.com › Home & Garden › Candles & Home Fragrance › Candles$109.950602573896181. MPN. CHAR-CAN-3Wick. UPC. 602573896181. Brand. APOTHEKE. Scent. Charcoal. Type. Does Not Apply. Category. Home & Garden > Candles & Home\\xa0...Apotheke 3-Wick Candles Collection - Amazon.comwww.amazon.com ›'),\n",
              " Document(page_content='link: https://apothekeco.com/collections/3-wick-candles\\n ***Title: Apotheke 3-Wick Candles Collection\\nDescription: Captivating Fragrance: Transform any living space with the unforgettable scent of Charcoal 3-Wick Candle from APOTHEKE. Our candles are hand poured and made with a proprietary blend of essential and perfume-grade oils for a long-lasting fragrance. Each 26 oz candle burns for approximately 120 - 1...\\nURL: https://www.amazon.com/dp/B07PMY9PK6/ref=tsm_1_fb_lk \\nAvailability: In Stock\\nASIN: B07PMY9PK6 \\ntype: text \\nimage2: https://m.media-amazon.com/images/I/51PyziKMJdL._AC_UF894,1000_QL80_.jpg \\nlink: https://www.amazon.com/Scented-Candles-Home-Soy-Wax-Jar-Candle/dp/B07PMY9PK6'),\n",
              " Document(page_content='UPC: 602573896181. Brand: APOTHEKE. Scent: Charcoal. Type: Does Not Apply. Product description. Review rating. 4.9. (\\xa0...Amazon.com: Apotheke 3-Wick Candles (Canvas, 3-Wick)www.amazon.com › Scented-Candles-Home-Soy-Wax-Jar-CandleRating4.2(147)·$78.00·In stockCaptivating Fragrance: Transform any living space with the unforgettable scent of Canvas 3-Wick Candle from APOTHEKE. Our candles are hand poured and made with\\xa0...Missing:upc| Show results with:upc3-Wick Candles | APOTHEKEapothekeco.com › collections › 3-wick-candlesMade with a premium soy wax blend and essential and perfume-grade fragrance oils, our luxury scented 3-wick candles are designed to provide a clean-burning\\xa0...Missing:upc|'),\n",
              " Document(page_content='3-Wick Candle design by Apothekedesigner-rug.com › products › sea-salt-grapefruit-3-wick-candle-design-by...$64.00Our candles are hand-poured with perfume-grade fragrance oils and a high quality soy wax blend. Each scent is formulated with a unique wick, wax, and fragrance\\xa0...Related searchesApotheke 3 wick candles collection upc saleApotheke 3 wick candles collection upc reviewApotheke 3 wick candles collection upc amazonAPOTHEKE holiday candlesApotheke Tomato CandleApotheke Votive CandleApotheke winter Discovery SetAPOTHEKE mystery candleNext >United StatesFrom your IP address-Learn moreSign inSettingsPrivacyTermsDark theme: Off'),\n",
              " Document(page_content='BasilSaffron VanillaSantal Rock RoseSea Salt GrapefruitStrawberry LimeWhite VetiverPurchase options and add-onsBrandAPOTHEKEProduct Dimensions5.5\"W x 5.25\"HItem Weight11.04 ouncesNumber of Items1ScentCharcoalAre Batteries IncludedNoIndoor/Outdoor UsageIndoorSpecific Uses For ProductAromatherapyShapeRoundMaterialSoy WaxSee moreAbout this itemCaptivating Fragrance: Transform any living space with the unforgettable scent of Charcoal 3-Wick Candle from APOTHEKE. Our candles are hand poured and made with a proprietary blend of essential and perfume-grade oils for a long-lasting fragrance. Each 26 oz candle burns for approximately 120 - 140 hours. Dimensions: 5 inches x 4.8 inches.The Fragrance:')]"
            ]
          },
          "metadata": {},
          "execution_count": 136
        }
      ]
    },
    {
      "cell_type": "markdown",
      "source": [
        "# LangChain Expression Language (LCEL)"
      ],
      "metadata": {
        "id": "ji1uUGHYAA4n"
      }
    },
    {
      "cell_type": "code",
      "source": [
        "from langchain.prompts import ChatPromptTemplate\n",
        "from langchain.schema.output_parser import StrOutputParser\n",
        "from langchain.schema.runnable import RunnableMap"
      ],
      "metadata": {
        "id": "Fy2hkH9WADbI"
      },
      "execution_count": 31,
      "outputs": []
    },
    {
      "cell_type": "code",
      "source": [
        "template = \"\"\"\n",
        "As a search analyst, your task is to find specific information online. We've provided context to assist:\n",
        "\n",
        "{context}\n",
        "\n",
        "Answer the following question based solely on the context:\n",
        "\n",
        "Question: {question}\n",
        "\n",
        "Provide the requested information in this format:\n",
        "\n",
        "Brand name:\n",
        "Product name:\n",
        "Product image(s): [provide at least one link]\n",
        "Color: [list colors, separated by commas]\n",
        "Category: [identify the product's category on Amazon]\n",
        "Description: [include a brief product description]\n",
        "Sold on Amazon: true / false\n",
        "Amazon price: [indicate the price range]\n",
        "ASIN: [list ASIN codes, separated by commas]\n",
        "UPC: [mention the UPC]\n",
        "\n",
        "\n",
        "\"\"\"\n",
        "prompt = ChatPromptTemplate.from_template(template)"
      ],
      "metadata": {
        "id": "CWys22wJAwb6"
      },
      "execution_count": 32,
      "outputs": []
    },
    {
      "cell_type": "code",
      "source": [
        "model = llm\n",
        "output_parser = StrOutputParser()\n",
        "\n"
      ],
      "metadata": {
        "id": "-cdw-6OtA4YE"
      },
      "execution_count": 33,
      "outputs": []
    },
    {
      "cell_type": "code",
      "source": [
        "chain = RunnableMap({\n",
        "    \"context\": lambda x: retriever.get_relevant_documents(x[\"question\"]),  #vectordb.max_marginal_relevance_search((x[\"question\"]),k=5)     #google_scraper(x[\"question\"]),     #combined_scraped_api_search(x[\"question\"]),\n",
        "    \"question\": lambda x: x[\"question\"]\n",
        "}) | prompt | model | output_parser"
      ],
      "metadata": {
        "id": "DFu7PmQoBBEH"
      },
      "execution_count": 114,
      "outputs": []
    },
    {
      "cell_type": "code",
      "source": [
        "print(chain.invoke({\"question\": \"Apotheke 3-Wick Candles Collection charcoal Amazon price\tASIN\tUPC\"}))"
      ],
      "metadata": {
        "colab": {
          "base_uri": "https://localhost:8080/"
        },
        "id": "oOTjxIf0A_Ru",
        "outputId": "6737ded9-1027-4d03-9fb8-97315237e5c1"
      },
      "execution_count": 138,
      "outputs": [
        {
          "output_type": "stream",
          "name": "stdout",
          "text": [
            "Brand name: APOTHEKE\n",
            "Product name: Apotheke 3-Wick Candles Collection Charcoal\n",
            "Product image(s): [https://m.media-amazon.com/images/I/51PyziKMJdL._AC_UF894,1000_QL80_.jpg]\n",
            "Color: Charcoal\n",
            "Category: Candles & Home Fragrance\n",
            "Description: Transform any living space with the unforgettable scent of Charcoal 3-Wick Candle from APOTHEKE. Hand poured and made with a proprietary blend of essential and perfume-grade oils for a long-lasting fragrance.\n",
            "Sold on Amazon: true\n",
            "Amazon price: $78.00\n",
            "ASIN: B07PMY9PK6\n",
            "UPC: 602573896181\n"
          ]
        }
      ]
    },
    {
      "cell_type": "code",
      "source": [
        "from langchain.callbacks import get_openai_callback\n"
      ],
      "metadata": {
        "id": "J4DftzUgw3UR"
      },
      "execution_count": 36,
      "outputs": []
    },
    {
      "cell_type": "code",
      "source": [
        "with get_openai_callback() as cb:\n",
        "    result = chain.invoke({\"question\": \"Apotheke 3-Wick Candles Collection charcoal Amazon price\tASIN\tUPC\"})\n",
        "    print(cb)"
      ],
      "metadata": {
        "colab": {
          "base_uri": "https://localhost:8080/"
        },
        "id": "1WB0hPfFw8q9",
        "outputId": "bcfbcebc-aba4-469a-cfa5-fac259bec3c2"
      },
      "execution_count": 139,
      "outputs": [
        {
          "output_type": "stream",
          "name": "stdout",
          "text": [
            "Tokens Used: 928\n",
            "\tPrompt Tokens: 776\n",
            "\tCompletion Tokens: 152\n",
            "Successful Requests: 1\n",
            "Total Cost (USD): $0.0014680000000000001\n"
          ]
        }
      ]
    }
  ]
}