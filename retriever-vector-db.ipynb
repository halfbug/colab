{
  "nbformat": 4,
  "nbformat_minor": 0,
  "metadata": {
    "colab": {
      "provenance": [],
      "authorship_tag": "ABX9TyMSK8pD4YTypdGW+ct7i37J",
      "include_colab_link": true
    },
    "kernelspec": {
      "name": "python3",
      "display_name": "Python 3"
    },
    "language_info": {
      "name": "python"
    }
  },
  "cells": [
    {
      "cell_type": "markdown",
      "metadata": {
        "id": "view-in-github",
        "colab_type": "text"
      },
      "source": [
        "<a href=\"https://colab.research.google.com/github/halfbug/colab/blob/main/retriever-vector-db.ipynb\" target=\"_parent\"><img src=\"https://colab.research.google.com/assets/colab-badge.svg\" alt=\"Open In Colab\"/></a>"
      ]
    },
    {
      "cell_type": "markdown",
      "source": [
        "## **LangChain and OpenAI installation**\n"
      ],
      "metadata": {
        "id": "mkl0jefz5ppY"
      }
    },
    {
      "cell_type": "code",
      "source": [
        "try:\n",
        "  import openai\n",
        "  from langchain_openai import ChatOpenAI\n",
        "except:\n",
        "    !pip install openai\n",
        "    !pip install langchain\n",
        "    !pip install langchain-openai"
      ],
      "metadata": {
        "id": "xPDvuNzT5vac",
        "colab": {
          "base_uri": "https://localhost:8080/"
        },
        "outputId": "c730cb1f-df56-40cd-88db-da5199535a0e"
      },
      "execution_count": 2,
      "outputs": [
        {
          "output_type": "stream",
          "name": "stdout",
          "text": [
            "Collecting openai\n",
            "  Downloading openai-1.13.3-py3-none-any.whl (227 kB)\n",
            "\u001b[2K     \u001b[90m━━━━━━━━━━━━━━━━━━━━━━━━━━━━━━━━━━━━━━━━\u001b[0m \u001b[32m227.4/227.4 kB\u001b[0m \u001b[31m2.5 MB/s\u001b[0m eta \u001b[36m0:00:00\u001b[0m\n",
            "\u001b[?25hRequirement already satisfied: anyio<5,>=3.5.0 in /usr/local/lib/python3.10/dist-packages (from openai) (3.7.1)\n",
            "Requirement already satisfied: distro<2,>=1.7.0 in /usr/lib/python3/dist-packages (from openai) (1.7.0)\n",
            "Collecting httpx<1,>=0.23.0 (from openai)\n",
            "  Downloading httpx-0.27.0-py3-none-any.whl (75 kB)\n",
            "\u001b[2K     \u001b[90m━━━━━━━━━━━━━━━━━━━━━━━━━━━━━━━━━━━━━━━━\u001b[0m \u001b[32m75.6/75.6 kB\u001b[0m \u001b[31m8.1 MB/s\u001b[0m eta \u001b[36m0:00:00\u001b[0m\n",
            "\u001b[?25hRequirement already satisfied: pydantic<3,>=1.9.0 in /usr/local/lib/python3.10/dist-packages (from openai) (2.6.3)\n",
            "Requirement already satisfied: sniffio in /usr/local/lib/python3.10/dist-packages (from openai) (1.3.1)\n",
            "Requirement already satisfied: tqdm>4 in /usr/local/lib/python3.10/dist-packages (from openai) (4.66.2)\n",
            "Requirement already satisfied: typing-extensions<5,>=4.7 in /usr/local/lib/python3.10/dist-packages (from openai) (4.10.0)\n",
            "Requirement already satisfied: idna>=2.8 in /usr/local/lib/python3.10/dist-packages (from anyio<5,>=3.5.0->openai) (3.6)\n",
            "Requirement already satisfied: exceptiongroup in /usr/local/lib/python3.10/dist-packages (from anyio<5,>=3.5.0->openai) (1.2.0)\n",
            "Requirement already satisfied: certifi in /usr/local/lib/python3.10/dist-packages (from httpx<1,>=0.23.0->openai) (2024.2.2)\n",
            "Collecting httpcore==1.* (from httpx<1,>=0.23.0->openai)\n",
            "  Downloading httpcore-1.0.4-py3-none-any.whl (77 kB)\n",
            "\u001b[2K     \u001b[90m━━━━━━━━━━━━━━━━━━━━━━━━━━━━━━━━━━━━━━━━\u001b[0m \u001b[32m77.8/77.8 kB\u001b[0m \u001b[31m9.3 MB/s\u001b[0m eta \u001b[36m0:00:00\u001b[0m\n",
            "\u001b[?25hCollecting h11<0.15,>=0.13 (from httpcore==1.*->httpx<1,>=0.23.0->openai)\n",
            "  Downloading h11-0.14.0-py3-none-any.whl (58 kB)\n",
            "\u001b[2K     \u001b[90m━━━━━━━━━━━━━━━━━━━━━━━━━━━━━━━━━━━━━━━━\u001b[0m \u001b[32m58.3/58.3 kB\u001b[0m \u001b[31m2.3 MB/s\u001b[0m eta \u001b[36m0:00:00\u001b[0m\n",
            "\u001b[?25hRequirement already satisfied: annotated-types>=0.4.0 in /usr/local/lib/python3.10/dist-packages (from pydantic<3,>=1.9.0->openai) (0.6.0)\n",
            "Requirement already satisfied: pydantic-core==2.16.3 in /usr/local/lib/python3.10/dist-packages (from pydantic<3,>=1.9.0->openai) (2.16.3)\n",
            "Installing collected packages: h11, httpcore, httpx, openai\n",
            "Successfully installed h11-0.14.0 httpcore-1.0.4 httpx-0.27.0 openai-1.13.3\n",
            "Collecting langchain\n",
            "  Downloading langchain-0.1.11-py3-none-any.whl (807 kB)\n",
            "\u001b[2K     \u001b[90m━━━━━━━━━━━━━━━━━━━━━━━━━━━━━━━━━━━━━━━━\u001b[0m \u001b[32m807.5/807.5 kB\u001b[0m \u001b[31m8.8 MB/s\u001b[0m eta \u001b[36m0:00:00\u001b[0m\n",
            "\u001b[?25hRequirement already satisfied: PyYAML>=5.3 in /usr/local/lib/python3.10/dist-packages (from langchain) (6.0.1)\n",
            "Requirement already satisfied: SQLAlchemy<3,>=1.4 in /usr/local/lib/python3.10/dist-packages (from langchain) (2.0.28)\n",
            "Requirement already satisfied: aiohttp<4.0.0,>=3.8.3 in /usr/local/lib/python3.10/dist-packages (from langchain) (3.9.3)\n",
            "Requirement already satisfied: async-timeout<5.0.0,>=4.0.0 in /usr/local/lib/python3.10/dist-packages (from langchain) (4.0.3)\n",
            "Collecting dataclasses-json<0.7,>=0.5.7 (from langchain)\n",
            "  Downloading dataclasses_json-0.6.4-py3-none-any.whl (28 kB)\n",
            "Collecting jsonpatch<2.0,>=1.33 (from langchain)\n",
            "  Downloading jsonpatch-1.33-py2.py3-none-any.whl (12 kB)\n",
            "Collecting langchain-community<0.1,>=0.0.25 (from langchain)\n",
            "  Downloading langchain_community-0.0.27-py3-none-any.whl (1.8 MB)\n",
            "\u001b[2K     \u001b[90m━━━━━━━━━━━━━━━━━━━━━━━━━━━━━━━━━━━━━━━━\u001b[0m \u001b[32m1.8/1.8 MB\u001b[0m \u001b[31m15.9 MB/s\u001b[0m eta \u001b[36m0:00:00\u001b[0m\n",
            "\u001b[?25hCollecting langchain-core<0.2,>=0.1.29 (from langchain)\n",
            "  Downloading langchain_core-0.1.30-py3-none-any.whl (256 kB)\n",
            "\u001b[2K     \u001b[90m━━━━━━━━━━━━━━━━━━━━━━━━━━━━━━━━━━━━━━━━\u001b[0m \u001b[32m256.9/256.9 kB\u001b[0m \u001b[31m15.8 MB/s\u001b[0m eta \u001b[36m0:00:00\u001b[0m\n",
            "\u001b[?25hCollecting langchain-text-splitters<0.1,>=0.0.1 (from langchain)\n",
            "  Downloading langchain_text_splitters-0.0.1-py3-none-any.whl (21 kB)\n",
            "Collecting langsmith<0.2.0,>=0.1.17 (from langchain)\n",
            "  Downloading langsmith-0.1.23-py3-none-any.whl (66 kB)\n",
            "\u001b[2K     \u001b[90m━━━━━━━━━━━━━━━━━━━━━━━━━━━━━━━━━━━━━━━━\u001b[0m \u001b[32m66.6/66.6 kB\u001b[0m \u001b[31m9.7 MB/s\u001b[0m eta \u001b[36m0:00:00\u001b[0m\n",
            "\u001b[?25hRequirement already satisfied: numpy<2,>=1 in /usr/local/lib/python3.10/dist-packages (from langchain) (1.25.2)\n",
            "Requirement already satisfied: pydantic<3,>=1 in /usr/local/lib/python3.10/dist-packages (from langchain) (2.6.3)\n",
            "Requirement already satisfied: requests<3,>=2 in /usr/local/lib/python3.10/dist-packages (from langchain) (2.31.0)\n",
            "Requirement already satisfied: tenacity<9.0.0,>=8.1.0 in /usr/local/lib/python3.10/dist-packages (from langchain) (8.2.3)\n",
            "Requirement already satisfied: aiosignal>=1.1.2 in /usr/local/lib/python3.10/dist-packages (from aiohttp<4.0.0,>=3.8.3->langchain) (1.3.1)\n",
            "Requirement already satisfied: attrs>=17.3.0 in /usr/local/lib/python3.10/dist-packages (from aiohttp<4.0.0,>=3.8.3->langchain) (23.2.0)\n",
            "Requirement already satisfied: frozenlist>=1.1.1 in /usr/local/lib/python3.10/dist-packages (from aiohttp<4.0.0,>=3.8.3->langchain) (1.4.1)\n",
            "Requirement already satisfied: multidict<7.0,>=4.5 in /usr/local/lib/python3.10/dist-packages (from aiohttp<4.0.0,>=3.8.3->langchain) (6.0.5)\n",
            "Requirement already satisfied: yarl<2.0,>=1.0 in /usr/local/lib/python3.10/dist-packages (from aiohttp<4.0.0,>=3.8.3->langchain) (1.9.4)\n",
            "Collecting marshmallow<4.0.0,>=3.18.0 (from dataclasses-json<0.7,>=0.5.7->langchain)\n",
            "  Downloading marshmallow-3.21.1-py3-none-any.whl (49 kB)\n",
            "\u001b[2K     \u001b[90m━━━━━━━━━━━━━━━━━━━━━━━━━━━━━━━━━━━━━━━━\u001b[0m \u001b[32m49.4/49.4 kB\u001b[0m \u001b[31m6.5 MB/s\u001b[0m eta \u001b[36m0:00:00\u001b[0m\n",
            "\u001b[?25hCollecting typing-inspect<1,>=0.4.0 (from dataclasses-json<0.7,>=0.5.7->langchain)\n",
            "  Downloading typing_inspect-0.9.0-py3-none-any.whl (8.8 kB)\n",
            "Collecting jsonpointer>=1.9 (from jsonpatch<2.0,>=1.33->langchain)\n",
            "  Downloading jsonpointer-2.4-py2.py3-none-any.whl (7.8 kB)\n",
            "Requirement already satisfied: anyio<5,>=3 in /usr/local/lib/python3.10/dist-packages (from langchain-core<0.2,>=0.1.29->langchain) (3.7.1)\n",
            "Requirement already satisfied: packaging<24.0,>=23.2 in /usr/local/lib/python3.10/dist-packages (from langchain-core<0.2,>=0.1.29->langchain) (23.2)\n",
            "Collecting orjson<4.0.0,>=3.9.14 (from langsmith<0.2.0,>=0.1.17->langchain)\n",
            "  Downloading orjson-3.9.15-cp310-cp310-manylinux_2_17_x86_64.manylinux2014_x86_64.whl (138 kB)\n",
            "\u001b[2K     \u001b[90m━━━━━━━━━━━━━━━━━━━━━━━━━━━━━━━━━━━━━━━━\u001b[0m \u001b[32m138.5/138.5 kB\u001b[0m \u001b[31m17.7 MB/s\u001b[0m eta \u001b[36m0:00:00\u001b[0m\n",
            "\u001b[?25hRequirement already satisfied: annotated-types>=0.4.0 in /usr/local/lib/python3.10/dist-packages (from pydantic<3,>=1->langchain) (0.6.0)\n",
            "Requirement already satisfied: pydantic-core==2.16.3 in /usr/local/lib/python3.10/dist-packages (from pydantic<3,>=1->langchain) (2.16.3)\n",
            "Requirement already satisfied: typing-extensions>=4.6.1 in /usr/local/lib/python3.10/dist-packages (from pydantic<3,>=1->langchain) (4.10.0)\n",
            "Requirement already satisfied: charset-normalizer<4,>=2 in /usr/local/lib/python3.10/dist-packages (from requests<3,>=2->langchain) (3.3.2)\n",
            "Requirement already satisfied: idna<4,>=2.5 in /usr/local/lib/python3.10/dist-packages (from requests<3,>=2->langchain) (3.6)\n",
            "Requirement already satisfied: urllib3<3,>=1.21.1 in /usr/local/lib/python3.10/dist-packages (from requests<3,>=2->langchain) (2.0.7)\n",
            "Requirement already satisfied: certifi>=2017.4.17 in /usr/local/lib/python3.10/dist-packages (from requests<3,>=2->langchain) (2024.2.2)\n",
            "Requirement already satisfied: greenlet!=0.4.17 in /usr/local/lib/python3.10/dist-packages (from SQLAlchemy<3,>=1.4->langchain) (3.0.3)\n",
            "Requirement already satisfied: sniffio>=1.1 in /usr/local/lib/python3.10/dist-packages (from anyio<5,>=3->langchain-core<0.2,>=0.1.29->langchain) (1.3.1)\n",
            "Requirement already satisfied: exceptiongroup in /usr/local/lib/python3.10/dist-packages (from anyio<5,>=3->langchain-core<0.2,>=0.1.29->langchain) (1.2.0)\n",
            "Collecting mypy-extensions>=0.3.0 (from typing-inspect<1,>=0.4.0->dataclasses-json<0.7,>=0.5.7->langchain)\n",
            "  Downloading mypy_extensions-1.0.0-py3-none-any.whl (4.7 kB)\n",
            "Installing collected packages: orjson, mypy-extensions, marshmallow, jsonpointer, typing-inspect, jsonpatch, langsmith, dataclasses-json, langchain-core, langchain-text-splitters, langchain-community, langchain\n",
            "Successfully installed dataclasses-json-0.6.4 jsonpatch-1.33 jsonpointer-2.4 langchain-0.1.11 langchain-community-0.0.27 langchain-core-0.1.30 langchain-text-splitters-0.0.1 langsmith-0.1.23 marshmallow-3.21.1 mypy-extensions-1.0.0 orjson-3.9.15 typing-inspect-0.9.0\n",
            "Collecting langchain-openai\n",
            "  Downloading langchain_openai-0.0.8-py3-none-any.whl (32 kB)\n",
            "Requirement already satisfied: langchain-core<0.2.0,>=0.1.27 in /usr/local/lib/python3.10/dist-packages (from langchain-openai) (0.1.30)\n",
            "Requirement already satisfied: openai<2.0.0,>=1.10.0 in /usr/local/lib/python3.10/dist-packages (from langchain-openai) (1.13.3)\n",
            "Collecting tiktoken<1,>=0.5.2 (from langchain-openai)\n",
            "  Downloading tiktoken-0.6.0-cp310-cp310-manylinux_2_17_x86_64.manylinux2014_x86_64.whl (1.8 MB)\n",
            "\u001b[2K     \u001b[90m━━━━━━━━━━━━━━━━━━━━━━━━━━━━━━━━━━━━━━━━\u001b[0m \u001b[32m1.8/1.8 MB\u001b[0m \u001b[31m33.2 MB/s\u001b[0m eta \u001b[36m0:00:00\u001b[0m\n",
            "\u001b[?25hRequirement already satisfied: PyYAML>=5.3 in /usr/local/lib/python3.10/dist-packages (from langchain-core<0.2.0,>=0.1.27->langchain-openai) (6.0.1)\n",
            "Requirement already satisfied: anyio<5,>=3 in /usr/local/lib/python3.10/dist-packages (from langchain-core<0.2.0,>=0.1.27->langchain-openai) (3.7.1)\n",
            "Requirement already satisfied: jsonpatch<2.0,>=1.33 in /usr/local/lib/python3.10/dist-packages (from langchain-core<0.2.0,>=0.1.27->langchain-openai) (1.33)\n",
            "Requirement already satisfied: langsmith<0.2.0,>=0.1.0 in /usr/local/lib/python3.10/dist-packages (from langchain-core<0.2.0,>=0.1.27->langchain-openai) (0.1.23)\n",
            "Requirement already satisfied: packaging<24.0,>=23.2 in /usr/local/lib/python3.10/dist-packages (from langchain-core<0.2.0,>=0.1.27->langchain-openai) (23.2)\n",
            "Requirement already satisfied: pydantic<3,>=1 in /usr/local/lib/python3.10/dist-packages (from langchain-core<0.2.0,>=0.1.27->langchain-openai) (2.6.3)\n",
            "Requirement already satisfied: requests<3,>=2 in /usr/local/lib/python3.10/dist-packages (from langchain-core<0.2.0,>=0.1.27->langchain-openai) (2.31.0)\n",
            "Requirement already satisfied: tenacity<9.0.0,>=8.1.0 in /usr/local/lib/python3.10/dist-packages (from langchain-core<0.2.0,>=0.1.27->langchain-openai) (8.2.3)\n",
            "Requirement already satisfied: distro<2,>=1.7.0 in /usr/lib/python3/dist-packages (from openai<2.0.0,>=1.10.0->langchain-openai) (1.7.0)\n",
            "Requirement already satisfied: httpx<1,>=0.23.0 in /usr/local/lib/python3.10/dist-packages (from openai<2.0.0,>=1.10.0->langchain-openai) (0.27.0)\n",
            "Requirement already satisfied: sniffio in /usr/local/lib/python3.10/dist-packages (from openai<2.0.0,>=1.10.0->langchain-openai) (1.3.1)\n",
            "Requirement already satisfied: tqdm>4 in /usr/local/lib/python3.10/dist-packages (from openai<2.0.0,>=1.10.0->langchain-openai) (4.66.2)\n",
            "Requirement already satisfied: typing-extensions<5,>=4.7 in /usr/local/lib/python3.10/dist-packages (from openai<2.0.0,>=1.10.0->langchain-openai) (4.10.0)\n",
            "Requirement already satisfied: regex>=2022.1.18 in /usr/local/lib/python3.10/dist-packages (from tiktoken<1,>=0.5.2->langchain-openai) (2023.12.25)\n",
            "Requirement already satisfied: idna>=2.8 in /usr/local/lib/python3.10/dist-packages (from anyio<5,>=3->langchain-core<0.2.0,>=0.1.27->langchain-openai) (3.6)\n",
            "Requirement already satisfied: exceptiongroup in /usr/local/lib/python3.10/dist-packages (from anyio<5,>=3->langchain-core<0.2.0,>=0.1.27->langchain-openai) (1.2.0)\n",
            "Requirement already satisfied: certifi in /usr/local/lib/python3.10/dist-packages (from httpx<1,>=0.23.0->openai<2.0.0,>=1.10.0->langchain-openai) (2024.2.2)\n",
            "Requirement already satisfied: httpcore==1.* in /usr/local/lib/python3.10/dist-packages (from httpx<1,>=0.23.0->openai<2.0.0,>=1.10.0->langchain-openai) (1.0.4)\n",
            "Requirement already satisfied: h11<0.15,>=0.13 in /usr/local/lib/python3.10/dist-packages (from httpcore==1.*->httpx<1,>=0.23.0->openai<2.0.0,>=1.10.0->langchain-openai) (0.14.0)\n",
            "Requirement already satisfied: jsonpointer>=1.9 in /usr/local/lib/python3.10/dist-packages (from jsonpatch<2.0,>=1.33->langchain-core<0.2.0,>=0.1.27->langchain-openai) (2.4)\n",
            "Requirement already satisfied: orjson<4.0.0,>=3.9.14 in /usr/local/lib/python3.10/dist-packages (from langsmith<0.2.0,>=0.1.0->langchain-core<0.2.0,>=0.1.27->langchain-openai) (3.9.15)\n",
            "Requirement already satisfied: annotated-types>=0.4.0 in /usr/local/lib/python3.10/dist-packages (from pydantic<3,>=1->langchain-core<0.2.0,>=0.1.27->langchain-openai) (0.6.0)\n",
            "Requirement already satisfied: pydantic-core==2.16.3 in /usr/local/lib/python3.10/dist-packages (from pydantic<3,>=1->langchain-core<0.2.0,>=0.1.27->langchain-openai) (2.16.3)\n",
            "Requirement already satisfied: charset-normalizer<4,>=2 in /usr/local/lib/python3.10/dist-packages (from requests<3,>=2->langchain-core<0.2.0,>=0.1.27->langchain-openai) (3.3.2)\n",
            "Requirement already satisfied: urllib3<3,>=1.21.1 in /usr/local/lib/python3.10/dist-packages (from requests<3,>=2->langchain-core<0.2.0,>=0.1.27->langchain-openai) (2.0.7)\n",
            "Installing collected packages: tiktoken, langchain-openai\n",
            "Successfully installed langchain-openai-0.0.8 tiktoken-0.6.0\n"
          ]
        }
      ]
    },
    {
      "cell_type": "code",
      "source": [
        "import openai\n",
        "from google.colab import userdata\n",
        "import os\n",
        "\n",
        "os.environ[\"OPENAI_API_KEY\"] = userdata.get('OPENAI_API_KEY')\n",
        "# llm = ChatOpenAI(openai_api_key=os.getenv('OPENAI_API_KEY'))\n",
        "openai.api_key  = os.getenv('OPENAI_API_KEY')"
      ],
      "metadata": {
        "id": "8U76-LF_6Z8y"
      },
      "execution_count": 3,
      "outputs": []
    },
    {
      "cell_type": "code",
      "source": [
        "from langchain.chat_models import ChatOpenAI\n",
        "import datetime\n",
        "current_date = datetime.datetime.now().date()\n",
        "# llm_name = \"gpt-4\"\n",
        "if current_date < datetime.date(2023, 9, 2):\n",
        "    llm_name = \"gpt-3.5-turbo-0301\"\n",
        "else:\n",
        "    llm_name = \"gpt-3.5-turbo\"\n",
        "print(llm_name)\n",
        "llm = ChatOpenAI(model_name=llm_name, temperature=0)\n",
        "llm.invoke(\"Hello world!\")"
      ],
      "metadata": {
        "colab": {
          "base_uri": "https://localhost:8080/"
        },
        "id": "gtNkHmw77N5Q",
        "outputId": "bd1ca8cb-eb19-4806-9915-1872021093cb"
      },
      "execution_count": 4,
      "outputs": [
        {
          "output_type": "stream",
          "name": "stdout",
          "text": [
            "gpt-3.5-turbo\n"
          ]
        },
        {
          "output_type": "stream",
          "name": "stderr",
          "text": [
            "/usr/local/lib/python3.10/dist-packages/langchain_core/_api/deprecation.py:117: LangChainDeprecationWarning: The class `langchain_community.chat_models.openai.ChatOpenAI` was deprecated in langchain-community 0.0.10 and will be removed in 0.2.0. An updated version of the class exists in the langchain-openai package and should be used instead. To use it run `pip install -U langchain-openai` and import as `from langchain_openai import ChatOpenAI`.\n",
            "  warn_deprecated(\n"
          ]
        },
        {
          "output_type": "execute_result",
          "data": {
            "text/plain": [
              "AIMessage(content='Hello! How can I assist you today?')"
            ]
          },
          "metadata": {},
          "execution_count": 4
        }
      ]
    },
    {
      "cell_type": "markdown",
      "source": [
        "# Scraper"
      ],
      "metadata": {
        "id": "Zrtqs4fFAqdO"
      }
    },
    {
      "cell_type": "code",
      "source": [
        "import re\n",
        "import requests\n",
        "from bs4 import BeautifulSoup\n",
        "\n",
        "def extract_availability(url):\n",
        "    # Function to scrape the webpage for availability information\n",
        "    try:\n",
        "        response = requests.get(url)\n",
        "        soup = BeautifulSoup(response.content, 'html.parser')\n",
        "         # Search for specific keywords like \"stock availability\" on the webpage\n",
        "\n",
        "        body_content = soup.find('body')  # Find the body tag\n",
        "\n",
        "        if body_content:\n",
        "           # Extract only the text content from the body tag\n",
        "            text_content = body_content.get_text()\n",
        "            # Search for either \"stock\" or \"stock availability\" in the text content\n",
        "            # print(text_content)\n",
        "            #  availability_pattern = re.compile(r\"(?:stock|stock|availability|Number\\sof\\sItems\\s*(\\d+)|in\\s*stock|(\\w+)\\s*stock\\s*(\\w+))\", re.IGNORECASE)\n",
        "\n",
        "            availability_pattern = re.compile(r\"(?:stock|stock|availability|in\\s*stock)\", re.IGNORECASE)\n",
        "            match = re.search(availability_pattern, text_content)\n",
        "            # print(match.groups())\n",
        "            if match:\n",
        "                # print(match.group(0))\n",
        "                return f\"Availability: {match.group(0).strip()}\"\n",
        "        # If specific keywords not found, return \"Scraped Availability: Unknown\"\n",
        "        return \"Availability: Unknown\"\n",
        "    except Exception as e:\n",
        "        print(f\"Error occurred while scraping: {e}\")\n",
        "        return \"Availability: Unknown\""
      ],
      "metadata": {
        "id": "7JPNBjzH_psn"
      },
      "execution_count": 5,
      "outputs": []
    },
    {
      "cell_type": "code",
      "source": [
        "# Set the width of the console output\n",
        "os.environ[\"COLUMNS\"] = \"10\""
      ],
      "metadata": {
        "id": "NQ_fpHRjLxVu"
      },
      "execution_count": 6,
      "outputs": []
    },
    {
      "cell_type": "code",
      "source": [
        "def google_scraper(query) :\n",
        "    try:\n",
        "        response = requests.get(\"https://www.google.com/search?q=\"+query.lower().replace(' ', '+')+\"+upc\")\n",
        "        soup = BeautifulSoup(response.content, 'html.parser')\n",
        "\n",
        "        body_content = soup.find('body')  # Find the body tag\n",
        "\n",
        "        if body_content:\n",
        "           # Extract only the text content from the body tag\n",
        "            text_content = body_content.get_text()\n",
        "            print(\"\\033[34m\" + text_content )\n",
        "            return text_content\n",
        "    except Exception as e:\n",
        "        print(f\"Error occurred while scraping: {e}\")\n",
        "        return \"No search result found: Unknown\"\n",
        "google_scraper(\"Apotheke 3 wick candles collection\")"
      ],
      "metadata": {
        "colab": {
          "base_uri": "https://localhost:8080/",
          "height": 0
        },
        "id": "KjvRZlOLBc09",
        "outputId": "81b4b3d5-4a3a-4d81-d14e-d946a22fdf47"
      },
      "execution_count": 7,
      "outputs": [
        {
          "output_type": "stream",
          "name": "stdout",
          "text": [
            "\u001b[34mGoogle×Please click here if you are not redirected within a few seconds.    AllImagesShoppingVideos Maps News Books Search tools    Any timeAny timePast hourPast 24 hoursPast weekPast monthPast yearAll resultsAll resultsVerbatimSponsoredⓘShop apotheke 3 wick candles collection upcApotheke 3‑Wick Candles Collection$78.00Amazon.comApotheke 3‑Wick Candles (Sea ...$78.00Amazon.comApotheke 3‑Wick Candles (White ...$78.00Amazon.comApotheke 3‑Wick Candles (Santal ...$78.00Amazon.comApotheke 3-Wick Candles Collection - eBaywww.ebay.com › Home & Garden › Candles & Home Fragrance › Candles$106.00 In stockApotheke 3-Wick Candles Collection ; Item Number. 386813950073 ; UPC. 691164538630 ; EAN. 0691164538630 ; Accurate description. 4.6 ; Reasonable shipping cost. 4.9.Apotheke 3-Wick Candles Collection Charcoal | eBaywww.ebay.com › Home & Garden › Candles & Home Fragrance › Candles$109.950602573896181. MPN. CHAR-CAN-3Wick. UPC. 602573896181. Brand. APOTHEKE. Scent. Charcoal. Type. Does Not Apply. Category. Home & Garden > Candles & Home ...3-Wick Candles | APOTHEKEapothekeco.com › collections › 3-wick-candlesMade with a premium soy wax blend and essential and perfume-grade fragrance oils, our luxury scented 3-wick candles are designed to provide a clean-burning ...Missing:  upc | Show results with:upcApotheke - Bamboo 3 Wick Candle – thescentshop usthescentshop-us.myshopify.com › products › tss-1551$19.00Apotheke Bamboo 3 Wick Candle is white flowers, light moss, and white thyme blend with robust bamboo leaves, enveloping the room with a clean and earthy ...Apotheke 3-Wick Candles Collection - Amazon.comwww.amazon.com › Scented-Candles-Home-Soy-Wax-Jar-CandleRating  4.2  (148)   · $78.00  · In stockOur candles are a combination of high-quality, perfume-grade fragrance in a vegan, soy wax blend. Our cruelty-free, hand-poured candles, available in our ...Missing:  upc | Show results with:upcAPOTHEKE WHITE VETIVER Scented Candle 3 Wick 32 OZ (HUGE)entand.se › apotheke-white-vetiver-scented-candle-3-wick-32-oz-huge-V1...$60.00APOTHEKE WHITE VETIVER Scented Candle 3 Wick 32 OZ (HUGE) ... UPC:850015641213. Wholesale and Overstock Deals ... entand.se is the best online shopping platform ...Sea Salt Grapefruit 3-Wick Candle design by Apothekedesigner-rug.com › products › sea-salt-grapefruit-3-wick-candle-design-by...$64.00Our candles are hand-poured with perfume-grade fragrance oils and a high quality soy wax blend. Each scent is formulated with a unique wick, wax, and fragrance ...People also askAre Apotheke candles natural?Do apotheke candles have paraffin wax?How wide are Bath and Body Works candles?What do 3 wick candles mean?Charcoal 3-Wick Candle - Burke Decorwww.burkedecor.com › charcoal-3-wick-candle-design-by-apotheke$78.00Cedarwood and sandalwood combine with notes of smokey amber and oud to build a broody, full-bodied fragrance. Our candles are hand-poured with perfume-grade ...Missing:  upc | Show results with:upcApotheke Charcoal 2-Wick Ceramic Scented Candle - Bluemercurybluemercury.com › products › apotheke-charcoal-2-wick-ceramic-scented-...$62.00Rich and addictive, this two-wick scented candle features a premium soy wax blend in an elegant ceramic vessel with matching lid.APOTHEKE Market Collection Luxury Scented 3-Wick Jar Candle ...snapklik.com › ... › Alternative Medicine › Aromatherapy › CandlesRating  82%     · $10,498.00APOTHEKE Market Collection Luxury Scented 3-Wick Jar Candle ... LONG BURN TIME - APOTHEKE 11oz candles burn for an average of 60-70 hours. ... UPC, 850028163375 ...Related searchesApotheke 3 wick candles collection upc saleApotheke 3 wick candles collection upc reviewApotheke 3 wick candles collection upc amazonApotheke Candle SetAPOTHEKE 4 Wick CandleAPOTHEKE Candle CharcoalApotheke Candle SaleApotheke candles  Next >  United StatesFrom your IP address - Learn moreSign inSettingsPrivacyTermsDark theme: Off \n"
          ]
        },
        {
          "output_type": "execute_result",
          "data": {
            "text/plain": [
              "'Google×Please click here if you are not redirected within a few seconds.    AllImagesShoppingVideos Maps News Books Search tools    Any timeAny timePast hourPast 24 hoursPast weekPast monthPast yearAll resultsAll resultsVerbatimSponsoredⓘShop apotheke 3 wick candles collection upcApotheke 3‑Wick Candles Collection$78.00Amazon.comApotheke 3‑Wick Candles (Sea ...$78.00Amazon.comApotheke 3‑Wick Candles (White ...$78.00Amazon.comApotheke 3‑Wick Candles (Santal ...$78.00Amazon.comApotheke 3-Wick Candles Collection - eBaywww.ebay.com › Home & Garden › Candles & Home Fragrance › Candles$106.00 In stockApotheke 3-Wick Candles Collection ; Item Number. 386813950073 ; UPC. 691164538630 ; EAN. 0691164538630 ; Accurate description. 4.6 ; Reasonable shipping cost. 4.9.Apotheke 3-Wick Candles Collection Charcoal | eBaywww.ebay.com › Home & Garden › Candles & Home Fragrance › Candles$109.950602573896181. MPN. CHAR-CAN-3Wick. UPC. 602573896181. Brand. APOTHEKE. Scent. Charcoal. Type. Does Not Apply. Category. Home & Garden > Candles & Home\\xa0...3-Wick Candles | APOTHEKEapothekeco.com › collections › 3-wick-candlesMade with a premium soy wax blend and essential and perfume-grade fragrance oils, our luxury scented 3-wick candles are designed to provide a clean-burning\\xa0...Missing:  upc | Show results with:upcApotheke - Bamboo 3 Wick Candle – thescentshop usthescentshop-us.myshopify.com › products › tss-1551$19.00Apotheke Bamboo 3 Wick Candle is white flowers, light moss, and white thyme blend with robust bamboo leaves, enveloping the room with a clean and earthy\\xa0...Apotheke 3-Wick Candles Collection - Amazon.comwww.amazon.com › Scented-Candles-Home-Soy-Wax-Jar-CandleRating  4.2  (148)   · $78.00  · In stockOur candles are a combination of high-quality, perfume-grade fragrance in a vegan, soy wax blend. Our cruelty-free, hand-poured candles, available in our\\xa0...Missing:  upc | Show results with:upcAPOTHEKE WHITE VETIVER Scented Candle 3 Wick 32 OZ (HUGE)entand.se › apotheke-white-vetiver-scented-candle-3-wick-32-oz-huge-V1...$60.00APOTHEKE WHITE VETIVER Scented Candle 3 Wick 32 OZ (HUGE) ... UPC:850015641213. Wholesale and Overstock Deals ... entand.se is the best online shopping platform\\xa0...Sea Salt Grapefruit 3-Wick Candle design by Apothekedesigner-rug.com › products › sea-salt-grapefruit-3-wick-candle-design-by...$64.00Our candles are hand-poured with perfume-grade fragrance oils and a high quality soy wax blend. Each scent is formulated with a unique wick, wax, and fragrance\\xa0...People also askAre Apotheke candles natural?Do apotheke candles have paraffin wax?How wide are Bath and Body Works candles?What do 3 wick candles mean?Charcoal 3-Wick Candle - Burke Decorwww.burkedecor.com › charcoal-3-wick-candle-design-by-apotheke$78.00Cedarwood and sandalwood combine with notes of smokey amber and oud to build a broody, full-bodied fragrance. Our candles are hand-poured with perfume-grade\\xa0...Missing:  upc | Show results with:upcApotheke Charcoal 2-Wick Ceramic Scented Candle - Bluemercurybluemercury.com › products › apotheke-charcoal-2-wick-ceramic-scented-...$62.00Rich and addictive, this two-wick scented candle features a premium soy wax blend in an elegant ceramic vessel with matching lid.APOTHEKE Market Collection Luxury Scented 3-Wick Jar Candle ...snapklik.com › ... › Alternative Medicine › Aromatherapy › CandlesRating  82%     · $10,498.00APOTHEKE Market Collection Luxury Scented 3-Wick Jar Candle ... LONG BURN TIME - APOTHEKE 11oz candles burn for an average of 60-70 hours. ... UPC, 850028163375\\xa0...Related searchesApotheke 3 wick candles collection upc saleApotheke 3 wick candles collection upc reviewApotheke 3 wick candles collection upc amazonApotheke Candle SetAPOTHEKE 4 Wick CandleAPOTHEKE Candle CharcoalApotheke Candle SaleApotheke candles  Next >  United StatesFrom your IP address\\xa0-\\xa0Learn moreSign inSettingsPrivacyTermsDark theme: Off '"
            ],
            "application/vnd.google.colaboratory.intrinsic+json": {
              "type": "string"
            }
          },
          "metadata": {},
          "execution_count": 7
        }
      ]
    },
    {
      "cell_type": "code",
      "source": [
        "import re\n",
        "\n",
        "def extract_product_info(meta_tags):\n",
        "    product_info = \"\"\n",
        "    for meta_tag in meta_tags:\n",
        "        if 'og:title' in meta_tag:\n",
        "            product_info += f\"\\n ***Title: {meta_tag['og:title']}\\n\"\n",
        "        if 'og:description' in meta_tag:\n",
        "            product_info += f\"Description: {meta_tag['og:description']}\\n\"\n",
        "        if 'og:price:amount' in meta_tag and 'og:price:currency' in meta_tag:\n",
        "            product_info += f\"Price: {meta_tag['og:price:amount']} {meta_tag['og:price:currency']}\\n\"\n",
        "        if 'og:image' in meta_tag:\n",
        "                if len(meta_tag['og:image']) <= 200:  # Check if URL length is less than or equal to 200\n",
        "                    product_info += f\"Image URL: {meta_tag['og:image']} \\n\"\n",
        "        if 'og:url' in meta_tag:\n",
        "            product_info += f\"URL: {meta_tag['og:url']} \\n\"\n",
        "            # Call function to extract availability information\n",
        "            availability_info = extract_availability(meta_tag['og:url'])\n",
        "            product_info += f\"{availability_info}\\n\"\n",
        "            # Extract ASIN from URL if it's an Amazon link\n",
        "            asin_match = re.search(r'/dp/(\\w+)', meta_tag['og:url'])\n",
        "            if asin_match:\n",
        "                product_info += f\"ASIN: {asin_match.group(1)} \\n\"\n",
        "        if 'og:site_name' in meta_tag:\n",
        "            product_info += f\"Site Name: {meta_tag['og:site_name']} \\n\"\n",
        "        if 'og:availability' in meta_tag:\n",
        "            product_info += f\"Availability: {meta_tag['og:availability']} \\n\"\n",
        "        if 'og:type' in meta_tag:\n",
        "                product_info += f\"type: {meta_tag['og:type']} \\n\"\n",
        "        else:\n",
        "          product_info += f\"type: text \\n\"\n",
        "    return product_info\n",
        "\n",
        "# Example usage:\n",
        "# meta_tags = [{'apple-itunes-app': 'app-id=529356019, app-argument=https://www.crateandbarrel.com/apotheke-canvas-scented-3-wick-candle/s569504',\n",
        "#  'og:image': 'https://cb.scene7.com/is/image/Crate/ApothekeCnvs3WickCandleSSF23', 'og:type': 'product', 'og:image:alt': 'Apotheke Canvas-Scented 3-Wick Candle',\n",
        "#   'twitter:card': 'summary_large_image', 'twitter:title': 'Apotheke Canvas-Scented 3-Wick Candle + Reviews | Crate & Barrel', 'og:site_name': 'Crate & Barrel', 'og:availability':\n",
        "#    'InStock', 'og:price:amount': '$78.00', 'author': 'Crate & Barrel', 'og:title': 'Apotheke Canvas-Scented 3-Wick Candle + Reviews | Crate & Barrel', 'og:price:currency': 'USD', 'language':\n",
        "#     'English', 'og:description': 'Shop Apotheke Canvas-Scented 3-Wick Candle.  This hand-poured candle fills the room with clean, refreshing scent.  Infused with essences of crisp linen, white musk,\n",
        "#      lily of the valley and dew drop, the soy-blend wax candle burns for many hours releasing a sweet, fresh fragrance.', 'og:price:standard_amount': '$78.00', 'twitter:site': '@CrateandBarrel',\n",
        "#      'viewport': 'width=device-width, initial-scale=1.0', 'fb:admins': '1769841725', 'og:url': 'https://www.amazon.com/dp/B09RTPD6ZN/ref=tsm_1_fb_lk'}]\n",
        "# product_info = extract_product_info(meta_tags)\n",
        "# print(product_info)"
      ],
      "metadata": {
        "id": "XAziLz2Tu2x4"
      },
      "execution_count": 8,
      "outputs": []
    },
    {
      "cell_type": "markdown",
      "source": [
        "# Google Search API"
      ],
      "metadata": {
        "id": "g7I2-4zj--CF"
      }
    },
    {
      "cell_type": "code",
      "source": [
        "from googleapiclient.discovery import build\n",
        "\n",
        "API_KEY = userdata.get('GOOGLE_SEARCH_API')\n",
        "# os.environ[\"GOOGLE_CSE_ID\"] = userdata.get('GOOGLE_CSE_ID')\n",
        "\n",
        "service = build(\"customsearch\", \"v1\", developerKey=API_KEY)\n",
        "# clientProd = build(\"shopping\", \"v1\", developerKey=API_KEY)"
      ],
      "metadata": {
        "id": "BR7JRWrw_Qc5"
      },
      "execution_count": 9,
      "outputs": []
    },
    {
      "cell_type": "code",
      "source": [
        "def search_google(query):\n",
        "    \"\"\"\n",
        "    Performs a custom search  using the Google Custom Search API.\n",
        "\n",
        "    Args:\n",
        "        query (str): The search query to use.\n",
        "        num_results (int, optional): The number of image search results to return (default: 3).\n",
        "\n",
        "    Returns:\n",
        "        str: A string containing information about the image search results. Each result includes the image URL and its corresponding link.\n",
        "    \"\"\"\n",
        "    # user_query= extract_text_between_hashes(query)\n",
        "    results = service.cse().list(\n",
        "        q=query, cx=userdata.get('GOOGLE_CSE_ID'),  # Replace with your custom search engine ID\n",
        "        # searchType=\"image\",  # Specify image search\n",
        "        num=3\n",
        "    ).execute()\n",
        "\n",
        "    image_results = \"\"\n",
        "    for item in results.get(\"items\", []):\n",
        "        for key, value in item.items():\n",
        "          print(\"\\033[32m\" + f\"{key}: {value}\" + \"\\033[0m\")\n",
        "        image_url = item[\"pagemap\"][\"cse_image\"][0][\"src\"]\n",
        "        # image_results.append({\"link\":item[\"link\"] ,\n",
        "        #                       \"title\": item[\"title\"] ,\n",
        "        #                       \"snippets\":item[\"snippet\"],\n",
        "        #                       \"image\": image_url,\n",
        "        #                       \"meta\": extract_product_info(item[\"pagemap\"][\"metatags\"])})\n",
        "        image_results += extract_product_info(item[\"pagemap\"][\"metatags\"])\n",
        "        image_results += f\"image2: {image_url} \\n\"\n",
        "        image_results += f\"link: {item['link']}\"\n",
        "\n",
        "    len(image_results)\n",
        "    return image_results\n",
        "\n",
        "# Example usage:\n",
        "image_results = search_google(\"Apotheke 3 wick candles collection price images\")\n",
        "# image_results\n",
        "print(image_results)"
      ],
      "metadata": {
        "id": "OOYvjSbUvXRc",
        "colab": {
          "base_uri": "https://localhost:8080/"
        },
        "outputId": "332178b9-dbba-473b-98af-5860ce176488"
      },
      "execution_count": 10,
      "outputs": [
        {
          "output_type": "stream",
          "name": "stdout",
          "text": [
            "\u001b[32mkind: customsearch#result\u001b[0m\n",
            "\u001b[32mtitle: Apotheke 3-Wick Candles Collection : Health ... - Amazon.com\u001b[0m\n",
            "\u001b[32mhtmlTitle: Apotheke 3-Wick Candles Collection : Health ... - Amazon.com\u001b[0m\n",
            "\u001b[32mlink: https://www.amazon.com/Scented-Candles-Home-Soy-Wax-Jar-Candle/dp/B07PMY9PK6\u001b[0m\n",
            "\u001b[32mdisplayLink: www.amazon.com\u001b[0m\n",
            "\u001b[32msnippet: Captivating Fragrance: Transform any living space with the unforgettable scent of Charcoal 3-Wick Candle from APOTHEKE. Our candles are hand poured and made ...\u001b[0m\n",
            "\u001b[32mhtmlSnippet: Captivating Fragrance: Transform any living space with the unforgettable scent of Charcoal <b>3</b>-<b>Wick Candle</b> from <b>APOTHEKE</b>. Our <b>candles</b> are hand poured and made&nbsp;...\u001b[0m\n",
            "\u001b[32mformattedUrl: https://www.amazon.com/Scented-Candles-Home-Soy.../B07PMY9PK6\u001b[0m\n",
            "\u001b[32mhtmlFormattedUrl: https://www.amazon.com/Scented-<b>Candles</b>-Home-Soy.../B07PMY9PK6\u001b[0m\n",
            "\u001b[32mpagemap: {'cse_thumbnail': [{'src': 'https://encrypted-tbn1.gstatic.com/images?q=tbn:ANd9GcSn_XK9lxk8YHeoZ-1cwFl6vAw52HIMW2FN2RbGuGT2KqCwycqvSOYtY-o', 'width': '238', 'height': '212'}], 'metatags': [{'og:image': 'https://m.media-amazon.com/images/I/31znTWufyPL._SR600%2c315_PIWhiteStrip%2cBottomLeft%2c0%2c35_PIStarRatingFOUR%2cBottomLeft%2c360%2c-6_SR600%2c315_ZA148%2c445%2c290%2c400%2c400%2cAmazonEmberBold%2c12%2c4%2c0%2c0%2c5_SCLZZZZZZZ_FMpng_BG255%2c255%2c255.jpg', 'theme-color': '#131921', 'viewport': 'width=device-width, maximum-scale=1, minimum-scale=1, initial-scale=1, user-scalable=no, shrink-to-fit=no', 'og:title': 'Apotheke 3-Wick Candles Collection', 'og:url': 'https://www.amazon.com/dp/B07PMY9PK6/ref=tsm_1_fb_lk', 'title': 'Amazon.com: Apotheke 3-Wick Candles Collection : Health & Household', 'og:description': 'Captivating Fragrance: Transform any living space with the unforgettable scent of Charcoal 3-Wick Candle from APOTHEKE. Our candles are hand poured and made with a proprietary blend of essential and perfume-grade oils for a long-lasting fragrance. Each 26 oz candle burns for approximately 120 - 1...', 'encrypted-slate-token': 'AnYx8FBijW5CryiX7OV5Q4I3OpKJ1hljZ9WONO/P9N3hILfbF5cD3aDYvVkvhEu/CZhANJqA4AF7G/xFNTohgBBqb5ujsyW5NZvdbmAxnw2e6mKTtTfPb7CgossTnYjqvNKFAtEwh3kk29xBqZhgJon/r0d9qR3B2ElHmzByBfFX0wTltj7wFfOBBgyRqocBP9Rtm1ZiXFTJtfNKZD3Fg7IP7p8FwadsRHN3zQg4VItFw/ggiwycVZCkt/yZmalqEiVJwymx6c9KSH/Z1GtRD9zzK5g='}], 'cse_image': [{'src': 'https://m.media-amazon.com/images/I/51PyziKMJdL._AC_UF894,1000_QL80_.jpg'}]}\u001b[0m\n",
            "\u001b[32mkind: customsearch#result\u001b[0m\n",
            "\u001b[32mtitle: 1 Hotels Signature Kindling Candle – 1 Hotels Goodthings\u001b[0m\n",
            "\u001b[32mhtmlTitle: 1 Hotels Signature Kindling <b>Candle</b> – 1 Hotels Goodthings\u001b[0m\n",
            "\u001b[32mlink: https://shop.1hotels.com/products/1-hotels-signature-kindling-candle\u001b[0m\n",
            "\u001b[32mdisplayLink: shop.1hotels.com\u001b[0m\n",
            "\u001b[32msnippet: While a base of sheer musk and earthy tree moss impart a touch of nature's luxury. Available in multiple sizes: - 2oz Votive. - 9oz 1 Wick. - 28oz 3 Wick. Share ...\u001b[0m\n",
            "\u001b[32mhtmlSnippet: While a base of sheer musk and earthy tree moss impart a touch of nature&#39;s luxury. Available in multiple sizes: - 2oz Votive. - 9oz 1 Wick. - 28oz <b>3 Wick</b>. Share&nbsp;...\u001b[0m\n",
            "\u001b[32mcacheId: loKaPw--epgJ\u001b[0m\n",
            "\u001b[32mformattedUrl: https://shop.1hotels.com/products/1-hotels-signature-kindling-candle\u001b[0m\n",
            "\u001b[32mhtmlFormattedUrl: https://shop.1hotels.com/products/1-hotels-signature-kindling-candle\u001b[0m\n",
            "\u001b[32mpagemap: {'cse_thumbnail': [{'src': 'https://encrypted-tbn2.gstatic.com/images?q=tbn:ANd9GcRG8SIKfaC-4NFcVd8htt-F9M-35gPL3XLyvBDzGgT0yg961wnwp9NkHdwd', 'width': '267', 'height': '189'}], 'metatags': [{'og:image': 'http://shop.1hotels.com/cdn/shop/files/1HCandle1_1200x1200.jpg?v=1682705341', 'theme-color': '#000000', 'og:type': 'product', 'twitter:card': 'summary_large_image', 'twitter:title': '1 Hotels Signature Kindling Candle', 'og:site_name': '1 Hotels Goodthings', 'og:price:amount': '32.00', 'og:title': '1 Hotels Signature Kindling Candle', 'og:price:currency': 'USD', 'shopify-checkout-api-token': '9282b6ebdd79c0544be8bff3ef4076dc', 'og:description': 'An aromatic bouquet of exotic eucalyptus leaves and sultry cedar\\xa0wood meld together with a transparent Oakwood to create an\\xa0uplifting impression. While a base of sheer musk and earthy tree moss\\xa0impart a touch of nature’s luxury. Available in multiple sizes:\\xa0 - 2oz Votive -\\xa09oz 1 Wick - 28oz 3 Wick', 'og:image:secure_url': 'https://shop.1hotels.com/cdn/shop/files/1HCandle1_1200x1200.jpg?v=1682705341', 'twitter:site': '@1hotels', 'viewport': 'width=device-width,initial-scale=1', 'twitter:description': 'An aromatic bouquet of exotic eucalyptus leaves and sultry cedar\\xa0wood meld together with a transparent Oakwood to create an\\xa0uplifting impression. While a base of sheer musk and earthy tree moss\\xa0impart a touch of nature’s luxury. Available in multiple sizes:\\xa0 - 2oz Votive -\\xa09oz 1 Wick - 28oz 3 Wick', 'shopify-digital-wallet': '/47926902951/digital_wallets/dialog', 'og:url': 'https://shop.1hotels.com/products/1-hotels-signature-kindling-candle'}], 'cse_image': [{'src': 'http://shop.1hotels.com/cdn/shop/files/1HCandle1_1200x1200.jpg?v=1682705341'}]}\u001b[0m\n",
            "\u001b[32mkind: customsearch#result\u001b[0m\n",
            "\u001b[32mtitle: Amazon.com: APOTHEKE Market Collection Luxury Scented 3-Wick ...\u001b[0m\n",
            "\u001b[32mhtmlTitle: Amazon.com: <b>APOTHEKE</b> Market <b>Collection</b> Luxury <b>Scented 3</b>-<b>Wick</b> ...\u001b[0m\n",
            "\u001b[32mlink: https://www.amazon.com/APOTHEKE-Market-Collection-Luxury-Scented/dp/B09RTPD6ZN\u001b[0m\n",
            "\u001b[32mdisplayLink: www.amazon.com\u001b[0m\n",
            "\u001b[32msnippet: Buy APOTHEKE Market Collection Luxury Scented 3-Wick Jar Candle, Purple Basil, 32 oz - Basil, Ginger Lime & Lily of The Valley Scent, Strong Fragrance, ...\u001b[0m\n",
            "\u001b[32mhtmlSnippet: Buy <b>APOTHEKE</b> Market <b>Collection</b> Luxury <b>Scented 3</b>-<b>Wick</b> Jar <b>Candle</b>, Purple Basil, 32 oz - Basil, Ginger Lime &amp; Lily of The Valley Scent, Strong Fragrance,&nbsp;...\u001b[0m\n",
            "\u001b[32mformattedUrl: https://www.amazon.com/APOTHEKE-Market-Collection.../B09RTPD6ZN\u001b[0m\n",
            "\u001b[32mhtmlFormattedUrl: https://www.amazon.com/<b>APOTHEKE</b>-Market-<b>Collection</b>.../B09RTPD6ZN\u001b[0m\n",
            "\u001b[32mpagemap: {'cse_thumbnail': [{'src': 'https://encrypted-tbn1.gstatic.com/images?q=tbn:ANd9GcRZicEq75ujGu4NndIXDelukzYJ9gS8M0Whz5wrpqk1f8crtB6F1SAGf9k', 'width': '263', 'height': '192'}], 'metatags': [{'og:image': 'https://m.media-amazon.com/images/I/31n2mizAQiL._SR600%2c315_PIWhiteStrip%2cBottomLeft%2c0%2c35_PIStarRatingFOUR%2cBottomLeft%2c360%2c-6_SR600%2c315_ZA147%2c445%2c290%2c400%2c400%2cAmazonEmberBold%2c12%2c4%2c0%2c0%2c5_SCLZZZZZZZ_FMpng_BG255%2c255%2c255.jpg', 'theme-color': '#131921', 'viewport': 'width=device-width, maximum-scale=1, minimum-scale=1, initial-scale=1, user-scalable=no, shrink-to-fit=no', 'og:title': 'APOTHEKE Market Collection Luxury Scented 3-Wick Jar Candle, Purple Basil, 32 oz - Basil, Ginger Lime & Lily of The Valley Scent, Strong Fragrance, Aromatherapy, Long Lasting, Hand Poured in USA, Soy', 'og:url': 'https://www.amazon.com/dp/B09RTPD6ZN/ref=tsm_1_fb_lk', 'title': 'Amazon.com: APOTHEKE Market Collection Luxury Scented 3-Wick Jar Candle, Purple Basil, 32 oz - Basil, Ginger Lime & Lily of The Valley Scent, Strong Fragrance, Aromatherapy, Long Lasting, Hand Poured in USA, Soy : Health & Household', 'og:description': 'APOTHEKE Luxury Jar Candles Purple Basil - 32 Ounce 3-Wick Jar Candle SCENT PROFILE: Purple basil, spicy ginger and juicy lime zest mingle with hints of lily of the valley Our candles are hand-poured with perfume-grade fragrance oils and a high quality soy wax blend. Each scent is formulated with...', 'encrypted-slate-token': 'AnYxL9QHj/E4xNRHFC6+YHnmFwok9Kr6fEONOKwqX7g315LNcRDOramDepR3x2V3hSkaLb7yiJ0ApPW+q37VdlEv9FK/J8Lua2kvvyAtDvKubGW6pwysiVHa62i0Ps0z0+fyUzK1IQXD1SORi7voRAfHPGhtsv42+1hWND9FL8BgqcidKc9HZbdmOLfadHt2fLxs0e/56nB+aNRORlnGoP+orkYVP6Zwz9rdZKfwL6jPF3qyz3QxrxWazwzSzc8VNDdCTCI6rx/rVVzpEOjU9tgnrg=='}], 'cse_image': [{'src': 'https://m.media-amazon.com/images/I/618bD-pCyRL._AC_UF894,1000_QL80_.jpg'}]}\u001b[0m\n",
            "\n",
            " ***Title: Apotheke 3-Wick Candles Collection\n",
            "Description: Captivating Fragrance: Transform any living space with the unforgettable scent of Charcoal 3-Wick Candle from APOTHEKE. Our candles are hand poured and made with a proprietary blend of essential and perfume-grade oils for a long-lasting fragrance. Each 26 oz candle burns for approximately 120 - 1...\n",
            "URL: https://www.amazon.com/dp/B07PMY9PK6/ref=tsm_1_fb_lk \n",
            "Availability: In Stock\n",
            "ASIN: B07PMY9PK6 \n",
            "type: text \n",
            "image2: https://m.media-amazon.com/images/I/51PyziKMJdL._AC_UF894,1000_QL80_.jpg \n",
            "link: https://www.amazon.com/Scented-Candles-Home-Soy-Wax-Jar-Candle/dp/B07PMY9PK6\n",
            " ***Title: 1 Hotels Signature Kindling Candle\n",
            "Description: An aromatic bouquet of exotic eucalyptus leaves and sultry cedar wood meld together with a transparent Oakwood to create an uplifting impression. While a base of sheer musk and earthy tree moss impart a touch of nature’s luxury. Available in multiple sizes:  - 2oz Votive - 9oz 1 Wick - 28oz 3 Wick\n",
            "Price: 32.00 USD\n",
            "Image URL: http://shop.1hotels.com/cdn/shop/files/1HCandle1_1200x1200.jpg?v=1682705341 \n",
            "URL: https://shop.1hotels.com/products/1-hotels-signature-kindling-candle \n",
            "Availability: Unknown\n",
            "Site Name: 1 Hotels Goodthings \n",
            "type: product \n",
            "image2: http://shop.1hotels.com/cdn/shop/files/1HCandle1_1200x1200.jpg?v=1682705341 \n",
            "link: https://shop.1hotels.com/products/1-hotels-signature-kindling-candle\n",
            " ***Title: APOTHEKE Market Collection Luxury Scented 3-Wick Jar Candle, Purple Basil, 32 oz - Basil, Ginger Lime & Lily of The Valley Scent, Strong Fragrance, Aromatherapy, Long Lasting, Hand Poured in USA, Soy\n",
            "Description: APOTHEKE Luxury Jar Candles Purple Basil - 32 Ounce 3-Wick Jar Candle SCENT PROFILE: Purple basil, spicy ginger and juicy lime zest mingle with hints of lily of the valley Our candles are hand-poured with perfume-grade fragrance oils and a high quality soy wax blend. Each scent is formulated with...\n",
            "URL: https://www.amazon.com/dp/B09RTPD6ZN/ref=tsm_1_fb_lk \n",
            "Availability: Unknown\n",
            "ASIN: B09RTPD6ZN \n",
            "type: text \n",
            "image2: https://m.media-amazon.com/images/I/618bD-pCyRL._AC_UF894,1000_QL80_.jpg \n",
            "link: https://www.amazon.com/APOTHEKE-Market-Collection-Luxury-Scented/dp/B09RTPD6ZN\n"
          ]
        }
      ]
    },
    {
      "cell_type": "code",
      "source": [
        "def combined_scraped_api_search(query):\n",
        "  scraped_results = google_scraper(query)\n",
        "  search_api_results = search_google(query)\n",
        "  return f\"\"\"{scraped_results} \\n {search_api_results} \"\"\"\n"
      ],
      "metadata": {
        "id": "aORCC_-FG4kh"
      },
      "execution_count": 11,
      "outputs": []
    },
    {
      "cell_type": "markdown",
      "source": [
        "# LangChain Expression Language (LCEL)"
      ],
      "metadata": {
        "id": "ji1uUGHYAA4n"
      }
    },
    {
      "cell_type": "code",
      "source": [
        "from langchain.prompts import ChatPromptTemplate\n",
        "from langchain.schema.output_parser import StrOutputParser\n",
        "from langchain.schema.runnable import RunnableMap"
      ],
      "metadata": {
        "id": "Fy2hkH9WADbI"
      },
      "execution_count": 12,
      "outputs": []
    },
    {
      "cell_type": "code",
      "source": [
        "template = \"\"\"\n",
        "As a search analyst, your task is to find specific information online. We've provided context to assist:\n",
        "\n",
        "{context}\n",
        "\n",
        "Answer the following question based solely on the context:\n",
        "\n",
        "Question: {question}\n",
        "\n",
        "Provide the requested information in this format:\n",
        "\n",
        "Brand name:\n",
        "Product name:\n",
        "Product image(s): [provide at least one link]\n",
        "Color: [list colors, separated by commas]\n",
        "Category: [identify the product's category on Amazon]\n",
        "Description: [include a brief product description]\n",
        "Sold on Amazon: true / false\n",
        "Amazon price: [indicate the price range]\n",
        "ASIN: [list ASIN codes, separated by commas]\n",
        "UPC: [mention the UPC]\n",
        "\n",
        "If the information isn't available, conduct your own search and provide an answer.\n",
        "\"\"\"\n",
        "prompt = ChatPromptTemplate.from_template(template)"
      ],
      "metadata": {
        "id": "CWys22wJAwb6"
      },
      "execution_count": 13,
      "outputs": []
    },
    {
      "cell_type": "code",
      "source": [
        "model = llm\n",
        "output_parser = StrOutputParser()\n",
        "\n"
      ],
      "metadata": {
        "id": "-cdw-6OtA4YE"
      },
      "execution_count": 14,
      "outputs": []
    },
    {
      "cell_type": "code",
      "source": [
        "chain = RunnableMap({\n",
        "    \"context\": lambda x: combined_scraped_api_search(x[\"question\"]),\n",
        "    \"question\": lambda x: x[\"question\"]\n",
        "}) | prompt | model | output_parser"
      ],
      "metadata": {
        "id": "DFu7PmQoBBEH"
      },
      "execution_count": 15,
      "outputs": []
    },
    {
      "cell_type": "code",
      "source": [
        "print(chain.invoke({\"question\": \"Apotheke 3-Wick Candles Collection charcoal\"}))"
      ],
      "metadata": {
        "colab": {
          "base_uri": "https://localhost:8080/"
        },
        "id": "oOTjxIf0A_Ru",
        "outputId": "a6b09846-35fa-42fe-d274-ce7f550a0423"
      },
      "execution_count": 16,
      "outputs": [
        {
          "output_type": "stream",
          "name": "stdout",
          "text": [
            "\u001b[34mGoogle×Please click here if you are not redirected within a few seconds.    AllImagesShoppingVideos Maps News Books Search tools    Any timeAny timePast hourPast 24 hoursPast weekPast monthPast yearAll resultsAll resultsVerbatimApotheke 3-Wick Candles Collection Charcoal | eBaywww.ebay.com › Home & Garden › Candles & Home Fragrance › Candles$109.950602573896181. MPN. CHAR-CAN-3Wick. UPC. 602573896181. Brand. APOTHEKE. Scent. Charcoal. Type. Does Not Apply. Category. Home & Garden > Candles & Home ...Charcoal 3-Wick Candle - Apothekeapothekeco.com › products › charcoal-3-wick-candleRating  4.4  (124)   · $78.00  · In stockThis 3-Wick Scented Candle is made with a premium soy wax blend and essential and perfume-grade fragrance oils in a chic matte-black glass vessel. The FragranceMissing:  upc | Show results with:upcApotheke Charcoal 2-Wick Ceramic Scented Candle - Bluemercurybluemercury.com › products › apotheke-charcoal-2-wick-ceramic-scented-...$62.00 In stockRich and addictive, this two-wick scented candle features a premium soy wax blend in an elegant ceramic vessel with matching lid.People also askWhat does apotheke charcoal smell like?What are Apotheke candles made of?What is a charcoal candle?APOTHEKE Luxury Scented 3-Wick Jar Candle, Charcoal, 32 ozwww.walmart.ca › ... › Air Fresheners › Air Freshener RefillsAPOTHEKE Luxury Scented 3-Wick Jar Candle, Charcoal, 32 oz - Large - Cedarwood, Sandalwood and Amber Scent, Strong Fragrance, Aromatherapy, Long Lasting, Hand ...Apotheke 3-Wick Candles Collection - Amazon.comwww.amazon.com › Scented-Candles-Home-Soy-Wax-Jar-CandleRating  4.2  (148)   · $78.00  · In stockEach 26 oz candle burns for approximately 120 - 140 hours. Dimensions: 5 inches x 4.8 inches. The Fragrance: Charcoal combines cedarwood and sandalwood with ...Missing:  upc | Show results with:upcCharcoal Rouge 3-Wick Candle | APOTHEKEapothekeco.com › products › charcoal-rouge-3-wick-candleRating  5.0  (2)   · $66.30This 3-Wick Scented Candle is made with a premium soy wax blend and essential and perfume-grade fragrance oils in a chic matte-black glass vessel. The FragranceMissing:  upc | Show results with:upcApotheke Charcoal 3-wick Candle - BevMo!bevmo.com › products$59.19 In stockOur 3-wick candle lights up your room with cedarwood and sandalwood combined with notes of smoky amber and oud in a broody, full-bodied fragrance.Missing:  upc | Show results with:upcMelted Element 3-Pc. Explore Travel Candle Gift Set | eBay | Hand ...www.pinterest.com › ... › Home Accessories › Home Accents › CandlesUPC. 850002316322. Ships from and sold by. www.ebay.com ... charcoal 3 wick candle design by apotheke 1 Fragrance Oil, Scent, Broody, 3 · $78.00. Charcoal 3-Wick ...3-Wick Candles | APOTHEKEapothekeco.com › collections › 3-wick-candlesProduct type. 3-Wick Candles. Fragrance Family. Aromatic Citrus Floral Fruity Gourmand Green ... Charcoal 3-Wick Candle. 4.4 out of 5 star rating. 4.4. 124 ...Missing:  upc | Show results with:upcAPOTHEKE Luxury Scented Lotion, 10 oz - Nourishing, Algeria | Ubuywww.algeria.ubuy.com › ... › Skin Care › Body › Moisturizers › LotionsShop APOTHEKE Luxury Scented Lotion, 10 oz - Nourishing, Moisturizing, Hydrating for Hand & Body, Enriched Aloe Vera, Plant Based for Dry Skin Charcoal ...Related searchesApotheke 3 wick candles collection charcoal upc reviewApotheke 3 wick candles collection charcoal upc amazonApotheke Candle SetApotheke black cypress CandleApotheke Black Cypress reviewElyn Candles vetiver and charcoalApotheke Firewood CandleApotheke Charcoal scent  Next >  United StatesFrom your IP address - Learn moreSign inSettingsPrivacyTermsDark theme: Off \n",
            "\u001b[32mkind: customsearch#result\u001b[0m\n",
            "\u001b[32mtitle: Charcoal 3-Wick Candle – APOTHEKE\u001b[0m\n",
            "\u001b[32mhtmlTitle: <b>Charcoal 3</b>-<b>Wick Candle</b> – <b>APOTHEKE</b>\u001b[0m\n",
            "\u001b[32mlink: https://apothekeco.com/products/charcoal-3-wick-candle\u001b[0m\n",
            "\u001b[32mdisplayLink: apothekeco.com\u001b[0m\n",
            "\u001b[32msnippet: Experience the rich and addictive aroma of our broody bestselling fragrance, Charcoal. This 3-Wick Scented Candle is made with a premium soy wax blend and ...\u001b[0m\n",
            "\u001b[32mhtmlSnippet: Experience the rich and addictive aroma of our broody bestselling fragrance, <b>Charcoal</b>. This <b>3</b>-<b>Wick Scented Candle</b> is made with a premium soy wax blend and&nbsp;...\u001b[0m\n",
            "\u001b[32mcacheId: DZWa98lG9ogJ\u001b[0m\n",
            "\u001b[32mformattedUrl: https://apothekeco.com/products/charcoal-3-wick-candle\u001b[0m\n",
            "\u001b[32mhtmlFormattedUrl: https://<b>apotheke</b>co.com/products/<b>charcoal</b>-<b>3-wick</b>-candle\u001b[0m\n",
            "\u001b[32mpagemap: {'cse_thumbnail': [{'src': 'https://encrypted-tbn2.gstatic.com/images?q=tbn:ANd9GcSr6jwPWTlmefkUUCXK1hC1ti6pmW_3oFngRwxTtDhfCZw5DP3D3ESKjZg', 'width': '225', 'height': '225'}], 'organization': [{'name': 'APOTHEKE', 'logo': 'https://apothekeco.com/cdn/shop/files/apotheke-logo_500x.svg?v=1686020241', 'url': 'https://apothekeco.com/'}], 'metatags': [{'og:image': 'http:products/AP03-CH_Charcoal_26oz_3WickCandle.jpg', 'theme-color': '#2f2d2e', 'og:type': 'product', 'og:image:width': '1000', 'twitter:card': 'summary_large_image', 'twitter:title': 'Charcoal 3-Wick Candle', 'og:site_name': 'APOTHEKE', 'og:price:amount': '78.00', 'og:title': 'Charcoal 3-Wick Candle', 'og:price:currency': 'USD', 'og:image:height': '1000', 'shopify-checkout-api-token': '20d59623985f85508a4fcfec40af1f61', 'og:description': 'Our number 1 best seller, Charcoal, featured in our signature matte black vessel will elevate any room in your home. Notes of cedarwood and sandalwood blended with smokey amber and oud come together to create a broody full-bodied fragrance.', 'og:image:secure_url': 'https:products/AP03-CH_Charcoal_26oz_3WickCandle.jpg', 'twitter:site': '@apotheke_co', 'viewport': 'width=device-width, initial-scale=1.0, maximum-scale=1.0,user-scalable=0', 'twitter:description': 'Our number 1 best seller, Charcoal, featured in our signature matte black vessel will elevate any room in your home. Notes of cedarwood and sandalwood blended with smokey amber and oud come together to create a broody full-bodied fragrance.', 'shopify-digital-wallet': '/10174201956/digital_wallets/dialog', 'og:url': 'https://apothekeco.com/products/charcoal-3-wick-candle'}], 'cse_image': [{'src': 'https://cdn.shopify.com/s/files/1/0101/7420/1956/products/CH_20Collection_20_Lifestyle-1_1024x1024.png?v=1706115996'}]}\u001b[0m\n",
            "\u001b[32mkind: customsearch#result\u001b[0m\n",
            "\u001b[32mtitle: Apotheke 3-Wick Candles Collection : Health ... - Amazon.com\u001b[0m\n",
            "\u001b[32mhtmlTitle: Apotheke 3-Wick Candles Collection : Health ... - Amazon.com\u001b[0m\n",
            "\u001b[32mlink: https://www.amazon.com/Scented-Candles-Home-Soy-Wax-Jar-Candle/dp/B07PMY9PK6\u001b[0m\n",
            "\u001b[32mdisplayLink: www.amazon.com\u001b[0m\n",
            "\u001b[32msnippet: Captivating Fragrance: Transform any living space with the unforgettable scent of Charcoal 3-Wick Candle from APOTHEKE. Our candles are hand poured and made ...\u001b[0m\n",
            "\u001b[32mhtmlSnippet: Captivating Fragrance: Transform any living space with the unforgettable scent of <b>Charcoal 3</b>-<b>Wick Candle</b> from <b>APOTHEKE</b>. Our <b>candles</b> are hand poured and made&nbsp;...\u001b[0m\n",
            "\u001b[32mformattedUrl: https://www.amazon.com/Scented-Candles-Home-Soy.../B07PMY9PK6\u001b[0m\n",
            "\u001b[32mhtmlFormattedUrl: https://www.amazon.com/Scented-<b>Candles</b>-Home-Soy.../B07PMY9PK6\u001b[0m\n",
            "\u001b[32mpagemap: {'cse_thumbnail': [{'src': 'https://encrypted-tbn1.gstatic.com/images?q=tbn:ANd9GcSn_XK9lxk8YHeoZ-1cwFl6vAw52HIMW2FN2RbGuGT2KqCwycqvSOYtY-o', 'width': '238', 'height': '212'}], 'metatags': [{'og:image': 'https://m.media-amazon.com/images/I/31znTWufyPL._SR600%2c315_PIWhiteStrip%2cBottomLeft%2c0%2c35_PIStarRatingFOUR%2cBottomLeft%2c360%2c-6_SR600%2c315_ZA148%2c445%2c290%2c400%2c400%2cAmazonEmberBold%2c12%2c4%2c0%2c0%2c5_SCLZZZZZZZ_FMpng_BG255%2c255%2c255.jpg', 'theme-color': '#131921', 'viewport': 'width=device-width, maximum-scale=1, minimum-scale=1, initial-scale=1, user-scalable=no, shrink-to-fit=no', 'og:title': 'Apotheke 3-Wick Candles Collection', 'og:url': 'https://www.amazon.com/dp/B07PMY9PK6/ref=tsm_1_fb_lk', 'title': 'Amazon.com: Apotheke 3-Wick Candles Collection : Health & Household', 'og:description': 'Captivating Fragrance: Transform any living space with the unforgettable scent of Charcoal 3-Wick Candle from APOTHEKE. Our candles are hand poured and made with a proprietary blend of essential and perfume-grade oils for a long-lasting fragrance. Each 26 oz candle burns for approximately 120 - 1...', 'encrypted-slate-token': 'AnYx8FBijW5CryiX7OV5Q4I3OpKJ1hljZ9WONO/P9N3hILfbF5cD3aDYvVkvhEu/CZhANJqA4AF7G/xFNTohgBBqb5ujsyW5NZvdbmAxnw2e6mKTtTfPb7CgossTnYjqvNKFAtEwh3kk29xBqZhgJon/r0d9qR3B2ElHmzByBfFX0wTltj7wFfOBBgyRqocBP9Rtm1ZiXFTJtfNKZD3Fg7IP7p8FwadsRHN3zQg4VItFw/ggiwycVZCkt/yZmalqEiVJwymx6c9KSH/Z1GtRD9zzK5g='}], 'cse_image': [{'src': 'https://m.media-amazon.com/images/I/51PyziKMJdL._AC_UF894,1000_QL80_.jpg'}]}\u001b[0m\n",
            "\u001b[32mkind: customsearch#result\u001b[0m\n",
            "\u001b[32mtitle: Charcoal Classic Candle | APOTHEKE\u001b[0m\n",
            "\u001b[32mhtmlTitle: <b>Charcoal</b> Classic <b>Candle</b> | <b>APOTHEKE</b>\u001b[0m\n",
            "\u001b[32mlink: https://apothekeco.com/products/binchotan-charcoal-candle\u001b[0m\n",
            "\u001b[32mdisplayLink: apothekeco.com\u001b[0m\n",
            "\u001b[32msnippet: 3-Wick Candles · Fragrance Bundles · Discovery Sets ... All Charcoal Scented Candles feature black wax. ... The Charcoal Fragrance Collection Candle Duo. $70.00.\u001b[0m\n",
            "\u001b[32mhtmlSnippet: <b>3</b>-<b>Wick Candles</b> &middot; Fragrance Bundles &middot; Discovery Sets ... All <b>Charcoal Scented Candles</b> feature black wax. ... The <b>Charcoal</b> Fragrance <b>Collection Candle</b> Duo. $70.00.\u001b[0m\n",
            "\u001b[32mcacheId: 1_pHipRrOfgJ\u001b[0m\n",
            "\u001b[32mformattedUrl: https://apothekeco.com/products/binchotan-charcoal-candle\u001b[0m\n",
            "\u001b[32mhtmlFormattedUrl: https://<b>apotheke</b>co.com/products/binchotan-<b>charcoal</b>-candle\u001b[0m\n",
            "\u001b[32mpagemap: {'cse_thumbnail': [{'src': 'https://encrypted-tbn0.gstatic.com/images?q=tbn:ANd9GcQXMIPkA52t7nlGP0ehmXt3wshgY-ewS3Uv5aqbROiOo121mLNwVkzsIL6e', 'width': '225', 'height': '225'}], 'organization': [{'name': 'APOTHEKE', 'logo': 'https://apothekeco.com/cdn/shop/files/apotheke-logo_500x.svg?v=1686020241', 'url': 'https://apothekeco.com/'}], 'metatags': [{'og:image': 'http:products/AP01-CH_Charcoal_10.5oz_ClassicCandle.jpg', 'theme-color': '#2f2d2e', 'og:type': 'product', 'og:image:width': '1000', 'twitter:card': 'summary_large_image', 'twitter:title': 'Charcoal Classic Candle | APOTHEKE', 'og:site_name': 'APOTHEKE', 'og:price:amount': '44.00', 'og:title': 'Charcoal Classic Candle | APOTHEKE', 'og:price:currency': 'USD', 'og:image:height': '1000', 'shopify-checkout-api-token': '20d59623985f85508a4fcfec40af1f61', 'og:description': 'Our number 1 best seller featured in our signature matte black vessel, Charcoal will elevate any room in your home. Notes of cedarwood and sandalwood blended with smokey amber and oud make Charcoal a broody full-bodied fragrance. Transform your space with Charcoal.', 'og:image:secure_url': 'https:products/AP01-CH_Charcoal_10.5oz_ClassicCandle.jpg', 'twitter:site': '@apotheke_co', 'viewport': 'width=device-width, initial-scale=1.0, maximum-scale=1.0,user-scalable=0', 'twitter:description': 'Our number 1 best seller featured in our signature matte black vessel, Charcoal will elevate any room in your home. Notes of cedarwood and sandalwood blended with smokey amber and oud make Charcoal a broody full-bodied fragrance. Transform your space with Charcoal.', 'shopify-digital-wallet': '/10174201956/digital_wallets/dialog', 'og:url': 'https://apothekeco.com/products/binchotan-charcoal-candle'}], 'cse_image': [{'src': 'https://cdn.shopify.com/s/files/1/0101/7420/1956/products/Charcoal-Votive_1024x1024.jpg?v=1690572108'}]}\u001b[0m\n",
            "Brand name: APOTHEKE\n",
            "Product name: Apotheke 3-Wick Candles Collection Charcoal\n",
            "Product image(s): https://m.media-amazon.com/images/I/51PyziKMJdL._AC_UF894,1000_QL80_.jpg\n",
            "Color: Matte black\n",
            "Category: Home & Kitchen > Home Décor > Candles\n",
            "Description: Transform any living space with the unforgettable scent of Charcoal 3-Wick Candle from APOTHEKE. Hand poured and made with a proprietary blend of essential and perfume-grade oils for a long-lasting fragrance. Each 26 oz candle burns for approximately 120 - 140 hours.\n",
            "Sold on Amazon: true\n",
            "Amazon price: $78.00\n",
            "ASIN: B07PMY9PK6\n",
            "UPC: 602573896181\n"
          ]
        }
      ]
    }
  ]
}