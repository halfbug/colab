{
  "nbformat": 4,
  "nbformat_minor": 0,
  "metadata": {
    "colab": {
      "provenance": [],
      "authorship_tag": "ABX9TyNeJr/oQpeNMUTIQefljEXD",
      "include_colab_link": true
    },
    "kernelspec": {
      "name": "python3",
      "display_name": "Python 3"
    },
    "language_info": {
      "name": "python"
    }
  },
  "cells": [
    {
      "cell_type": "markdown",
      "metadata": {
        "id": "view-in-github",
        "colab_type": "text"
      },
      "source": [
        "<a href=\"https://colab.research.google.com/github/halfbug/colab/blob/main/retriever-vector-db.ipynb\" target=\"_parent\"><img src=\"https://colab.research.google.com/assets/colab-badge.svg\" alt=\"Open In Colab\"/></a>"
      ]
    },
    {
      "cell_type": "markdown",
      "source": [
        "## **LangChain and OpenAI installation**\n"
      ],
      "metadata": {
        "id": "mkl0jefz5ppY"
      }
    },
    {
      "cell_type": "code",
      "source": [
        "try:\n",
        "  import openai\n",
        "  from langchain_openai import ChatOpenAI\n",
        "except:\n",
        "    !pip install openai\n",
        "    !pip install langchain\n",
        "    !pip install langchain-openai"
      ],
      "metadata": {
        "id": "xPDvuNzT5vac",
        "colab": {
          "base_uri": "https://localhost:8080/"
        },
        "outputId": "caad0a96-7540-40fb-bc2d-ef73d3b18271"
      },
      "execution_count": 1,
      "outputs": [
        {
          "output_type": "stream",
          "name": "stdout",
          "text": [
            "Collecting openai\n",
            "  Downloading openai-1.14.0-py3-none-any.whl (257 kB)\n",
            "\u001b[2K     \u001b[90m━━━━━━━━━━━━━━━━━━━━━━━━━━━━━━━━━━━━━━━━\u001b[0m \u001b[32m257.5/257.5 kB\u001b[0m \u001b[31m2.2 MB/s\u001b[0m eta \u001b[36m0:00:00\u001b[0m\n",
            "\u001b[?25hRequirement already satisfied: anyio<5,>=3.5.0 in /usr/local/lib/python3.10/dist-packages (from openai) (3.7.1)\n",
            "Requirement already satisfied: distro<2,>=1.7.0 in /usr/lib/python3/dist-packages (from openai) (1.7.0)\n",
            "Collecting httpx<1,>=0.23.0 (from openai)\n",
            "  Downloading httpx-0.27.0-py3-none-any.whl (75 kB)\n",
            "\u001b[2K     \u001b[90m━━━━━━━━━━━━━━━━━━━━━━━━━━━━━━━━━━━━━━━━\u001b[0m \u001b[32m75.6/75.6 kB\u001b[0m \u001b[31m7.0 MB/s\u001b[0m eta \u001b[36m0:00:00\u001b[0m\n",
            "\u001b[?25hRequirement already satisfied: pydantic<3,>=1.9.0 in /usr/local/lib/python3.10/dist-packages (from openai) (2.6.3)\n",
            "Requirement already satisfied: sniffio in /usr/local/lib/python3.10/dist-packages (from openai) (1.3.1)\n",
            "Requirement already satisfied: tqdm>4 in /usr/local/lib/python3.10/dist-packages (from openai) (4.66.2)\n",
            "Requirement already satisfied: typing-extensions<5,>=4.7 in /usr/local/lib/python3.10/dist-packages (from openai) (4.10.0)\n",
            "Requirement already satisfied: idna>=2.8 in /usr/local/lib/python3.10/dist-packages (from anyio<5,>=3.5.0->openai) (3.6)\n",
            "Requirement already satisfied: exceptiongroup in /usr/local/lib/python3.10/dist-packages (from anyio<5,>=3.5.0->openai) (1.2.0)\n",
            "Requirement already satisfied: certifi in /usr/local/lib/python3.10/dist-packages (from httpx<1,>=0.23.0->openai) (2024.2.2)\n",
            "Collecting httpcore==1.* (from httpx<1,>=0.23.0->openai)\n",
            "  Downloading httpcore-1.0.4-py3-none-any.whl (77 kB)\n",
            "\u001b[2K     \u001b[90m━━━━━━━━━━━━━━━━━━━━━━━━━━━━━━━━━━━━━━━━\u001b[0m \u001b[32m77.8/77.8 kB\u001b[0m \u001b[31m7.2 MB/s\u001b[0m eta \u001b[36m0:00:00\u001b[0m\n",
            "\u001b[?25hCollecting h11<0.15,>=0.13 (from httpcore==1.*->httpx<1,>=0.23.0->openai)\n",
            "  Downloading h11-0.14.0-py3-none-any.whl (58 kB)\n",
            "\u001b[2K     \u001b[90m━━━━━━━━━━━━━━━━━━━━━━━━━━━━━━━━━━━━━━━━\u001b[0m \u001b[32m58.3/58.3 kB\u001b[0m \u001b[31m5.4 MB/s\u001b[0m eta \u001b[36m0:00:00\u001b[0m\n",
            "\u001b[?25hRequirement already satisfied: annotated-types>=0.4.0 in /usr/local/lib/python3.10/dist-packages (from pydantic<3,>=1.9.0->openai) (0.6.0)\n",
            "Requirement already satisfied: pydantic-core==2.16.3 in /usr/local/lib/python3.10/dist-packages (from pydantic<3,>=1.9.0->openai) (2.16.3)\n",
            "Installing collected packages: h11, httpcore, httpx, openai\n",
            "Successfully installed h11-0.14.0 httpcore-1.0.4 httpx-0.27.0 openai-1.14.0\n",
            "Collecting langchain\n",
            "  Downloading langchain-0.1.12-py3-none-any.whl (809 kB)\n",
            "\u001b[2K     \u001b[90m━━━━━━━━━━━━━━━━━━━━━━━━━━━━━━━━━━━━━━━━\u001b[0m \u001b[32m809.1/809.1 kB\u001b[0m \u001b[31m3.9 MB/s\u001b[0m eta \u001b[36m0:00:00\u001b[0m\n",
            "\u001b[?25hRequirement already satisfied: PyYAML>=5.3 in /usr/local/lib/python3.10/dist-packages (from langchain) (6.0.1)\n",
            "Requirement already satisfied: SQLAlchemy<3,>=1.4 in /usr/local/lib/python3.10/dist-packages (from langchain) (2.0.28)\n",
            "Requirement already satisfied: aiohttp<4.0.0,>=3.8.3 in /usr/local/lib/python3.10/dist-packages (from langchain) (3.9.3)\n",
            "Requirement already satisfied: async-timeout<5.0.0,>=4.0.0 in /usr/local/lib/python3.10/dist-packages (from langchain) (4.0.3)\n",
            "Collecting dataclasses-json<0.7,>=0.5.7 (from langchain)\n",
            "  Downloading dataclasses_json-0.6.4-py3-none-any.whl (28 kB)\n",
            "Collecting jsonpatch<2.0,>=1.33 (from langchain)\n",
            "  Downloading jsonpatch-1.33-py2.py3-none-any.whl (12 kB)\n",
            "Collecting langchain-community<0.1,>=0.0.28 (from langchain)\n",
            "  Downloading langchain_community-0.0.28-py3-none-any.whl (1.8 MB)\n",
            "\u001b[2K     \u001b[90m━━━━━━━━━━━━━━━━━━━━━━━━━━━━━━━━━━━━━━━━\u001b[0m \u001b[32m1.8/1.8 MB\u001b[0m \u001b[31m13.3 MB/s\u001b[0m eta \u001b[36m0:00:00\u001b[0m\n",
            "\u001b[?25hCollecting langchain-core<0.2.0,>=0.1.31 (from langchain)\n",
            "  Downloading langchain_core-0.1.32-py3-none-any.whl (260 kB)\n",
            "\u001b[2K     \u001b[90m━━━━━━━━━━━━━━━━━━━━━━━━━━━━━━━━━━━━━━━━\u001b[0m \u001b[32m260.9/260.9 kB\u001b[0m \u001b[31m10.8 MB/s\u001b[0m eta \u001b[36m0:00:00\u001b[0m\n",
            "\u001b[?25hCollecting langchain-text-splitters<0.1,>=0.0.1 (from langchain)\n",
            "  Downloading langchain_text_splitters-0.0.1-py3-none-any.whl (21 kB)\n",
            "Collecting langsmith<0.2.0,>=0.1.17 (from langchain)\n",
            "  Downloading langsmith-0.1.26-py3-none-any.whl (67 kB)\n",
            "\u001b[2K     \u001b[90m━━━━━━━━━━━━━━━━━━━━━━━━━━━━━━━━━━━━━━━━\u001b[0m \u001b[32m67.9/67.9 kB\u001b[0m \u001b[31m6.4 MB/s\u001b[0m eta \u001b[36m0:00:00\u001b[0m\n",
            "\u001b[?25hRequirement already satisfied: numpy<2,>=1 in /usr/local/lib/python3.10/dist-packages (from langchain) (1.25.2)\n",
            "Requirement already satisfied: pydantic<3,>=1 in /usr/local/lib/python3.10/dist-packages (from langchain) (2.6.3)\n",
            "Requirement already satisfied: requests<3,>=2 in /usr/local/lib/python3.10/dist-packages (from langchain) (2.31.0)\n",
            "Requirement already satisfied: tenacity<9.0.0,>=8.1.0 in /usr/local/lib/python3.10/dist-packages (from langchain) (8.2.3)\n",
            "Requirement already satisfied: aiosignal>=1.1.2 in /usr/local/lib/python3.10/dist-packages (from aiohttp<4.0.0,>=3.8.3->langchain) (1.3.1)\n",
            "Requirement already satisfied: attrs>=17.3.0 in /usr/local/lib/python3.10/dist-packages (from aiohttp<4.0.0,>=3.8.3->langchain) (23.2.0)\n",
            "Requirement already satisfied: frozenlist>=1.1.1 in /usr/local/lib/python3.10/dist-packages (from aiohttp<4.0.0,>=3.8.3->langchain) (1.4.1)\n",
            "Requirement already satisfied: multidict<7.0,>=4.5 in /usr/local/lib/python3.10/dist-packages (from aiohttp<4.0.0,>=3.8.3->langchain) (6.0.5)\n",
            "Requirement already satisfied: yarl<2.0,>=1.0 in /usr/local/lib/python3.10/dist-packages (from aiohttp<4.0.0,>=3.8.3->langchain) (1.9.4)\n",
            "Collecting marshmallow<4.0.0,>=3.18.0 (from dataclasses-json<0.7,>=0.5.7->langchain)\n",
            "  Downloading marshmallow-3.21.1-py3-none-any.whl (49 kB)\n",
            "\u001b[2K     \u001b[90m━━━━━━━━━━━━━━━━━━━━━━━━━━━━━━━━━━━━━━━━\u001b[0m \u001b[32m49.4/49.4 kB\u001b[0m \u001b[31m5.5 MB/s\u001b[0m eta \u001b[36m0:00:00\u001b[0m\n",
            "\u001b[?25hCollecting typing-inspect<1,>=0.4.0 (from dataclasses-json<0.7,>=0.5.7->langchain)\n",
            "  Downloading typing_inspect-0.9.0-py3-none-any.whl (8.8 kB)\n",
            "Collecting jsonpointer>=1.9 (from jsonpatch<2.0,>=1.33->langchain)\n",
            "  Downloading jsonpointer-2.4-py2.py3-none-any.whl (7.8 kB)\n",
            "Requirement already satisfied: anyio<5,>=3 in /usr/local/lib/python3.10/dist-packages (from langchain-core<0.2.0,>=0.1.31->langchain) (3.7.1)\n",
            "Collecting packaging<24.0,>=23.2 (from langchain-core<0.2.0,>=0.1.31->langchain)\n",
            "  Downloading packaging-23.2-py3-none-any.whl (53 kB)\n",
            "\u001b[2K     \u001b[90m━━━━━━━━━━━━━━━━━━━━━━━━━━━━━━━━━━━━━━━━\u001b[0m \u001b[32m53.0/53.0 kB\u001b[0m \u001b[31m4.5 MB/s\u001b[0m eta \u001b[36m0:00:00\u001b[0m\n",
            "\u001b[?25hCollecting orjson<4.0.0,>=3.9.14 (from langsmith<0.2.0,>=0.1.17->langchain)\n",
            "  Downloading orjson-3.9.15-cp310-cp310-manylinux_2_17_x86_64.manylinux2014_x86_64.whl (138 kB)\n",
            "\u001b[2K     \u001b[90m━━━━━━━━━━━━━━━━━━━━━━━━━━━━━━━━━━━━━━━━\u001b[0m \u001b[32m138.5/138.5 kB\u001b[0m \u001b[31m13.5 MB/s\u001b[0m eta \u001b[36m0:00:00\u001b[0m\n",
            "\u001b[?25hRequirement already satisfied: annotated-types>=0.4.0 in /usr/local/lib/python3.10/dist-packages (from pydantic<3,>=1->langchain) (0.6.0)\n",
            "Requirement already satisfied: pydantic-core==2.16.3 in /usr/local/lib/python3.10/dist-packages (from pydantic<3,>=1->langchain) (2.16.3)\n",
            "Requirement already satisfied: typing-extensions>=4.6.1 in /usr/local/lib/python3.10/dist-packages (from pydantic<3,>=1->langchain) (4.10.0)\n",
            "Requirement already satisfied: charset-normalizer<4,>=2 in /usr/local/lib/python3.10/dist-packages (from requests<3,>=2->langchain) (3.3.2)\n",
            "Requirement already satisfied: idna<4,>=2.5 in /usr/local/lib/python3.10/dist-packages (from requests<3,>=2->langchain) (3.6)\n",
            "Requirement already satisfied: urllib3<3,>=1.21.1 in /usr/local/lib/python3.10/dist-packages (from requests<3,>=2->langchain) (2.0.7)\n",
            "Requirement already satisfied: certifi>=2017.4.17 in /usr/local/lib/python3.10/dist-packages (from requests<3,>=2->langchain) (2024.2.2)\n",
            "Requirement already satisfied: greenlet!=0.4.17 in /usr/local/lib/python3.10/dist-packages (from SQLAlchemy<3,>=1.4->langchain) (3.0.3)\n",
            "Requirement already satisfied: sniffio>=1.1 in /usr/local/lib/python3.10/dist-packages (from anyio<5,>=3->langchain-core<0.2.0,>=0.1.31->langchain) (1.3.1)\n",
            "Requirement already satisfied: exceptiongroup in /usr/local/lib/python3.10/dist-packages (from anyio<5,>=3->langchain-core<0.2.0,>=0.1.31->langchain) (1.2.0)\n",
            "Collecting mypy-extensions>=0.3.0 (from typing-inspect<1,>=0.4.0->dataclasses-json<0.7,>=0.5.7->langchain)\n",
            "  Downloading mypy_extensions-1.0.0-py3-none-any.whl (4.7 kB)\n",
            "Installing collected packages: packaging, orjson, mypy-extensions, jsonpointer, typing-inspect, marshmallow, jsonpatch, langsmith, dataclasses-json, langchain-core, langchain-text-splitters, langchain-community, langchain\n",
            "  Attempting uninstall: packaging\n",
            "    Found existing installation: packaging 24.0\n",
            "    Uninstalling packaging-24.0:\n",
            "      Successfully uninstalled packaging-24.0\n",
            "Successfully installed dataclasses-json-0.6.4 jsonpatch-1.33 jsonpointer-2.4 langchain-0.1.12 langchain-community-0.0.28 langchain-core-0.1.32 langchain-text-splitters-0.0.1 langsmith-0.1.26 marshmallow-3.21.1 mypy-extensions-1.0.0 orjson-3.9.15 packaging-23.2 typing-inspect-0.9.0\n",
            "Collecting langchain-openai\n",
            "  Downloading langchain_openai-0.0.8-py3-none-any.whl (32 kB)\n",
            "Requirement already satisfied: langchain-core<0.2.0,>=0.1.27 in /usr/local/lib/python3.10/dist-packages (from langchain-openai) (0.1.32)\n",
            "Requirement already satisfied: openai<2.0.0,>=1.10.0 in /usr/local/lib/python3.10/dist-packages (from langchain-openai) (1.14.0)\n",
            "Collecting tiktoken<1,>=0.5.2 (from langchain-openai)\n",
            "  Downloading tiktoken-0.6.0-cp310-cp310-manylinux_2_17_x86_64.manylinux2014_x86_64.whl (1.8 MB)\n",
            "\u001b[2K     \u001b[90m━━━━━━━━━━━━━━━━━━━━━━━━━━━━━━━━━━━━━━━━\u001b[0m \u001b[32m1.8/1.8 MB\u001b[0m \u001b[31m9.1 MB/s\u001b[0m eta \u001b[36m0:00:00\u001b[0m\n",
            "\u001b[?25hRequirement already satisfied: PyYAML>=5.3 in /usr/local/lib/python3.10/dist-packages (from langchain-core<0.2.0,>=0.1.27->langchain-openai) (6.0.1)\n",
            "Requirement already satisfied: anyio<5,>=3 in /usr/local/lib/python3.10/dist-packages (from langchain-core<0.2.0,>=0.1.27->langchain-openai) (3.7.1)\n",
            "Requirement already satisfied: jsonpatch<2.0,>=1.33 in /usr/local/lib/python3.10/dist-packages (from langchain-core<0.2.0,>=0.1.27->langchain-openai) (1.33)\n",
            "Requirement already satisfied: langsmith<0.2.0,>=0.1.0 in /usr/local/lib/python3.10/dist-packages (from langchain-core<0.2.0,>=0.1.27->langchain-openai) (0.1.26)\n",
            "Requirement already satisfied: packaging<24.0,>=23.2 in /usr/local/lib/python3.10/dist-packages (from langchain-core<0.2.0,>=0.1.27->langchain-openai) (23.2)\n",
            "Requirement already satisfied: pydantic<3,>=1 in /usr/local/lib/python3.10/dist-packages (from langchain-core<0.2.0,>=0.1.27->langchain-openai) (2.6.3)\n",
            "Requirement already satisfied: requests<3,>=2 in /usr/local/lib/python3.10/dist-packages (from langchain-core<0.2.0,>=0.1.27->langchain-openai) (2.31.0)\n",
            "Requirement already satisfied: tenacity<9.0.0,>=8.1.0 in /usr/local/lib/python3.10/dist-packages (from langchain-core<0.2.0,>=0.1.27->langchain-openai) (8.2.3)\n",
            "Requirement already satisfied: distro<2,>=1.7.0 in /usr/lib/python3/dist-packages (from openai<2.0.0,>=1.10.0->langchain-openai) (1.7.0)\n",
            "Requirement already satisfied: httpx<1,>=0.23.0 in /usr/local/lib/python3.10/dist-packages (from openai<2.0.0,>=1.10.0->langchain-openai) (0.27.0)\n",
            "Requirement already satisfied: sniffio in /usr/local/lib/python3.10/dist-packages (from openai<2.0.0,>=1.10.0->langchain-openai) (1.3.1)\n",
            "Requirement already satisfied: tqdm>4 in /usr/local/lib/python3.10/dist-packages (from openai<2.0.0,>=1.10.0->langchain-openai) (4.66.2)\n",
            "Requirement already satisfied: typing-extensions<5,>=4.7 in /usr/local/lib/python3.10/dist-packages (from openai<2.0.0,>=1.10.0->langchain-openai) (4.10.0)\n",
            "Requirement already satisfied: regex>=2022.1.18 in /usr/local/lib/python3.10/dist-packages (from tiktoken<1,>=0.5.2->langchain-openai) (2023.12.25)\n",
            "Requirement already satisfied: idna>=2.8 in /usr/local/lib/python3.10/dist-packages (from anyio<5,>=3->langchain-core<0.2.0,>=0.1.27->langchain-openai) (3.6)\n",
            "Requirement already satisfied: exceptiongroup in /usr/local/lib/python3.10/dist-packages (from anyio<5,>=3->langchain-core<0.2.0,>=0.1.27->langchain-openai) (1.2.0)\n",
            "Requirement already satisfied: certifi in /usr/local/lib/python3.10/dist-packages (from httpx<1,>=0.23.0->openai<2.0.0,>=1.10.0->langchain-openai) (2024.2.2)\n",
            "Requirement already satisfied: httpcore==1.* in /usr/local/lib/python3.10/dist-packages (from httpx<1,>=0.23.0->openai<2.0.0,>=1.10.0->langchain-openai) (1.0.4)\n",
            "Requirement already satisfied: h11<0.15,>=0.13 in /usr/local/lib/python3.10/dist-packages (from httpcore==1.*->httpx<1,>=0.23.0->openai<2.0.0,>=1.10.0->langchain-openai) (0.14.0)\n",
            "Requirement already satisfied: jsonpointer>=1.9 in /usr/local/lib/python3.10/dist-packages (from jsonpatch<2.0,>=1.33->langchain-core<0.2.0,>=0.1.27->langchain-openai) (2.4)\n",
            "Requirement already satisfied: orjson<4.0.0,>=3.9.14 in /usr/local/lib/python3.10/dist-packages (from langsmith<0.2.0,>=0.1.0->langchain-core<0.2.0,>=0.1.27->langchain-openai) (3.9.15)\n",
            "Requirement already satisfied: annotated-types>=0.4.0 in /usr/local/lib/python3.10/dist-packages (from pydantic<3,>=1->langchain-core<0.2.0,>=0.1.27->langchain-openai) (0.6.0)\n",
            "Requirement already satisfied: pydantic-core==2.16.3 in /usr/local/lib/python3.10/dist-packages (from pydantic<3,>=1->langchain-core<0.2.0,>=0.1.27->langchain-openai) (2.16.3)\n",
            "Requirement already satisfied: charset-normalizer<4,>=2 in /usr/local/lib/python3.10/dist-packages (from requests<3,>=2->langchain-core<0.2.0,>=0.1.27->langchain-openai) (3.3.2)\n",
            "Requirement already satisfied: urllib3<3,>=1.21.1 in /usr/local/lib/python3.10/dist-packages (from requests<3,>=2->langchain-core<0.2.0,>=0.1.27->langchain-openai) (2.0.7)\n",
            "Installing collected packages: tiktoken, langchain-openai\n",
            "Successfully installed langchain-openai-0.0.8 tiktoken-0.6.0\n"
          ]
        }
      ]
    },
    {
      "cell_type": "code",
      "source": [
        "import openai\n",
        "from google.colab import userdata\n",
        "import os\n",
        "\n",
        "os.environ[\"OPENAI_API_KEY\"] = userdata.get('OPENAI_API_KEY')\n",
        "# llm = ChatOpenAI(openai_api_key=os.getenv('OPENAI_API_KEY'))\n",
        "openai.api_key  = os.getenv('OPENAI_API_KEY')"
      ],
      "metadata": {
        "id": "8U76-LF_6Z8y"
      },
      "execution_count": 2,
      "outputs": []
    },
    {
      "cell_type": "code",
      "source": [
        "from langchain.chat_models import ChatOpenAI\n",
        "import datetime\n",
        "current_date = datetime.datetime.now().date()\n",
        "# llm_name = \"gpt-4\"\n",
        "if current_date < datetime.date(2023, 9, 2):\n",
        "    llm_name = \"gpt-3.5-turbo-0301\"\n",
        "else:\n",
        "    llm_name = \"gpt-3.5-turbo\"\n",
        "print(llm_name)\n",
        "llm = ChatOpenAI(model_name=llm_name, temperature=0)\n",
        "llm.invoke(\"Hello world!\")"
      ],
      "metadata": {
        "colab": {
          "base_uri": "https://localhost:8080/"
        },
        "id": "gtNkHmw77N5Q",
        "outputId": "9e1f7581-d720-43b8-d972-09f8b074eef7"
      },
      "execution_count": 3,
      "outputs": [
        {
          "output_type": "stream",
          "name": "stdout",
          "text": [
            "gpt-3.5-turbo\n"
          ]
        },
        {
          "output_type": "stream",
          "name": "stderr",
          "text": [
            "/usr/local/lib/python3.10/dist-packages/langchain_core/_api/deprecation.py:117: LangChainDeprecationWarning: The class `langchain_community.chat_models.openai.ChatOpenAI` was deprecated in langchain-community 0.0.10 and will be removed in 0.2.0. An updated version of the class exists in the langchain-openai package and should be used instead. To use it run `pip install -U langchain-openai` and import as `from langchain_openai import ChatOpenAI`.\n",
            "  warn_deprecated(\n"
          ]
        },
        {
          "output_type": "execute_result",
          "data": {
            "text/plain": [
              "AIMessage(content='Hello! How can I assist you today?', response_metadata={'finish_reason': 'stop', 'logprobs': None})"
            ]
          },
          "metadata": {},
          "execution_count": 3
        }
      ]
    },
    {
      "cell_type": "markdown",
      "source": [
        "# Scraper"
      ],
      "metadata": {
        "id": "Zrtqs4fFAqdO"
      }
    },
    {
      "cell_type": "code",
      "source": [
        "import re\n",
        "import requests\n",
        "from bs4 import BeautifulSoup\n",
        "\n",
        "def extract_availability(url):\n",
        "    # Function to scrape the webpage for availability information\n",
        "    try:\n",
        "        response = requests.get(url)\n",
        "        soup = BeautifulSoup(response.content, 'html.parser')\n",
        "         # Search for specific keywords like \"stock availability\" on the webpage\n",
        "\n",
        "        body_content = soup.find('body')  # Find the body tag\n",
        "\n",
        "        if body_content:\n",
        "           # Extract only the text content from the body tag\n",
        "            text_content = body_content.get_text(strip=True)\n",
        "            # Search for either \"stock\" or \"stock availability\" in the text content\n",
        "            # print(text_content)\n",
        "            #  availability_pattern = re.compile(r\"(?:stock|stock|availability|Number\\sof\\sItems\\s*(\\d+)|in\\s*stock|(\\w+)\\s*stock\\s*(\\w+))\", re.IGNORECASE)\n",
        "\n",
        "            availability_pattern = re.compile(r\"(?:stock|stock|availability|in\\s*stock)\", re.IGNORECASE)\n",
        "            match = re.search(availability_pattern, text_content)\n",
        "            # print(match.groups())\n",
        "            if match:\n",
        "                # print(match.group(0))\n",
        "                return f\"Availability: {match.group(0).strip()}\"\n",
        "        # If specific keywords not found, return \"Scraped Availability: Unknown\"\n",
        "        return \"Availability: Unknown\"\n",
        "    except Exception as e:\n",
        "        print(f\"Error occurred while scraping: {e}\")\n",
        "        return \"Availability: Unknown\""
      ],
      "metadata": {
        "id": "7JPNBjzH_psn"
      },
      "execution_count": 4,
      "outputs": []
    },
    {
      "cell_type": "code",
      "source": [
        "def scrape_text(url):\n",
        "    # Function to scrape the webpage for availability information\n",
        "    try:\n",
        "        response = requests.get(url)\n",
        "        soup = BeautifulSoup(response.content, 'html.parser')\n",
        "         # Search for specific keywords like \"stock availability\" on the webpage\n",
        "\n",
        "         # Step 3: Extract metadata\n",
        "        meta_tags = soup.find_all('meta')\n",
        "        metadata = {}\n",
        "        for tag in meta_tags:\n",
        "            if 'name' in tag.attrs:\n",
        "                name = tag.attrs['name']\n",
        "                content = tag.attrs.get('content', '')\n",
        "                metadata[name] = content\n",
        "            elif 'property' in tag.attrs:  # For OpenGraph metadata\n",
        "                property = tag.attrs['property']\n",
        "                content = tag.attrs.get('content', '')\n",
        "                metadata[property] = content\n",
        "\n",
        "        # Display the metadata\n",
        "        # for key, value in metadata.items():\n",
        "        #     print(f\"{key}: {value}\")\n",
        "\n",
        "        # print( metadata)\n",
        "\n",
        "        meta_tag = extract_product_info([metadata])\n",
        "\n",
        "            # Find all link elements with the 'as' attribute set to 'image'\n",
        "        image_links = soup.find_all('link', {'rel': 'preload', 'as': 'image'})\n",
        "\n",
        "        # Extract and print the href attributes\n",
        "        images = ''\n",
        "        for link in image_links:\n",
        "            image_url = link.get('href')\n",
        "            if image_url:\n",
        "                if image_url.startswith(\"//\"):\n",
        "                  # Add protocol (http assumed):\n",
        "                  image_url= f\"http:{image_url}\"\n",
        "                images = images +\",\"+ image_url\n",
        "                # print(image_url)\n",
        "\n",
        "        body_content = soup.find('body')  # Find the body tag\n",
        "\n",
        "        if body_content:\n",
        "           # Extract only the text content from the body tag\n",
        "            text_content = body_content.get_text(strip=True)\n",
        "            # Search for either \"stock\" or \"stock availability\" in the text content\n",
        "            # print(text_content)\n",
        "            return text_content + meta_tag + \"Images : \" + images\n",
        "        return f\"Content: Unknown on {url}\"\n",
        "    except Exception as e:\n",
        "        print(f\"Error occurred while scraping: {e}\")\n",
        "        return f\"Content: Unknown on {url}\""
      ],
      "metadata": {
        "id": "yQJRObHNri7t"
      },
      "execution_count": 5,
      "outputs": []
    },
    {
      "cell_type": "code",
      "source": [
        "def google_scraper(query) :\n",
        "    try:\n",
        "        response = requests.get(\"https://www.google.com/search?q=\"+query.lower().replace(' ', '+'))\n",
        "        soup = BeautifulSoup(response.content, 'html.parser')\n",
        "\n",
        "        # find first five link's content\n",
        "        anchor_tags = soup.find_all('a', href=True)\n",
        "        hrefs = []\n",
        "        content = \"\"\n",
        "        for tag in anchor_tags:\n",
        "          href = tag.get('href')\n",
        "          if href and href.startswith(\"/url?q=https\") and \"google\" not in href.lower():  # Check if href exists (it might be None)\n",
        "            parts = href.split('&', 1)\n",
        "            parts = parts[0].split('/url?q=',1)\n",
        "            # print(parts)\n",
        "            hrefs.append(parts[1])\n",
        "            scraped_content = scrape_text(parts[1])\n",
        "            content += scraped_content + \"\\n ***\"\n",
        "            # print(scraped_content)\n",
        "        # print(hrefs[:5])\n",
        "\n",
        "\n",
        "\n",
        "        body_content = soup.find('body')  # Find the body tag\n",
        "\n",
        "        if body_content:\n",
        "           # Extract only the text content from the body tag\n",
        "            text_content = body_content.get_text(strip=True)\n",
        "            # print(\"\\033[34m\" + text_content )\n",
        "            return text_content + content\n",
        "    except Exception as e:\n",
        "        print(f\"Error occurred while scraping: {e}\")\n",
        "        return \"No search result found: Unknown\"\n",
        "google_scraper(\"Apotheke 3 wick candles collection\")"
      ],
      "metadata": {
        "colab": {
          "base_uri": "https://localhost:8080/",
          "height": 0
        },
        "id": "KjvRZlOLBc09",
        "outputId": "9b254d44-941c-4e0b-fd6a-c3950a22c2b1"
      },
      "execution_count": 6,
      "outputs": [
        {
          "output_type": "stream",
          "name": "stdout",
          "text": [
            "Error occurred while scraping: name 'extract_product_info' is not defined\n",
            "Error occurred while scraping: name 'extract_product_info' is not defined\n",
            "Error occurred while scraping: name 'extract_product_info' is not defined\n",
            "Error occurred while scraping: name 'extract_product_info' is not defined\n",
            "Error occurred while scraping: name 'extract_product_info' is not defined\n",
            "Error occurred while scraping: name 'extract_product_info' is not defined\n",
            "Error occurred while scraping: name 'extract_product_info' is not defined\n",
            "Error occurred while scraping: name 'extract_product_info' is not defined\n",
            "Error occurred while scraping: name 'extract_product_info' is not defined\n",
            "Error occurred while scraping: name 'extract_product_info' is not defined\n"
          ]
        },
        {
          "output_type": "execute_result",
          "data": {
            "text/plain": [
              "'Google×Please clickhereif you are not redirected within a few seconds.AllImagesShoppingNewsMapsVideosBooksSearch toolsAny timeAny timePast hourPast 24 hoursPast weekPast monthPast yearAll resultsAll resultsVerbatim3-Wick Candles | APOTHEKEapothekeco.com › collections › 3-wick-candlesMade with a premium soy wax blend and essential and perfume-grade fragrance oils, our luxury scented 3-wick candles are designed to provide a clean-burning\\xa0...Charcoal 3-Wick Candle - Apothekeapothekeco.com › products › charcoal-3-wick-candleRating4.4(125)·$78.00·In stockThis 3-Wick Scented Candle is made with a premium soy wax blend and essential and perfume-grade fragrance oils in a chic matte-black glass vessel. The FragranceCanvas 3-Wick Candle - Apothekeapothekeco.com › products › canvas-3-wick-candleRating5.0(8)·$78.00·In stockThis 3-Wick Scented Candle is made with a premium soy wax blend and essential and perfume-grade fragrance oils in a luxe white-translucent glass vessel. The\\xa0...APOTHEKE Market Collection Luxury Scented 3-Wick Jar Candle ...www.amazon.com › APOTHEKE-Market-Collection-Luxury-ScentedRating4.2(147)·$72.95Buy APOTHEKE Market Collection Luxury Scented 3-Wick Jar Candle, Meyer Lemon & Mint, 32 oz - Lemon, Spearmint, Jasmine & Eucalyptus Scent, Strong Fragrance,\\xa0...Shop All Candles | APOTHEKEapothekeco.com › collections › candles-votives-and-3-wicksCandles & Diffusers · Candles · Best Selling Fragrance · Classic Candles · 2-Wick Ceramic Candles · 3-Wick Candles · Fragrance Bundles · Discovery Sets · Mini\\xa0...Saffron Vanilla 3-Wick Candle – APOTHEKEapothekeco.com › products › saffron-vanilla-3-wick-candleRating4.8(6)·$78.00·In stockCreate your paradise with the comforting and complex scent of Saffron Vanilla from the Eden Collection. This 3-Wick Scented Candle is made with a premium\\xa0...People also askWhy are 3 wick candles so expensive?Where is Apotheke made?How long do Apotheke candles last?What is special about 3 wick candles?Orange Blossom Neroli 3-Wick Candle - Apothekeapothekeco.com › products › orange-blossom-neroli-3-wick-candleRating4.6(10)·$78.00·In stockThis 3-Wick Scented Candle is made with a premium soy wax blend and essential and perfume-grade fragrance oils in a glossy blue-translucent glass vessel. The\\xa0...Apotheke 3-Wick Candles Collection - Amazon.comwww.amazon.com › Scented-Candles-Home-Soy-Wax-Jar-CandleRating4.2(147)·$78.00·In stockOur candles are hand poured and made with a proprietary blend of essential and perfume-grade oils for a long-lasting fragrance. Each 26 oz candle burns for\\xa0...APOTHEKE 3-Wick Candle - Goodywww.ongoody.com › apotheke › 3-wick-candle-recipient-s-choice-1$78.00Hand-poured with perfume-grade fragrance oils and a high quality soy wax blend. This scent is formulated with a unique wick, wax, and fragrance combination\\xa0...Apotheke - Tonka Oak 3 Wick Candlewww.candledelirium.com › apotheke-tonka-oak-3-wick-candle$78.00Apotheke Canvas Candle is where crisp linen, white musk, and sweet lily of the valley mingle with a dew drop accord for a clean, refreshing scent.&l.Related searchesApotheke 3 wick candles collection saleApotheke 3 wick candles collection reviewapotheke charcoal 3-wick candlecheapest 3-wick candles bath and body worksAPOTHEKE 4 Wick CandleApotheke Candle SetApotheke candles3 wick candles not in a JarNext >United StatesFrom your IP address-Learn moreSign inSettingsPrivacyTermsDark theme: OffContent: Unknown on https://apothekeco.com/collections/3-wick-candles\\n ***Content: Unknown on https://apothekeco.com/products/charcoal-3-wick-candle\\n ***Content: Unknown on https://apothekeco.com/products/canvas-3-wick-candle\\n ***Content: Unknown on https://www.amazon.com/APOTHEKE-Market-Collection-Luxury-Scented/dp/B09RTPK3HD\\n ***Content: Unknown on https://apothekeco.com/collections/candles-votives-and-3-wicks\\n ***Content: Unknown on https://apothekeco.com/products/saffron-vanilla-3-wick-candle\\n ***Content: Unknown on https://apothekeco.com/products/orange-blossom-neroli-3-wick-candle\\n ***Content: Unknown on https://www.amazon.com/Scented-Candles-Home-Soy-Wax-Jar-Candle/dp/B07PMY9PK6\\n ***Content: Unknown on https://www.ongoody.com/browse/brands/apotheke/3-wick-candle-recipient-s-choice-1\\n ***Content: Unknown on https://www.candledelirium.com/apotheke-tonka-oak-3-wick-candle/\\n ***'"
            ],
            "application/vnd.google.colaboratory.intrinsic+json": {
              "type": "string"
            }
          },
          "metadata": {},
          "execution_count": 6
        }
      ]
    },
    {
      "cell_type": "code",
      "source": [
        "import re\n",
        "\n",
        "def extract_product_info(meta_tags):\n",
        "    product_info = \"\"\n",
        "    for meta_tag in meta_tags:\n",
        "        if 'og:title' in meta_tag:\n",
        "            product_info += f\"\\n ***Title: {meta_tag['og:title']}\\n\"\n",
        "        if 'og:description' in meta_tag:\n",
        "            product_info += f\"Description: {meta_tag['og:description']}\\n\"\n",
        "        if 'og:price:amount' in meta_tag and 'og:price:currency' in meta_tag:\n",
        "            product_info += f\"Price: {meta_tag['og:price:amount']} {meta_tag['og:price:currency']}\\n\"\n",
        "        if 'og:image' in meta_tag:\n",
        "                if len(meta_tag['og:image']) <= 200:  # Check if URL length is less than or equal to 200\n",
        "                    product_info += f\"Image URL: {meta_tag['og:image']} \\n\"\n",
        "        if 'og:url' in meta_tag:\n",
        "            product_info += f\"URL: {meta_tag['og:url']} \\n\"\n",
        "            # Call function to extract availability information\n",
        "            availability_info = extract_availability(meta_tag['og:url'])\n",
        "            product_info += f\"{availability_info}\\n\"\n",
        "            # Extract ASIN from URL if it's an Amazon link\n",
        "            asin_match = re.search(r'/dp/(\\w+)', meta_tag['og:url'])\n",
        "            if asin_match:\n",
        "                product_info += f\"ASIN: {asin_match.group(1)} \\n\"\n",
        "        if 'og:site_name' in meta_tag:\n",
        "            product_info += f\"Site Name: {meta_tag['og:site_name']} \\n\"\n",
        "        if 'og:availability' in meta_tag:\n",
        "            product_info += f\"Availability: {meta_tag['og:availability']} \\n\"\n",
        "        if 'og:type' in meta_tag:\n",
        "                product_info += f\"type: {meta_tag['og:type']} \\n\"\n",
        "        else:\n",
        "          product_info += f\"type: text \\n\"\n",
        "    return product_info\n",
        "\n",
        "# Example usage:\n",
        "# meta_tags = [{'apple-itunes-app': 'app-id=529356019, app-argument=https://www.crateandbarrel.com/apotheke-canvas-scented-3-wick-candle/s569504',\n",
        "#  'og:image': 'https://cb.scene7.com/is/image/Crate/ApothekeCnvs3WickCandleSSF23', 'og:type': 'product', 'og:image:alt': 'Apotheke Canvas-Scented 3-Wick Candle',\n",
        "#   'twitter:card': 'summary_large_image', 'twitter:title': 'Apotheke Canvas-Scented 3-Wick Candle + Reviews | Crate & Barrel', 'og:site_name': 'Crate & Barrel', 'og:availability':\n",
        "#    'InStock', 'og:price:amount': '$78.00', 'author': 'Crate & Barrel', 'og:title': 'Apotheke Canvas-Scented 3-Wick Candle + Reviews | Crate & Barrel', 'og:price:currency': 'USD', 'language':\n",
        "#     'English', 'og:description': 'Shop Apotheke Canvas-Scented 3-Wick Candle.  This hand-poured candle fills the room with clean, refreshing scent.  Infused with essences of crisp linen, white musk,\n",
        "#      lily of the valley and dew drop, the soy-blend wax candle burns for many hours releasing a sweet, fresh fragrance.', 'og:price:standard_amount': '$78.00', 'twitter:site': '@CrateandBarrel',\n",
        "#      'viewport': 'width=device-width, initial-scale=1.0', 'fb:admins': '1769841725', 'og:url': 'https://www.amazon.com/dp/B09RTPD6ZN/ref=tsm_1_fb_lk'}]\n",
        "# product_info = extract_product_info(meta_tags)\n",
        "# print(product_info)"
      ],
      "metadata": {
        "id": "XAziLz2Tu2x4"
      },
      "execution_count": 7,
      "outputs": []
    },
    {
      "cell_type": "markdown",
      "source": [
        "# Google Search API"
      ],
      "metadata": {
        "id": "g7I2-4zj--CF"
      }
    },
    {
      "cell_type": "code",
      "source": [
        "from googleapiclient.discovery import build\n",
        "\n",
        "API_KEY = userdata.get('GOOGLE_SEARCH_API')\n",
        "# os.environ[\"GOOGLE_CSE_ID\"] = userdata.get('GOOGLE_CSE_ID')\n",
        "\n",
        "service = build(\"customsearch\", \"v1\", developerKey=API_KEY)\n",
        "# clientProd = build(\"shopping\", \"v1\", developerKey=API_KEY)"
      ],
      "metadata": {
        "id": "BR7JRWrw_Qc5"
      },
      "execution_count": 8,
      "outputs": []
    },
    {
      "cell_type": "code",
      "source": [
        "def search_google(query):\n",
        "    \"\"\"\n",
        "    Performs a custom search  using the Google Custom Search API.\n",
        "\n",
        "    Args:\n",
        "        query (str): The search query to use.\n",
        "        num_results (int, optional): The number of image search results to return (default: 3).\n",
        "\n",
        "    Returns:\n",
        "        str: A string containing information about the image search results. Each result includes the image URL and its corresponding link.\n",
        "    \"\"\"\n",
        "    # user_query= extract_text_between_hashes(query)\n",
        "    results = service.cse().list(\n",
        "        q=query, cx=userdata.get('GOOGLE_CSE_ID'),  # Replace with your custom search engine ID\n",
        "        # searchType=\"image\",  # Specify image search\n",
        "        num=3\n",
        "    ).execute()\n",
        "\n",
        "    search_results = []\n",
        "    for item in results.get(\"items\", []):\n",
        "        for key, value in item.items():\n",
        "          print(\"\\033[32m\" + f\"{key}: {value}\" + \"\\033[0m\")\n",
        "        image_url = item[\"pagemap\"][\"cse_image\"][0][\"src\"]\n",
        "        print(item[\"pagemap\"][\"metatags\"])\n",
        "        search_results.append({\"link\":item[\"link\"] ,\n",
        "                              \"title\": item[\"title\"] ,\n",
        "                              \"snippets\":item[\"snippet\"],\n",
        "                              \"image\": image_url,\n",
        "                              \"meta\": extract_product_info(item[\"pagemap\"][\"metatags\"])})\n",
        "        # search_results += extract_product_info(item[\"pagemap\"][\"metatags\"])\n",
        "        # search_results += f\"image2: {image_url} \\n\"\n",
        "        # search_results += f\"link: {item['link']}\"\n",
        "\n",
        "    len(search_results)\n",
        "    return search_results\n",
        "\n",
        "# Example usage:\n",
        "image_results = search_google(\"Apotheke 3 wick candles collection price images\")\n",
        "# image_results\n",
        "print(image_results)"
      ],
      "metadata": {
        "id": "OOYvjSbUvXRc",
        "colab": {
          "base_uri": "https://localhost:8080/"
        },
        "outputId": "884280ce-45e3-4d5e-bab4-e462eb2664cc"
      },
      "execution_count": 9,
      "outputs": [
        {
          "output_type": "stream",
          "name": "stdout",
          "text": [
            "\u001b[32mkind: customsearch#result\u001b[0m\n",
            "\u001b[32mtitle: Apotheke 3-Wick Candles Collection : Health ... - Amazon.com\u001b[0m\n",
            "\u001b[32mhtmlTitle: Apotheke 3-Wick Candles Collection : Health ... - Amazon.com\u001b[0m\n",
            "\u001b[32mlink: https://www.amazon.com/Scented-Candles-Home-Soy-Wax-Jar-Candle/dp/B07PMY9PK6\u001b[0m\n",
            "\u001b[32mdisplayLink: www.amazon.com\u001b[0m\n",
            "\u001b[32msnippet: Captivating Fragrance: Transform any living space with the unforgettable scent of Charcoal 3-Wick Candle from APOTHEKE. Our candles are hand poured and made ...\u001b[0m\n",
            "\u001b[32mhtmlSnippet: Captivating Fragrance: Transform any living space with the unforgettable scent of Charcoal <b>3</b>-<b>Wick Candle</b> from <b>APOTHEKE</b>. Our <b>candles</b> are hand poured and made&nbsp;...\u001b[0m\n",
            "\u001b[32mformattedUrl: https://www.amazon.com/Scented-Candles-Home-Soy.../B07PMY9PK6\u001b[0m\n",
            "\u001b[32mhtmlFormattedUrl: https://www.amazon.com/Scented-<b>Candles</b>-Home-Soy.../B07PMY9PK6\u001b[0m\n",
            "\u001b[32mpagemap: {'cse_thumbnail': [{'src': 'https://encrypted-tbn1.gstatic.com/images?q=tbn:ANd9GcSn_XK9lxk8YHeoZ-1cwFl6vAw52HIMW2FN2RbGuGT2KqCwycqvSOYtY-o', 'width': '238', 'height': '212'}], 'metatags': [{'og:image': 'https://m.media-amazon.com/images/I/31znTWufyPL._SR600%2c315_PIWhiteStrip%2cBottomLeft%2c0%2c35_PIStarRatingFOUR%2cBottomLeft%2c360%2c-6_SR600%2c315_ZA147%2c445%2c290%2c400%2c400%2cAmazonEmberBold%2c12%2c4%2c0%2c0%2c5_SCLZZZZZZZ_FMpng_BG255%2c255%2c255.jpg', 'theme-color': '#131921', 'viewport': 'width=device-width, maximum-scale=1, minimum-scale=1, initial-scale=1, user-scalable=no, shrink-to-fit=no', 'og:title': 'Apotheke 3-Wick Candles Collection', 'og:url': 'https://www.amazon.com/dp/B07PMY9PK6/ref=tsm_1_fb_lk', 'title': 'Amazon.com: Apotheke 3-Wick Candles Collection : Health & Household', 'og:description': 'Captivating Fragrance: Transform any living space with the unforgettable scent of Charcoal 3-Wick Candle from APOTHEKE. Our candles are hand poured and made with a proprietary blend of essential and perfume-grade oils for a long-lasting fragrance. Each 26 oz candle burns for approximately 120 - 1...', 'encrypted-slate-token': 'AnYxOzItwYNfdrI4pYVwqYVPxbEKbdtLSD7cSUprQOoX57jTjvuZQlfgav5eQc5DPoD75GFqegx+wPiAE78HvUgLb1fTyCSxfoO8TzC0mdkKzOo1eU7CDYDcKPvQild39LOmCUCkG0qErVhJQrqxYU2hOArdE/QDlhwaN0eRm67a3XrMh5THk4udTE120YdBJDYrwf0Y3HhZSb+/7MhaNmsUVF9HyfUaHjMC9UJVcH0b30Oxlk8nhltwbREnEzFcdDAUBkQ/8Ziciec9S6PDcuD6kA=='}], 'cse_image': [{'src': 'https://m.media-amazon.com/images/I/51PyziKMJdL._AC_UF894,1000_QL80_.jpg'}]}\u001b[0m\n",
            "[{'og:image': 'https://m.media-amazon.com/images/I/31znTWufyPL._SR600%2c315_PIWhiteStrip%2cBottomLeft%2c0%2c35_PIStarRatingFOUR%2cBottomLeft%2c360%2c-6_SR600%2c315_ZA147%2c445%2c290%2c400%2c400%2cAmazonEmberBold%2c12%2c4%2c0%2c0%2c5_SCLZZZZZZZ_FMpng_BG255%2c255%2c255.jpg', 'theme-color': '#131921', 'viewport': 'width=device-width, maximum-scale=1, minimum-scale=1, initial-scale=1, user-scalable=no, shrink-to-fit=no', 'og:title': 'Apotheke 3-Wick Candles Collection', 'og:url': 'https://www.amazon.com/dp/B07PMY9PK6/ref=tsm_1_fb_lk', 'title': 'Amazon.com: Apotheke 3-Wick Candles Collection : Health & Household', 'og:description': 'Captivating Fragrance: Transform any living space with the unforgettable scent of Charcoal 3-Wick Candle from APOTHEKE. Our candles are hand poured and made with a proprietary blend of essential and perfume-grade oils for a long-lasting fragrance. Each 26 oz candle burns for approximately 120 - 1...', 'encrypted-slate-token': 'AnYxOzItwYNfdrI4pYVwqYVPxbEKbdtLSD7cSUprQOoX57jTjvuZQlfgav5eQc5DPoD75GFqegx+wPiAE78HvUgLb1fTyCSxfoO8TzC0mdkKzOo1eU7CDYDcKPvQild39LOmCUCkG0qErVhJQrqxYU2hOArdE/QDlhwaN0eRm67a3XrMh5THk4udTE120YdBJDYrwf0Y3HhZSb+/7MhaNmsUVF9HyfUaHjMC9UJVcH0b30Oxlk8nhltwbREnEzFcdDAUBkQ/8Ziciec9S6PDcuD6kA=='}]\n",
            "\u001b[32mkind: customsearch#result\u001b[0m\n",
            "\u001b[32mtitle: 1 Hotels Signature Kindling Candle – 1 Hotels Goodthings\u001b[0m\n",
            "\u001b[32mhtmlTitle: 1 Hotels Signature Kindling <b>Candle</b> – 1 Hotels Goodthings\u001b[0m\n",
            "\u001b[32mlink: https://shop.1hotels.com/products/1-hotels-signature-kindling-candle\u001b[0m\n",
            "\u001b[32mdisplayLink: shop.1hotels.com\u001b[0m\n",
            "\u001b[32msnippet: While a base of sheer musk and earthy tree moss impart a touch of nature's luxury. Available in multiple sizes: - 2oz Votive. - 9oz 1 Wick. - 28oz 3 Wick. Share ...\u001b[0m\n",
            "\u001b[32mhtmlSnippet: While a base of sheer musk and earthy tree moss impart a touch of nature&#39;s luxury. Available in multiple sizes: - 2oz Votive. - 9oz 1 Wick. - 28oz <b>3 Wick</b>. Share&nbsp;...\u001b[0m\n",
            "\u001b[32mcacheId: loKaPw--epgJ\u001b[0m\n",
            "\u001b[32mformattedUrl: https://shop.1hotels.com/products/1-hotels-signature-kindling-candle\u001b[0m\n",
            "\u001b[32mhtmlFormattedUrl: https://shop.1hotels.com/products/1-hotels-signature-kindling-candle\u001b[0m\n",
            "\u001b[32mpagemap: {'cse_thumbnail': [{'src': 'https://encrypted-tbn2.gstatic.com/images?q=tbn:ANd9GcRG8SIKfaC-4NFcVd8htt-F9M-35gPL3XLyvBDzGgT0yg961wnwp9NkHdwd', 'width': '267', 'height': '189'}], 'metatags': [{'og:image': 'http://shop.1hotels.com/cdn/shop/files/1HCandle1_1200x1200.jpg?v=1682705341', 'theme-color': '#000000', 'og:type': 'product', 'twitter:card': 'summary_large_image', 'twitter:title': '1 Hotels Signature Kindling Candle', 'og:site_name': '1 Hotels Goodthings', 'og:price:amount': '32.00', 'og:title': '1 Hotels Signature Kindling Candle', 'og:price:currency': 'USD', 'shopify-checkout-api-token': '9282b6ebdd79c0544be8bff3ef4076dc', 'og:description': 'An aromatic bouquet of exotic eucalyptus leaves and sultry cedar\\xa0wood meld together with a transparent Oakwood to create an\\xa0uplifting impression. While a base of sheer musk and earthy tree moss\\xa0impart a touch of nature’s luxury. Available in multiple sizes:\\xa0 - 2oz Votive -\\xa09oz 1 Wick - 28oz 3 Wick', 'og:image:secure_url': 'https://shop.1hotels.com/cdn/shop/files/1HCandle1_1200x1200.jpg?v=1682705341', 'twitter:site': '@1hotels', 'viewport': 'width=device-width,initial-scale=1', 'twitter:description': 'An aromatic bouquet of exotic eucalyptus leaves and sultry cedar\\xa0wood meld together with a transparent Oakwood to create an\\xa0uplifting impression. While a base of sheer musk and earthy tree moss\\xa0impart a touch of nature’s luxury. Available in multiple sizes:\\xa0 - 2oz Votive -\\xa09oz 1 Wick - 28oz 3 Wick', 'shopify-digital-wallet': '/47926902951/digital_wallets/dialog', 'og:url': 'https://shop.1hotels.com/products/1-hotels-signature-kindling-candle'}], 'cse_image': [{'src': 'http://shop.1hotels.com/cdn/shop/files/1HCandle1_1200x1200.jpg?v=1682705341'}]}\u001b[0m\n",
            "[{'og:image': 'http://shop.1hotels.com/cdn/shop/files/1HCandle1_1200x1200.jpg?v=1682705341', 'theme-color': '#000000', 'og:type': 'product', 'twitter:card': 'summary_large_image', 'twitter:title': '1 Hotels Signature Kindling Candle', 'og:site_name': '1 Hotels Goodthings', 'og:price:amount': '32.00', 'og:title': '1 Hotels Signature Kindling Candle', 'og:price:currency': 'USD', 'shopify-checkout-api-token': '9282b6ebdd79c0544be8bff3ef4076dc', 'og:description': 'An aromatic bouquet of exotic eucalyptus leaves and sultry cedar\\xa0wood meld together with a transparent Oakwood to create an\\xa0uplifting impression. While a base of sheer musk and earthy tree moss\\xa0impart a touch of nature’s luxury. Available in multiple sizes:\\xa0 - 2oz Votive -\\xa09oz 1 Wick - 28oz 3 Wick', 'og:image:secure_url': 'https://shop.1hotels.com/cdn/shop/files/1HCandle1_1200x1200.jpg?v=1682705341', 'twitter:site': '@1hotels', 'viewport': 'width=device-width,initial-scale=1', 'twitter:description': 'An aromatic bouquet of exotic eucalyptus leaves and sultry cedar\\xa0wood meld together with a transparent Oakwood to create an\\xa0uplifting impression. While a base of sheer musk and earthy tree moss\\xa0impart a touch of nature’s luxury. Available in multiple sizes:\\xa0 - 2oz Votive -\\xa09oz 1 Wick - 28oz 3 Wick', 'shopify-digital-wallet': '/47926902951/digital_wallets/dialog', 'og:url': 'https://shop.1hotels.com/products/1-hotels-signature-kindling-candle'}]\n",
            "\u001b[32mkind: customsearch#result\u001b[0m\n",
            "\u001b[32mtitle: Amazon.com: APOTHEKE Market Collection Luxury Scented 3-Wick ...\u001b[0m\n",
            "\u001b[32mhtmlTitle: Amazon.com: <b>APOTHEKE</b> Market <b>Collection</b> Luxury <b>Scented 3</b>-<b>Wick</b> ...\u001b[0m\n",
            "\u001b[32mlink: https://www.amazon.com/APOTHEKE-Market-Collection-Luxury-Scented/dp/B09RTPD6ZN\u001b[0m\n",
            "\u001b[32mdisplayLink: www.amazon.com\u001b[0m\n",
            "\u001b[32msnippet: Buy APOTHEKE Market Collection Luxury Scented 3-Wick Jar Candle, Purple Basil, 32 oz - Basil, Ginger Lime & Lily of The Valley Scent, Strong Fragrance, ...\u001b[0m\n",
            "\u001b[32mhtmlSnippet: Buy <b>APOTHEKE</b> Market <b>Collection</b> Luxury <b>Scented 3</b>-<b>Wick</b> Jar <b>Candle</b>, Purple Basil, 32 oz - Basil, Ginger Lime &amp; Lily of The Valley Scent, Strong Fragrance,&nbsp;...\u001b[0m\n",
            "\u001b[32mformattedUrl: https://www.amazon.com/APOTHEKE-Market-Collection.../B09RTPD6ZN\u001b[0m\n",
            "\u001b[32mhtmlFormattedUrl: https://www.amazon.com/<b>APOTHEKE</b>-Market-<b>Collection</b>.../B09RTPD6ZN\u001b[0m\n",
            "\u001b[32mpagemap: {'cse_thumbnail': [{'src': 'https://encrypted-tbn1.gstatic.com/images?q=tbn:ANd9GcRZicEq75ujGu4NndIXDelukzYJ9gS8M0Whz5wrpqk1f8crtB6F1SAGf9k', 'width': '263', 'height': '192'}], 'metatags': [{'og:image': 'https://m.media-amazon.com/images/I/31n2mizAQiL._SR600%2c315_PIWhiteStrip%2cBottomLeft%2c0%2c35_PIStarRatingFOUR%2cBottomLeft%2c360%2c-6_SR600%2c315_ZA147%2c445%2c290%2c400%2c400%2cAmazonEmberBold%2c12%2c4%2c0%2c0%2c5_SCLZZZZZZZ_FMpng_BG255%2c255%2c255.jpg', 'theme-color': '#131921', 'viewport': 'width=device-width, maximum-scale=1, minimum-scale=1, initial-scale=1, user-scalable=no, shrink-to-fit=no', 'og:title': 'APOTHEKE Market Collection Luxury Scented 3-Wick Jar Candle, Purple Basil, 32 oz - Basil, Ginger Lime & Lily of The Valley Scent, Strong Fragrance, Aromatherapy, Long Lasting, Hand Poured in USA, Soy', 'og:url': 'https://www.amazon.com/dp/B09RTPD6ZN/ref=tsm_1_fb_lk', 'title': 'Amazon.com: APOTHEKE Market Collection Luxury Scented 3-Wick Jar Candle, Purple Basil, 32 oz - Basil, Ginger Lime & Lily of The Valley Scent, Strong Fragrance, Aromatherapy, Long Lasting, Hand Poured in USA, Soy : Health & Household', 'og:description': 'APOTHEKE Luxury Jar Candles Purple Basil - 32 Ounce 3-Wick Jar Candle SCENT PROFILE: Purple basil, spicy ginger and juicy lime zest mingle with hints of lily of the valley Our candles are hand-poured with perfume-grade fragrance oils and a high quality soy wax blend. Each scent is formulated with...', 'encrypted-slate-token': 'AnYxL9QHj/E4xNRHFC6+YHnmFwok9Kr6fEONOKwqX7g315LNcRDOramDepR3x2V3hSkaLb7yiJ0ApPW+q37VdlEv9FK/J8Lua2kvvyAtDvKubGW6pwysiVHa62i0Ps0z0+fyUzK1IQXD1SORi7voRAfHPGhtsv42+1hWND9FL8BgqcidKc9HZbdmOLfadHt2fLxs0e/56nB+aNRORlnGoP+orkYVP6Zwz9rdZKfwL6jPF3qyz3QxrxWazwzSzc8VNDdCTCI6rx/rVVzpEOjU9tgnrg=='}], 'cse_image': [{'src': 'https://m.media-amazon.com/images/I/618bD-pCyRL._AC_UF894,1000_QL80_.jpg'}]}\u001b[0m\n",
            "[{'og:image': 'https://m.media-amazon.com/images/I/31n2mizAQiL._SR600%2c315_PIWhiteStrip%2cBottomLeft%2c0%2c35_PIStarRatingFOUR%2cBottomLeft%2c360%2c-6_SR600%2c315_ZA147%2c445%2c290%2c400%2c400%2cAmazonEmberBold%2c12%2c4%2c0%2c0%2c5_SCLZZZZZZZ_FMpng_BG255%2c255%2c255.jpg', 'theme-color': '#131921', 'viewport': 'width=device-width, maximum-scale=1, minimum-scale=1, initial-scale=1, user-scalable=no, shrink-to-fit=no', 'og:title': 'APOTHEKE Market Collection Luxury Scented 3-Wick Jar Candle, Purple Basil, 32 oz - Basil, Ginger Lime & Lily of The Valley Scent, Strong Fragrance, Aromatherapy, Long Lasting, Hand Poured in USA, Soy', 'og:url': 'https://www.amazon.com/dp/B09RTPD6ZN/ref=tsm_1_fb_lk', 'title': 'Amazon.com: APOTHEKE Market Collection Luxury Scented 3-Wick Jar Candle, Purple Basil, 32 oz - Basil, Ginger Lime & Lily of The Valley Scent, Strong Fragrance, Aromatherapy, Long Lasting, Hand Poured in USA, Soy : Health & Household', 'og:description': 'APOTHEKE Luxury Jar Candles Purple Basil - 32 Ounce 3-Wick Jar Candle SCENT PROFILE: Purple basil, spicy ginger and juicy lime zest mingle with hints of lily of the valley Our candles are hand-poured with perfume-grade fragrance oils and a high quality soy wax blend. Each scent is formulated with...', 'encrypted-slate-token': 'AnYxL9QHj/E4xNRHFC6+YHnmFwok9Kr6fEONOKwqX7g315LNcRDOramDepR3x2V3hSkaLb7yiJ0ApPW+q37VdlEv9FK/J8Lua2kvvyAtDvKubGW6pwysiVHa62i0Ps0z0+fyUzK1IQXD1SORi7voRAfHPGhtsv42+1hWND9FL8BgqcidKc9HZbdmOLfadHt2fLxs0e/56nB+aNRORlnGoP+orkYVP6Zwz9rdZKfwL6jPF3qyz3QxrxWazwzSzc8VNDdCTCI6rx/rVVzpEOjU9tgnrg=='}]\n",
            "[{'link': 'https://www.amazon.com/Scented-Candles-Home-Soy-Wax-Jar-Candle/dp/B07PMY9PK6', 'title': 'Apotheke 3-Wick Candles Collection : Health ... - Amazon.com', 'snippets': 'Captivating Fragrance: Transform any living space with the unforgettable scent of Charcoal 3-Wick Candle from APOTHEKE. Our candles are hand poured and made\\xa0...', 'image': 'https://m.media-amazon.com/images/I/51PyziKMJdL._AC_UF894,1000_QL80_.jpg', 'meta': '\\n ***Title: Apotheke 3-Wick Candles Collection\\nDescription: Captivating Fragrance: Transform any living space with the unforgettable scent of Charcoal 3-Wick Candle from APOTHEKE. Our candles are hand poured and made with a proprietary blend of essential and perfume-grade oils for a long-lasting fragrance. Each 26 oz candle burns for approximately 120 - 1...\\nURL: https://www.amazon.com/dp/B07PMY9PK6/ref=tsm_1_fb_lk \\nAvailability: In Stock\\nASIN: B07PMY9PK6 \\ntype: text \\n'}, {'link': 'https://shop.1hotels.com/products/1-hotels-signature-kindling-candle', 'title': '1 Hotels Signature Kindling Candle – 1 Hotels Goodthings', 'snippets': \"While a base of sheer musk and earthy tree moss impart a touch of nature's luxury. Available in multiple sizes: - 2oz Votive. - 9oz 1 Wick. - 28oz 3 Wick. Share\\xa0...\", 'image': 'http://shop.1hotels.com/cdn/shop/files/1HCandle1_1200x1200.jpg?v=1682705341', 'meta': '\\n ***Title: 1 Hotels Signature Kindling Candle\\nDescription: An aromatic bouquet of exotic eucalyptus leaves and sultry cedar\\xa0wood meld together with a transparent Oakwood to create an\\xa0uplifting impression. While a base of sheer musk and earthy tree moss\\xa0impart a touch of nature’s luxury. Available in multiple sizes:\\xa0 - 2oz Votive -\\xa09oz 1 Wick - 28oz 3 Wick\\nPrice: 32.00 USD\\nImage URL: http://shop.1hotels.com/cdn/shop/files/1HCandle1_1200x1200.jpg?v=1682705341 \\nURL: https://shop.1hotels.com/products/1-hotels-signature-kindling-candle \\nAvailability: Unknown\\nSite Name: 1 Hotels Goodthings \\ntype: product \\n'}, {'link': 'https://www.amazon.com/APOTHEKE-Market-Collection-Luxury-Scented/dp/B09RTPD6ZN', 'title': 'Amazon.com: APOTHEKE Market Collection Luxury Scented 3-Wick ...', 'snippets': 'Buy APOTHEKE Market Collection Luxury Scented 3-Wick Jar Candle, Purple Basil, 32 oz - Basil, Ginger Lime & Lily of The Valley Scent, Strong Fragrance,\\xa0...', 'image': 'https://m.media-amazon.com/images/I/618bD-pCyRL._AC_UF894,1000_QL80_.jpg', 'meta': '\\n ***Title: APOTHEKE Market Collection Luxury Scented 3-Wick Jar Candle, Purple Basil, 32 oz - Basil, Ginger Lime & Lily of The Valley Scent, Strong Fragrance, Aromatherapy, Long Lasting, Hand Poured in USA, Soy\\nDescription: APOTHEKE Luxury Jar Candles Purple Basil - 32 Ounce 3-Wick Jar Candle SCENT PROFILE: Purple basil, spicy ginger and juicy lime zest mingle with hints of lily of the valley Our candles are hand-poured with perfume-grade fragrance oils and a high quality soy wax blend. Each scent is formulated with...\\nURL: https://www.amazon.com/dp/B09RTPD6ZN/ref=tsm_1_fb_lk \\nAvailability: Unknown\\nASIN: B09RTPD6ZN \\ntype: text \\n'}]\n"
          ]
        }
      ]
    },
    {
      "cell_type": "code",
      "source": [
        "def combined_scraped_api_search(query):\n",
        "  scraped_results = google_scraper(query)\n",
        "  search_api_results = search_google(query)\n",
        "  return f\"\"\"{scraped_results} \\n {search_api_results} \"\"\"\n"
      ],
      "metadata": {
        "id": "aORCC_-FG4kh"
      },
      "execution_count": 10,
      "outputs": []
    },
    {
      "cell_type": "markdown",
      "source": [
        "# RAG"
      ],
      "metadata": {
        "id": "HdQAguEtvM-5"
      }
    },
    {
      "cell_type": "code",
      "source": [
        "column =  \"Apotheke 3 wick candles collection\""
      ],
      "metadata": {
        "id": "Wg6y5nTB4N-l"
      },
      "execution_count": 11,
      "outputs": []
    },
    {
      "cell_type": "code",
      "source": [
        "google_scraper(column)"
      ],
      "metadata": {
        "colab": {
          "base_uri": "https://localhost:8080/",
          "height": 144
        },
        "id": "t2WBujM50Xge",
        "outputId": "1dcb7d93-3f6d-4839-9fcf-83d01716a03d"
      },
      "execution_count": 12,
      "outputs": [
        {
          "output_type": "execute_result",
          "data": {
            "text/plain": [
              "'Google×Please clickhereif you are not redirected within a few seconds.AllImagesShoppingNewsMapsVideosBooksSearch toolsAny timeAny timePast hourPast 24 hoursPast weekPast monthPast yearAll resultsAll resultsVerbatim3-Wick Candles | APOTHEKEapothekeco.com › collections › 3-wick-candlesMade with a premium soy wax blend and essential and perfume-grade fragrance oils, our luxury scented 3-wick candles are designed to provide a clean-burning\\xa0...Charcoal 3-Wick Candle - Apothekeapothekeco.com › products › charcoal-3-wick-candleRating4.4(125)·$78.00·In stockThis 3-Wick Scented Candle is made with a premium soy wax blend and essential and perfume-grade fragrance oils in a chic matte-black glass vessel. The FragranceCanvas 3-Wick Candle - Apothekeapothekeco.com › products › canvas-3-wick-candleRating5.0(8)·$78.00·In stockThis 3-Wick Scented Candle is made with a premium soy wax blend and essential and perfume-grade fragrance oils in a luxe white-translucent glass vessel. The\\xa0...Apotheke 3-Wick Candles Collection - Amazon.comwww.amazon.com › Scented-Candles-Home-Soy-Wax-Jar-CandleRating4.2(147)·$78.00·In stockOur candles are hand poured and made with a proprietary blend of essential and perfume-grade oils for a long-lasting fragrance. Each 26 oz candle burns for\\xa0...Shop All Candles | APOTHEKEapothekeco.com › collections › candles-votives-and-3-wicksCandles & Diffusers · Candles · Best Selling Fragrance · Classic Candles · 2-Wick Ceramic Candles · 3-Wick Candles · Fragrance Bundles · Discovery Sets · Mini\\xa0...Saffron Vanilla 3-Wick Candle – APOTHEKEapothekeco.com › products › saffron-vanilla-3-wick-candleRating4.8(6)·$78.00·In stockCreate your paradise with the comforting and complex scent of Saffron Vanilla from the Eden Collection. This 3-Wick Scented Candle is made with a premium\\xa0...People also askWhy are 3 wick candles so expensive?Where is Apotheke made?How long do Apotheke candles last?What is special about 3 wick candles?APOTHEKE Market Collection Luxury Scented 3-Wick Jar Candle ...www.amazon.com › APOTHEKE-Market-Collection-Luxury-ScentedRating4.2(147)·$72.95Buy APOTHEKE Market Collection Luxury Scented 3-Wick Jar Candle, Meyer Lemon & Mint, 32 oz - Lemon, Spearmint, Jasmine & Eucalyptus Scent, Strong Fragrance,\\xa0...Orange Blossom Neroli 3-Wick Candle - Apothekeapothekeco.com › products › orange-blossom-neroli-3-wick-candleRating4.6(10)·$78.00·In stockThis 3-Wick Scented Candle is made with a premium soy wax blend and essential and perfume-grade fragrance oils in a glossy blue-translucent glass vessel. The\\xa0...Apotheke - Tonka Oak 3 Wick Candlewww.candledelirium.com › apotheke-tonka-oak-3-wick-candle$78.00Apotheke Canvas Candle is where crisp linen, white musk, and sweet lily of the valley mingle with a dew drop accord for a clean, refreshing scent.&l.Cedarwood Ginger 3-Wick Candle - Apothekeapothekeco.com › products › cedarwood-ginger-3-wick-candleRating5.0(1)·$78.00·In stockCreate your personal paradise with the enticing scent of Cedarwood Ginger from the Eden Collection. This 3-Wick Scented Candle is made with a premium soy\\xa0...Related searchesApotheke 3 wick candles collection saleApotheke 3 wick candles collection reviewapotheke charcoal 3-wick candlecheapest 3-wick candles bath and body worksAPOTHEKE 4 Wick CandleApotheke Candle SetApotheke candles3 wick candles not in a JarNext >United StatesFrom your IP address-Learn moreSign inSettingsPrivacyTermsDark theme: OffSkip to contentEnjoy complementary shipping on orders $100+ *Exclusions applyMenuCandles & DiffusersCandlesBest Selling FragranceClassic Candles2-Wick Ceramic Candles3-Wick CandlesFragrance BundlesDiscovery SetsMini CandlesTaper CandlesCandle AccessoriesDiffusersReed DiffusersRoom SpraysPura Smart Home DiffuserFragrance CardsSubscriptionsClassic Mystery Box SubscriptionPremium Mystery Box SubscriptionReed Diffuser RefillsFeaturedGift CardsAPOTHEKE x League Creative Co.APOTHEKE x MASTAPOTHEKE x SanctuaryBody CareBar SoapLiquid SoapLotionBody Care BundlesLiquid Soap RefillsFragrancesThe Signature CollectionApricot Red CurrantCanvasEarl Grey BittersHinoki LavenderSantal Rock RoseSea Salt GrapefruitTonka OakWild Mint and IvyWhite VetiverThe Charcoal Fragrance CollectionCharcoalCharcoal RougeThe Eden CollectionBlack Iris OakCedarwood GingerOrange Blossom NeroliSaffron VanillaFragrance FamiliesAromaticCitrusFloralFruityGourmandGreenWoodyAboutBlogCandle Buying GuideOur StoryVisit UsFind Your FragranceRewardsAccountSearchSearchBasket0CartClose navigationCandles & DiffusersCandlesBest Selling FragranceClassic Candles2-Wick Ceramic Candles3-Wick CandlesFragrance BundlesDiscovery SetsMini CandlesTaper CandlesCandle AccessoriesDiffusersReed DiffusersRoom SpraysPura Smart Home DiffuserFragrance CardsSubscriptionsClassic Mystery Box SubscriptionPremium Mystery Box SubscriptionReed Diffuser RefillsFeaturedGift CardsAPOTHEKE x League Creative Co.APOTHEKE x MASTAPOTHEKE x SanctuaryBody CareBar SoapLiquid SoapLotionBody Care BundlesLiquid Soap RefillsFragrancesThe Signature CollectionApricot Red CurrantCanvasEarl Grey BittersHinoki LavenderSantal Rock RoseSea Salt GrapefruitTonka OakWild Mint and IvyWhite VetiverThe Charcoal Fragrance CollectionCharcoalCharcoal RougeThe Eden CollectionBlack Iris OakCedarwood GingerOrange Blossom NeroliSaffron VanillaFragrance FamiliesAromaticCitrusFloralFruityGourmandGreenWoodyAboutBlogCandle Buying GuideOur StoryVisit UsFind Your FragranceRewardsAccountShow filtersPrice$$Product type3-Wick CandlesFragrance FamilyAromaticCitrusFloralFruityGourmandGreenWoodySort byBest sellingAlphabetically, A-ZAlphabetically, Z-APrice, low to highPrice, high to lowDate, old to newDate, new to oldSubmitQuick ViewCharcoal 3-Wick Candle$78.00Quick ViewCharcoal Rouge 3-Wick Candle$78.00Quick ViewWhite Vetiver 3-Wick Candle$78.00Quick ViewSea Salt Grapefruit 3-Wick Candle$78.00Quick ViewHinoki Lavender 3-Wick Candle$78.00Quick ViewCanvas 3-Wick Candle$78.00Quick ViewSantal Rock Rose 3-Wick Candle$78.00Quick ViewEarl Grey Bitters 3-Wick Candle$78.00Quick ViewOrange Blossom Neroli 3-Wick Candle$78.00Quick ViewBlack Iris Oak 3-Wick Candle$78.00Quick ViewCedarwood Ginger 3-Wick Candle$78.00Quick ViewSaffron Vanilla 3-Wick Candle$78.00Quick ViewTonka Oak 3-Wick Candle$78.00Quick ViewWild Mint and Ivy 3-Wick Candle$78.00Quick ViewApricot Red Currant 3-Wick Candle$78.00Follow UsYoutubeInstagramPinterestTwitterQuick LinksStore LocatorShipping & ReturnsAPOTHEKE RewardsBecome an AmbassadorBlogFAQPrivacyTerms & ConditionsMSRP/MAP PolicyApply for WholesaleContact UsSign up to receive exclusive discounts, stay up to date with the latest releases, and learn a little bit about... us!Right arrow longCurrencyUnited States (USD\\xa0$)Australia(USD\\xa0$)Austria(USD\\xa0$)Belgium(USD\\xa0$)Bulgaria(USD\\xa0$)Canada(USD\\xa0$)Czechia(USD\\xa0$)Denmark(USD\\xa0$)Estonia(USD\\xa0$)Finland(USD\\xa0$)France(USD\\xa0$)Germany(USD\\xa0$)Hong Kong SAR(USD\\xa0$)Hungary(USD\\xa0$)India(USD\\xa0$)Ireland(USD\\xa0$)Israel(USD\\xa0$)Italy(USD\\xa0$)Japan(USD\\xa0$)Latvia(USD\\xa0$)Lithuania(USD\\xa0$)Luxembourg(USD\\xa0$)Malaysia(USD\\xa0$)Mexico(USD\\xa0$)Monaco(USD\\xa0$)Netherlands(USD\\xa0$)New Zealand(USD\\xa0$)Poland(USD\\xa0$)Portugal(USD\\xa0$)Romania(USD\\xa0$)Saudi Arabia(USD\\xa0$)Singapore(USD\\xa0$)Slovakia(USD\\xa0$)Slovenia(USD\\xa0$)South Korea(USD\\xa0$)Spain(USD\\xa0$)Sweden(USD\\xa0$)Switzerland(USD\\xa0$)Taiwan(USD\\xa0$)Thailand(USD\\xa0$)Türkiye(USD\\xa0$)United Arab Emirates(USD\\xa0$)United Kingdom(USD\\xa0$)United States(USD\\xa0$)© 2024APOTHEKE.Powered by Shopify×Right arrow long\\n ***Title: 3-Wick Candles | APOTHEKE\\nDescription: Made with a premium soy wax blend and essential and perfume-grade fragrance oils, our luxury scented 3-wick candles are designed to provide a clean-burning and exceptional scent experience.\\nImage URL: http:collections/3-wick-candles-681433.jpg \\nURL: https://apothekeco.com/collections/3-wick-candles \\nAvailability: Unknown\\nSite Name: APOTHEKE \\ntype: product.group \\nImages : ,http://apothekeco.com/cdn/shop/collections/3-wick-candles-681433.jpg?v=1661870647&width=1950\\n ***Skip to contentEnjoy complementary shipping on orders $100+ *Exclusions applyMenuCandles & DiffusersCandlesBest Selling FragranceClassic Candles2-Wick Ceramic Candles3-Wick CandlesFragrance BundlesDiscovery SetsMini CandlesTaper CandlesCandle AccessoriesDiffusersReed DiffusersRoom SpraysPura Smart Home DiffuserFragrance CardsSubscriptionsClassic Mystery Box SubscriptionPremium Mystery Box SubscriptionReed Diffuser RefillsFeaturedGift CardsAPOTHEKE x League Creative Co.APOTHEKE x MASTAPOTHEKE x SanctuaryBody CareBar SoapLiquid SoapLotionBody Care BundlesLiquid Soap RefillsFragrancesThe Signature CollectionApricot Red CurrantCanvasEarl Grey BittersHinoki LavenderSantal Rock RoseSea Salt GrapefruitTonka OakWild Mint and IvyWhite VetiverThe Charcoal Fragrance CollectionCharcoalCharcoal RougeThe Eden CollectionBlack Iris OakCedarwood GingerOrange Blossom NeroliSaffron VanillaFragrance FamiliesAromaticCitrusFloralFruityGourmandGreenWoodyAboutBlogCandle Buying GuideOur StoryVisit UsFind Your FragranceRewardsAccountSearchSearchBasket0CartClose navigationCandles & DiffusersCandlesBest Selling FragranceClassic Candles2-Wick Ceramic Candles3-Wick CandlesFragrance BundlesDiscovery SetsMini CandlesTaper CandlesCandle AccessoriesDiffusersReed DiffusersRoom SpraysPura Smart Home DiffuserFragrance CardsSubscriptionsClassic Mystery Box SubscriptionPremium Mystery Box SubscriptionReed Diffuser RefillsFeaturedGift CardsAPOTHEKE x League Creative Co.APOTHEKE x MASTAPOTHEKE x SanctuaryBody CareBar SoapLiquid SoapLotionBody Care BundlesLiquid Soap RefillsFragrancesThe Signature CollectionApricot Red CurrantCanvasEarl Grey BittersHinoki LavenderSantal Rock RoseSea Salt GrapefruitTonka OakWild Mint and IvyWhite VetiverThe Charcoal Fragrance CollectionCharcoalCharcoal RougeThe Eden CollectionBlack Iris OakCedarwood GingerOrange Blossom NeroliSaffron VanillaFragrance FamiliesAromaticCitrusFloralFruityGourmandGreenWoodyAboutBlogCandle Buying GuideOur StoryVisit UsFind Your FragranceRewardsAccountCharcoal 3-Wick Candle$78.00Experience the rich and addictive aroma of our broody bestselling fragrance, Charcoal. This 3-Wick Scented Candle is made with a premium soy wax blend and essential and perfume-grade fragrance oils in a chic matte-black glass vessel.The FragranceCharcoal combines cedarwood and sandalwood with smoky embers, burnt maple, and a hint of raspberry for a broody and full-bodied fragrance.The ProductMade with a premium soy wax blend and essential and perfume-grade fragrance oils, this luxury scented candle is designed to provide a clean-burning and exceptional scent experience. All Charcoal Scented Candles feature black wax.The VesselThe black glass vessel with its luxurious matte finish offers a modern and timeless look fit for any decor.The DetailsNet Weight: 26 oz. (761 g)Approximate Burn Time: 120-140 hoursCandle Dimensions: 5\" DIA x 4.8\" HFragrance Family: WoodyTop Notes: Burnt Maple, Raspberry, Un-ripened Tomato SkinMiddle Notes: Green Clove Leaf, Faint CinnamonBottom Notes: Smoky Embers, Cedarwood, Guaiac WoodMade in the USAFor more information about our products, visitIngredients.Default Title−+Add to CartCharcoal 3-Wick Candle\\n        -is backordered and will ship as soon as it is back in stock.More detailsBlog postsView allOctober 30, 2023\"The Best Time To Do Something Is Now\" An Interview with Leah KirschRead moreOctober 16, 2023Interview with Mek Frinchaboy :  Multifaceted artist and fellow Red Hook friendRead moreJune 21, 2023Behind the Fragrance - Wild Mint and IvyRead moreJune 09, 2023Our Favorites: Team APOTHEKE\\'s Scents For SummerRead moreMay 10, 2023With Love, from Brooklyn - Sharing APOTHEKE\\'s StoryRead moreApril 24, 2023Sadie Beaudet, Founder of Tradlands Shares Her Insights on Motherhood, Wellness, and Running a Business. Plus – the Perfect Portland, Maine ItineraryRead moreApril 03, 2023Two “Knew” York Girls - The Women Behind Our APOTHEKE x Girl Knew York CollaborationRead more\"The Best Time To Do Something Is Now\" An Interview with Leah KirschInterview with Mek Frinchaboy :  Multifaceted artist and fellow Red Hook friendBehind the Fragrance - Wild Mint and IvyOur Favorites: Team APOTHEKE\\'s Scents For SummerWith Love, from Brooklyn - Sharing APOTHEKE\\'s StorySadie Beaudet, Founder of Tradlands Shares Her Insights on Motherhood, Wellness, and Running a Business. Plus – the Perfect Portland, Maine ItineraryTwo “Knew” York Girls - The Women Behind Our APOTHEKE x Girl Knew York CollaborationFollow UsYoutubeInstagramPinterestTwitterQuick LinksStore LocatorShipping & ReturnsAPOTHEKE RewardsBecome an AmbassadorBlogFAQPrivacyTerms & ConditionsMSRP/MAP PolicyApply for WholesaleContact UsSign up to receive exclusive discounts, stay up to date with the latest releases, and learn a little bit about... us!Right arrow longCurrencyUnited States (USD\\xa0$)Australia(USD\\xa0$)Austria(USD\\xa0$)Belgium(USD\\xa0$)Bulgaria(USD\\xa0$)Canada(USD\\xa0$)Czechia(USD\\xa0$)Denmark(USD\\xa0$)Estonia(USD\\xa0$)Finland(USD\\xa0$)France(USD\\xa0$)Germany(USD\\xa0$)Hong Kong SAR(USD\\xa0$)Hungary(USD\\xa0$)India(USD\\xa0$)Ireland(USD\\xa0$)Israel(USD\\xa0$)Italy(USD\\xa0$)Japan(USD\\xa0$)Latvia(USD\\xa0$)Lithuania(USD\\xa0$)Luxembourg(USD\\xa0$)Malaysia(USD\\xa0$)Mexico(USD\\xa0$)Monaco(USD\\xa0$)Netherlands(USD\\xa0$)New Zealand(USD\\xa0$)Poland(USD\\xa0$)Portugal(USD\\xa0$)Romania(USD\\xa0$)Saudi Arabia(USD\\xa0$)Singapore(USD\\xa0$)Slovakia(USD\\xa0$)Slovenia(USD\\xa0$)South Korea(USD\\xa0$)Spain(USD\\xa0$)Sweden(USD\\xa0$)Switzerland(USD\\xa0$)Taiwan(USD\\xa0$)Thailand(USD\\xa0$)Türkiye(USD\\xa0$)United Arab Emirates(USD\\xa0$)United Kingdom(USD\\xa0$)United States(USD\\xa0$)© 2024APOTHEKE.Powered by Shopify×Right arrow long\\n ***Title: Charcoal 3-Wick Candle\\nDescription: Our number 1 best seller, Charcoal, featured in our signature matte black vessel will elevate any room in your home. Notes of cedarwood and sandalwood blended with smokey amber and oud come together to create a broody full-bodied fragrance.\\nPrice: 78.00 USD\\nImage URL: http:products/AP03-CH_Charcoal_26oz_3WickCandle.jpg \\nURL: https://apothekeco.com/products/charcoal-3-wick-candle \\nAvailability: in stock\\nSite Name: APOTHEKE \\ntype: product \\nImages : ,http://apothekeco.com/cdn/shop/products/AP03-CH_Charcoal_26oz_3WickCandle_1000x1000.jpg?v=1704389442\\n ***Skip to contentEnjoy complementary shipping on orders $100+ *Exclusions applyMenuCandles & DiffusersCandlesBest Selling FragranceClassic Candles2-Wick Ceramic Candles3-Wick CandlesFragrance BundlesDiscovery SetsMini CandlesTaper CandlesCandle AccessoriesDiffusersReed DiffusersRoom SpraysPura Smart Home DiffuserFragrance CardsSubscriptionsClassic Mystery Box SubscriptionPremium Mystery Box SubscriptionReed Diffuser RefillsFeaturedGift CardsAPOTHEKE x League Creative Co.APOTHEKE x MASTAPOTHEKE x SanctuaryBody CareBar SoapLiquid SoapLotionBody Care BundlesLiquid Soap RefillsFragrancesThe Signature CollectionApricot Red CurrantCanvasEarl Grey BittersHinoki LavenderSantal Rock RoseSea Salt GrapefruitTonka OakWild Mint and IvyWhite VetiverThe Charcoal Fragrance CollectionCharcoalCharcoal RougeThe Eden CollectionBlack Iris OakCedarwood GingerOrange Blossom NeroliSaffron VanillaFragrance FamiliesAromaticCitrusFloralFruityGourmandGreenWoodyAboutBlogCandle Buying GuideOur StoryVisit UsFind Your FragranceRewardsAccountSearchSearchBasket0CartClose navigationCandles & DiffusersCandlesBest Selling FragranceClassic Candles2-Wick Ceramic Candles3-Wick CandlesFragrance BundlesDiscovery SetsMini CandlesTaper CandlesCandle AccessoriesDiffusersReed DiffusersRoom SpraysPura Smart Home DiffuserFragrance CardsSubscriptionsClassic Mystery Box SubscriptionPremium Mystery Box SubscriptionReed Diffuser RefillsFeaturedGift CardsAPOTHEKE x League Creative Co.APOTHEKE x MASTAPOTHEKE x SanctuaryBody CareBar SoapLiquid SoapLotionBody Care BundlesLiquid Soap RefillsFragrancesThe Signature CollectionApricot Red CurrantCanvasEarl Grey BittersHinoki LavenderSantal Rock RoseSea Salt GrapefruitTonka OakWild Mint and IvyWhite VetiverThe Charcoal Fragrance CollectionCharcoalCharcoal RougeThe Eden CollectionBlack Iris OakCedarwood GingerOrange Blossom NeroliSaffron VanillaFragrance FamiliesAromaticCitrusFloralFruityGourmandGreenWoodyAboutBlogCandle Buying GuideOur StoryVisit UsFind Your FragranceRewardsAccountCanvas 3-Wick Candle$78.00Clear the air with the crisp and refreshing scent of Canvas. This 3-Wick Scented Candle is made with a premium soy wax blend and essential and perfume-grade fragrance oils in a luxe white-translucent glass vessel.The FragranceCanvas combines crisp linen, white musk, and sweet lily of the valley with a sparkling dewdrop accord for a clean and refreshing fragrance.The ProductMade with a premium soy wax blend and essential and perfume-grade fragrance oils, this luxury scented candle is designed to provide a clean-burning and exceptional scent experience.The VesselThe white translucent glass vessel with its velvety-smooth luxe matte finish enhances any space with a modern and timeless design.The DetailsNet Weight: 26 oz. (761 g)Approximate Burn Time: 120-140 HoursCandle Dimensions: 5\" DIA x 4.8\" HFragrance Family: Floral / Marine-CitrusTop Notes: Fresh-Citrus, Dew Drop Accord, Peach, GreensMiddle Notes: Lily of the Valley, Watery Nuances, Rose, VioletBottom Notes: Amber, MuskMade in the USAFor more information about our products, visitIngredients.Default Title−+Add to CartCanvas 3-Wick Candle\\n        -is backordered and will ship as soon as it is back in stock.More detailsBlog postsView allOctober 30, 2023\"The Best Time To Do Something Is Now\" An Interview with Leah KirschRead moreOctober 16, 2023Interview with Mek Frinchaboy :  Multifaceted artist and fellow Red Hook friendRead moreJune 21, 2023Behind the Fragrance - Wild Mint and IvyRead moreJune 09, 2023Our Favorites: Team APOTHEKE\\'s Scents For SummerRead moreMay 10, 2023With Love, from Brooklyn - Sharing APOTHEKE\\'s StoryRead moreApril 24, 2023Sadie Beaudet, Founder of Tradlands Shares Her Insights on Motherhood, Wellness, and Running a Business. Plus – the Perfect Portland, Maine ItineraryRead moreApril 03, 2023Two “Knew” York Girls - The Women Behind Our APOTHEKE x Girl Knew York CollaborationRead more\"The Best Time To Do Something Is Now\" An Interview with Leah KirschInterview with Mek Frinchaboy :  Multifaceted artist and fellow Red Hook friendBehind the Fragrance - Wild Mint and IvyOur Favorites: Team APOTHEKE\\'s Scents For SummerWith Love, from Brooklyn - Sharing APOTHEKE\\'s StorySadie Beaudet, Founder of Tradlands Shares Her Insights on Motherhood, Wellness, and Running a Business. Plus – the Perfect Portland, Maine ItineraryTwo “Knew” York Girls - The Women Behind Our APOTHEKE x Girl Knew York CollaborationFollow UsYoutubeInstagramPinterestTwitterQuick LinksStore LocatorShipping & ReturnsAPOTHEKE RewardsBecome an AmbassadorBlogFAQPrivacyTerms & ConditionsMSRP/MAP PolicyApply for WholesaleContact UsSign up to receive exclusive discounts, stay up to date with the latest releases, and learn a little bit about... us!Right arrow longCurrencyUnited States (USD\\xa0$)Australia(USD\\xa0$)Austria(USD\\xa0$)Belgium(USD\\xa0$)Bulgaria(USD\\xa0$)Canada(USD\\xa0$)Czechia(USD\\xa0$)Denmark(USD\\xa0$)Estonia(USD\\xa0$)Finland(USD\\xa0$)France(USD\\xa0$)Germany(USD\\xa0$)Hong Kong SAR(USD\\xa0$)Hungary(USD\\xa0$)India(USD\\xa0$)Ireland(USD\\xa0$)Israel(USD\\xa0$)Italy(USD\\xa0$)Japan(USD\\xa0$)Latvia(USD\\xa0$)Lithuania(USD\\xa0$)Luxembourg(USD\\xa0$)Malaysia(USD\\xa0$)Mexico(USD\\xa0$)Monaco(USD\\xa0$)Netherlands(USD\\xa0$)New Zealand(USD\\xa0$)Poland(USD\\xa0$)Portugal(USD\\xa0$)Romania(USD\\xa0$)Saudi Arabia(USD\\xa0$)Singapore(USD\\xa0$)Slovakia(USD\\xa0$)Slovenia(USD\\xa0$)South Korea(USD\\xa0$)Spain(USD\\xa0$)Sweden(USD\\xa0$)Switzerland(USD\\xa0$)Taiwan(USD\\xa0$)Thailand(USD\\xa0$)Türkiye(USD\\xa0$)United Arab Emirates(USD\\xa0$)United Kingdom(USD\\xa0$)United States(USD\\xa0$)© 2024APOTHEKE.Powered by Shopify×Right arrow long\\n ***Title: Canvas 3-Wick Candle\\nDescription: Our Canvas 3-Wick Candle fills any room in your home with hours of light, refreshing fragrance. Notes of crisp linen, white musk, and sweet lily of the valley all mingle with dew drops to create an invigorating, fresh scent. Light Canvas every morning to start every day with a fresh start.\\nPrice: 78.00 USD\\nImage URL: http:products/AP03-CA_Canvas_26oz_3WickCandle.jpg \\nURL: https://apothekeco.com/products/canvas-3-wick-candle \\nAvailability: in stock\\nSite Name: APOTHEKE \\ntype: product \\nImages : ,http://apothekeco.com/cdn/shop/products/AP03-CA_Canvas_26oz_3WickCandle_1000x1000.jpg?v=1704389420\\n ***Skip to main content.usAllSelect the department you want to search inAll DepartmentsAlexa SkillsAll The Best PetsAmazon ClinicAmazon DevicesAmazon FreshAmazon PharmacyAmazon WarehouseAppliancesApps & GamesArts, Crafts & SewingAudible Books & OriginalsAutomotive Parts & AccessoriesBabyBartell\\'sBeauty & Personal CareBooksBristol FarmsCardenasCards SupermarketCDs & VinylCell Phones & AccessoriesClothing, Shoes & JewelryWomenMenGirlsBoysBabyCollectibles & Fine ArtComputersCredit and Payment CardsDigital MusicElectronicsFresh ThymeGarden & OutdoorGift CardsGrocery & Gourmet FoodHandmadeHealth, Household & Baby CareHome & Business ServicesHome & KitchenIndustrial & ScientificJust for PrimeKegNBottleKindle StoreLuckyLuggage & Travel GearLuxury StoresMagazine SubscriptionsMission Wine & SpiritsMovies & TVMusical InstrumentsOffice ProductsPet Food ExpressPet SuppliesPremium BeautyPrime VideoRite AidSave MartSmart HomeSoftwareSousa\\'s Wine & LiquorsSports & OutdoorsSubscribe & SaveSubscription BoxesSurdyk\\'s Liquor & Cheese ShopTools & Home ImprovementToys & GamesUnder $10Video GamesWeisWhole Foods MarketSearch AmazonENHelloAccount & ListsReturns& OrdersCartAllDisability Customer SupportMedical CareGroceriesBest SellersAmazon BasicsNew ReleasesCustomer ServiceMusicToday\\'s DealsRegistryBooksAmazon HomePharmacyGift CardsFashionLuxury StoresSmart HomeCouponsSellToys & GamesFind a GiftComputersAutomotiveHome ImprovementHousehold, Health & Baby CareBeauty & Personal CarePet SuppliesVideo GamesWorks with AlexaSports & OutdoorsHandmadeHealth & Household›Health Care›Alternative Medicine›Aromatherapy›CandlesBuy new:To see product details, add this item to your cart.FREE ReturnsReturn this item for freeFree returns are available for the shipping address you chose. You can return the item for any reason in new and unused condition: no shipping chargesLearn more about free returns.How to return the item?Go to your orders and start the returnSelect the return methodShip it!Ships from:AmazonSold by:APOTHEKETo see product details, add this item to your cart. You can always remove it later.FREE ReturnsReturn this item for freeFree returns are available for the shipping address you chose. You can return the item for any reason in new and unused condition: no shipping chargesLearn more about free returns.How to return the item?Go to your orders and start the returnSelect the return methodShip it!Select delivery locationQuantity:123456789101112131415161718192021222324252627282930Quantity:1Add to CartBuy NowEnhancements you chose aren\\'t available for this seller.DetailsTo add the following enhancements to your purchase, choose a different seller.%cardName%${cardName} not available for the seller you chose${cardName} unavailable for quantities greater than ${maxQuantity}.Ships fromAmazonShips fromAmazonSold byAPOTHEKESold byAPOTHEKEReturnsEligible for Return, Refund or Replacement within 30 days of receiptEligible for Return, Refund or Replacement within 30 days of receiptThis item can be returned in its original condition for a full refund or replacement within 30 days of receipt.Read full return policyReturnsEligible for Return, Refund or Replacement within 30 days of receiptThis item can be returned in its original condition for a full refund or replacement within 30 days of receipt.Read full return policyPaymentSecure transactionYour transaction is secureWe work hard to protect your security and privacy. Our payment security system encrypts your information during transmission. We don’t share your credit card details with third-party sellers, and we don’t sell your information to others.Learn morePaymentSecure transactionWe work hard to protect your security and privacy. Our payment security system encrypts your information during transmission. We don’t share your credit card details with third-party sellers, and we don’t sell your information to others.Learn moreCustomer ServiceAmazonCustomer ServiceAmazonDetailsSee moreAdd a gift receipt for easy returnsTo see product details, add this item to your cart. You can always remove it later.Add to ListAdded toUnable to add item to List. Please try again.Sorry, there was a problem.There was an error retrieving your Wish Lists. Please try again.Sorry, there was a problem.List unavailable.5 VIDEOSApotheke Candles, Soaps & LotionsAPOTHEKEImage UnavailableImage not available forColor:To view this video downloadFlash PlayerVIDEOS360° VIEWIMAGESApotheke 3-Wick Candles CollectionVisit the APOTHEKE Store4.24.2 out of 5 stars147 ratings|Search this page50+ bought in past monthTo see product details, add this item to your cart. You can always remove it later.To see product details, add this item to your cart. You can always remove it later.To see product details, add this item to your cart. You can always remove it later.Coupon:Apply 5% couponShop items|TermsCoupon:Save an extra 5% on your first Subscribe and Save order.Shop items|TermsCoupon:Apply 5% couponShop items|TermsEligible for Return, Refund or Replacement within 30 days of receiptThis item can be returned in its original condition for a full refund or replacement within 30 days of receipt.Read full return policyScent:CharcoalBlack Iris OakCanvasCedarwood GingerCharcoalCharcoal RougeEarl Grey BittersLemon Meyer And MintOrange Blossom NeroliPurple BasilSaffron VanillaSantal Rock RoseSea Salt GrapefruitStrawberry LimeWhite VetiverPurchase options and add-onsBrandAPOTHEKEProduct Dimensions5.5\"W x 5.25\"HItem Weight11.04 ouncesNumber of Items1ScentCharcoalAre Batteries IncludedNoIndoor/Outdoor UsageIndoorSpecific Uses For ProductAromatherapyShapeRoundMaterialSoy WaxSee moreAbout this itemCaptivating Fragrance: Transform any living space with the unforgettable scent of Charcoal 3-Wick Candle from APOTHEKE. Our candles are hand poured and made with a proprietary blend of essential and perfume-grade oils for a long-lasting fragrance. Each 26 oz candle burns for approximately 120 - 140 hours. Dimensions: 5 inches x 4.8 inches.The Fragrance: Charcoal combines cedarwood and sandalwood with smoky embers, burnt maple, and a hint of raspberry for a broody and full-bodied fragrance.Scents That Last: We know that fragrance can transform any space and elevate every mood. That\\'s why we work with world-renowned perfumers to make scents that last. All APOTHEKE candles contain 15%-18% fragrance oils — over three times the amount found in typical scented candles.We Keep It Clean: Our candles are made with a soy wax blend and cotton wick, making them a safer choice for your home. We use the best practices to ensure that our candles are plant and mineral based and cruelty free. APOTHEKE products are sulfate and phthalate free, vegan, non-GMO, and gentle for sensitive skin. Proudly made in our factory in Brooklyn, NY.With Love, From Brooklyn: Starting in 2011 as a personal exploration of scent formulation and soapmaking in a Brooklyn kitchen, founder Chrissy Fichtl has grown APOTHEKE into a renowned luxury lifestyle fragrance brand. True to its Brooklyn roots and contemporary ethos, APOTHEKE believes that simplicity is the ultimate expression of luxury.›See more product detailsAdditional DetailsSmall BusinessShop products from small business brands sold in Amazon’s store. Discover more about the small businesses partnering with Amazon and Amazon’s commitment to empowering them.Learn moreSmall BusinessThis product is from a small business brand. Support small.Learn moreReport an issue with this product or sellerFrequently bought togetherThis item:Apotheke 3-Wick Candles Collection$78.00$78.00($2.44/Ounce)Get it as soon asMonday, Mar 18In StockSold by APOTHEKE and ships from Amazon Fulfillment.+Apotheke Luxury Scented Candles for Home, Charcoal - Aromatherapy Jar Candle with Soy Wax Blend$44.00$44.00Get it as soon asMonday, Mar 18In StockSold by APOTHEKE and ships from Amazon Fulfillment.+APOTHEKE Liquid Soap - Plant-Based (10fl oz) - Made in The USA (Charcoal)$18.00$18.00($1.33/Fl Oz)Get it as soon asMonday, Mar 18In StockSold by APOTHEKE and ships from Amazon Fulfillment.Total price:To see our price, add these items to your cart.Try again!DetailsAdded to CartAdd all 3 to CartChoose items to buy together.Compare with similar itemsThis ItemAPOTHEKEApotheke 3-Wick Candles CollectionRecommendationsNEST FragrancesNEST New York Luxury Scented Votive Candle SetdummyAPOTHEKEApotheke Luxury Scented Candles for Home, Santal Rock Rose - Aromatherapy Jar Candle with Soy Wax BlenddummyBenevolence LA3 Wick Candles | Charcoal Scented Large Candle | 14.5 Oz Valentine Candles, Scented Candles for Men | Natural Candles for Women | 45 Hour Burn Long Lasting Candles, Bathroom CandledummyLulu Candles| Jasmine, Oud & Sandalwood | Luxury Scented Soy Jar Candle | Hand Poured in The USA | Highly Scented & Long Lasting (9 Oz.)dummyAPOTHEKEApotheke Luxury Scented Candles for Home, Charcoal - Aromatherapy Jar Candle with Soy Wax BlendTry again!DetailsAdded to CartAdd to CartTry again!DetailsAdded to CartAdd to CartTry again!DetailsAdded to CartAdd to CartTry again!DetailsAdded to CartAdd to CartTry again!DetailsAdded to CartAdd to CartTry again!DetailsAdded to CartAdd to CartPrice$78.00$78.00-15%$39.06$39.06List:$46.00$44.00$44.00$27.99$27.99$19.95$19.95$44.00$44.00DeliveryGet it as soon asMonday, Mar 18Get it as soon asMonday, Mar 18Get it as soon asMonday, Mar 18Get it as soon asMonday, Mar 18Get it as soon asMonday, Mar 18Get it as soon asMonday, Mar 18Customer Ratings4.24.2 out of 5 stars1474.64.6 out of 5 stars2864.34.3 out of 5 stars4534.24.2 out of 5 stars16,6124.34.3 out of 5 stars5,3544.34.3 out of 5 stars453Scent4.24.64.03.63.94.0Longevity4.14.04.33.74.04.3Value for money2.94.03.54.33.73.5Giftable3.4—3.63.94.03.6Sold ByAPOTHEKEAmazon.comAPOTHEKEBenevolence LALulucandlesAPOTHEKEscentCharcoalBamboo, Grapefruit, Moroccan Amber, Ocean Mist & Sea Salt, Amalfi Lemon & Mint, Wild Mint & EucalyptusSantal Rock RoseCharcoal - Black WaxJasmine, Oud & SandalwoodCharcoalunit count325.71114.511size3-WickOne Size1 EA14.5 oz - 3 wick9 Oz.11 ozmaterialSoy WaxGlassSoy WaxSoy Waxsynthetic, soy wax, Soy WaxSoy Waxspecific usesAromatherapyRelaxationScented—ScentedScentedoperating time70 hours4 hours70 hours—5 hours70 hoursspecial featureLong Lasting,Scented,Strong FragranceHighly Scented, Clean BurnLong Lasting,ScentedClean Burn, Long Burning, Scented, Essential Oils, Odor EliminatorHighly Scented, Long LastingLong Lasting,ScentedSimilar items that may deliver to you quicklyPage1of1Start overPage 1 of 1Previous pageApotheke Luxury Scented Candles for Home, Canvas - Aromatherapy Jar Candle with Soy Wax Blend4.3 out of 5 stars453Amazon\\'sChoicein Jar Candles$44.00$44.00Get it as soon asMonday, Mar 18FREE Shipping by AmazonApotheke Luxury Scented Candles for Home, Magnolia Bouquet - Aromatherapy Jar Candle with Soy Wax Blend4.3 out of 5 stars453$44.00$44.00($4.00/Ounce)Get it as soon asMonday, Mar 18FREE Shipping by AmazonBenevolence LA 3 Wick Candles | Charcoal Scented Large Candle | 14.5 Oz Valentine Candles, Scented Candles for Men | Natural Candles for Women | 45 Hour Burn Long Lasting Candles, Bathroom Candle4.2 out of 5 stars16,612$27.99$27.99($1.93/Fl Oz)Get it as soon asMonday, Mar 18FREE Shipping on orders over $35 shipped by AmazonApotheke 2-Wick Scented Candles for Home, Charcoal - 13 oz Long-Lasting Soy Wax Jar Candle, 60-70 Hours Burn Time - Notes of Cedarwood & Sandalwood, Smoky Embers, Burnt Maple, & Hint of Raspberry$62.00$62.00Get it as soon asMonday, Mar 18FREE Shipping by AmazonOnly 17 left in stock - order soon.Apotheke Luxury Scented Candles for Home, Amber Woods - Aromatherapy Jar Candle with Soy Wax Blend4.3 out of 5 stars453Amazon\\'sChoicein Aromatherapy Candles$44.00$44.00($4.00/Ounce)Get it as soon asMonday, Mar 18FREE Shipping by AmazonApotheke 3-Wick Candles (Black Iris Oak, 3-Wick)4.2 out of 5 stars147$78.00$78.00($2.44/Ounce)Get it as soon asMonday, Mar 18FREE Shipping by AmazonNext pageProduct informationTechnical DetailsBrand\\u200eAPOTHEKEProduct Dimensions\\u200e5.5\"W x 5.25\"HItem Weight\\u200e11.04 ouncesNumber of Items\\u200e1Scent\\u200eCharcoalAre Batteries Included\\u200eNoIndoor/Outdoor Usage\\u200eIndoorSpecific Uses For Product\\u200eAromatherapyShape\\u200eRoundMaterial\\u200eSoy WaxOccasion\\u200eWedding, Father\\'s Day, BirthdaySeasons\\u200eAll SeasonSpecial Feature\\u200eLong Lasting,Scented,Strong FragrancePackage Information\\u200eJarUnit Count\\u200e32 OunceManufacturer\\u200eAPOTHEKEPart Number\\u200eCHAR-CAN-3WickItem Weight\\u200e11 ouncesItem model number\\u200eCHAR-CAN-3WickSpecial Features\\u200eLong Lasting,Scented,Strong FragranceBatteries Included?\\u200eNoBatteries Required?\\u200eNoAdditional InformationASINB07PMY9PK6Customer Reviews4.24.2 out of 5 stars147 ratings4.2 out of 5 starsBest Sellers Rank#88,376 in Health & Household (See Top 100 in Health & Household)#323 inAromatherapy CandlesDate First AvailableMarch 16, 2019Warranty & SupportProduct Warranty:For warranty information about this product, pleaseclick hereFeedbackWould you like totell us about a lower price?Apotheke 3-Wick Candles CollectionShare:Found a lower price? Let us know. Although we can\\'t match every price reported, we\\'ll use your feedback to ensure that our prices remain competitive.Where did you see a lower price?Website (Online)URL:Price:\\n                                                    ($)Shipping cost:\\n                                                    ($)Date of the price:010203040506070809101112/01020304050607080910111213141516171819202122232425262728293031/Store (Offline)Store name:City:State:Please select provincePlease select provincePrice:\\n                                                    ($)Date of the price:010203040506070809101112/01020304050607080910111213141516171819202122232425262728293031/Pleasesign into provide feedback.Submit FeedbackProduct detailsProduct Dimensions\\n                                    \\u200f\\n                                        :\\n                                    \\u200e6 x 6 x 6 inches; 11.04 ouncesItem model number\\n                                    \\u200f\\n                                        :\\n                                    \\u200eCHAR-CAN-3WickDate First Available\\n                                    \\u200f\\n                                        :\\n                                    \\u200eMarch 16, 2019Manufacturer\\n                                    \\u200f\\n                                        :\\n                                    \\u200eAPOTHEKEASIN\\n                                    \\u200f\\n                                        :\\n                                    \\u200eB07PMY9PK6Customer Reviews:4.24.2 out of 5 stars147 ratingsExplore more recommendationsBrief content visible, double tap to read full content.Full content visible, double tap to read brief content.VideosPage1of1Start OverPage 1 of 1Previous pageVideos for this product1:14Click to play videoThe best gift all year long, a candle that lasts 120-150 hours!xAJohnsonVideos for this product1:08Click to play video#thisorthat aesthetic candle favoritesBonnie’s Favorite FindsVideos for this product0:52Click to play videoApotheke Candle Review!caseyyisfetchhVideos for this product0:08Click to play videosmells incredible, long lastingBonnie’s Favorite FindsVideos for this product0:22Click to play videoApotheke Candles, Soaps & LotionsAPOTHEKENext pageUpload your videoProduct DescriptionCANDLESOur candles are a combination of high-quality, perfume-grade fragrance in a vegan, soy wax blend. Our cruelty-free, hand-poured candles, available in our signature scents, will easily fill your whole living room.REED DIFFUSERYou control the fragrance level. The \\'set it and forget\\' it is doable with these fresh reed diffusers. If you are sensitive to fragrance just leave the reeds and flip them when you can’t smell the fragrance anymore. If you love a strong fragrance, flip the reeds daily, or once a week! If you prefer a subtle scent, either use fewer reeds or flip less often. Either way - you control the scent throw!LIQUID SOAP AND LOTIONOur invigorating liquid soap is made using aloe vera, known for its anti-aging, moisturizing, and healing qualities.Our plant-based lotions blend aloe vera, essential oils, and natural botanicals for fast-absorbing moisture and light, refreshing fragranceFrom the brandPrevious pageBest SellersVisit the StoreCandlesVisit the StoreReed DiffusersVisit the StoreBody CareVisit the StoreNext pageImportant informationTo report an issue with this product or seller,click here.Related PostsPrevious pageLA JOLIE MUSE+ FollowDo you know how, every year, certain things leave you with a warm, fuzzy feeling that reminds you that the holiday season is near (maybe it’s a song or a movie)? Amber perfume is that feeling in a bottle, which explains why people will immediately flock to you when you’re wearing it.See more Posts >GIFTAWAY+ FollowCoconut Mandarin Vanilla Scented Candle, woodwick candle, natural soy candle, aromatherapy candle scented, large decorative candle, relaxation candle, calming candle, unisex candle, soy cleansing candle, bathroom candle, candle woodwick, high end candles, decorative candles with lidSee more Posts >Hidden Label+ FollowCollect Muse colorful glass jar, light different candle everyday. Leave a comment to tell us your favourite one!See more Posts >Hearthfire Hygge+ FollowIlluminate your space with the enchanting glow of our Bubble CandleSee more Posts >Paddywax Candles+ FollowHyg·ge - a quality of coziness and comfortable conviviality that engenders a feeling of contentment or well-being (regarded as a defining characteristic of Danish culture).\\u2060See more Posts >Hyoola+ FollowOur White Three-Wick Pillar Candle burns for up to 146 hours and is made with lead-free cotton wicks! 💫See more Posts >Thymes+ FollowDecorative and delicately crafted to bring forth warm light and the comforting, warm aroma of palo santo wood, amber, clary sage, benzoin resin and green fig.See more Posts >Teeken+ FollowWarm fragrant candles accompany you through this cold winter night#candle home scented#candle home gift set#candle gift home scented#candles for home scentedSee more Posts >Scentered+ FollowScentered Tips to Prevent Vacation Blues: 1. Get outside, even if it\\'s raining! The outdoors is the best way to lift your mood. 2. Reminisce about your summer memories 3. Make plans There are little things you can do throughout the year to stave off vacation blues. 4. Take up a hobby 5. Enjoy the quiet Summer can be a really busy time, which is great. But you can end up forgetting about your own self-care and well-being as you are always on the go. Enjoy relaxing in the bath and lighting a candle for some ‘me time.’ #summer #summerblues #aromatherapySee more Posts >Benevolence LA+ Follow🕯️✨ Illuminate Your Space with the Alluring Scent of Black Mulberry! 🌙🖤 Elevate your senses with our luxurious Black Mulberry Scented Soy Wax Candle. 🌿✨See more Posts >Next pageLooking for specific info?Customer reviews4.2 out of 5 stars4.2 out of 5147 global ratings5 star70%4 star6%3 star5%2 star8%1 star10%How customer reviews and ratings workCustomer Reviews, including Product Star Ratings help customers to learn more about the product and decide whether it is the right product for them.To calculate the overall star rating and percentage breakdown by star, we don’t use a simple average. Instead, our system considers things like how recent a review is and if the reviewer bought the item on Amazon. It also analyzed reviews to verify trustworthiness.Learn more how customers reviews work on AmazonView Image GalleryAmazon Customer5.0 out of 5 starsImages in this reviewReviews with imagesSee all photosPrevious pageNext pageAll photosAmazon Customer1 StarDEFECTIVE -- NO WICKS!!!!I bought this candle to give as a gift and only looked at it more closely when I was about to wrap it. To my great surprise and disappointment, this \"luxury\" three-wick candle was missing all its wicks! What shoddy quality control for such a pricey candle. And I missed the return window -- a frustrating shopping experience.MoreHideThank you for your feedbackCloseSorry, there was an errorCloseSorry we couldn\\'t load the reviewTry againSort reviews byTop reviewsMost recentTop reviewsTop reviews from the United StatesThere was a problem filtering reviews right now. Please try again later.Amazon Customer5.0 out of 5 starsSmells amazingReviewed in the United States on January 21, 2024Scent: CharcoalVerified PurchaseRepeat buy. Smells amazing. It does tunnel a bit so not a super clean burnRead more2 people found this helpfulHelpfulReportAmazon Customer5.0 out of 5 starsGreatest fragranceReviewed in the United States on March 7, 2023Scent: Sea Salt GrapefruitVerified PurchaseThe candle was a little pricey but the scent fills the room. I like to light a candle when I’m working as well as cooking. Brought a diffuser also again a bit pricey but great fragrance not overpoweringRead more2 people found this helpfulHelpfulReportNatalie5.0 out of 5 starsSmells fantastic!Reviewed in the United States on July 19, 2023Scent: White VetiverVerified PurchaseGot this on sale during prime day. The smell is fantastic. Just as good as some of my crazy expensive D-que candles. The wicks do burn a little dirtier than I’d like (black soot pools in all white candle), but for the price and the quality/throw of fragrance I absolutely give 5 stars!Read more4 people found this helpfulHelpfulReportJanet1.0 out of 5 starsWhat happened to the quality of your candlesReviewed in the United States on June 23, 2023Scent: White VetiverVerified PurchaseI absolutely love rather loved the white Vetiver candles.  I always purchased the 32 ounce three wick or the four wick  I believe it’s 98 ounce I can’t remejmber what size your largest candle is it goes now for $198. I have purchased this three times in the last three months.  I have also been purchasing these candles from you for about four or five years your price keeps going up; your quality keeps going down. You will lose your client base. The quality of your candles has consistently gotten worse. It is very obvious you are using the old fashion way of making your candles where there’s a lot of wax around three little candles.  The last three candles I have purchased  have problems keeping the wicks lit. I just purchased a candle, and only one wick out of three works.  The candles was  $78  I do not have a problem, paying for a quality item.  Based on what I am seeing and on the number of purchases I have made which are quite a few. I consider this to be an insult to your customers.  If you were going to reduce your quality of your candles, reduce your price, I could make a better candle than the candle that I just recently purchased through Amazon, which is yours.  It is extremely upsetting to have a company like yours allow themself to reduce their quality to the point that it is right now. I hope other customers will reach out to you and make you aware of how unhappy they are with your low quality which has been since Covid.  If you can’t make a quality candle, reduce your price at least by 2/3rd. These candles used to be worth the price, but the quality of your candles now, they are not worth the price.  It’s better to buy your own vetiver, yes, it is expensive, and and make your own candles because then at least you know, your wicks will work and they won’t be made cheaply the way that you are now making them. These are no longer high-quality candles. They are not worth the price. I am really sorry to say that because I have enjoyed these candles tremendously.  You have ruined your company. You have ruined your company’s  reputation by your lack of caring about the quality and service you are providing your customers. I will also be submitting this on your website.  When I first started purchasing your candles, I gave you five stars. You’re down to one star if there was a possibility of doing zero stars that is exactly what I would give you.  Paying $78 for a candle that is a three wick candle and only one wick is works and you can obviously see there are three little candles just filled with wax around them unlike the way you used to make them.  Your customers are noticing the downward spiral. Your company is taking in quality. You will lose them.Read more24 people found this helpfulHelpfulReportEOS Decorating5.0 out of 5 starsBetter then the restReviewed in the United States on January 2, 2024Scent: CharcoalVerified PurchaseThis candle is absolutely AMAZING! I\\'ve had it for about a month and use it multiple times a week.I was stewing on this product for a long while but couldn\\'t justify the price. $80 for a candle just seems outrageous! Finally, I made the decision to purchase it here and figured at worst, I would return it. I\\'ve heard from others that the scent reminds them of a sexy man, and I must concur. It truly is an amazing smell and it covers smells from cooked food to smoke 🚬 to so on.I use this in my bedroom and only have to light it for 30 minutes to 1 hour and it completely fills up the room, enters the hallway, and master bath. I haven\\'t made a dent in the candle and I suspect it\\'ll last me 6 months or more!  For reference, the bedroom size is about 40 ft by 20 ft. In order for me to get this kind of throw I would have to light 2 to 3 candles for hours on end, speaking specifically about the most popular brands. Because of this purchase, I decided to purchase the advent calendar from their site in order to sample a lot of their other fragrances and found some gems.  Some other smells that are fantastic are Earl Grey Bitters and Hinoki Lavender in their candle and reed diffusers.Their products definitely costs more then any other company I\\'ve seen but the quality is second to none.  They\\'re legit when they talk about the amount of fragrance oils, quality of the candles base, vessel, and so on.  As I\\'m writing this review I\\'m subscribing to another scent,  Earl Grey Bitters in the large 3 wick candle. This size candle is one of their better values if you enjoy the scent.Read more2 people found this helpfulHelpfulReportmihaela birca2.0 out of 5 starsNot worth the priceReviewed in the United States on February 16, 2024Scent: White VetiverVerified PurchaseThe candle looks great and the packaging was nice, but almost no scent. Disappointed about choosing this product to gift. Had it lit for a few hours and still can’t feel anything. Bummer, could have chosen a cheaper option and avoid the embarrassment.Read moreOne person found this helpfulHelpfulReportThom Lundy5.0 out of 5 starsOne of my favorite candles!Reviewed in the United States on January 24, 2024Scent: CharcoalVerified PurchaseI am a candle maker, and this is one od a handful of candles I still buy regularly!  The scent is truly unisex and the design of the candle vessel is suitable to most design aesthetics.  Do yourself a favor and buy it - you won’t be disappointed!Read moreOne person found this helpfulHelpfulReportSusan H.4.0 out of 5 starsUneven burnReviewed in the United States on February 18, 2024Scent: CharcoalVerified PurchaseEnjoyed the scent and it filled the living room area. Candle didn\\'t burn evenly and seemed like it could have used a fourth wick or the spacing was off. Purchased during a sale so wasn\\'t disappointed.Read moreHelpfulReportSee more reviewsTop reviews from other countriesBen J.5.0 out of 5 starsOutstanding candleReviewed in Australia on July 17, 2021Scent: CharcoalVerified PurchaseBeautiful quality.Read moreReportSee more reviewsTopAbout this itemSimilarProduct informationQuestionsReviewsBack to topEnglishUnited StatesConditions of UsePrivacy NoticeYour Ads Privacy Choices© 1996-2024, Amazon.com, Inc. or its affiliatestype: text \\nImages : \\n ***Skip to contentEnjoy complementary shipping on orders $100+ *Exclusions applyMenuCandles & DiffusersCandlesBest Selling FragranceClassic Candles2-Wick Ceramic Candles3-Wick CandlesFragrance BundlesDiscovery SetsMini CandlesTaper CandlesCandle AccessoriesDiffusersReed DiffusersRoom SpraysPura Smart Home DiffuserFragrance CardsSubscriptionsClassic Mystery Box SubscriptionPremium Mystery Box SubscriptionReed Diffuser RefillsFeaturedGift CardsAPOTHEKE x League Creative Co.APOTHEKE x MASTAPOTHEKE x SanctuaryBody CareBar SoapLiquid SoapLotionBody Care BundlesLiquid Soap RefillsFragrancesThe Signature CollectionApricot Red CurrantCanvasEarl Grey BittersHinoki LavenderSantal Rock RoseSea Salt GrapefruitTonka OakWild Mint and IvyWhite VetiverThe Charcoal Fragrance CollectionCharcoalCharcoal RougeThe Eden CollectionBlack Iris OakCedarwood GingerOrange Blossom NeroliSaffron VanillaFragrance FamiliesAromaticCitrusFloralFruityGourmandGreenWoodyAboutBlogCandle Buying GuideOur StoryVisit UsFind Your FragranceRewardsAccountSearchSearchBasket0CartClose navigationCandles & DiffusersCandlesBest Selling FragranceClassic Candles2-Wick Ceramic Candles3-Wick CandlesFragrance BundlesDiscovery SetsMini CandlesTaper CandlesCandle AccessoriesDiffusersReed DiffusersRoom SpraysPura Smart Home DiffuserFragrance CardsSubscriptionsClassic Mystery Box SubscriptionPremium Mystery Box SubscriptionReed Diffuser RefillsFeaturedGift CardsAPOTHEKE x League Creative Co.APOTHEKE x MASTAPOTHEKE x SanctuaryBody CareBar SoapLiquid SoapLotionBody Care BundlesLiquid Soap RefillsFragrancesThe Signature CollectionApricot Red CurrantCanvasEarl Grey BittersHinoki LavenderSantal Rock RoseSea Salt GrapefruitTonka OakWild Mint and IvyWhite VetiverThe Charcoal Fragrance CollectionCharcoalCharcoal RougeThe Eden CollectionBlack Iris OakCedarwood GingerOrange Blossom NeroliSaffron VanillaFragrance FamiliesAromaticCitrusFloralFruityGourmandGreenWoodyAboutBlogCandle Buying GuideOur StoryVisit UsFind Your FragranceRewardsAccountShow filtersPrice$$Product type2-Wick Candles3-Wick CandlesAPOTHEKE x MastAPOTHEKE x SanctuaryClassic CandlesFragrance CardsMini Tin CandlesVotivesFragrance FamilyAromaticCitrusFloralFruityGourmandGreenWoodySort byBest sellingAlphabetically, A-ZAlphabetically, Z-APrice, low to highPrice, high to lowDate, old to newDate, new to oldSubmitQuick ViewCharcoal Rouge Classic Candle$44.00Quick ViewCharcoal Classic Candle$44.00Quick ViewWhite Vetiver Classic Candle$44.00Quick ViewSea Salt Grapefruit Classic Candle$44.00Quick ViewCanvas Classic Candle$44.00Quick ViewEarl Grey Bitters Classic Candle$44.00Quick ViewApricot Red Currant Classic Candle$44.00Quick ViewWild Mint and Ivy Classic Candle$44.00Quick ViewTonka Oak Classic Candle$44.00Quick ViewSantal Rock Rose Classic Candle$44.00Quick ViewHinoki Lavender Classic Candle$44.00Quick ViewOrange Blossom Neroli Classic Candle$44.00Quick ViewCedarwood Ginger Classic Candle$44.00Quick ViewBlack Iris Oak Classic Candle$44.00Quick ViewSaffron Vanilla Classic Candle$44.00Quick ViewCharcoal 2-Wick Ceramic Candle$62.00Quick ViewSea Salt Grapefruit 2-Wick Ceramic Candle$62.00Quick ViewWhite Vetiver 2-Wick Ceramic Candle$62.00123Next »Follow UsYoutubeInstagramPinterestTwitterQuick LinksStore LocatorShipping & ReturnsAPOTHEKE RewardsBecome an AmbassadorBlogFAQPrivacyTerms & ConditionsMSRP/MAP PolicyApply for WholesaleContact UsSign up to receive exclusive discounts, stay up to date with the latest releases, and learn a little bit about... us!Right arrow longCurrencyUnited States (USD\\xa0$)Australia(USD\\xa0$)Austria(USD\\xa0$)Belgium(USD\\xa0$)Bulgaria(USD\\xa0$)Canada(USD\\xa0$)Czechia(USD\\xa0$)Denmark(USD\\xa0$)Estonia(USD\\xa0$)Finland(USD\\xa0$)France(USD\\xa0$)Germany(USD\\xa0$)Hong Kong SAR(USD\\xa0$)Hungary(USD\\xa0$)India(USD\\xa0$)Ireland(USD\\xa0$)Israel(USD\\xa0$)Italy(USD\\xa0$)Japan(USD\\xa0$)Latvia(USD\\xa0$)Lithuania(USD\\xa0$)Luxembourg(USD\\xa0$)Malaysia(USD\\xa0$)Mexico(USD\\xa0$)Monaco(USD\\xa0$)Netherlands(USD\\xa0$)New Zealand(USD\\xa0$)Poland(USD\\xa0$)Portugal(USD\\xa0$)Romania(USD\\xa0$)Saudi Arabia(USD\\xa0$)Singapore(USD\\xa0$)Slovakia(USD\\xa0$)Slovenia(USD\\xa0$)South Korea(USD\\xa0$)Spain(USD\\xa0$)Sweden(USD\\xa0$)Switzerland(USD\\xa0$)Taiwan(USD\\xa0$)Thailand(USD\\xa0$)Türkiye(USD\\xa0$)United Arab Emirates(USD\\xa0$)United Kingdom(USD\\xa0$)United States(USD\\xa0$)© 2024APOTHEKE.Powered by Shopify×Right arrow long\\n ***Title: Shop All Candles | APOTHEKE\\nDescription: The difference is in the details. Our uniquely blended Home Fragrances are crafted using the finest ingredients to elevate the everyday.\\nImage URL: http:collections/candles-votives-and-3-wicks-224786.jpg \\nURL: https://apothekeco.com/collections/candles-votives-and-3-wicks \\nAvailability: Unknown\\nSite Name: APOTHEKE \\ntype: product.group \\nImages : ,http://apothekeco.com/cdn/shop/collections/candles-votives-and-3-wicks-224786.jpg?v=1691471633&width=1950\\n ***Skip to contentEnjoy complementary shipping on orders $100+ *Exclusions applyMenuCandles & DiffusersCandlesBest Selling FragranceClassic Candles2-Wick Ceramic Candles3-Wick CandlesFragrance BundlesDiscovery SetsMini CandlesTaper CandlesCandle AccessoriesDiffusersReed DiffusersRoom SpraysPura Smart Home DiffuserFragrance CardsSubscriptionsClassic Mystery Box SubscriptionPremium Mystery Box SubscriptionReed Diffuser RefillsFeaturedGift CardsAPOTHEKE x League Creative Co.APOTHEKE x MASTAPOTHEKE x SanctuaryBody CareBar SoapLiquid SoapLotionBody Care BundlesLiquid Soap RefillsFragrancesThe Signature CollectionApricot Red CurrantCanvasEarl Grey BittersHinoki LavenderSantal Rock RoseSea Salt GrapefruitTonka OakWild Mint and IvyWhite VetiverThe Charcoal Fragrance CollectionCharcoalCharcoal RougeThe Eden CollectionBlack Iris OakCedarwood GingerOrange Blossom NeroliSaffron VanillaFragrance FamiliesAromaticCitrusFloralFruityGourmandGreenWoodyAboutBlogCandle Buying GuideOur StoryVisit UsFind Your FragranceRewardsAccountSearchSearchBasket0CartClose navigationCandles & DiffusersCandlesBest Selling FragranceClassic Candles2-Wick Ceramic Candles3-Wick CandlesFragrance BundlesDiscovery SetsMini CandlesTaper CandlesCandle AccessoriesDiffusersReed DiffusersRoom SpraysPura Smart Home DiffuserFragrance CardsSubscriptionsClassic Mystery Box SubscriptionPremium Mystery Box SubscriptionReed Diffuser RefillsFeaturedGift CardsAPOTHEKE x League Creative Co.APOTHEKE x MASTAPOTHEKE x SanctuaryBody CareBar SoapLiquid SoapLotionBody Care BundlesLiquid Soap RefillsFragrancesThe Signature CollectionApricot Red CurrantCanvasEarl Grey BittersHinoki LavenderSantal Rock RoseSea Salt GrapefruitTonka OakWild Mint and IvyWhite VetiverThe Charcoal Fragrance CollectionCharcoalCharcoal RougeThe Eden CollectionBlack Iris OakCedarwood GingerOrange Blossom NeroliSaffron VanillaFragrance FamiliesAromaticCitrusFloralFruityGourmandGreenWoodyAboutBlogCandle Buying GuideOur StoryVisit UsFind Your FragranceRewardsAccountSaffron Vanilla 3-Wick Candle$78.00Create your paradise with the comforting and complex scent of Saffron Vanilla from the Eden Collection. This 3-Wick Scented Candle is made with a premium soy wax blend and essential and perfume-grade fragrance oils in a glossy green-translucent glass vessel and wax.The FragranceSaffron Vanilla blends spicy cardamom and aromatic lavender with iris, violet, and rose accentuated by warm vanilla and sweet saffron for a comforting and complex fragrance.The ProductMade with a premium soy wax blend and essential and perfume-grade fragrance oils, this luxury scented candle is designed to provide a clean-burning and exceptional scent experience. This candle features green-colored wax.The VesselDesigned to be evocative of the fragrance, the glossy green-translucent glass vessel complements any decor with a sleek and modern sensibility.The DetailsNet Weight: 26 oz. (761 g)Approximate Burn Time: 120-140 hoursCandle Dimensions: 5\" DIA x 4.8\" HFragrance Family: Floral-SweetTop Notes: Bergamot, Lavender, CardamomMiddle Notes: Iris, Violet, Rose, AmberBottom Notes: Saffron, Patchouli, Vetiver, VanillaMade in the USAFor more information about our products, visitIngredients.Default Title−+Add to CartSaffron Vanilla 3-Wick Candle\\n        -is backordered and will ship as soon as it is back in stock.More detailsBlog postsView allOctober 30, 2023\"The Best Time To Do Something Is Now\" An Interview with Leah KirschRead moreOctober 16, 2023Interview with Mek Frinchaboy :  Multifaceted artist and fellow Red Hook friendRead moreJune 21, 2023Behind the Fragrance - Wild Mint and IvyRead moreJune 09, 2023Our Favorites: Team APOTHEKE\\'s Scents For SummerRead moreMay 10, 2023With Love, from Brooklyn - Sharing APOTHEKE\\'s StoryRead moreApril 24, 2023Sadie Beaudet, Founder of Tradlands Shares Her Insights on Motherhood, Wellness, and Running a Business. Plus – the Perfect Portland, Maine ItineraryRead moreApril 03, 2023Two “Knew” York Girls - The Women Behind Our APOTHEKE x Girl Knew York CollaborationRead more\"The Best Time To Do Something Is Now\" An Interview with Leah KirschInterview with Mek Frinchaboy :  Multifaceted artist and fellow Red Hook friendBehind the Fragrance - Wild Mint and IvyOur Favorites: Team APOTHEKE\\'s Scents For SummerWith Love, from Brooklyn - Sharing APOTHEKE\\'s StorySadie Beaudet, Founder of Tradlands Shares Her Insights on Motherhood, Wellness, and Running a Business. Plus – the Perfect Portland, Maine ItineraryTwo “Knew” York Girls - The Women Behind Our APOTHEKE x Girl Knew York CollaborationFollow UsYoutubeInstagramPinterestTwitterQuick LinksStore LocatorShipping & ReturnsAPOTHEKE RewardsBecome an AmbassadorBlogFAQPrivacyTerms & ConditionsMSRP/MAP PolicyApply for WholesaleContact UsSign up to receive exclusive discounts, stay up to date with the latest releases, and learn a little bit about... us!Right arrow longCurrencyUnited States (USD\\xa0$)Australia(USD\\xa0$)Austria(USD\\xa0$)Belgium(USD\\xa0$)Bulgaria(USD\\xa0$)Canada(USD\\xa0$)Czechia(USD\\xa0$)Denmark(USD\\xa0$)Estonia(USD\\xa0$)Finland(USD\\xa0$)France(USD\\xa0$)Germany(USD\\xa0$)Hong Kong SAR(USD\\xa0$)Hungary(USD\\xa0$)India(USD\\xa0$)Ireland(USD\\xa0$)Israel(USD\\xa0$)Italy(USD\\xa0$)Japan(USD\\xa0$)Latvia(USD\\xa0$)Lithuania(USD\\xa0$)Luxembourg(USD\\xa0$)Malaysia(USD\\xa0$)Mexico(USD\\xa0$)Monaco(USD\\xa0$)Netherlands(USD\\xa0$)New Zealand(USD\\xa0$)Poland(USD\\xa0$)Portugal(USD\\xa0$)Romania(USD\\xa0$)Saudi Arabia(USD\\xa0$)Singapore(USD\\xa0$)Slovakia(USD\\xa0$)Slovenia(USD\\xa0$)South Korea(USD\\xa0$)Spain(USD\\xa0$)Sweden(USD\\xa0$)Switzerland(USD\\xa0$)Taiwan(USD\\xa0$)Thailand(USD\\xa0$)Türkiye(USD\\xa0$)United Arab Emirates(USD\\xa0$)United Kingdom(USD\\xa0$)United States(USD\\xa0$)© 2024APOTHEKE.Powered by Shopify×Right arrow long\\n ***Title: Saffron Vanilla 3-Wick Candle\\nDescription: Our signature 11oz frosted glass candle fills your room with warm amber wood, sweet lily of the valley, and night-blooming jasmine. Deepened by the tang of peppercorn, woody vetiver, and patchouli Amber Woods is a robust and enticing scent.\\nPrice: 78.00 USD\\nImage URL: http:products/AP03-SV_SaffronVanilla_26oz_3WickCandle_b1a95721-bacd-41a7-a5a5-9450692925c3.jpg \\nURL: https://apothekeco.com/products/saffron-vanilla-3-wick-candle \\nAvailability: in stock\\nSite Name: APOTHEKE \\ntype: product \\nImages : ,http://apothekeco.com/cdn/shop/products/AP03-SV_SaffronVanilla_26oz_3WickCandle_b1a95721-bacd-41a7-a5a5-9450692925c3_1000x1000.jpg?v=1705427083\\n ***type: text \\nImages : \\n ***Skip to contentEnjoy complementary shipping on orders $100+ *Exclusions applyMenuCandles & DiffusersCandlesBest Selling FragranceClassic Candles2-Wick Ceramic Candles3-Wick CandlesFragrance BundlesDiscovery SetsMini CandlesTaper CandlesCandle AccessoriesDiffusersReed DiffusersRoom SpraysPura Smart Home DiffuserFragrance CardsSubscriptionsClassic Mystery Box SubscriptionPremium Mystery Box SubscriptionReed Diffuser RefillsFeaturedGift CardsAPOTHEKE x League Creative Co.APOTHEKE x MASTAPOTHEKE x SanctuaryBody CareBar SoapLiquid SoapLotionBody Care BundlesLiquid Soap RefillsFragrancesThe Signature CollectionApricot Red CurrantCanvasEarl Grey BittersHinoki LavenderSantal Rock RoseSea Salt GrapefruitTonka OakWild Mint and IvyWhite VetiverThe Charcoal Fragrance CollectionCharcoalCharcoal RougeThe Eden CollectionBlack Iris OakCedarwood GingerOrange Blossom NeroliSaffron VanillaFragrance FamiliesAromaticCitrusFloralFruityGourmandGreenWoodyAboutBlogCandle Buying GuideOur StoryVisit UsFind Your FragranceRewardsAccountSearchSearchBasket0CartClose navigationCandles & DiffusersCandlesBest Selling FragranceClassic Candles2-Wick Ceramic Candles3-Wick CandlesFragrance BundlesDiscovery SetsMini CandlesTaper CandlesCandle AccessoriesDiffusersReed DiffusersRoom SpraysPura Smart Home DiffuserFragrance CardsSubscriptionsClassic Mystery Box SubscriptionPremium Mystery Box SubscriptionReed Diffuser RefillsFeaturedGift CardsAPOTHEKE x League Creative Co.APOTHEKE x MASTAPOTHEKE x SanctuaryBody CareBar SoapLiquid SoapLotionBody Care BundlesLiquid Soap RefillsFragrancesThe Signature CollectionApricot Red CurrantCanvasEarl Grey BittersHinoki LavenderSantal Rock RoseSea Salt GrapefruitTonka OakWild Mint and IvyWhite VetiverThe Charcoal Fragrance CollectionCharcoalCharcoal RougeThe Eden CollectionBlack Iris OakCedarwood GingerOrange Blossom NeroliSaffron VanillaFragrance FamiliesAromaticCitrusFloralFruityGourmandGreenWoodyAboutBlogCandle Buying GuideOur StoryVisit UsFind Your FragranceRewardsAccountOrange Blossom Neroli 3-Wick Candle$78.00Create your paradise with the invigorating scent of Orange Blossom Neroli from the Eden Collection. This 3-Wick Scented Candle is made with a premium soy wax blend and essential and perfume-grade fragrance oils in a glossy blue-translucent glass vessel.The FragranceOrange Blossom Neroli intertwines sweet orange blossoms and refreshing neroli with earthy greens, sandalwood, and a touch of musk for a zesty and invigorating fragrance.The ProductMade with a premium soy wax blend and essential and perfume-grade fragrance oils, this luxury scented candle is designed to provide a clean-burning and exceptional scent experience. This candle features blue-colored wax.The VesselDesigned to be evocative of the fragrance, the glossy blue-translucent glass vessel complements any decor with a sleek and modern sensibility.The DetailsNet Weight: 26 oz. (761 g)Approximate Burn Time: 120-140 hoursCandle Dimensions: 5\" DIA x 4.8\" HFragrance Family: Floral-CitrusTop Notes: Bergamot, Lime, Orange, Petitgrain, NeroliMiddle Notes: Orange Flower, Geranium, Lavender, Rose, JasmineBottom Notes: Earthy Greens, Sandalwood, Patchouli, MuskMade in the USAFor more information about our products, visitIngredients.Default Title−+Add to CartOrange Blossom Neroli 3-Wick Candle\\n        -is backordered and will ship as soon as it is back in stock.More detailsBlog postsView allOctober 30, 2023\"The Best Time To Do Something Is Now\" An Interview with Leah KirschRead moreOctober 16, 2023Interview with Mek Frinchaboy :  Multifaceted artist and fellow Red Hook friendRead moreJune 21, 2023Behind the Fragrance - Wild Mint and IvyRead moreJune 09, 2023Our Favorites: Team APOTHEKE\\'s Scents For SummerRead moreMay 10, 2023With Love, from Brooklyn - Sharing APOTHEKE\\'s StoryRead moreApril 24, 2023Sadie Beaudet, Founder of Tradlands Shares Her Insights on Motherhood, Wellness, and Running a Business. Plus – the Perfect Portland, Maine ItineraryRead moreApril 03, 2023Two “Knew” York Girls - The Women Behind Our APOTHEKE x Girl Knew York CollaborationRead more\"The Best Time To Do Something Is Now\" An Interview with Leah KirschInterview with Mek Frinchaboy :  Multifaceted artist and fellow Red Hook friendBehind the Fragrance - Wild Mint and IvyOur Favorites: Team APOTHEKE\\'s Scents For SummerWith Love, from Brooklyn - Sharing APOTHEKE\\'s StorySadie Beaudet, Founder of Tradlands Shares Her Insights on Motherhood, Wellness, and Running a Business. Plus – the Perfect Portland, Maine ItineraryTwo “Knew” York Girls - The Women Behind Our APOTHEKE x Girl Knew York CollaborationFollow UsYoutubeInstagramPinterestTwitterQuick LinksStore LocatorShipping & ReturnsAPOTHEKE RewardsBecome an AmbassadorBlogFAQPrivacyTerms & ConditionsMSRP/MAP PolicyApply for WholesaleContact UsSign up to receive exclusive discounts, stay up to date with the latest releases, and learn a little bit about... us!Right arrow longCurrencyUnited States (USD\\xa0$)Australia(USD\\xa0$)Austria(USD\\xa0$)Belgium(USD\\xa0$)Bulgaria(USD\\xa0$)Canada(USD\\xa0$)Czechia(USD\\xa0$)Denmark(USD\\xa0$)Estonia(USD\\xa0$)Finland(USD\\xa0$)France(USD\\xa0$)Germany(USD\\xa0$)Hong Kong SAR(USD\\xa0$)Hungary(USD\\xa0$)India(USD\\xa0$)Ireland(USD\\xa0$)Israel(USD\\xa0$)Italy(USD\\xa0$)Japan(USD\\xa0$)Latvia(USD\\xa0$)Lithuania(USD\\xa0$)Luxembourg(USD\\xa0$)Malaysia(USD\\xa0$)Mexico(USD\\xa0$)Monaco(USD\\xa0$)Netherlands(USD\\xa0$)New Zealand(USD\\xa0$)Poland(USD\\xa0$)Portugal(USD\\xa0$)Romania(USD\\xa0$)Saudi Arabia(USD\\xa0$)Singapore(USD\\xa0$)Slovakia(USD\\xa0$)Slovenia(USD\\xa0$)South Korea(USD\\xa0$)Spain(USD\\xa0$)Sweden(USD\\xa0$)Switzerland(USD\\xa0$)Taiwan(USD\\xa0$)Thailand(USD\\xa0$)Türkiye(USD\\xa0$)United Arab Emirates(USD\\xa0$)United Kingdom(USD\\xa0$)United States(USD\\xa0$)© 2024APOTHEKE.Powered by Shopify×Right arrow long\\n ***Title: Orange Blossom Neroli 3-Wick Candle\\nDescription: Our signature 11oz frosted glass candle fills your room with warm amber wood, sweet lily of the valley, and night-blooming jasmine. Deepened by the tang of peppercorn, woody vetiver, and patchouli Amber Woods is a robust and enticing scent.\\nPrice: 78.00 USD\\nImage URL: http:products/AP03-ON_OrangeBlossomNeroli_26oz_3WickCandle_b5b69b6b-8d6a-471b-96a7-26c8fa70d39a.jpg \\nURL: https://apothekeco.com/products/orange-blossom-neroli-3-wick-candle \\nAvailability: in stock\\nSite Name: APOTHEKE \\ntype: product \\nImages : ,http://apothekeco.com/cdn/shop/products/AP03-ON_OrangeBlossomNeroli_26oz_3WickCandle_b5b69b6b-8d6a-471b-96a7-26c8fa70d39a_1000x1000.jpg?v=1705427089\\n ***The store will not work correctly when cookies are disabled.JavaScript seems to be disabled in your browser.For the best experience on our site, be sure to turn on Javascript in your browser.Free Shipping On All Orders Over $150 or just 9.95 flat(contiguous U.S.)Hmm... Seems like you’re using an unsupported version of IE. To ensure smooth shopping, please try on a different browser or use your mobile phone. Thanks!Toggle NavMy CartMy AccountSearchSearchAdvanced SearchSearchMenuNewNew ArrivalsAll New ArrivalsNew CandlesNew Room FragranceNew Bath & BodyOther New ArrivalsLAFCO -  Birchwood Molasses Classic CandleVoluspa - Spiced Pumpkin Latte Classic CandleNest - Blue Cypress & Snow Votive CandleVoluspa - Temple Moss 5 Wick Hearth CandleNest - Autumn Plum Liquid SoapBestsellersBestsellersAll BestsellersCandlesDiffusers & Room SpraysBath & BodySeda France - Japanese Quince Pagoda Candle (as seen on Oprah)Voluspa - Baltic Amber CandleTrudon - Ernesto (Leather & Tobacco) CandleDiptyque - Baies Candle (Berries)Archipelago - Havana Candle (Glass Jar)BrandsBrandsAdlan FragrancesAgrariaAndy WarholAntica FarmacistaApothekeAquiesseArchipelagoAssoulineBaobabJean-Michel BasquiatThe Beverly Hills Candle CoBohemeBoy SmellsCander ParisCapri BlueCarriere FreresCereria Molla 1899Chez GagnéChristian TortuCLR Los AngelesComme des GarconsCoreternoDeliriumDiptyqueDr. VranjesDS & Durgaet al lifeFlamingo EstateFVITHFrasier FirFury BrosGlasshouseHarlem Candle Co.HereticHollow TreeHouse of NurIconic ScentsJonathan AdlerJoshua TreeKeith HaringLAFCOLucie & PompetteLuminoseLumiraMad et LenMaison Margiela ReplicaMalin & GoetzMichael AramMistralML Candle CoMolton BrownMoodcastMuseeNestNiven MorganOverosePaddywaxPaul SmithP.F. Candle Co.PharosRigaudRukskeSeda FranceSir CandleSkandinaviskSocial Light LightersStrange GentSOH MelbourneThymesToccaTrappTrudonTrue GraceUrban Apothecary LondonVoluspaVotivoFragrancesFragrancesAppleBayberryBeachCinnamonCranberryDessertEucalyptusFloralFreshGardeniaGingerLavenderLeatherLemonLemongrassMan & CologneOrange & CitrusPatchouliPumpkinRoseSpiceTobaccoTropicalWoodVanillaUnscentedProductsProductsAll CandlesGlass Jar Candles3 Wick CandlesVotive CandlesTravel & Tin CandlesLarge CandlesPillar  CandlesCeramic CandlesSoy  CandlesDiffusersRoom SpraysBath & BodyPotpourriCandle AccessoriesSeasonsSeasonsSummerFallWinterSpringHolidayValentine\\'s DayMother\\'s DayFather\\'s DayHand-pickedFall ScentsExploreFeatured CollectionVoluspa CandlesShopGift IdeasGift IdeasGift CertificatesHoliday Gift GuideEditor\\'s PicksCandle Gift SetsWedding GiftsMonthly SubscriptionFeaturedTop Gift SetsShopSubscriptionCandle Every MonthLearn MoreSubscriptionMy AccountLoginRegisterAccountApotheke - Tonka Oak 3 Wick Candle$78.00SKUAPTO#WCIn stockOne-time purchaseSubscribe & SaveDeliver Every Other MonthDeliver Every 3 MonthsDeliver Every MonthAdd product to cart to see subscription savingsDeliver Every Other MonthDeliver Every 3 MonthsDeliver Every MonthQuantity-+Add to CartSkip to the end of the images gallerySkip to the beginning of the images galleryDescription & DetailsApotheke Tonka Oak 3 Wick Candle fills any room in your home with hours of unforgettable bliss. Made of perfume grade fragrance oils, Tonka Oak combines sweet almond, warm cardamom, and clove, accentuated by coconut, Iris petals, musk, and tonka bean to create a sophisticated and full bodied fragrance.Apotheke Candles include extraordinary scents that burn clean, enhancing any room with beautiful, simple design. Apotheke Candles are made in Brooklyn, of a high quality soy wax blend and burn up to 120 hours.More InformationBrandApothekeBurn Time120 hoursScent FamilyEarthyPrimary ScentsAlmond,Cardamon,Clove,Coconut,Musk,Oak,Tonka BeanWax FamilySoy BlendNet Weight32 oz.Dimensions4.5\" tall by 5.25\" wideAlso Available AsApotheke - Tonka Oak Candle$44.00You Might Also LikeSeda France - Japanese Quince Pagoda Mini Candle$16.50Trudon - Ernesto (Leather & Tobacco) Candle$125.00Seda France - Japanese Quince 3 Votive Candle Set$19.50Trapp - Amber & Bergamot #21 Candle$32.00Trapp - Amber & Bergamot #21 Votive Candle$6.50Seda France - Japanese Quince Pagoda Candle (as seen on Oprah)$35.00Nest - Moroccan Amber Diffuser Refill$46.00Cereria Molla - Bois de Santal 500ml Diffuser Refill$60.00NewsletterGet the inside scoop on the latest scents. Join our VIP list:Sign Up for Our Newsletter:Sign UpThe world\\'s largest store of luxury candles and purveyor of fine fragrances since 2003ProductsGLASS CANDLESDIFFUSERSROOM SPRAYSBATH & BODYGIFT SETSBESTSELLERSCandle CategoriesScentsCITRUSFLORALFRESHFRUITYSMOKYSPICYWOODSYCustomer CareCONTACT USHELP / FAQsSHIPPING POLICYRETURN POLICYFIND A STOREPRIVACY POLICYTERMS OF USECompanyABOUT USPRESSBLOGCopyright © 2003-2020 Candle Delirium, Inc. All Rights Reserved.\\n ***Title: Apotheke - Tonka Oak 3 Wick Candle\\nDescription: Apotheke Tonka Oak 3 Wick Candle fills any room in your home with hours of unforgettable bliss. Made of perfume grade fragrance oils, Tonka Oak combines sweet almond, warm cardamom, and clove, accentuated by coconut, Iris petals, musk, and tonka bean to create a sophisticated and full bodied fragrance.\\r\\nApotheke Candles include extraordinary scents that burn clean, enhancing any room with beautiful, simple design. Apotheke Candles are made in Brooklyn, of a high quality soy wax blend and burn up to 120 hours.\\nImage URL: https://www.candledelirium.com/media/catalog/product/cache/214a8a112b9327a038b7723d3f9364f6/3/2/32oz-to_2048x.jpg \\nURL: https://www.candledelirium.com/apotheke-tonka-oak-3-wick-candle/ \\nAvailability: In stock\\ntype: product \\nImages : \\n ***Skip to contentEnjoy complementary shipping on orders $100+ *Exclusions applyMenuCandles & DiffusersCandlesBest Selling FragranceClassic Candles2-Wick Ceramic Candles3-Wick CandlesFragrance BundlesDiscovery SetsMini CandlesTaper CandlesCandle AccessoriesDiffusersReed DiffusersRoom SpraysPura Smart Home DiffuserFragrance CardsSubscriptionsClassic Mystery Box SubscriptionPremium Mystery Box SubscriptionReed Diffuser RefillsFeaturedGift CardsAPOTHEKE x League Creative Co.APOTHEKE x MASTAPOTHEKE x SanctuaryBody CareBar SoapLiquid SoapLotionBody Care BundlesLiquid Soap RefillsFragrancesThe Signature CollectionApricot Red CurrantCanvasEarl Grey BittersHinoki LavenderSantal Rock RoseSea Salt GrapefruitTonka OakWild Mint and IvyWhite VetiverThe Charcoal Fragrance CollectionCharcoalCharcoal RougeThe Eden CollectionBlack Iris OakCedarwood GingerOrange Blossom NeroliSaffron VanillaFragrance FamiliesAromaticCitrusFloralFruityGourmandGreenWoodyAboutBlogCandle Buying GuideOur StoryVisit UsFind Your FragranceRewardsAccountSearchSearchBasket0CartClose navigationCandles & DiffusersCandlesBest Selling FragranceClassic Candles2-Wick Ceramic Candles3-Wick CandlesFragrance BundlesDiscovery SetsMini CandlesTaper CandlesCandle AccessoriesDiffusersReed DiffusersRoom SpraysPura Smart Home DiffuserFragrance CardsSubscriptionsClassic Mystery Box SubscriptionPremium Mystery Box SubscriptionReed Diffuser RefillsFeaturedGift CardsAPOTHEKE x League Creative Co.APOTHEKE x MASTAPOTHEKE x SanctuaryBody CareBar SoapLiquid SoapLotionBody Care BundlesLiquid Soap RefillsFragrancesThe Signature CollectionApricot Red CurrantCanvasEarl Grey BittersHinoki LavenderSantal Rock RoseSea Salt GrapefruitTonka OakWild Mint and IvyWhite VetiverThe Charcoal Fragrance CollectionCharcoalCharcoal RougeThe Eden CollectionBlack Iris OakCedarwood GingerOrange Blossom NeroliSaffron VanillaFragrance FamiliesAromaticCitrusFloralFruityGourmandGreenWoodyAboutBlogCandle Buying GuideOur StoryVisit UsFind Your FragranceRewardsAccountCedarwood Ginger 3-Wick Candle$78.00Create your personal paradise with the enticing scent of Cedarwood Ginger from the Eden Collection. This 3-Wick Scented Candle is made with a premium soy wax blend and essential and perfume-grade fragrance oils in a glossy orange-translucent glass vessel.The FragranceCedarwood Ginger blends red tea and ginger with juicy fig and sweet coconut accentuated by cedarwood, patchouli, and incense for an enticing and enchanting fragrance.The ProductMade with a premium soy wax blend and essential and perfume-grade fragrance oils, this luxury scented candle is designed to provide a clean-burning and exceptional scent experience. This candle features orange-colored wax.The VesselDesigned to be evocative of the fragrance, the glossy orange-translucent glass vessel complements any decor with a sleek and modern sensibility.The DetailsNet Weight: 26 oz. (761 g)Approximate Burn Time: 120-140 hoursCandle Dimensions: 5\" DIA x 4.8\" HFragrance Family: WoodyTop Notes: Cinnamon Leaf, Black PepperMiddle Notes: Iris, Violet, Guaiac WoodBottom Notes: Sandalwood, Cedarwood, Vanilla, AmberMade in the USAFor more information about our products, visitIngredients.Default Title−+Add to CartCedarwood Ginger 3-Wick Candle\\n        -is backordered and will ship as soon as it is back in stock.More detailsBlog postsView allOctober 30, 2023\"The Best Time To Do Something Is Now\" An Interview with Leah KirschRead moreOctober 16, 2023Interview with Mek Frinchaboy :  Multifaceted artist and fellow Red Hook friendRead moreJune 21, 2023Behind the Fragrance - Wild Mint and IvyRead moreJune 09, 2023Our Favorites: Team APOTHEKE\\'s Scents For SummerRead moreMay 10, 2023With Love, from Brooklyn - Sharing APOTHEKE\\'s StoryRead moreApril 24, 2023Sadie Beaudet, Founder of Tradlands Shares Her Insights on Motherhood, Wellness, and Running a Business. Plus – the Perfect Portland, Maine ItineraryRead moreApril 03, 2023Two “Knew” York Girls - The Women Behind Our APOTHEKE x Girl Knew York CollaborationRead more\"The Best Time To Do Something Is Now\" An Interview with Leah KirschInterview with Mek Frinchaboy :  Multifaceted artist and fellow Red Hook friendBehind the Fragrance - Wild Mint and IvyOur Favorites: Team APOTHEKE\\'s Scents For SummerWith Love, from Brooklyn - Sharing APOTHEKE\\'s StorySadie Beaudet, Founder of Tradlands Shares Her Insights on Motherhood, Wellness, and Running a Business. Plus – the Perfect Portland, Maine ItineraryTwo “Knew” York Girls - The Women Behind Our APOTHEKE x Girl Knew York CollaborationFollow UsYoutubeInstagramPinterestTwitterQuick LinksStore LocatorShipping & ReturnsAPOTHEKE RewardsBecome an AmbassadorBlogFAQPrivacyTerms & ConditionsMSRP/MAP PolicyApply for WholesaleContact UsSign up to receive exclusive discounts, stay up to date with the latest releases, and learn a little bit about... us!Right arrow longCurrencyUnited States (USD\\xa0$)Australia(USD\\xa0$)Austria(USD\\xa0$)Belgium(USD\\xa0$)Bulgaria(USD\\xa0$)Canada(USD\\xa0$)Czechia(USD\\xa0$)Denmark(USD\\xa0$)Estonia(USD\\xa0$)Finland(USD\\xa0$)France(USD\\xa0$)Germany(USD\\xa0$)Hong Kong SAR(USD\\xa0$)Hungary(USD\\xa0$)India(USD\\xa0$)Ireland(USD\\xa0$)Israel(USD\\xa0$)Italy(USD\\xa0$)Japan(USD\\xa0$)Latvia(USD\\xa0$)Lithuania(USD\\xa0$)Luxembourg(USD\\xa0$)Malaysia(USD\\xa0$)Mexico(USD\\xa0$)Monaco(USD\\xa0$)Netherlands(USD\\xa0$)New Zealand(USD\\xa0$)Poland(USD\\xa0$)Portugal(USD\\xa0$)Romania(USD\\xa0$)Saudi Arabia(USD\\xa0$)Singapore(USD\\xa0$)Slovakia(USD\\xa0$)Slovenia(USD\\xa0$)South Korea(USD\\xa0$)Spain(USD\\xa0$)Sweden(USD\\xa0$)Switzerland(USD\\xa0$)Taiwan(USD\\xa0$)Thailand(USD\\xa0$)Türkiye(USD\\xa0$)United Arab Emirates(USD\\xa0$)United Kingdom(USD\\xa0$)United States(USD\\xa0$)© 2024APOTHEKE.Powered by Shopify×Right arrow long\\n ***Title: Cedarwood Ginger 3-Wick Candle\\nDescription: Our signature 11oz frosted glass candle fills your room with warm amber wood, sweet lily of the valley, and night-blooming jasmine. Deepened by the tang of peppercorn, woody vetiver, and patchouli Amber Woods is a robust and enticing scent.\\nPrice: 78.00 USD\\nImage URL: http:products/AP03-CG_CedarwoodGinger_26oz_3WickCandle.jpg \\nURL: https://apothekeco.com/products/cedarwood-ginger-3-wick-candle \\nAvailability: in stock\\nSite Name: APOTHEKE \\ntype: product \\nImages : ,http://apothekeco.com/cdn/shop/products/AP03-CG_CedarwoodGinger_26oz_3WickCandle_1000x1000.jpg?v=1705426645\\n ***'"
            ],
            "application/vnd.google.colaboratory.intrinsic+json": {
              "type": "string"
            }
          },
          "metadata": {},
          "execution_count": 12
        }
      ]
    },
    {
      "cell_type": "markdown",
      "source": [
        "## Document Splitting"
      ],
      "metadata": {
        "id": "C2G9HcWW28W8"
      }
    },
    {
      "cell_type": "code",
      "source": [
        "from langchain.text_splitter import RecursiveCharacterTextSplitter\n",
        "text_splitter = RecursiveCharacterTextSplitter(chunk_size = 500,chunk_overlap = 150)\n"
      ],
      "metadata": {
        "id": "_ie-Lhja3dTz"
      },
      "execution_count": 13,
      "outputs": []
    },
    {
      "cell_type": "code",
      "source": [
        "splits = text_splitter.split_text(google_scraper(column))\n",
        "len(splits)"
      ],
      "metadata": {
        "colab": {
          "base_uri": "https://localhost:8080/"
        },
        "id": "GDH6RzqL3gnR",
        "outputId": "75e26261-8bf9-4942-9a44-f1599e1c79dd"
      },
      "execution_count": 14,
      "outputs": [
        {
          "output_type": "execute_result",
          "data": {
            "text/plain": [
              "209"
            ]
          },
          "metadata": {},
          "execution_count": 14
        }
      ]
    },
    {
      "cell_type": "code",
      "source": [
        "splits\n"
      ],
      "metadata": {
        "colab": {
          "base_uri": "https://localhost:8080/"
        },
        "id": "5EuJwQkrvRe2",
        "outputId": "7ba20d16-d78f-435e-f233-4da5511d9141"
      },
      "execution_count": 15,
      "outputs": [
        {
          "output_type": "execute_result",
          "data": {
            "text/plain": [
              "['Google×Please clickhereif you are not redirected within a few seconds.AllImagesShoppingNewsMapsVideosBooksSearch toolsAny timeAny timePast hourPast 24 hoursPast weekPast monthPast yearAll resultsAll resultsVerbatim3-Wick Candles | APOTHEKEapothekeco.com › collections › 3-wick-candlesMade with a premium soy wax blend and essential and perfume-grade fragrance oils, our luxury scented 3-wick candles are designed to provide a clean-burning\\xa0...Charcoal 3-Wick Candle - Apothekeapothekeco.com ›',\n",
              " 'fragrance oils, our luxury scented 3-wick candles are designed to provide a clean-burning\\xa0...Charcoal 3-Wick Candle - Apothekeapothekeco.com › products › charcoal-3-wick-candleRating4.4(125)·$78.00·In stockThis 3-Wick Scented Candle is made with a premium soy wax blend and essential and perfume-grade fragrance oils in a chic matte-black glass vessel. The FragranceCanvas 3-Wick Candle - Apothekeapothekeco.com › products › canvas-3-wick-candleRating5.0(8)·$78.00·In stockThis 3-Wick Scented Candle',\n",
              " 'The FragranceCanvas 3-Wick Candle - Apothekeapothekeco.com › products › canvas-3-wick-candleRating5.0(8)·$78.00·In stockThis 3-Wick Scented Candle is made with a premium soy wax blend and essential and perfume-grade fragrance oils in a luxe white-translucent glass vessel. The\\xa0...APOTHEKE Market Collection Luxury Scented 3-Wick Jar Candle ...www.amazon.com › APOTHEKE-Market-Collection-Luxury-ScentedRating4.2(147)·$72.95Buy APOTHEKE Market Collection Luxury Scented 3-Wick Jar Candle, Meyer Lemon',\n",
              " '› APOTHEKE-Market-Collection-Luxury-ScentedRating4.2(147)·$72.95Buy APOTHEKE Market Collection Luxury Scented 3-Wick Jar Candle, Meyer Lemon & Mint, 32 oz - Lemon, Spearmint, Jasmine & Eucalyptus Scent, Strong Fragrance,\\xa0...Shop All Candles | APOTHEKEapothekeco.com › collections › candles-votives-and-3-wicksCandles & Diffusers · Candles · Best Selling Fragrance · Classic Candles · 2-Wick Ceramic Candles · 3-Wick Candles · Fragrance Bundles · Discovery Sets · Mini\\xa0...Saffron Vanilla 3-Wick',\n",
              " 'Selling Fragrance · Classic Candles · 2-Wick Ceramic Candles · 3-Wick Candles · Fragrance Bundles · Discovery Sets · Mini\\xa0...Saffron Vanilla 3-Wick Candle – APOTHEKEapothekeco.com › products › saffron-vanilla-3-wick-candleRating4.8(6)·$78.00·In stockCreate your paradise with the comforting and complex scent of Saffron Vanilla from the Eden Collection. This 3-Wick Scented Candle is made with a premium\\xa0...People also askWhy are 3 wick candles so expensive?Where is Apotheke made?How long do',\n",
              " 'This 3-Wick Scented Candle is made with a premium\\xa0...People also askWhy are 3 wick candles so expensive?Where is Apotheke made?How long do Apotheke candles last?What is special about 3 wick candles?Orange Blossom Neroli 3-Wick Candle - Apothekeapothekeco.com › products › orange-blossom-neroli-3-wick-candleRating4.6(10)·$78.00·In stockThis 3-Wick Scented Candle is made with a premium soy wax blend and essential and perfume-grade fragrance oils in a glossy blue-translucent glass vessel.',\n",
              " '3-Wick Scented Candle is made with a premium soy wax blend and essential and perfume-grade fragrance oils in a glossy blue-translucent glass vessel. The\\xa0...Apotheke 3-Wick Candles Collection - Amazon.comwww.amazon.com › Scented-Candles-Home-Soy-Wax-Jar-CandleRating4.2(147)·$78.00·In stockOur candles are hand poured and made with a proprietary blend of essential and perfume-grade oils for a long-lasting fragrance. Each 26 oz candle burns for\\xa0...APOTHEKE 3-Wick Candle - Goodywww.ongoody.com ›',\n",
              " 'of essential and perfume-grade oils for a long-lasting fragrance. Each 26 oz candle burns for\\xa0...APOTHEKE 3-Wick Candle - Goodywww.ongoody.com › apotheke › 3-wick-candle-recipient-s-choice-1$78.00Hand-poured with perfume-grade fragrance oils and a high quality soy wax blend. This scent is formulated with a unique wick, wax, and fragrance combination\\xa0...Apotheke - Tonka Oak 3 Wick Candlewww.candledelirium.com › apotheke-tonka-oak-3-wick-candle$78.00Apotheke Canvas Candle is where crisp linen,',\n",
              " '- Tonka Oak 3 Wick Candlewww.candledelirium.com › apotheke-tonka-oak-3-wick-candle$78.00Apotheke Canvas Candle is where crisp linen, white musk, and sweet lily of the valley mingle with a dew drop accord for a clean, refreshing scent.&l.Related searchesApotheke 3 wick candles collection saleApotheke 3 wick candles collection reviewapotheke charcoal 3-wick candlecheapest 3-wick candles bath and body worksAPOTHEKE 4 Wick CandleApotheke Candle SetApotheke candles3 wick candles not in a JarNext',\n",
              " '3-wick candlecheapest 3-wick candles bath and body worksAPOTHEKE 4 Wick CandleApotheke Candle SetApotheke candles3 wick candles not in a JarNext >United StatesFrom your IP address-Learn moreSign inSettingsPrivacyTermsDark theme: OffSkip to contentEnjoy complementary shipping on orders $100+ *Exclusions applyMenuCandles & DiffusersCandlesBest Selling FragranceClassic Candles2-Wick Ceramic Candles3-Wick CandlesFragrance BundlesDiscovery SetsMini CandlesTaper CandlesCandle AccessoriesDiffusersReed',\n",
              " 'FragranceClassic Candles2-Wick Ceramic Candles3-Wick CandlesFragrance BundlesDiscovery SetsMini CandlesTaper CandlesCandle AccessoriesDiffusersReed DiffusersRoom SpraysPura Smart Home DiffuserFragrance CardsSubscriptionsClassic Mystery Box SubscriptionPremium Mystery Box SubscriptionReed Diffuser RefillsFeaturedGift CardsAPOTHEKE x League Creative Co.APOTHEKE x MASTAPOTHEKE x SanctuaryBody CareBar SoapLiquid SoapLotionBody Care BundlesLiquid Soap RefillsFragrancesThe Signature CollectionApricot',\n",
              " 'Co.APOTHEKE x MASTAPOTHEKE x SanctuaryBody CareBar SoapLiquid SoapLotionBody Care BundlesLiquid Soap RefillsFragrancesThe Signature CollectionApricot Red CurrantCanvasEarl Grey BittersHinoki LavenderSantal Rock RoseSea Salt GrapefruitTonka OakWild Mint and IvyWhite VetiverThe Charcoal Fragrance CollectionCharcoalCharcoal RougeThe Eden CollectionBlack Iris OakCedarwood GingerOrange Blossom NeroliSaffron VanillaFragrance FamiliesAromaticCitrusFloralFruityGourmandGreenWoodyAboutBlogCandle Buying',\n",
              " 'Iris OakCedarwood GingerOrange Blossom NeroliSaffron VanillaFragrance FamiliesAromaticCitrusFloralFruityGourmandGreenWoodyAboutBlogCandle Buying GuideOur StoryVisit UsFind Your FragranceRewardsAccountSearchSearchBasket0CartClose navigationCandles & DiffusersCandlesBest Selling FragranceClassic Candles2-Wick Ceramic Candles3-Wick CandlesFragrance BundlesDiscovery SetsMini CandlesTaper CandlesCandle AccessoriesDiffusersReed DiffusersRoom SpraysPura Smart Home DiffuserFragrance',\n",
              " 'CandlesFragrance BundlesDiscovery SetsMini CandlesTaper CandlesCandle AccessoriesDiffusersReed DiffusersRoom SpraysPura Smart Home DiffuserFragrance CardsSubscriptionsClassic Mystery Box SubscriptionPremium Mystery Box SubscriptionReed Diffuser RefillsFeaturedGift CardsAPOTHEKE x League Creative Co.APOTHEKE x MASTAPOTHEKE x SanctuaryBody CareBar SoapLiquid SoapLotionBody Care BundlesLiquid Soap RefillsFragrancesThe Signature CollectionApricot Red CurrantCanvasEarl Grey BittersHinoki',\n",
              " 'CareBar SoapLiquid SoapLotionBody Care BundlesLiquid Soap RefillsFragrancesThe Signature CollectionApricot Red CurrantCanvasEarl Grey BittersHinoki LavenderSantal Rock RoseSea Salt GrapefruitTonka OakWild Mint and IvyWhite VetiverThe Charcoal Fragrance CollectionCharcoalCharcoal RougeThe Eden CollectionBlack Iris OakCedarwood GingerOrange Blossom NeroliSaffron VanillaFragrance FamiliesAromaticCitrusFloralFruityGourmandGreenWoodyAboutBlogCandle Buying GuideOur StoryVisit UsFind Your',\n",
              " 'Blossom NeroliSaffron VanillaFragrance FamiliesAromaticCitrusFloralFruityGourmandGreenWoodyAboutBlogCandle Buying GuideOur StoryVisit UsFind Your FragranceRewardsAccountShow filtersPrice$$Product type3-Wick CandlesFragrance FamilyAromaticCitrusFloralFruityGourmandGreenWoodySort byBest sellingAlphabetically, A-ZAlphabetically, Z-APrice, low to highPrice, high to lowDate, old to newDate, new to oldSubmitQuick ViewCharcoal 3-Wick Candle$78.00Quick ViewCharcoal Rouge 3-Wick Candle$78.00Quick',\n",
              " 'highPrice, high to lowDate, old to newDate, new to oldSubmitQuick ViewCharcoal 3-Wick Candle$78.00Quick ViewCharcoal Rouge 3-Wick Candle$78.00Quick ViewWhite Vetiver 3-Wick Candle$78.00Quick ViewSea Salt Grapefruit 3-Wick Candle$78.00Quick ViewHinoki Lavender 3-Wick Candle$78.00Quick ViewCanvas 3-Wick Candle$78.00Quick ViewSantal Rock Rose 3-Wick Candle$78.00Quick ViewEarl Grey Bitters 3-Wick Candle$78.00Quick ViewOrange Blossom Neroli 3-Wick Candle$78.00Quick ViewBlack Iris Oak 3-Wick',\n",
              " '3-Wick Candle$78.00Quick ViewEarl Grey Bitters 3-Wick Candle$78.00Quick ViewOrange Blossom Neroli 3-Wick Candle$78.00Quick ViewBlack Iris Oak 3-Wick Candle$78.00Quick ViewCedarwood Ginger 3-Wick Candle$78.00Quick ViewSaffron Vanilla 3-Wick Candle$78.00Quick ViewTonka Oak 3-Wick Candle$78.00Quick ViewWild Mint and Ivy 3-Wick Candle$78.00Quick ViewApricot Red Currant 3-Wick Candle$78.00Follow UsYoutubeInstagramPinterestTwitterQuick LinksStore LocatorShipping & ReturnsAPOTHEKE RewardsBecome an',\n",
              " 'Red Currant 3-Wick Candle$78.00Follow UsYoutubeInstagramPinterestTwitterQuick LinksStore LocatorShipping & ReturnsAPOTHEKE RewardsBecome an AmbassadorBlogFAQPrivacyTerms & ConditionsMSRP/MAP PolicyApply for WholesaleContact UsSign up to receive exclusive discounts, stay up to date with the latest releases, and learn a little bit about... us!Right arrow longCurrencyUnited States',\n",
              " 'up to receive exclusive discounts, stay up to date with the latest releases, and learn a little bit about... us!Right arrow longCurrencyUnited States (USD\\xa0$)Australia(USD\\xa0$)Austria(USD\\xa0$)Belgium(USD\\xa0$)Bulgaria(USD\\xa0$)Canada(USD\\xa0$)Czechia(USD\\xa0$)Denmark(USD\\xa0$)Estonia(USD\\xa0$)Finland(USD\\xa0$)France(USD\\xa0$)Germany(USD\\xa0$)Hong Kong',\n",
              " 'Kong SAR(USD\\xa0$)Hungary(USD\\xa0$)India(USD\\xa0$)Ireland(USD\\xa0$)Israel(USD\\xa0$)Italy(USD\\xa0$)Japan(USD\\xa0$)Latvia(USD\\xa0$)Lithuania(USD\\xa0$)Luxembourg(USD\\xa0$)Malaysia(USD\\xa0$)Mexico(USD\\xa0$)Monaco(USD\\xa0$)Netherlands(USD\\xa0$)New Zealand(USD\\xa0$)Poland(USD\\xa0$)Portugal(USD\\xa0$)Romania(USD\\xa0$)Saudi Arabia(USD\\xa0$)Singapore(USD\\xa0$)Slovakia(USD\\xa0$)Slovenia(USD\\xa0$)South Korea(USD\\xa0$)Spain(USD\\xa0$)Sweden(USD\\xa0$)Switzerland(USD\\xa0$)Taiwan(USD\\xa0$)Thailand(USD\\xa0$)Türkiye(USD\\xa0$)United Arab Emirates(USD\\xa0$)United Kingdom(USD\\xa0$)United States(USD\\xa0$)©',\n",
              " 'Arab Emirates(USD\\xa0$)United Kingdom(USD\\xa0$)United States(USD\\xa0$)© 2024APOTHEKE.Powered by Shopify×Right arrow long',\n",
              " '***Title: 3-Wick Candles | APOTHEKE\\nDescription: Made with a premium soy wax blend and essential and perfume-grade fragrance oils, our luxury scented 3-wick candles are designed to provide a clean-burning and exceptional scent experience.\\nImage URL: http:collections/3-wick-candles-681433.jpg \\nURL: https://apothekeco.com/collections/3-wick-candles \\nAvailability: Unknown\\nSite Name: APOTHEKE \\ntype: product.group',\n",
              " 'URL: https://apothekeco.com/collections/3-wick-candles \\nAvailability: Unknown\\nSite Name: APOTHEKE \\ntype: product.group \\nImages : ,http://apothekeco.com/cdn/shop/collections/3-wick-candles-681433.jpg?v=1661870647&width=1950',\n",
              " '***Skip to contentEnjoy complementary shipping on orders $100+ *Exclusions applyMenuCandles & DiffusersCandlesBest Selling FragranceClassic Candles2-Wick Ceramic Candles3-Wick CandlesFragrance BundlesDiscovery SetsMini CandlesTaper CandlesCandle AccessoriesDiffusersReed DiffusersRoom SpraysPura Smart Home DiffuserFragrance CardsSubscriptionsClassic Mystery Box SubscriptionPremium Mystery Box SubscriptionReed Diffuser RefillsFeaturedGift CardsAPOTHEKE x League Creative Co.APOTHEKE x',\n",
              " 'Mystery Box SubscriptionPremium Mystery Box SubscriptionReed Diffuser RefillsFeaturedGift CardsAPOTHEKE x League Creative Co.APOTHEKE x MASTAPOTHEKE x SanctuaryBody CareBar SoapLiquid SoapLotionBody Care BundlesLiquid Soap RefillsFragrancesThe Signature CollectionApricot Red CurrantCanvasEarl Grey BittersHinoki LavenderSantal Rock RoseSea Salt GrapefruitTonka OakWild Mint and IvyWhite VetiverThe Charcoal Fragrance CollectionCharcoalCharcoal RougeThe Eden CollectionBlack Iris OakCedarwood',\n",
              " 'GrapefruitTonka OakWild Mint and IvyWhite VetiverThe Charcoal Fragrance CollectionCharcoalCharcoal RougeThe Eden CollectionBlack Iris OakCedarwood GingerOrange Blossom NeroliSaffron VanillaFragrance FamiliesAromaticCitrusFloralFruityGourmandGreenWoodyAboutBlogCandle Buying GuideOur StoryVisit UsFind Your FragranceRewardsAccountSearchSearchBasket0CartClose navigationCandles & DiffusersCandlesBest Selling FragranceClassic Candles2-Wick Ceramic Candles3-Wick CandlesFragrance BundlesDiscovery',\n",
              " 'navigationCandles & DiffusersCandlesBest Selling FragranceClassic Candles2-Wick Ceramic Candles3-Wick CandlesFragrance BundlesDiscovery SetsMini CandlesTaper CandlesCandle AccessoriesDiffusersReed DiffusersRoom SpraysPura Smart Home DiffuserFragrance CardsSubscriptionsClassic Mystery Box SubscriptionPremium Mystery Box SubscriptionReed Diffuser RefillsFeaturedGift CardsAPOTHEKE x League Creative Co.APOTHEKE x MASTAPOTHEKE x SanctuaryBody CareBar SoapLiquid SoapLotionBody Care BundlesLiquid Soap',\n",
              " 'CardsAPOTHEKE x League Creative Co.APOTHEKE x MASTAPOTHEKE x SanctuaryBody CareBar SoapLiquid SoapLotionBody Care BundlesLiquid Soap RefillsFragrancesThe Signature CollectionApricot Red CurrantCanvasEarl Grey BittersHinoki LavenderSantal Rock RoseSea Salt GrapefruitTonka OakWild Mint and IvyWhite VetiverThe Charcoal Fragrance CollectionCharcoalCharcoal RougeThe Eden CollectionBlack Iris OakCedarwood GingerOrange Blossom NeroliSaffron VanillaFragrance',\n",
              " 'Charcoal Fragrance CollectionCharcoalCharcoal RougeThe Eden CollectionBlack Iris OakCedarwood GingerOrange Blossom NeroliSaffron VanillaFragrance FamiliesAromaticCitrusFloralFruityGourmandGreenWoodyAboutBlogCandle Buying GuideOur StoryVisit UsFind Your FragranceRewardsAccountCharcoal 3-Wick Candle$78.00Experience the rich and addictive aroma of our broody bestselling fragrance, Charcoal. This 3-Wick Scented Candle is made with a premium soy wax blend and essential and perfume-grade fragrance',\n",
              " 'our broody bestselling fragrance, Charcoal. This 3-Wick Scented Candle is made with a premium soy wax blend and essential and perfume-grade fragrance oils in a chic matte-black glass vessel.The FragranceCharcoal combines cedarwood and sandalwood with smoky embers, burnt maple, and a hint of raspberry for a broody and full-bodied fragrance.The ProductMade with a premium soy wax blend and essential and perfume-grade fragrance oils, this luxury scented candle is designed to provide a clean-burning',\n",
              " 'with a premium soy wax blend and essential and perfume-grade fragrance oils, this luxury scented candle is designed to provide a clean-burning and exceptional scent experience. All Charcoal Scented Candles feature black wax.The VesselThe black glass vessel with its luxurious matte finish offers a modern and timeless look fit for any decor.The DetailsNet Weight: 26 oz. (761 g)Approximate Burn Time: 120-140 hoursCandle Dimensions: 5\" DIA x 4.8\" HFragrance Family: WoodyTop Notes: Burnt Maple,',\n",
              " 'DetailsNet Weight: 26 oz. (761 g)Approximate Burn Time: 120-140 hoursCandle Dimensions: 5\" DIA x 4.8\" HFragrance Family: WoodyTop Notes: Burnt Maple, Raspberry, Un-ripened Tomato SkinMiddle Notes: Green Clove Leaf, Faint CinnamonBottom Notes: Smoky Embers, Cedarwood, Guaiac WoodMade in the USAFor more information about our products, visitIngredients.Default Title−+Add to CartCharcoal 3-Wick Candle',\n",
              " '-is backordered and will ship as soon as it is back in stock.More detailsBlog postsView allOctober 30, 2023\"The Best Time To Do Something Is Now\" An Interview with Leah KirschRead moreOctober 16, 2023Interview with Mek Frinchaboy :  Multifaceted artist and fellow Red Hook friendRead moreJune 21, 2023Behind the Fragrance - Wild Mint and IvyRead moreJune 09, 2023Our Favorites: Team APOTHEKE\\'s Scents For SummerRead moreMay 10, 2023With Love, from Brooklyn - Sharing APOTHEKE\\'s StoryRead',\n",
              " 'IvyRead moreJune 09, 2023Our Favorites: Team APOTHEKE\\'s Scents For SummerRead moreMay 10, 2023With Love, from Brooklyn - Sharing APOTHEKE\\'s StoryRead moreApril 24, 2023Sadie Beaudet, Founder of Tradlands Shares Her Insights on Motherhood, Wellness, and Running a Business. Plus – the Perfect Portland, Maine ItineraryRead moreApril 03, 2023Two “Knew” York Girls - The Women Behind Our APOTHEKE x Girl Knew York CollaborationRead more\"The Best Time To Do Something Is Now\" An Interview with Leah',\n",
              " 'York Girls - The Women Behind Our APOTHEKE x Girl Knew York CollaborationRead more\"The Best Time To Do Something Is Now\" An Interview with Leah KirschInterview with Mek Frinchaboy :  Multifaceted artist and fellow Red Hook friendBehind the Fragrance - Wild Mint and IvyOur Favorites: Team APOTHEKE\\'s Scents For SummerWith Love, from Brooklyn - Sharing APOTHEKE\\'s StorySadie Beaudet, Founder of Tradlands Shares Her Insights on Motherhood, Wellness, and Running a Business. Plus – the Perfect',\n",
              " \"- Sharing APOTHEKE's StorySadie Beaudet, Founder of Tradlands Shares Her Insights on Motherhood, Wellness, and Running a Business. Plus – the Perfect Portland, Maine ItineraryTwo “Knew” York Girls - The Women Behind Our APOTHEKE x Girl Knew York CollaborationFollow UsYoutubeInstagramPinterestTwitterQuick LinksStore LocatorShipping & ReturnsAPOTHEKE RewardsBecome an AmbassadorBlogFAQPrivacyTerms & ConditionsMSRP/MAP PolicyApply for WholesaleContact UsSign up to receive exclusive discounts, stay\",\n",
              " 'RewardsBecome an AmbassadorBlogFAQPrivacyTerms & ConditionsMSRP/MAP PolicyApply for WholesaleContact UsSign up to receive exclusive discounts, stay up to date with the latest releases, and learn a little bit about... us!Right arrow longCurrencyUnited States (USD\\xa0$)Australia(USD\\xa0$)Austria(USD\\xa0$)Belgium(USD\\xa0$)Bulgaria(USD\\xa0$)Canada(USD\\xa0$)Czechia(USD\\xa0$)Denmark(USD\\xa0$)Estonia(USD\\xa0$)Finland(USD\\xa0$)France(USD\\xa0$)Germany(USD\\xa0$)Hong Kong',\n",
              " 'Kong SAR(USD\\xa0$)Hungary(USD\\xa0$)India(USD\\xa0$)Ireland(USD\\xa0$)Israel(USD\\xa0$)Italy(USD\\xa0$)Japan(USD\\xa0$)Latvia(USD\\xa0$)Lithuania(USD\\xa0$)Luxembourg(USD\\xa0$)Malaysia(USD\\xa0$)Mexico(USD\\xa0$)Monaco(USD\\xa0$)Netherlands(USD\\xa0$)New Zealand(USD\\xa0$)Poland(USD\\xa0$)Portugal(USD\\xa0$)Romania(USD\\xa0$)Saudi Arabia(USD\\xa0$)Singapore(USD\\xa0$)Slovakia(USD\\xa0$)Slovenia(USD\\xa0$)South Korea(USD\\xa0$)Spain(USD\\xa0$)Sweden(USD\\xa0$)Switzerland(USD\\xa0$)Taiwan(USD\\xa0$)Thailand(USD\\xa0$)Türkiye(USD\\xa0$)United Arab Emirates(USD\\xa0$)United Kingdom(USD\\xa0$)United States(USD\\xa0$)©',\n",
              " 'Arab Emirates(USD\\xa0$)United Kingdom(USD\\xa0$)United States(USD\\xa0$)© 2024APOTHEKE.Powered by Shopify×Right arrow long',\n",
              " '***Title: Charcoal 3-Wick Candle\\nDescription: Our number 1 best seller, Charcoal, featured in our signature matte black vessel will elevate any room in your home. Notes of cedarwood and sandalwood blended with smokey amber and oud come together to create a broody full-bodied fragrance.\\nPrice: 78.00 USD\\nImage URL: http:products/AP03-CH_Charcoal_26oz_3WickCandle.jpg \\nURL: https://apothekeco.com/products/charcoal-3-wick-candle \\nAvailability: in stock\\nSite Name: APOTHEKE \\ntype: product',\n",
              " 'URL: https://apothekeco.com/products/charcoal-3-wick-candle \\nAvailability: in stock\\nSite Name: APOTHEKE \\ntype: product \\nImages : ,http://apothekeco.com/cdn/shop/products/AP03-CH_Charcoal_26oz_3WickCandle_1000x1000.jpg?v=1704389442',\n",
              " '***Skip to contentEnjoy complementary shipping on orders $100+ *Exclusions applyMenuCandles & DiffusersCandlesBest Selling FragranceClassic Candles2-Wick Ceramic Candles3-Wick CandlesFragrance BundlesDiscovery SetsMini CandlesTaper CandlesCandle AccessoriesDiffusersReed DiffusersRoom SpraysPura Smart Home DiffuserFragrance CardsSubscriptionsClassic Mystery Box SubscriptionPremium Mystery Box SubscriptionReed Diffuser RefillsFeaturedGift CardsAPOTHEKE x League Creative Co.APOTHEKE x',\n",
              " 'Mystery Box SubscriptionPremium Mystery Box SubscriptionReed Diffuser RefillsFeaturedGift CardsAPOTHEKE x League Creative Co.APOTHEKE x MASTAPOTHEKE x SanctuaryBody CareBar SoapLiquid SoapLotionBody Care BundlesLiquid Soap RefillsFragrancesThe Signature CollectionApricot Red CurrantCanvasEarl Grey BittersHinoki LavenderSantal Rock RoseSea Salt GrapefruitTonka OakWild Mint and IvyWhite VetiverThe Charcoal Fragrance CollectionCharcoalCharcoal RougeThe Eden CollectionBlack Iris OakCedarwood',\n",
              " 'GrapefruitTonka OakWild Mint and IvyWhite VetiverThe Charcoal Fragrance CollectionCharcoalCharcoal RougeThe Eden CollectionBlack Iris OakCedarwood GingerOrange Blossom NeroliSaffron VanillaFragrance FamiliesAromaticCitrusFloralFruityGourmandGreenWoodyAboutBlogCandle Buying GuideOur StoryVisit UsFind Your FragranceRewardsAccountSearchSearchBasket0CartClose navigationCandles & DiffusersCandlesBest Selling FragranceClassic Candles2-Wick Ceramic Candles3-Wick CandlesFragrance BundlesDiscovery',\n",
              " 'navigationCandles & DiffusersCandlesBest Selling FragranceClassic Candles2-Wick Ceramic Candles3-Wick CandlesFragrance BundlesDiscovery SetsMini CandlesTaper CandlesCandle AccessoriesDiffusersReed DiffusersRoom SpraysPura Smart Home DiffuserFragrance CardsSubscriptionsClassic Mystery Box SubscriptionPremium Mystery Box SubscriptionReed Diffuser RefillsFeaturedGift CardsAPOTHEKE x League Creative Co.APOTHEKE x MASTAPOTHEKE x SanctuaryBody CareBar SoapLiquid SoapLotionBody Care BundlesLiquid Soap',\n",
              " 'CardsAPOTHEKE x League Creative Co.APOTHEKE x MASTAPOTHEKE x SanctuaryBody CareBar SoapLiquid SoapLotionBody Care BundlesLiquid Soap RefillsFragrancesThe Signature CollectionApricot Red CurrantCanvasEarl Grey BittersHinoki LavenderSantal Rock RoseSea Salt GrapefruitTonka OakWild Mint and IvyWhite VetiverThe Charcoal Fragrance CollectionCharcoalCharcoal RougeThe Eden CollectionBlack Iris OakCedarwood GingerOrange Blossom NeroliSaffron VanillaFragrance',\n",
              " 'Charcoal Fragrance CollectionCharcoalCharcoal RougeThe Eden CollectionBlack Iris OakCedarwood GingerOrange Blossom NeroliSaffron VanillaFragrance FamiliesAromaticCitrusFloralFruityGourmandGreenWoodyAboutBlogCandle Buying GuideOur StoryVisit UsFind Your FragranceRewardsAccountCanvas 3-Wick Candle$78.00Clear the air with the crisp and refreshing scent of Canvas. This 3-Wick Scented Candle is made with a premium soy wax blend and essential and perfume-grade fragrance oils in a luxe',\n",
              " 'refreshing scent of Canvas. This 3-Wick Scented Candle is made with a premium soy wax blend and essential and perfume-grade fragrance oils in a luxe white-translucent glass vessel.The FragranceCanvas combines crisp linen, white musk, and sweet lily of the valley with a sparkling dewdrop accord for a clean and refreshing fragrance.The ProductMade with a premium soy wax blend and essential and perfume-grade fragrance oils, this luxury scented candle is designed to provide a clean-burning and',\n",
              " 'with a premium soy wax blend and essential and perfume-grade fragrance oils, this luxury scented candle is designed to provide a clean-burning and exceptional scent experience.The VesselThe white translucent glass vessel with its velvety-smooth luxe matte finish enhances any space with a modern and timeless design.The DetailsNet Weight: 26 oz. (761 g)Approximate Burn Time: 120-140 HoursCandle Dimensions: 5\" DIA x 4.8\" HFragrance Family: Floral / Marine-CitrusTop Notes: Fresh-Citrus, Dew Drop',\n",
              " 'g)Approximate Burn Time: 120-140 HoursCandle Dimensions: 5\" DIA x 4.8\" HFragrance Family: Floral / Marine-CitrusTop Notes: Fresh-Citrus, Dew Drop Accord, Peach, GreensMiddle Notes: Lily of the Valley, Watery Nuances, Rose, VioletBottom Notes: Amber, MuskMade in the USAFor more information about our products, visitIngredients.Default Title−+Add to CartCanvas 3-Wick Candle',\n",
              " '-is backordered and will ship as soon as it is back in stock.More detailsBlog postsView allOctober 30, 2023\"The Best Time To Do Something Is Now\" An Interview with Leah KirschRead moreOctober 16, 2023Interview with Mek Frinchaboy :  Multifaceted artist and fellow Red Hook friendRead moreJune 21, 2023Behind the Fragrance - Wild Mint and IvyRead moreJune 09, 2023Our Favorites: Team APOTHEKE\\'s Scents For SummerRead moreMay 10, 2023With Love, from Brooklyn - Sharing APOTHEKE\\'s StoryRead',\n",
              " 'IvyRead moreJune 09, 2023Our Favorites: Team APOTHEKE\\'s Scents For SummerRead moreMay 10, 2023With Love, from Brooklyn - Sharing APOTHEKE\\'s StoryRead moreApril 24, 2023Sadie Beaudet, Founder of Tradlands Shares Her Insights on Motherhood, Wellness, and Running a Business. Plus – the Perfect Portland, Maine ItineraryRead moreApril 03, 2023Two “Knew” York Girls - The Women Behind Our APOTHEKE x Girl Knew York CollaborationRead more\"The Best Time To Do Something Is Now\" An Interview with Leah',\n",
              " 'York Girls - The Women Behind Our APOTHEKE x Girl Knew York CollaborationRead more\"The Best Time To Do Something Is Now\" An Interview with Leah KirschInterview with Mek Frinchaboy :  Multifaceted artist and fellow Red Hook friendBehind the Fragrance - Wild Mint and IvyOur Favorites: Team APOTHEKE\\'s Scents For SummerWith Love, from Brooklyn - Sharing APOTHEKE\\'s StorySadie Beaudet, Founder of Tradlands Shares Her Insights on Motherhood, Wellness, and Running a Business. Plus – the Perfect',\n",
              " \"- Sharing APOTHEKE's StorySadie Beaudet, Founder of Tradlands Shares Her Insights on Motherhood, Wellness, and Running a Business. Plus – the Perfect Portland, Maine ItineraryTwo “Knew” York Girls - The Women Behind Our APOTHEKE x Girl Knew York CollaborationFollow UsYoutubeInstagramPinterestTwitterQuick LinksStore LocatorShipping & ReturnsAPOTHEKE RewardsBecome an AmbassadorBlogFAQPrivacyTerms & ConditionsMSRP/MAP PolicyApply for WholesaleContact UsSign up to receive exclusive discounts, stay\",\n",
              " 'RewardsBecome an AmbassadorBlogFAQPrivacyTerms & ConditionsMSRP/MAP PolicyApply for WholesaleContact UsSign up to receive exclusive discounts, stay up to date with the latest releases, and learn a little bit about... us!Right arrow longCurrencyUnited States (USD\\xa0$)Australia(USD\\xa0$)Austria(USD\\xa0$)Belgium(USD\\xa0$)Bulgaria(USD\\xa0$)Canada(USD\\xa0$)Czechia(USD\\xa0$)Denmark(USD\\xa0$)Estonia(USD\\xa0$)Finland(USD\\xa0$)France(USD\\xa0$)Germany(USD\\xa0$)Hong Kong',\n",
              " 'Kong SAR(USD\\xa0$)Hungary(USD\\xa0$)India(USD\\xa0$)Ireland(USD\\xa0$)Israel(USD\\xa0$)Italy(USD\\xa0$)Japan(USD\\xa0$)Latvia(USD\\xa0$)Lithuania(USD\\xa0$)Luxembourg(USD\\xa0$)Malaysia(USD\\xa0$)Mexico(USD\\xa0$)Monaco(USD\\xa0$)Netherlands(USD\\xa0$)New Zealand(USD\\xa0$)Poland(USD\\xa0$)Portugal(USD\\xa0$)Romania(USD\\xa0$)Saudi Arabia(USD\\xa0$)Singapore(USD\\xa0$)Slovakia(USD\\xa0$)Slovenia(USD\\xa0$)South Korea(USD\\xa0$)Spain(USD\\xa0$)Sweden(USD\\xa0$)Switzerland(USD\\xa0$)Taiwan(USD\\xa0$)Thailand(USD\\xa0$)Türkiye(USD\\xa0$)United Arab Emirates(USD\\xa0$)United Kingdom(USD\\xa0$)United States(USD\\xa0$)©',\n",
              " 'Arab Emirates(USD\\xa0$)United Kingdom(USD\\xa0$)United States(USD\\xa0$)© 2024APOTHEKE.Powered by Shopify×Right arrow long',\n",
              " '***Title: Canvas 3-Wick Candle\\nDescription: Our Canvas 3-Wick Candle fills any room in your home with hours of light, refreshing fragrance. Notes of crisp linen, white musk, and sweet lily of the valley all mingle with dew drops to create an invigorating, fresh scent. Light Canvas every morning to start every day with a fresh start.\\nPrice: 78.00 USD\\nImage URL: http:products/AP03-CA_Canvas_26oz_3WickCandle.jpg \\nURL: https://apothekeco.com/products/canvas-3-wick-candle \\nAvailability: in stock',\n",
              " 'Image URL: http:products/AP03-CA_Canvas_26oz_3WickCandle.jpg \\nURL: https://apothekeco.com/products/canvas-3-wick-candle \\nAvailability: in stock\\nSite Name: APOTHEKE \\ntype: product \\nImages : ,http://apothekeco.com/cdn/shop/products/AP03-CA_Canvas_26oz_3WickCandle_1000x1000.jpg?v=1704389420\\n ***type: text \\nImages :',\n",
              " '***Skip to contentEnjoy complementary shipping on orders $100+ *Exclusions applyMenuCandles & DiffusersCandlesBest Selling FragranceClassic Candles2-Wick Ceramic Candles3-Wick CandlesFragrance BundlesDiscovery SetsMini CandlesTaper CandlesCandle AccessoriesDiffusersReed DiffusersRoom SpraysPura Smart Home DiffuserFragrance CardsSubscriptionsClassic Mystery Box SubscriptionPremium Mystery Box SubscriptionReed Diffuser RefillsFeaturedGift CardsAPOTHEKE x League Creative Co.APOTHEKE x',\n",
              " 'Mystery Box SubscriptionPremium Mystery Box SubscriptionReed Diffuser RefillsFeaturedGift CardsAPOTHEKE x League Creative Co.APOTHEKE x MASTAPOTHEKE x SanctuaryBody CareBar SoapLiquid SoapLotionBody Care BundlesLiquid Soap RefillsFragrancesThe Signature CollectionApricot Red CurrantCanvasEarl Grey BittersHinoki LavenderSantal Rock RoseSea Salt GrapefruitTonka OakWild Mint and IvyWhite VetiverThe Charcoal Fragrance CollectionCharcoalCharcoal RougeThe Eden CollectionBlack Iris OakCedarwood',\n",
              " 'GrapefruitTonka OakWild Mint and IvyWhite VetiverThe Charcoal Fragrance CollectionCharcoalCharcoal RougeThe Eden CollectionBlack Iris OakCedarwood GingerOrange Blossom NeroliSaffron VanillaFragrance FamiliesAromaticCitrusFloralFruityGourmandGreenWoodyAboutBlogCandle Buying GuideOur StoryVisit UsFind Your FragranceRewardsAccountSearchSearchBasket0CartClose navigationCandles & DiffusersCandlesBest Selling FragranceClassic Candles2-Wick Ceramic Candles3-Wick CandlesFragrance BundlesDiscovery',\n",
              " 'navigationCandles & DiffusersCandlesBest Selling FragranceClassic Candles2-Wick Ceramic Candles3-Wick CandlesFragrance BundlesDiscovery SetsMini CandlesTaper CandlesCandle AccessoriesDiffusersReed DiffusersRoom SpraysPura Smart Home DiffuserFragrance CardsSubscriptionsClassic Mystery Box SubscriptionPremium Mystery Box SubscriptionReed Diffuser RefillsFeaturedGift CardsAPOTHEKE x League Creative Co.APOTHEKE x MASTAPOTHEKE x SanctuaryBody CareBar SoapLiquid SoapLotionBody Care BundlesLiquid Soap',\n",
              " 'CardsAPOTHEKE x League Creative Co.APOTHEKE x MASTAPOTHEKE x SanctuaryBody CareBar SoapLiquid SoapLotionBody Care BundlesLiquid Soap RefillsFragrancesThe Signature CollectionApricot Red CurrantCanvasEarl Grey BittersHinoki LavenderSantal Rock RoseSea Salt GrapefruitTonka OakWild Mint and IvyWhite VetiverThe Charcoal Fragrance CollectionCharcoalCharcoal RougeThe Eden CollectionBlack Iris OakCedarwood GingerOrange Blossom NeroliSaffron VanillaFragrance',\n",
              " 'Charcoal Fragrance CollectionCharcoalCharcoal RougeThe Eden CollectionBlack Iris OakCedarwood GingerOrange Blossom NeroliSaffron VanillaFragrance FamiliesAromaticCitrusFloralFruityGourmandGreenWoodyAboutBlogCandle Buying GuideOur StoryVisit UsFind Your FragranceRewardsAccountShow filtersPrice$$Product type2-Wick Candles3-Wick CandlesAPOTHEKE x MastAPOTHEKE x SanctuaryClassic CandlesFragrance CardsMini Tin CandlesVotivesFragrance FamilyAromaticCitrusFloralFruityGourmandGreenWoodySort byBest',\n",
              " 'MastAPOTHEKE x SanctuaryClassic CandlesFragrance CardsMini Tin CandlesVotivesFragrance FamilyAromaticCitrusFloralFruityGourmandGreenWoodySort byBest sellingAlphabetically, A-ZAlphabetically, Z-APrice, low to highPrice, high to lowDate, old to newDate, new to oldSubmitQuick ViewCharcoal Rouge Classic Candle$44.00Quick ViewCharcoal Classic Candle$44.00Quick ViewWhite Vetiver Classic Candle$44.00Quick ViewSea Salt Grapefruit Classic Candle$44.00Quick ViewCanvas Classic Candle$44.00Quick ViewEarl',\n",
              " 'ViewWhite Vetiver Classic Candle$44.00Quick ViewSea Salt Grapefruit Classic Candle$44.00Quick ViewCanvas Classic Candle$44.00Quick ViewEarl Grey Bitters Classic Candle$44.00Quick ViewApricot Red Currant Classic Candle$44.00Quick ViewWild Mint and Ivy Classic Candle$44.00Quick ViewTonka Oak Classic Candle$44.00Quick ViewSantal Rock Rose Classic Candle$44.00Quick ViewHinoki Lavender Classic Candle$44.00Quick ViewOrange Blossom Neroli Classic Candle$44.00Quick ViewCedarwood Ginger Classic',\n",
              " 'Candle$44.00Quick ViewHinoki Lavender Classic Candle$44.00Quick ViewOrange Blossom Neroli Classic Candle$44.00Quick ViewCedarwood Ginger Classic Candle$44.00Quick ViewBlack Iris Oak Classic Candle$44.00Quick ViewSaffron Vanilla Classic Candle$44.00Quick ViewCharcoal 2-Wick Ceramic Candle$62.00Quick ViewSea Salt Grapefruit 2-Wick Ceramic Candle$62.00Quick ViewWhite Vetiver 2-Wick Ceramic Candle$62.00123Next »Follow UsYoutubeInstagramPinterestTwitterQuick LinksStore LocatorShipping &',\n",
              " 'Candle$62.00Quick ViewWhite Vetiver 2-Wick Ceramic Candle$62.00123Next »Follow UsYoutubeInstagramPinterestTwitterQuick LinksStore LocatorShipping & ReturnsAPOTHEKE RewardsBecome an AmbassadorBlogFAQPrivacyTerms & ConditionsMSRP/MAP PolicyApply for WholesaleContact UsSign up to receive exclusive discounts, stay up to date with the latest releases, and learn a little bit about... us!Right arrow longCurrencyUnited States',\n",
              " 'up to receive exclusive discounts, stay up to date with the latest releases, and learn a little bit about... us!Right arrow longCurrencyUnited States (USD\\xa0$)Australia(USD\\xa0$)Austria(USD\\xa0$)Belgium(USD\\xa0$)Bulgaria(USD\\xa0$)Canada(USD\\xa0$)Czechia(USD\\xa0$)Denmark(USD\\xa0$)Estonia(USD\\xa0$)Finland(USD\\xa0$)France(USD\\xa0$)Germany(USD\\xa0$)Hong Kong',\n",
              " 'Kong SAR(USD\\xa0$)Hungary(USD\\xa0$)India(USD\\xa0$)Ireland(USD\\xa0$)Israel(USD\\xa0$)Italy(USD\\xa0$)Japan(USD\\xa0$)Latvia(USD\\xa0$)Lithuania(USD\\xa0$)Luxembourg(USD\\xa0$)Malaysia(USD\\xa0$)Mexico(USD\\xa0$)Monaco(USD\\xa0$)Netherlands(USD\\xa0$)New Zealand(USD\\xa0$)Poland(USD\\xa0$)Portugal(USD\\xa0$)Romania(USD\\xa0$)Saudi Arabia(USD\\xa0$)Singapore(USD\\xa0$)Slovakia(USD\\xa0$)Slovenia(USD\\xa0$)South Korea(USD\\xa0$)Spain(USD\\xa0$)Sweden(USD\\xa0$)Switzerland(USD\\xa0$)Taiwan(USD\\xa0$)Thailand(USD\\xa0$)Türkiye(USD\\xa0$)United Arab Emirates(USD\\xa0$)United Kingdom(USD\\xa0$)United States(USD\\xa0$)©',\n",
              " 'Arab Emirates(USD\\xa0$)United Kingdom(USD\\xa0$)United States(USD\\xa0$)© 2024APOTHEKE.Powered by Shopify×Right arrow long',\n",
              " '***Title: Shop All Candles | APOTHEKE\\nDescription: The difference is in the details. Our uniquely blended Home Fragrances are crafted using the finest ingredients to elevate the everyday.\\nImage URL: http:collections/candles-votives-and-3-wicks-224786.jpg \\nURL: https://apothekeco.com/collections/candles-votives-and-3-wicks \\nAvailability: Unknown\\nSite Name: APOTHEKE \\ntype: product.group',\n",
              " 'URL: https://apothekeco.com/collections/candles-votives-and-3-wicks \\nAvailability: Unknown\\nSite Name: APOTHEKE \\ntype: product.group \\nImages : ,http://apothekeco.com/cdn/shop/collections/candles-votives-and-3-wicks-224786.jpg?v=1691471633&width=1950',\n",
              " '***Skip to contentEnjoy complementary shipping on orders $100+ *Exclusions applyMenuCandles & DiffusersCandlesBest Selling FragranceClassic Candles2-Wick Ceramic Candles3-Wick CandlesFragrance BundlesDiscovery SetsMini CandlesTaper CandlesCandle AccessoriesDiffusersReed DiffusersRoom SpraysPura Smart Home DiffuserFragrance CardsSubscriptionsClassic Mystery Box SubscriptionPremium Mystery Box SubscriptionReed Diffuser RefillsFeaturedGift CardsAPOTHEKE x League Creative Co.APOTHEKE x',\n",
              " 'Mystery Box SubscriptionPremium Mystery Box SubscriptionReed Diffuser RefillsFeaturedGift CardsAPOTHEKE x League Creative Co.APOTHEKE x MASTAPOTHEKE x SanctuaryBody CareBar SoapLiquid SoapLotionBody Care BundlesLiquid Soap RefillsFragrancesThe Signature CollectionApricot Red CurrantCanvasEarl Grey BittersHinoki LavenderSantal Rock RoseSea Salt GrapefruitTonka OakWild Mint and IvyWhite VetiverThe Charcoal Fragrance CollectionCharcoalCharcoal RougeThe Eden CollectionBlack Iris OakCedarwood',\n",
              " 'GrapefruitTonka OakWild Mint and IvyWhite VetiverThe Charcoal Fragrance CollectionCharcoalCharcoal RougeThe Eden CollectionBlack Iris OakCedarwood GingerOrange Blossom NeroliSaffron VanillaFragrance FamiliesAromaticCitrusFloralFruityGourmandGreenWoodyAboutBlogCandle Buying GuideOur StoryVisit UsFind Your FragranceRewardsAccountSearchSearchBasket0CartClose navigationCandles & DiffusersCandlesBest Selling FragranceClassic Candles2-Wick Ceramic Candles3-Wick CandlesFragrance BundlesDiscovery',\n",
              " 'navigationCandles & DiffusersCandlesBest Selling FragranceClassic Candles2-Wick Ceramic Candles3-Wick CandlesFragrance BundlesDiscovery SetsMini CandlesTaper CandlesCandle AccessoriesDiffusersReed DiffusersRoom SpraysPura Smart Home DiffuserFragrance CardsSubscriptionsClassic Mystery Box SubscriptionPremium Mystery Box SubscriptionReed Diffuser RefillsFeaturedGift CardsAPOTHEKE x League Creative Co.APOTHEKE x MASTAPOTHEKE x SanctuaryBody CareBar SoapLiquid SoapLotionBody Care BundlesLiquid Soap',\n",
              " 'CardsAPOTHEKE x League Creative Co.APOTHEKE x MASTAPOTHEKE x SanctuaryBody CareBar SoapLiquid SoapLotionBody Care BundlesLiquid Soap RefillsFragrancesThe Signature CollectionApricot Red CurrantCanvasEarl Grey BittersHinoki LavenderSantal Rock RoseSea Salt GrapefruitTonka OakWild Mint and IvyWhite VetiverThe Charcoal Fragrance CollectionCharcoalCharcoal RougeThe Eden CollectionBlack Iris OakCedarwood GingerOrange Blossom NeroliSaffron VanillaFragrance',\n",
              " 'Charcoal Fragrance CollectionCharcoalCharcoal RougeThe Eden CollectionBlack Iris OakCedarwood GingerOrange Blossom NeroliSaffron VanillaFragrance FamiliesAromaticCitrusFloralFruityGourmandGreenWoodyAboutBlogCandle Buying GuideOur StoryVisit UsFind Your FragranceRewardsAccountSaffron Vanilla 3-Wick Candle$78.00Create your paradise with the comforting and complex scent of Saffron Vanilla from the Eden Collection. This 3-Wick Scented Candle is made with a premium soy wax blend and essential and',\n",
              " 'and complex scent of Saffron Vanilla from the Eden Collection. This 3-Wick Scented Candle is made with a premium soy wax blend and essential and perfume-grade fragrance oils in a glossy green-translucent glass vessel and wax.The FragranceSaffron Vanilla blends spicy cardamom and aromatic lavender with iris, violet, and rose accentuated by warm vanilla and sweet saffron for a comforting and complex fragrance.The ProductMade with a premium soy wax blend and essential and perfume-grade fragrance',\n",
              " 'and sweet saffron for a comforting and complex fragrance.The ProductMade with a premium soy wax blend and essential and perfume-grade fragrance oils, this luxury scented candle is designed to provide a clean-burning and exceptional scent experience. This candle features green-colored wax.The VesselDesigned to be evocative of the fragrance, the glossy green-translucent glass vessel complements any decor with a sleek and modern sensibility.The DetailsNet Weight: 26 oz. (761 g)Approximate Burn',\n",
              " 'glossy green-translucent glass vessel complements any decor with a sleek and modern sensibility.The DetailsNet Weight: 26 oz. (761 g)Approximate Burn Time: 120-140 hoursCandle Dimensions: 5\" DIA x 4.8\" HFragrance Family: Floral-SweetTop Notes: Bergamot, Lavender, CardamomMiddle Notes: Iris, Violet, Rose, AmberBottom Notes: Saffron, Patchouli, Vetiver, VanillaMade in the USAFor more information about our products, visitIngredients.Default Title−+Add to CartSaffron Vanilla 3-Wick Candle',\n",
              " '-is backordered and will ship as soon as it is back in stock.More detailsBlog postsView allOctober 30, 2023\"The Best Time To Do Something Is Now\" An Interview with Leah KirschRead moreOctober 16, 2023Interview with Mek Frinchaboy :  Multifaceted artist and fellow Red Hook friendRead moreJune 21, 2023Behind the Fragrance - Wild Mint and IvyRead moreJune 09, 2023Our Favorites: Team APOTHEKE\\'s Scents For SummerRead moreMay 10, 2023With Love, from Brooklyn - Sharing APOTHEKE\\'s StoryRead',\n",
              " 'IvyRead moreJune 09, 2023Our Favorites: Team APOTHEKE\\'s Scents For SummerRead moreMay 10, 2023With Love, from Brooklyn - Sharing APOTHEKE\\'s StoryRead moreApril 24, 2023Sadie Beaudet, Founder of Tradlands Shares Her Insights on Motherhood, Wellness, and Running a Business. Plus – the Perfect Portland, Maine ItineraryRead moreApril 03, 2023Two “Knew” York Girls - The Women Behind Our APOTHEKE x Girl Knew York CollaborationRead more\"The Best Time To Do Something Is Now\" An Interview with Leah',\n",
              " 'York Girls - The Women Behind Our APOTHEKE x Girl Knew York CollaborationRead more\"The Best Time To Do Something Is Now\" An Interview with Leah KirschInterview with Mek Frinchaboy :  Multifaceted artist and fellow Red Hook friendBehind the Fragrance - Wild Mint and IvyOur Favorites: Team APOTHEKE\\'s Scents For SummerWith Love, from Brooklyn - Sharing APOTHEKE\\'s StorySadie Beaudet, Founder of Tradlands Shares Her Insights on Motherhood, Wellness, and Running a Business. Plus – the Perfect',\n",
              " \"- Sharing APOTHEKE's StorySadie Beaudet, Founder of Tradlands Shares Her Insights on Motherhood, Wellness, and Running a Business. Plus – the Perfect Portland, Maine ItineraryTwo “Knew” York Girls - The Women Behind Our APOTHEKE x Girl Knew York CollaborationFollow UsYoutubeInstagramPinterestTwitterQuick LinksStore LocatorShipping & ReturnsAPOTHEKE RewardsBecome an AmbassadorBlogFAQPrivacyTerms & ConditionsMSRP/MAP PolicyApply for WholesaleContact UsSign up to receive exclusive discounts, stay\",\n",
              " 'RewardsBecome an AmbassadorBlogFAQPrivacyTerms & ConditionsMSRP/MAP PolicyApply for WholesaleContact UsSign up to receive exclusive discounts, stay up to date with the latest releases, and learn a little bit about... us!Right arrow longCurrencyUnited States (USD\\xa0$)Australia(USD\\xa0$)Austria(USD\\xa0$)Belgium(USD\\xa0$)Bulgaria(USD\\xa0$)Canada(USD\\xa0$)Czechia(USD\\xa0$)Denmark(USD\\xa0$)Estonia(USD\\xa0$)Finland(USD\\xa0$)France(USD\\xa0$)Germany(USD\\xa0$)Hong Kong',\n",
              " 'Kong SAR(USD\\xa0$)Hungary(USD\\xa0$)India(USD\\xa0$)Ireland(USD\\xa0$)Israel(USD\\xa0$)Italy(USD\\xa0$)Japan(USD\\xa0$)Latvia(USD\\xa0$)Lithuania(USD\\xa0$)Luxembourg(USD\\xa0$)Malaysia(USD\\xa0$)Mexico(USD\\xa0$)Monaco(USD\\xa0$)Netherlands(USD\\xa0$)New Zealand(USD\\xa0$)Poland(USD\\xa0$)Portugal(USD\\xa0$)Romania(USD\\xa0$)Saudi Arabia(USD\\xa0$)Singapore(USD\\xa0$)Slovakia(USD\\xa0$)Slovenia(USD\\xa0$)South Korea(USD\\xa0$)Spain(USD\\xa0$)Sweden(USD\\xa0$)Switzerland(USD\\xa0$)Taiwan(USD\\xa0$)Thailand(USD\\xa0$)Türkiye(USD\\xa0$)United Arab Emirates(USD\\xa0$)United Kingdom(USD\\xa0$)United States(USD\\xa0$)©',\n",
              " 'Arab Emirates(USD\\xa0$)United Kingdom(USD\\xa0$)United States(USD\\xa0$)© 2024APOTHEKE.Powered by Shopify×Right arrow long',\n",
              " '***Title: Saffron Vanilla 3-Wick Candle\\nDescription: Our signature 11oz frosted glass candle fills your room with warm amber wood, sweet lily of the valley, and night-blooming jasmine. Deepened by the tang of peppercorn, woody vetiver, and patchouli Amber Woods is a robust and enticing scent.\\nPrice: 78.00 USD\\nImage URL: http:products/AP03-SV_SaffronVanilla_26oz_3WickCandle_b1a95721-bacd-41a7-a5a5-9450692925c3.jpg \\nURL: https://apothekeco.com/products/saffron-vanilla-3-wick-candle',\n",
              " 'URL: https://apothekeco.com/products/saffron-vanilla-3-wick-candle \\nAvailability: in stock\\nSite Name: APOTHEKE \\ntype: product \\nImages : ,http://apothekeco.com/cdn/shop/products/AP03-SV_SaffronVanilla_26oz_3WickCandle_b1a95721-bacd-41a7-a5a5-9450692925c3_1000x1000.jpg?v=1705427083',\n",
              " '***Skip to contentEnjoy complementary shipping on orders $100+ *Exclusions applyMenuCandles & DiffusersCandlesBest Selling FragranceClassic Candles2-Wick Ceramic Candles3-Wick CandlesFragrance BundlesDiscovery SetsMini CandlesTaper CandlesCandle AccessoriesDiffusersReed DiffusersRoom SpraysPura Smart Home DiffuserFragrance CardsSubscriptionsClassic Mystery Box SubscriptionPremium Mystery Box SubscriptionReed Diffuser RefillsFeaturedGift CardsAPOTHEKE x League Creative Co.APOTHEKE x',\n",
              " 'Mystery Box SubscriptionPremium Mystery Box SubscriptionReed Diffuser RefillsFeaturedGift CardsAPOTHEKE x League Creative Co.APOTHEKE x MASTAPOTHEKE x SanctuaryBody CareBar SoapLiquid SoapLotionBody Care BundlesLiquid Soap RefillsFragrancesThe Signature CollectionApricot Red CurrantCanvasEarl Grey BittersHinoki LavenderSantal Rock RoseSea Salt GrapefruitTonka OakWild Mint and IvyWhite VetiverThe Charcoal Fragrance CollectionCharcoalCharcoal RougeThe Eden CollectionBlack Iris OakCedarwood',\n",
              " 'GrapefruitTonka OakWild Mint and IvyWhite VetiverThe Charcoal Fragrance CollectionCharcoalCharcoal RougeThe Eden CollectionBlack Iris OakCedarwood GingerOrange Blossom NeroliSaffron VanillaFragrance FamiliesAromaticCitrusFloralFruityGourmandGreenWoodyAboutBlogCandle Buying GuideOur StoryVisit UsFind Your FragranceRewardsAccountSearchSearchBasket0CartClose navigationCandles & DiffusersCandlesBest Selling FragranceClassic Candles2-Wick Ceramic Candles3-Wick CandlesFragrance BundlesDiscovery',\n",
              " 'navigationCandles & DiffusersCandlesBest Selling FragranceClassic Candles2-Wick Ceramic Candles3-Wick CandlesFragrance BundlesDiscovery SetsMini CandlesTaper CandlesCandle AccessoriesDiffusersReed DiffusersRoom SpraysPura Smart Home DiffuserFragrance CardsSubscriptionsClassic Mystery Box SubscriptionPremium Mystery Box SubscriptionReed Diffuser RefillsFeaturedGift CardsAPOTHEKE x League Creative Co.APOTHEKE x MASTAPOTHEKE x SanctuaryBody CareBar SoapLiquid SoapLotionBody Care BundlesLiquid Soap',\n",
              " 'CardsAPOTHEKE x League Creative Co.APOTHEKE x MASTAPOTHEKE x SanctuaryBody CareBar SoapLiquid SoapLotionBody Care BundlesLiquid Soap RefillsFragrancesThe Signature CollectionApricot Red CurrantCanvasEarl Grey BittersHinoki LavenderSantal Rock RoseSea Salt GrapefruitTonka OakWild Mint and IvyWhite VetiverThe Charcoal Fragrance CollectionCharcoalCharcoal RougeThe Eden CollectionBlack Iris OakCedarwood GingerOrange Blossom NeroliSaffron VanillaFragrance',\n",
              " 'Charcoal Fragrance CollectionCharcoalCharcoal RougeThe Eden CollectionBlack Iris OakCedarwood GingerOrange Blossom NeroliSaffron VanillaFragrance FamiliesAromaticCitrusFloralFruityGourmandGreenWoodyAboutBlogCandle Buying GuideOur StoryVisit UsFind Your FragranceRewardsAccountOrange Blossom Neroli 3-Wick Candle$78.00Create your paradise with the invigorating scent of Orange Blossom Neroli from the Eden Collection. This 3-Wick Scented Candle is made with a premium soy wax blend and essential and',\n",
              " 'scent of Orange Blossom Neroli from the Eden Collection. This 3-Wick Scented Candle is made with a premium soy wax blend and essential and perfume-grade fragrance oils in a glossy blue-translucent glass vessel.The FragranceOrange Blossom Neroli intertwines sweet orange blossoms and refreshing neroli with earthy greens, sandalwood, and a touch of musk for a zesty and invigorating fragrance.The ProductMade with a premium soy wax blend and essential and perfume-grade fragrance oils, this luxury',\n",
              " 'musk for a zesty and invigorating fragrance.The ProductMade with a premium soy wax blend and essential and perfume-grade fragrance oils, this luxury scented candle is designed to provide a clean-burning and exceptional scent experience. This candle features blue-colored wax.The VesselDesigned to be evocative of the fragrance, the glossy blue-translucent glass vessel complements any decor with a sleek and modern sensibility.The DetailsNet Weight: 26 oz. (761 g)Approximate Burn Time: 120-140',\n",
              " 'glass vessel complements any decor with a sleek and modern sensibility.The DetailsNet Weight: 26 oz. (761 g)Approximate Burn Time: 120-140 hoursCandle Dimensions: 5\" DIA x 4.8\" HFragrance Family: Floral-CitrusTop Notes: Bergamot, Lime, Orange, Petitgrain, NeroliMiddle Notes: Orange Flower, Geranium, Lavender, Rose, JasmineBottom Notes: Earthy Greens, Sandalwood, Patchouli, MuskMade in the USAFor more information about our products, visitIngredients.Default Title−+Add to CartOrange Blossom',\n",
              " 'Greens, Sandalwood, Patchouli, MuskMade in the USAFor more information about our products, visitIngredients.Default Title−+Add to CartOrange Blossom Neroli 3-Wick Candle',\n",
              " '-is backordered and will ship as soon as it is back in stock.More detailsBlog postsView allOctober 30, 2023\"The Best Time To Do Something Is Now\" An Interview with Leah KirschRead moreOctober 16, 2023Interview with Mek Frinchaboy :  Multifaceted artist and fellow Red Hook friendRead moreJune 21, 2023Behind the Fragrance - Wild Mint and IvyRead moreJune 09, 2023Our Favorites: Team APOTHEKE\\'s Scents For SummerRead moreMay 10, 2023With Love, from Brooklyn - Sharing APOTHEKE\\'s StoryRead',\n",
              " 'IvyRead moreJune 09, 2023Our Favorites: Team APOTHEKE\\'s Scents For SummerRead moreMay 10, 2023With Love, from Brooklyn - Sharing APOTHEKE\\'s StoryRead moreApril 24, 2023Sadie Beaudet, Founder of Tradlands Shares Her Insights on Motherhood, Wellness, and Running a Business. Plus – the Perfect Portland, Maine ItineraryRead moreApril 03, 2023Two “Knew” York Girls - The Women Behind Our APOTHEKE x Girl Knew York CollaborationRead more\"The Best Time To Do Something Is Now\" An Interview with Leah',\n",
              " 'York Girls - The Women Behind Our APOTHEKE x Girl Knew York CollaborationRead more\"The Best Time To Do Something Is Now\" An Interview with Leah KirschInterview with Mek Frinchaboy :  Multifaceted artist and fellow Red Hook friendBehind the Fragrance - Wild Mint and IvyOur Favorites: Team APOTHEKE\\'s Scents For SummerWith Love, from Brooklyn - Sharing APOTHEKE\\'s StorySadie Beaudet, Founder of Tradlands Shares Her Insights on Motherhood, Wellness, and Running a Business. Plus – the Perfect',\n",
              " \"- Sharing APOTHEKE's StorySadie Beaudet, Founder of Tradlands Shares Her Insights on Motherhood, Wellness, and Running a Business. Plus – the Perfect Portland, Maine ItineraryTwo “Knew” York Girls - The Women Behind Our APOTHEKE x Girl Knew York CollaborationFollow UsYoutubeInstagramPinterestTwitterQuick LinksStore LocatorShipping & ReturnsAPOTHEKE RewardsBecome an AmbassadorBlogFAQPrivacyTerms & ConditionsMSRP/MAP PolicyApply for WholesaleContact UsSign up to receive exclusive discounts, stay\",\n",
              " 'RewardsBecome an AmbassadorBlogFAQPrivacyTerms & ConditionsMSRP/MAP PolicyApply for WholesaleContact UsSign up to receive exclusive discounts, stay up to date with the latest releases, and learn a little bit about... us!Right arrow longCurrencyUnited States (USD\\xa0$)Australia(USD\\xa0$)Austria(USD\\xa0$)Belgium(USD\\xa0$)Bulgaria(USD\\xa0$)Canada(USD\\xa0$)Czechia(USD\\xa0$)Denmark(USD\\xa0$)Estonia(USD\\xa0$)Finland(USD\\xa0$)France(USD\\xa0$)Germany(USD\\xa0$)Hong Kong',\n",
              " 'Kong SAR(USD\\xa0$)Hungary(USD\\xa0$)India(USD\\xa0$)Ireland(USD\\xa0$)Israel(USD\\xa0$)Italy(USD\\xa0$)Japan(USD\\xa0$)Latvia(USD\\xa0$)Lithuania(USD\\xa0$)Luxembourg(USD\\xa0$)Malaysia(USD\\xa0$)Mexico(USD\\xa0$)Monaco(USD\\xa0$)Netherlands(USD\\xa0$)New Zealand(USD\\xa0$)Poland(USD\\xa0$)Portugal(USD\\xa0$)Romania(USD\\xa0$)Saudi Arabia(USD\\xa0$)Singapore(USD\\xa0$)Slovakia(USD\\xa0$)Slovenia(USD\\xa0$)South Korea(USD\\xa0$)Spain(USD\\xa0$)Sweden(USD\\xa0$)Switzerland(USD\\xa0$)Taiwan(USD\\xa0$)Thailand(USD\\xa0$)Türkiye(USD\\xa0$)United Arab Emirates(USD\\xa0$)United Kingdom(USD\\xa0$)United States(USD\\xa0$)©',\n",
              " 'Arab Emirates(USD\\xa0$)United Kingdom(USD\\xa0$)United States(USD\\xa0$)© 2024APOTHEKE.Powered by Shopify×Right arrow long',\n",
              " '***Title: Orange Blossom Neroli 3-Wick Candle\\nDescription: Our signature 11oz frosted glass candle fills your room with warm amber wood, sweet lily of the valley, and night-blooming jasmine. Deepened by the tang of peppercorn, woody vetiver, and patchouli Amber Woods is a robust and enticing scent.\\nPrice: 78.00 USD\\nImage URL: http:products/AP03-ON_OrangeBlossomNeroli_26oz_3WickCandle_b5b69b6b-8d6a-471b-96a7-26c8fa70d39a.jpg',\n",
              " 'Price: 78.00 USD\\nImage URL: http:products/AP03-ON_OrangeBlossomNeroli_26oz_3WickCandle_b5b69b6b-8d6a-471b-96a7-26c8fa70d39a.jpg \\nURL: https://apothekeco.com/products/orange-blossom-neroli-3-wick-candle \\nAvailability: in stock\\nSite Name: APOTHEKE \\ntype: product \\nImages : ,http://apothekeco.com/cdn/shop/products/AP03-ON_OrangeBlossomNeroli_26oz_3WickCandle_b5b69b6b-8d6a-471b-96a7-26c8fa70d39a_1000x1000.jpg?v=1705427089',\n",
              " \"***Skip to main content.usAllSelect the department you want to search inAll DepartmentsAlexa SkillsAll The Best PetsAmazon ClinicAmazon DevicesAmazon FreshAmazon PharmacyAmazon WarehouseAppliancesApps & GamesArts, Crafts & SewingAudible Books & OriginalsAutomotive Parts & AccessoriesBabyBartell'sBeauty & Personal CareBooksBristol FarmsCardenasCards SupermarketCDs & VinylCell Phones & AccessoriesClothing, Shoes & JewelryWomenMenGirlsBoysBabyCollectibles & Fine ArtComputersCredit and Payment\",\n",
              " 'SupermarketCDs & VinylCell Phones & AccessoriesClothing, Shoes & JewelryWomenMenGirlsBoysBabyCollectibles & Fine ArtComputersCredit and Payment CardsDigital MusicElectronicsFresh ThymeGarden & OutdoorGift CardsGrocery & Gourmet FoodHandmadeHealth, Household & Baby CareHome & Business ServicesHome & KitchenIndustrial & ScientificJust for PrimeKegNBottleKindle StoreLuckyLuggage & Travel GearLuxury StoresMagazine SubscriptionsMission Wine & SpiritsMovies & TVMusical InstrumentsOffice ProductsPet',\n",
              " \"StoreLuckyLuggage & Travel GearLuxury StoresMagazine SubscriptionsMission Wine & SpiritsMovies & TVMusical InstrumentsOffice ProductsPet Food ExpressPet SuppliesPremium BeautyPrime VideoRite AidSave MartSmart HomeSoftwareSousa's Wine & LiquorsSports & OutdoorsSubscribe & SaveSubscription BoxesSurdyk's Liquor & Cheese ShopTools & Home ImprovementToys & GamesUnder $10Video GamesWeisWhole Foods MarketSearch AmazonENHelloAccount & ListsReturns& OrdersCartAllDisability Customer SupportMedical\",\n",
              " \"& GamesUnder $10Video GamesWeisWhole Foods MarketSearch AmazonENHelloAccount & ListsReturns& OrdersCartAllDisability Customer SupportMedical CareGroceriesBest SellersAmazon BasicsNew ReleasesCustomer ServiceMusicToday's DealsRegistryBooksAmazon HomePharmacyGift CardsFashionLuxury StoresSmart HomeCouponsSellToys & GamesFind a GiftComputersAutomotiveHome ImprovementHousehold, Health & Baby CareBeauty & Personal CarePet SuppliesVideo GamesWorks with AlexaSports & OutdoorsHandmadeHealth &\",\n",
              " 'ImprovementHousehold, Health & Baby CareBeauty & Personal CarePet SuppliesVideo GamesWorks with AlexaSports & OutdoorsHandmadeHealth & Household›Health Care›Alternative Medicine›Aromatherapy›CandlesBuy new:To see product details, add this item to your cart.FREE ReturnsReturn this item for freeFree returns are available for the shipping address you chose. You can return the item for any reason in new and unused condition: no shipping chargesLearn more about free returns.How to return the item?Go',\n",
              " 'chose. You can return the item for any reason in new and unused condition: no shipping chargesLearn more about free returns.How to return the item?Go to your orders and start the returnSelect the return methodShip it!Ships from:AmazonSold by:APOTHEKETo see product details, add this item to your cart. You can always remove it later.FREE ReturnsReturn this item for freeFree returns are available for the shipping address you chose. You can return the item for any reason in new and unused',\n",
              " \"this item for freeFree returns are available for the shipping address you chose. You can return the item for any reason in new and unused condition: no shipping chargesLearn more about free returns.How to return the item?Go to your orders and start the returnSelect the return methodShip it!Select delivery locationQuantity:123456789101112131415161718192021222324252627282930Quantity:1Add to CartBuy NowEnhancements you chose aren't available for this seller.DetailsTo add the following enhancements\",\n",
              " \"to CartBuy NowEnhancements you chose aren't available for this seller.DetailsTo add the following enhancements to your purchase, choose a different seller.%cardName%${cardName} not available for the seller you chose${cardName} unavailable for quantities greater than ${maxQuantity}.Ships fromAmazonShips fromAmazonSold byAPOTHEKESold byAPOTHEKEReturnsEligible for Return, Refund or Replacement within 30 days of receiptEligible for Return, Refund or Replacement within 30 days of receiptThis item\",\n",
              " 'for Return, Refund or Replacement within 30 days of receiptEligible for Return, Refund or Replacement within 30 days of receiptThis item can be returned in its original condition for a full refund or replacement within 30 days of receipt.Read full return policyReturnsEligible for Return, Refund or Replacement within 30 days of receiptThis item can be returned in its original condition for a full refund or replacement within 30 days of receipt.Read full return policyPaymentSecure transactionYour',\n",
              " 'be returned in its original condition for a full refund or replacement within 30 days of receipt.Read full return policyPaymentSecure transactionYour transaction is secureWe work hard to protect your security and privacy. Our payment security system encrypts your information during transmission. We don’t share your credit card details with third-party sellers, and we don’t sell your information to others.Learn morePaymentSecure transactionWe work hard to protect your security and privacy. Our',\n",
              " 'sellers, and we don’t sell your information to others.Learn morePaymentSecure transactionWe work hard to protect your security and privacy. Our payment security system encrypts your information during transmission. We don’t share your credit card details with third-party sellers, and we don’t sell your information to others.Learn moreCustomer ServiceAmazonCustomer ServiceAmazonDetailsSee moreAdd a gift receipt for easy returnsTo see product details, add this item to your cart. You can always',\n",
              " 'ServiceAmazonDetailsSee moreAdd a gift receipt for easy returnsTo see product details, add this item to your cart. You can always remove it later.Add to ListAdded toUnable to add item to List. Please try again.Sorry, there was a problem.There was an error retrieving your Wish Lists. Please try again.Sorry, there was a problem.List unavailable.5 VIDEOSApotheke Candles, Soaps & LotionsAPOTHEKEImage UnavailableImage not available forColor:To view this video downloadFlash PlayerVIDEOS360°',\n",
              " 'VIDEOSApotheke Candles, Soaps & LotionsAPOTHEKEImage UnavailableImage not available forColor:To view this video downloadFlash PlayerVIDEOS360° VIEWIMAGESApotheke 3-Wick Candles CollectionVisit the APOTHEKE Store4.24.2 out of 5 stars147 ratings|Search this page50+ bought in past monthTo see product details, add this item to your cart. You can always remove it later.To see product details, add this item to your cart. You can always remove it later.To see product details, add this item to your',\n",
              " 'remove it later.To see product details, add this item to your cart. You can always remove it later.To see product details, add this item to your cart. You can always remove it later.Coupon:Apply 5% couponShop items|TermsCoupon:Save an extra 5% on your first Subscribe and Save order.Shop items|TermsCoupon:Apply 5% couponShop items|TermsEligible for Return, Refund or Replacement within 30 days of receiptThis item can be returned in its original condition for a full refund or replacement within 30',\n",
              " 'Return, Refund or Replacement within 30 days of receiptThis item can be returned in its original condition for a full refund or replacement within 30 days of receipt.Read full return policyScent:CharcoalBlack Iris OakCanvasCedarwood GingerCharcoalCharcoal RougeEarl Grey BittersLemon Meyer And MintOrange Blossom NeroliPurple BasilSaffron VanillaSantal Rock RoseSea Salt GrapefruitStrawberry LimeWhite VetiverPurchase options and add-onsBrandAPOTHEKEProduct Dimensions5.5\"W x 5.25\"HItem Weight11.04',\n",
              " 'Rock RoseSea Salt GrapefruitStrawberry LimeWhite VetiverPurchase options and add-onsBrandAPOTHEKEProduct Dimensions5.5\"W x 5.25\"HItem Weight11.04 ouncesNumber of Items1ScentCharcoalAre Batteries IncludedNoIndoor/Outdoor UsageIndoorSpecific Uses For ProductAromatherapyShapeRoundMaterialSoy WaxSee moreAbout this itemCaptivating Fragrance: Transform any living space with the unforgettable scent of Charcoal 3-Wick Candle from APOTHEKE. Our candles are hand poured and made with a proprietary blend',\n",
              " 'any living space with the unforgettable scent of Charcoal 3-Wick Candle from APOTHEKE. Our candles are hand poured and made with a proprietary blend of essential and perfume-grade oils for a long-lasting fragrance. Each 26 oz candle burns for approximately 120 - 140 hours. Dimensions: 5 inches x 4.8 inches.The Fragrance: Charcoal combines cedarwood and sandalwood with smoky embers, burnt maple, and a hint of raspberry for a broody and full-bodied fragrance.Scents That Last: We know that',\n",
              " \"and sandalwood with smoky embers, burnt maple, and a hint of raspberry for a broody and full-bodied fragrance.Scents That Last: We know that fragrance can transform any space and elevate every mood. That's why we work with world-renowned perfumers to make scents that last. All APOTHEKE candles contain 15%-18% fragrance oils — over three times the amount found in typical scented candles.We Keep It Clean: Our candles are made with a soy wax blend and cotton wick, making them a safer choice for\",\n",
              " 'amount found in typical scented candles.We Keep It Clean: Our candles are made with a soy wax blend and cotton wick, making them a safer choice for your home. We use the best practices to ensure that our candles are plant and mineral based and cruelty free. APOTHEKE products are sulfate and phthalate free, vegan, non-GMO, and gentle for sensitive skin. Proudly made in our factory in Brooklyn, NY.With Love, From Brooklyn: Starting in 2011 as a personal exploration of scent formulation and',\n",
              " 'skin. Proudly made in our factory in Brooklyn, NY.With Love, From Brooklyn: Starting in 2011 as a personal exploration of scent formulation and soapmaking in a Brooklyn kitchen, founder Chrissy Fichtl has grown APOTHEKE into a renowned luxury lifestyle fragrance brand. True to its Brooklyn roots and contemporary ethos, APOTHEKE believes that simplicity is the ultimate expression of luxury.›See more product detailsAdditional DetailsSmall BusinessShop products from small business brands sold in',\n",
              " 'is the ultimate expression of luxury.›See more product detailsAdditional DetailsSmall BusinessShop products from small business brands sold in Amazon’s store. Discover more about the small businesses partnering with Amazon and Amazon’s commitment to empowering them.Learn moreSmall BusinessThis product is from a small business brand. Support small.Learn moreReport an issue with this product or sellerFrequently bought togetherThis item:Apotheke 3-Wick Candles',\n",
              " 'small business brand. Support small.Learn moreReport an issue with this product or sellerFrequently bought togetherThis item:Apotheke 3-Wick Candles Collection$78.00$78.00($2.44/Ounce)Get it as soon asMonday, Mar 18In StockSold by APOTHEKE and ships from Amazon Fulfillment.+Apotheke Luxury Scented Candles for Home, Charcoal - Aromatherapy Jar Candle with Soy Wax Blend$44.00$44.00Get it as soon asMonday, Mar 18In StockSold by APOTHEKE and ships from Amazon Fulfillment.+APOTHEKE Liquid Soap -',\n",
              " 'with Soy Wax Blend$44.00$44.00Get it as soon asMonday, Mar 18In StockSold by APOTHEKE and ships from Amazon Fulfillment.+APOTHEKE Liquid Soap - Plant-Based (10fl oz) - Made in The USA (Charcoal)$18.00$18.00($1.33/Fl Oz)Get it as soon asMonday, Mar 18In StockSold by APOTHEKE and ships from Amazon Fulfillment.Total price:To see our price, add these items to your cart.Try again!DetailsAdded to CartAdd all 3 to CartChoose items to buy together.Compare with similar itemsThis ItemAPOTHEKEApotheke',\n",
              " 'items to your cart.Try again!DetailsAdded to CartAdd all 3 to CartChoose items to buy together.Compare with similar itemsThis ItemAPOTHEKEApotheke 3-Wick Candles CollectionRecommendationsNEST FragrancesNEST New York Luxury Scented Votive Candle SetdummyAPOTHEKEApotheke Luxury Scented Candles for Home, Santal Rock Rose - Aromatherapy Jar Candle with Soy Wax BlenddummyBenevolence LA3 Wick Candles | Charcoal Scented Large Candle | 14.5 Oz Valentine Candles, Scented Candles for Men | Natural',\n",
              " 'with Soy Wax BlenddummyBenevolence LA3 Wick Candles | Charcoal Scented Large Candle | 14.5 Oz Valentine Candles, Scented Candles for Men | Natural Candles for Women | 45 Hour Burn Long Lasting Candles, Bathroom CandledummyLulu Candles| Jasmine, Oud & Sandalwood | Luxury Scented Soy Jar Candle | Hand Poured in The USA | Highly Scented & Long Lasting (9 Oz.)dummyAPOTHEKEApotheke Luxury Scented Candles for Home, Charcoal - Aromatherapy Jar Candle with Soy Wax BlendTry again!DetailsAdded to CartAdd',\n",
              " '(9 Oz.)dummyAPOTHEKEApotheke Luxury Scented Candles for Home, Charcoal - Aromatherapy Jar Candle with Soy Wax BlendTry again!DetailsAdded to CartAdd to CartTry again!DetailsAdded to CartAdd to CartTry again!DetailsAdded to CartAdd to CartTry again!DetailsAdded to CartAdd to CartTry again!DetailsAdded to CartAdd to CartTry again!DetailsAdded to CartAdd to CartPrice$78.00$78.00-15%$39.06$39.06List:$46.00$44.00$44.00$27.99$27.99$19.95$19.95$44.00$44.00DeliveryGet it as soon asMonday, Mar 18Get it',\n",
              " 'to CartPrice$78.00$78.00-15%$39.06$39.06List:$46.00$44.00$44.00$27.99$27.99$19.95$19.95$44.00$44.00DeliveryGet it as soon asMonday, Mar 18Get it as soon asMonday, Mar 18Get it as soon asMonday, Mar 18Get it as soon asMonday, Mar 18Get it as soon asMonday, Mar 18Get it as soon asMonday, Mar 18Customer Ratings4.24.2 out of 5 stars1474.64.6 out of 5 stars2864.34.3 out of 5 stars4534.24.2 out of 5 stars16,6124.34.3 out of 5 stars5,3544.34.3 out of 5',\n",
              " 'Ratings4.24.2 out of 5 stars1474.64.6 out of 5 stars2864.34.3 out of 5 stars4534.24.2 out of 5 stars16,6124.34.3 out of 5 stars5,3544.34.3 out of 5 stars453Scent4.24.64.03.63.94.0Longevity4.14.04.33.74.04.3Value for money2.94.03.54.33.73.5Giftable3.4—3.63.94.03.6Sold ByAPOTHEKEAmazon.comAPOTHEKEBenevolence LALulucandlesAPOTHEKEscentCharcoalBamboo, Grapefruit, Moroccan Amber, Ocean Mist & Sea Salt, Amalfi Lemon & Mint, Wild Mint & EucalyptusSantal Rock RoseCharcoal - Black WaxJasmine, Oud &',\n",
              " 'Grapefruit, Moroccan Amber, Ocean Mist & Sea Salt, Amalfi Lemon & Mint, Wild Mint & EucalyptusSantal Rock RoseCharcoal - Black WaxJasmine, Oud & SandalwoodCharcoalunit count325.71114.511size3-WickOne Size1 EA14.5 oz - 3 wick9 Oz.11 ozmaterialSoy WaxGlassSoy WaxSoy Waxsynthetic, soy wax, Soy WaxSoy Waxspecific usesAromatherapyRelaxationScented—ScentedScentedoperating time70 hours4 hours70 hours—5 hours70 hoursspecial featureLong Lasting,Scented,Strong FragranceHighly Scented, Clean BurnLong',\n",
              " \"time70 hours4 hours70 hours—5 hours70 hoursspecial featureLong Lasting,Scented,Strong FragranceHighly Scented, Clean BurnLong Lasting,ScentedClean Burn, Long Burning, Scented, Essential Oils, Odor EliminatorHighly Scented, Long LastingLong Lasting,ScentedSimilar items that may deliver to you quicklyPage1of1Start overPage 1 of 1Previous pageApotheke Luxury Scented Candles for Home, Canvas - Aromatherapy Jar Candle with Soy Wax Blend4.3 out of 5 stars453Amazon'sChoicein Jar Candles$44.00$44.00Get\",\n",
              " \"Luxury Scented Candles for Home, Canvas - Aromatherapy Jar Candle with Soy Wax Blend4.3 out of 5 stars453Amazon'sChoicein Jar Candles$44.00$44.00Get it as soon asMonday, Mar 18FREE Shipping by AmazonApotheke Luxury Scented Candles for Home, Magnolia Bouquet - Aromatherapy Jar Candle with Soy Wax Blend4.3 out of 5 stars453$44.00$44.00($4.00/Ounce)Get it as soon asMonday, Mar 18FREE Shipping by AmazonBenevolence LA 3 Wick Candles | Charcoal Scented Large Candle | 14.5 Oz Valentine Candles,\",\n",
              " 'it as soon asMonday, Mar 18FREE Shipping by AmazonBenevolence LA 3 Wick Candles | Charcoal Scented Large Candle | 14.5 Oz Valentine Candles, Scented Candles for Men | Natural Candles for Women | 45 Hour Burn Long Lasting Candles, Bathroom Candle4.2 out of 5 stars16,612$27.99$27.99($1.93/Fl Oz)Get it as soon asMonday, Mar 18FREE Shipping on orders over $35 shipped by AmazonApotheke 2-Wick Scented Candles for Home, Charcoal - 13 oz Long-Lasting Soy Wax Jar Candle, 60-70 Hours Burn Time - Notes of',\n",
              " \"$35 shipped by AmazonApotheke 2-Wick Scented Candles for Home, Charcoal - 13 oz Long-Lasting Soy Wax Jar Candle, 60-70 Hours Burn Time - Notes of Cedarwood & Sandalwood, Smoky Embers, Burnt Maple, & Hint of Raspberry$62.00$62.00Get it as soon asMonday, Mar 18FREE Shipping by AmazonOnly 17 left in stock - order soon.Apotheke Luxury Scented Candles for Home, Amber Woods - Aromatherapy Jar Candle with Soy Wax Blend4.3 out of 5 stars453Amazon'sChoicein Aromatherapy\",\n",
              " 'Luxury Scented Candles for Home, Amber Woods - Aromatherapy Jar Candle with Soy Wax Blend4.3 out of 5 stars453Amazon\\'sChoicein Aromatherapy Candles$44.00$44.00($4.00/Ounce)Get it as soon asMonday, Mar 18FREE Shipping by AmazonApotheke 3-Wick Candles (Black Iris Oak, 3-Wick)4.2 out of 5 stars147$78.00$78.00($2.44/Ounce)Get it as soon asMonday, Mar 18FREE Shipping by AmazonNext pageProduct informationTechnical DetailsBrand\\u200eAPOTHEKEProduct Dimensions\\u200e5.5\"W x 5.25\"HItem Weight\\u200e11.04 ouncesNumber of',\n",
              " 'Shipping by AmazonNext pageProduct informationTechnical DetailsBrand\\u200eAPOTHEKEProduct Dimensions\\u200e5.5\"W x 5.25\"HItem Weight\\u200e11.04 ouncesNumber of Items\\u200e1Scent\\u200eCharcoalAre Batteries Included\\u200eNoIndoor/Outdoor Usage\\u200eIndoorSpecific Uses For Product\\u200eAromatherapyShape\\u200eRoundMaterial\\u200eSoy WaxOccasion\\u200eWedding, Father\\'s Day, BirthdaySeasons\\u200eAll SeasonSpecial Feature\\u200eLong Lasting,Scented,Strong FragrancePackage Information\\u200eJarUnit Count\\u200e32 OunceManufacturer\\u200eAPOTHEKEPart Number\\u200eCHAR-CAN-3WickItem Weight\\u200e11',\n",
              " 'Feature\\u200eLong Lasting,Scented,Strong FragrancePackage Information\\u200eJarUnit Count\\u200e32 OunceManufacturer\\u200eAPOTHEKEPart Number\\u200eCHAR-CAN-3WickItem Weight\\u200e11 ouncesItem model number\\u200eCHAR-CAN-3WickSpecial Features\\u200eLong Lasting,Scented,Strong FragranceBatteries Included?\\u200eNoBatteries Required?\\u200eNoAdditional InformationASINB07PMY9PK6Customer Reviews4.24.2 out of 5 stars147 ratings4.2 out of 5 starsBest Sellers Rank#88,376 in Health & Household (See Top 100 in Health & Household)#323 inAromatherapy',\n",
              " \"out of 5 stars147 ratings4.2 out of 5 starsBest Sellers Rank#88,376 in Health & Household (See Top 100 in Health & Household)#323 inAromatherapy CandlesDate First AvailableMarch 16, 2019Warranty & SupportProduct Warranty:For warranty information about this product, pleaseclick hereFeedbackWould you like totell us about a lower price?Apotheke 3-Wick Candles CollectionShare:Found a lower price? Let us know. Although we can't match every price reported, we'll use your feedback to ensure that our\",\n",
              " \"Candles CollectionShare:Found a lower price? Let us know. Although we can't match every price reported, we'll use your feedback to ensure that our prices remain competitive.Where did you see a lower price?Website (Online)URL:Price:\",\n",
              " '($)Shipping cost:\\n                                                    ($)Date of the price:010203040506070809101112/01020304050607080910111213141516171819202122232425262728293031/Store (Offline)Store name:City:State:Please select provincePlease select provincePrice:',\n",
              " '($)Date of the price:010203040506070809101112/01020304050607080910111213141516171819202122232425262728293031/Pleasesign into provide feedback.Submit FeedbackProduct detailsProduct Dimensions\\n                                    \\u200f\\n                                        :\\n                                    \\u200e6 x 6 x 6 inches; 11.04 ouncesItem model number\\n                                    \\u200f\\n                                        :',\n",
              " '\\u200f\\n                                        :\\n                                    \\u200eCHAR-CAN-3WickDate First Available\\n                                    \\u200f\\n                                        :\\n                                    \\u200eMarch 16, 2019Manufacturer\\n                                    \\u200f\\n                                        :\\n                                    \\u200eAPOTHEKEASIN\\n                                    \\u200f',\n",
              " ':\\n                                    \\u200eAPOTHEKEASIN\\n                                    \\u200f\\n                                        :',\n",
              " '\\u200eB07PMY9PK6Customer Reviews:4.24.2 out of 5 stars147 ratingsExplore more recommendationsBrief content visible, double tap to read full content.Full content visible, double tap to read brief content.VideosPage1of1Start OverPage 1 of 1Previous pageVideos for this product1:14Click to play videoThe best gift all year long, a candle that lasts 120-150 hours!xAJohnsonVideos for this product1:08Click to play video#thisorthat aesthetic candle favoritesBonnie’s',\n",
              " 'year long, a candle that lasts 120-150 hours!xAJohnsonVideos for this product1:08Click to play video#thisorthat aesthetic candle favoritesBonnie’s Favorite FindsVideos for this product0:52Click to play videoApotheke Candle Review!caseyyisfetchhVideos for this product0:08Click to play videosmells incredible, long lastingBonnie’s Favorite FindsVideos for this product0:22Click to play videoApotheke Candles, Soaps & LotionsAPOTHEKENext pageUpload your videoProduct DescriptionCANDLESOur candles are',\n",
              " \"for this product0:22Click to play videoApotheke Candles, Soaps & LotionsAPOTHEKENext pageUpload your videoProduct DescriptionCANDLESOur candles are a combination of high-quality, perfume-grade fragrance in a vegan, soy wax blend. Our cruelty-free, hand-poured candles, available in our signature scents, will easily fill your whole living room.REED DIFFUSERYou control the fragrance level. The 'set it and forget' it is doable with these fresh reed diffusers. If you are sensitive to fragrance just\",\n",
              " \"DIFFUSERYou control the fragrance level. The 'set it and forget' it is doable with these fresh reed diffusers. If you are sensitive to fragrance just leave the reeds and flip them when you can’t smell the fragrance anymore. If you love a strong fragrance, flip the reeds daily, or once a week! If you prefer a subtle scent, either use fewer reeds or flip less often. Either way - you control the scent throw!LIQUID SOAP AND LOTIONOur invigorating liquid soap is made using aloe vera, known for its\",\n",
              " 'flip less often. Either way - you control the scent throw!LIQUID SOAP AND LOTIONOur invigorating liquid soap is made using aloe vera, known for its anti-aging, moisturizing, and healing qualities.Our plant-based lotions blend aloe vera, essential oils, and natural botanicals for fast-absorbing moisture and light, refreshing fragranceFrom the brandPrevious pageBest SellersVisit the StoreCandlesVisit the StoreReed DiffusersVisit the StoreBody CareVisit the StoreNext pageImportant informationTo',\n",
              " 'pageBest SellersVisit the StoreCandlesVisit the StoreReed DiffusersVisit the StoreBody CareVisit the StoreNext pageImportant informationTo report an issue with this product or seller,click here.Related PostsPrevious pageLA JOLIE MUSE+ FollowDo you know how, every year, certain things leave you with a warm, fuzzy feeling that reminds you that the holiday season is near (maybe it’s a song or a movie)? Amber perfume is that feeling in a bottle, which explains why people will immediately flock to',\n",
              " 'holiday season is near (maybe it’s a song or a movie)? Amber perfume is that feeling in a bottle, which explains why people will immediately flock to you when you’re wearing it.See more Posts >GIFTAWAY+ FollowCoconut Mandarin Vanilla Scented Candle, woodwick candle, natural soy candle, aromatherapy candle scented, large decorative candle, relaxation candle, calming candle, unisex candle, soy cleansing candle, bathroom candle, candle woodwick, high end candles, decorative candles with lidSee',\n",
              " 'candle, calming candle, unisex candle, soy cleansing candle, bathroom candle, candle woodwick, high end candles, decorative candles with lidSee more Posts >Hidden Label+ FollowCollect Muse colorful glass jar, light different candle everyday. Leave a comment to tell us your favourite one!See more Posts >Hearthfire Hygge+ FollowIlluminate your space with the enchanting glow of our Bubble CandleSee more Posts >Paddywax Candles+ FollowHyg·ge - a quality of coziness and comfortable conviviality that',\n",
              " 'with the enchanting glow of our Bubble CandleSee more Posts >Paddywax Candles+ FollowHyg·ge - a quality of coziness and comfortable conviviality that engenders a feeling of contentment or well-being (regarded as a defining characteristic of Danish culture).\\u2060See more Posts >Hyoola+ FollowOur White Three-Wick Pillar Candle burns for up to 146 hours and is made with lead-free cotton wicks! 💫See more Posts >Thymes+ FollowDecorative and delicately crafted to bring forth warm light and the',\n",
              " '146 hours and is made with lead-free cotton wicks! 💫See more Posts >Thymes+ FollowDecorative and delicately crafted to bring forth warm light and the comforting, warm aroma of palo santo wood, amber, clary sage, benzoin resin and green fig.See more Posts >Teeken+ FollowWarm fragrant candles accompany you through this cold winter night#candle home scented#candle home gift set#candle gift home scented#candles for home scentedSee more Posts >Scentered+ FollowScentered Tips to Prevent Vacation',\n",
              " \"scented#candle home gift set#candle gift home scented#candles for home scentedSee more Posts >Scentered+ FollowScentered Tips to Prevent Vacation Blues: 1. Get outside, even if it's raining! The outdoors is the best way to lift your mood. 2. Reminisce about your summer memories 3. Make plans There are little things you can do throughout the year to stave off vacation blues. 4. Take up a hobby 5. Enjoy the quiet Summer can be a really busy time, which is great. But you can end up forgetting\",\n",
              " 'to stave off vacation blues. 4. Take up a hobby 5. Enjoy the quiet Summer can be a really busy time, which is great. But you can end up forgetting about your own self-care and well-being as you are always on the go. Enjoy relaxing in the bath and lighting a candle for some ‘me time.’ #summer #summerblues #aromatherapySee more Posts >Benevolence LA+ Follow🕯️✨ Illuminate Your Space with the Alluring Scent of Black Mulberry! 🌙🖤 Elevate your senses with our luxurious Black Mulberry Scented Soy Wax',\n",
              " 'Follow🕯️✨ Illuminate Your Space with the Alluring Scent of Black Mulberry! 🌙🖤 Elevate your senses with our luxurious Black Mulberry Scented Soy Wax Candle. 🌿✨See more Posts >Next pageLooking for specific info?Customer reviews4.2 out of 5 stars4.2 out of 5147 global ratings5 star70%4 star6%3 star5%2 star8%1 star10%How customer reviews and ratings workCustomer Reviews, including Product Star Ratings help customers to learn more about the product and decide whether it is the right product for',\n",
              " 'workCustomer Reviews, including Product Star Ratings help customers to learn more about the product and decide whether it is the right product for them.To calculate the overall star rating and percentage breakdown by star, we don’t use a simple average. Instead, our system considers things like how recent a review is and if the reviewer bought the item on Amazon. It also analyzed reviews to verify trustworthiness.Learn more how customers reviews work on AmazonView Image GalleryAmazon',\n",
              " 'bought the item on Amazon. It also analyzed reviews to verify trustworthiness.Learn more how customers reviews work on AmazonView Image GalleryAmazon Customer5.0 out of 5 starsImages in this reviewReviews with imagesSee all photosPrevious pageNext pageAll photosAmazon Customer1 StarDEFECTIVE -- NO WICKS!!!!I bought this candle to give as a gift and only looked at it more closely when I was about to wrap it. To my great surprise and disappointment, this \"luxury\" three-wick candle was missing all',\n",
              " 'only looked at it more closely when I was about to wrap it. To my great surprise and disappointment, this \"luxury\" three-wick candle was missing all its wicks! What shoddy quality control for such a pricey candle. And I missed the return window -- a frustrating shopping experience.MoreHideThank you for your feedbackCloseSorry, there was an errorCloseSorry we couldn\\'t load the reviewTry againSort reviews byTop reviewsMost recentTop reviewsTop reviews from the United StatesThere was a problem',\n",
              " \"we couldn't load the reviewTry againSort reviews byTop reviewsMost recentTop reviewsTop reviews from the United StatesThere was a problem filtering reviews right now. Please try again later.Amazon Customer5.0 out of 5 starsSmells amazingReviewed in the United States on January 21, 2024Scent: CharcoalVerified PurchaseRepeat buy. Smells amazing. It does tunnel a bit so not a super clean burnRead more2 people found this helpfulHelpfulReportAmazon Customer5.0 out of 5 starsGreatest\",\n",
              " 'amazing. It does tunnel a bit so not a super clean burnRead more2 people found this helpfulHelpfulReportAmazon Customer5.0 out of 5 starsGreatest fragranceReviewed in the United States on March 7, 2023Scent: Sea Salt GrapefruitVerified PurchaseThe candle was a little pricey but the scent fills the room. I like to light a candle when I’m working as well as cooking. Brought a diffuser also again a bit pricey but great fragrance not overpoweringRead more2 people found this',\n",
              " 'when I’m working as well as cooking. Brought a diffuser also again a bit pricey but great fragrance not overpoweringRead more2 people found this helpfulHelpfulReportNatalie5.0 out of 5 starsSmells fantastic!Reviewed in the United States on July 19, 2023Scent: White VetiverVerified PurchaseGot this on sale during prime day. The smell is fantastic. Just as good as some of my crazy expensive D-que candles. The wicks do burn a little dirtier than I’d like (black soot pools in all white candle), but',\n",
              " 'as good as some of my crazy expensive D-que candles. The wicks do burn a little dirtier than I’d like (black soot pools in all white candle), but for the price and the quality/throw of fragrance I absolutely give 5 stars!Read more4 people found this helpfulHelpfulReportJanet1.0 out of 5 starsWhat happened to the quality of your candlesReviewed in the United States on June 23, 2023Scent: White VetiverVerified PurchaseI absolutely love rather loved the white Vetiver candles.  I always purchased',\n",
              " 'the United States on June 23, 2023Scent: White VetiverVerified PurchaseI absolutely love rather loved the white Vetiver candles.  I always purchased the 32 ounce three wick or the four wick  I believe it’s 98 ounce I can’t remejmber what size your largest candle is it goes now for $198. I have purchased this three times in the last three months.  I have also been purchasing these candles from you for about four or five years your price keeps going up; your quality keeps going down. You will',\n",
              " 'I have also been purchasing these candles from you for about four or five years your price keeps going up; your quality keeps going down. You will lose your client base. The quality of your candles has consistently gotten worse. It is very obvious you are using the old fashion way of making your candles where there’s a lot of wax around three little candles.  The last three candles I have purchased  have problems keeping the wicks lit. I just purchased a candle, and only one wick out of three',\n",
              " 'candles.  The last three candles I have purchased  have problems keeping the wicks lit. I just purchased a candle, and only one wick out of three works.  The candles was  $78  I do not have a problem, paying for a quality item.  Based on what I am seeing and on the number of purchases I have made which are quite a few. I consider this to be an insult to your customers.  If you were going to reduce your quality of your candles, reduce your price, I could make a better candle than the candle that',\n",
              " 'to your customers.  If you were going to reduce your quality of your candles, reduce your price, I could make a better candle than the candle that I just recently purchased through Amazon, which is yours.  It is extremely upsetting to have a company like yours allow themself to reduce their quality to the point that it is right now. I hope other customers will reach out to you and make you aware of how unhappy they are with your low quality which has been since Covid.  If you can’t make a',\n",
              " 'customers will reach out to you and make you aware of how unhappy they are with your low quality which has been since Covid.  If you can’t make a quality candle, reduce your price at least by 2/3rd. These candles used to be worth the price, but the quality of your candles now, they are not worth the price.  It’s better to buy your own vetiver, yes, it is expensive, and and make your own candles because then at least you know, your wicks will work and they won’t be made cheaply the way that you',\n",
              " 'it is expensive, and and make your own candles because then at least you know, your wicks will work and they won’t be made cheaply the way that you are now making them. These are no longer high-quality candles. They are not worth the price. I am really sorry to say that because I have enjoyed these candles tremendously.  You have ruined your company. You have ruined your company’s  reputation by your lack of caring about the quality and service you are providing your customers. I will also be',\n",
              " 'You have ruined your company’s  reputation by your lack of caring about the quality and service you are providing your customers. I will also be submitting this on your website.  When I first started purchasing your candles, I gave you five stars. You’re down to one star if there was a possibility of doing zero stars that is exactly what I would give you.  Paying $78 for a candle that is a three wick candle and only one wick is works and you can obviously see there are three little candles just',\n",
              " 'you.  Paying $78 for a candle that is a three wick candle and only one wick is works and you can obviously see there are three little candles just filled with wax around them unlike the way you used to make them.  Your customers are noticing the downward spiral. Your company is taking in quality. You will lose them.Read more24 people found this helpfulHelpfulReportEOS Decorating5.0 out of 5 starsBetter then the restReviewed in the United States on January 2, 2024Scent: CharcoalVerified',\n",
              " \"this helpfulHelpfulReportEOS Decorating5.0 out of 5 starsBetter then the restReviewed in the United States on January 2, 2024Scent: CharcoalVerified PurchaseThis candle is absolutely AMAZING! I've had it for about a month and use it multiple times a week.I was stewing on this product for a long while but couldn't justify the price. $80 for a candle just seems outrageous! Finally, I made the decision to purchase it here and figured at worst, I would return it. I've heard from others that the\",\n",
              " \"just seems outrageous! Finally, I made the decision to purchase it here and figured at worst, I would return it. I've heard from others that the scent reminds them of a sexy man, and I must concur. It truly is an amazing smell and it covers smells from cooked food to smoke 🚬 to so on.I use this in my bedroom and only have to light it for 30 minutes to 1 hour and it completely fills up the room, enters the hallway, and master bath. I haven't made a dent in the candle and I suspect it'll last me\",\n",
              " \"to 1 hour and it completely fills up the room, enters the hallway, and master bath. I haven't made a dent in the candle and I suspect it'll last me 6 months or more!  For reference, the bedroom size is about 40 ft by 20 ft. In order for me to get this kind of throw I would have to light 2 to 3 candles for hours on end, speaking specifically about the most popular brands. Because of this purchase, I decided to purchase the advent calendar from their site in order to sample a lot of their other\",\n",
              " \"the most popular brands. Because of this purchase, I decided to purchase the advent calendar from their site in order to sample a lot of their other fragrances and found some gems.  Some other smells that are fantastic are Earl Grey Bitters and Hinoki Lavender in their candle and reed diffusers.Their products definitely costs more then any other company I've seen but the quality is second to none.  They're legit when they talk about the amount of fragrance oils, quality of the candles base,\",\n",
              " \"company I've seen but the quality is second to none.  They're legit when they talk about the amount of fragrance oils, quality of the candles base, vessel, and so on.  As I'm writing this review I'm subscribing to another scent,  Earl Grey Bitters in the large 3 wick candle. This size candle is one of their better values if you enjoy the scent.Read more2 people found this helpfulHelpfulReportmihaela birca2.0 out of 5 starsNot worth the priceReviewed in the United States on February 16,\",\n",
              " 'more2 people found this helpfulHelpfulReportmihaela birca2.0 out of 5 starsNot worth the priceReviewed in the United States on February 16, 2024Scent: White VetiverVerified PurchaseThe candle looks great and the packaging was nice, but almost no scent. Disappointed about choosing this product to gift. Had it lit for a few hours and still can’t feel anything. Bummer, could have chosen a cheaper option and avoid the embarrassment.Read moreOne person found this helpfulHelpfulReportThom Lundy5.0',\n",
              " 'anything. Bummer, could have chosen a cheaper option and avoid the embarrassment.Read moreOne person found this helpfulHelpfulReportThom Lundy5.0 out of 5 starsOne of my favorite candles!Reviewed in the United States on January 24, 2024Scent: CharcoalVerified PurchaseI am a candle maker, and this is one od a handful of candles I still buy regularly!  The scent is truly unisex and the design of the candle vessel is suitable to most design aesthetics.  Do yourself a favor and buy it - you won’t',\n",
              " \"The scent is truly unisex and the design of the candle vessel is suitable to most design aesthetics.  Do yourself a favor and buy it - you won’t be disappointed!Read moreOne person found this helpfulHelpfulReportSusan H.4.0 out of 5 starsUneven burnReviewed in the United States on February 18, 2024Scent: CharcoalVerified PurchaseEnjoyed the scent and it filled the living room area. Candle didn't burn evenly and seemed like it could have used a fourth wick or the spacing was off. Purchased\",\n",
              " \"and it filled the living room area. Candle didn't burn evenly and seemed like it could have used a fourth wick or the spacing was off. Purchased during a sale so wasn't disappointed.Read moreHelpfulReportSee more reviewsTop reviews from other countriesBen J.5.0 out of 5 starsOutstanding candleReviewed in Australia on July 17, 2021Scent: CharcoalVerified PurchaseBeautiful quality.Read moreReportSee more reviewsTopAbout this itemSimilarProduct informationQuestionsReviewsBack to topEnglishUnited\",\n",
              " 'PurchaseBeautiful quality.Read moreReportSee more reviewsTopAbout this itemSimilarProduct informationQuestionsReviewsBack to topEnglishUnited StatesConditions of UsePrivacy NoticeYour Ads Privacy Choices© 1996-2024, Amazon.com, Inc. or its affiliatestype: text',\n",
              " 'Images : \\n ***You need to enable JavaScript to run this app.type: text \\nImages :',\n",
              " '***The store will not work correctly when cookies are disabled.JavaScript seems to be disabled in your browser.For the best experience on our site, be sure to turn on Javascript in your browser.Free Shipping On All Orders Over $150 or just 9.95 flat(contiguous U.S.)Hmm... Seems like you’re using an unsupported version of IE. To ensure smooth shopping, please try on a different browser or use your mobile phone. Thanks!Toggle NavMy CartMy AccountSearchSearchAdvanced SearchSearchMenuNewNew',\n",
              " 'shopping, please try on a different browser or use your mobile phone. Thanks!Toggle NavMy CartMy AccountSearchSearchAdvanced SearchSearchMenuNewNew ArrivalsAll New ArrivalsNew CandlesNew Room FragranceNew Bath & BodyOther New ArrivalsLAFCO -  Birchwood Molasses Classic CandleVoluspa - Spiced Pumpkin Latte Classic CandleNest - Blue Cypress & Snow Votive CandleVoluspa - Temple Moss 5 Wick Hearth CandleNest - Autumn Plum Liquid SoapBestsellersBestsellersAll BestsellersCandlesDiffusers & Room',\n",
              " 'Votive CandleVoluspa - Temple Moss 5 Wick Hearth CandleNest - Autumn Plum Liquid SoapBestsellersBestsellersAll BestsellersCandlesDiffusers & Room SpraysBath & BodySeda France - Japanese Quince Pagoda Candle (as seen on Oprah)Voluspa - Baltic Amber CandleTrudon - Ernesto (Leather & Tobacco) CandleDiptyque - Baies Candle (Berries)Archipelago - Havana Candle (Glass Jar)BrandsBrandsAdlan FragrancesAgrariaAndy WarholAntica FarmacistaApothekeAquiesseArchipelagoAssoulineBaobabJean-Michel BasquiatThe',\n",
              " 'Candle (Glass Jar)BrandsBrandsAdlan FragrancesAgrariaAndy WarholAntica FarmacistaApothekeAquiesseArchipelagoAssoulineBaobabJean-Michel BasquiatThe Beverly Hills Candle CoBohemeBoy SmellsCander ParisCapri BlueCarriere FreresCereria Molla 1899Chez GagnéChristian TortuCLR Los AngelesComme des GarconsCoreternoDeliriumDiptyqueDr. VranjesDS & Durgaet al lifeFlamingo EstateFVITHFrasier FirFury BrosGlasshouseHarlem Candle Co.HereticHollow TreeHouse of NurIconic ScentsJonathan AdlerJoshua TreeKeith',\n",
              " 'al lifeFlamingo EstateFVITHFrasier FirFury BrosGlasshouseHarlem Candle Co.HereticHollow TreeHouse of NurIconic ScentsJonathan AdlerJoshua TreeKeith HaringLAFCOLucie & PompetteLuminoseLumiraMad et LenMaison Margiela ReplicaMalin & GoetzMichael AramMistralML Candle CoMolton BrownMoodcastMuseeNestNiven MorganOverosePaddywaxPaul SmithP.F. Candle Co.PharosRigaudRukskeSeda FranceSir CandleSkandinaviskSocial Light LightersStrange GentSOH MelbourneThymesToccaTrappTrudonTrue GraceUrban Apothecary',\n",
              " 'Co.PharosRigaudRukskeSeda FranceSir CandleSkandinaviskSocial Light LightersStrange GentSOH MelbourneThymesToccaTrappTrudonTrue GraceUrban Apothecary LondonVoluspaVotivoFragrancesFragrancesAppleBayberryBeachCinnamonCranberryDessertEucalyptusFloralFreshGardeniaGingerLavenderLeatherLemonLemongrassMan & CologneOrange & CitrusPatchouliPumpkinRoseSpiceTobaccoTropicalWoodVanillaUnscentedProductsProductsAll CandlesGlass Jar Candles3 Wick CandlesVotive CandlesTravel & Tin CandlesLarge CandlesPillar',\n",
              " \"CandlesGlass Jar Candles3 Wick CandlesVotive CandlesTravel & Tin CandlesLarge CandlesPillar  CandlesCeramic CandlesSoy  CandlesDiffusersRoom SpraysBath & BodyPotpourriCandle AccessoriesSeasonsSeasonsSummerFallWinterSpringHolidayValentine's DayMother's DayFather's DayHand-pickedFall ScentsExploreFeatured CollectionVoluspa CandlesShopGift IdeasGift IdeasGift CertificatesHoliday Gift GuideEditor's PicksCandle Gift SetsWedding GiftsMonthly SubscriptionFeaturedTop Gift SetsShopSubscriptionCandle\",\n",
              " \"IdeasGift CertificatesHoliday Gift GuideEditor's PicksCandle Gift SetsWedding GiftsMonthly SubscriptionFeaturedTop Gift SetsShopSubscriptionCandle Every MonthLearn MoreSubscriptionMy AccountLoginRegisterAccountApotheke - Tonka Oak 3 Wick Candle$78.00SKUAPTO#WCIn stockOne-time purchaseSubscribe & SaveDeliver Every Other MonthDeliver Every 3 MonthsDeliver Every MonthAdd product to cart to see subscription savingsDeliver Every Other MonthDeliver Every 3 MonthsDeliver Every MonthQuantity-+Add to\",\n",
              " 'Every MonthAdd product to cart to see subscription savingsDeliver Every Other MonthDeliver Every 3 MonthsDeliver Every MonthQuantity-+Add to CartSkip to the end of the images gallerySkip to the beginning of the images galleryDescription & DetailsApotheke Tonka Oak 3 Wick Candle fills any room in your home with hours of unforgettable bliss. Made of perfume grade fragrance oils, Tonka Oak combines sweet almond, warm cardamom, and clove, accentuated by coconut, Iris petals, musk, and tonka bean to',\n",
              " 'perfume grade fragrance oils, Tonka Oak combines sweet almond, warm cardamom, and clove, accentuated by coconut, Iris petals, musk, and tonka bean to create a sophisticated and full bodied fragrance.Apotheke Candles include extraordinary scents that burn clean, enhancing any room with beautiful, simple design. Apotheke Candles are made in Brooklyn, of a high quality soy wax blend and burn up to 120 hours.More InformationBrandApothekeBurn Time120 hoursScent FamilyEarthyPrimary',\n",
              " 'made in Brooklyn, of a high quality soy wax blend and burn up to 120 hours.More InformationBrandApothekeBurn Time120 hoursScent FamilyEarthyPrimary ScentsAlmond,Cardamon,Clove,Coconut,Musk,Oak,Tonka BeanWax FamilySoy BlendNet Weight32 oz.Dimensions4.5\" tall by 5.25\" wideAlso Available AsApotheke - Tonka Oak Candle$44.00You Might Also LikeSeda France - Japanese Quince Pagoda Mini Candle$16.50Trudon - Ernesto (Leather & Tobacco) Candle$125.00Seda France - Japanese Quince 3 Votive Candle',\n",
              " 'France - Japanese Quince Pagoda Mini Candle$16.50Trudon - Ernesto (Leather & Tobacco) Candle$125.00Seda France - Japanese Quince 3 Votive Candle Set$19.50Trapp - Amber & Bergamot #21 Candle$32.00Trapp - Amber & Bergamot #21 Votive Candle$6.50Seda France - Japanese Quince Pagoda Candle (as seen on Oprah)$35.00Nest - Moroccan Amber Diffuser Refill$46.00Cereria Molla - Bois de Santal 500ml Diffuser Refill$60.00NewsletterGet the inside scoop on the latest scents. Join our VIP list:Sign Up for Our',\n",
              " \"Molla - Bois de Santal 500ml Diffuser Refill$60.00NewsletterGet the inside scoop on the latest scents. Join our VIP list:Sign Up for Our Newsletter:Sign UpThe world's largest store of luxury candles and purveyor of fine fragrances since 2003ProductsGLASS CANDLESDIFFUSERSROOM SPRAYSBATH & BODYGIFT SETSBESTSELLERSCandle CategoriesScentsCITRUSFLORALFRESHFRUITYSMOKYSPICYWOODSYCustomer CareCONTACT USHELP / FAQsSHIPPING POLICYRETURN POLICYFIND A STOREPRIVACY POLICYTERMS OF USECompanyABOUT\",\n",
              " 'CareCONTACT USHELP / FAQsSHIPPING POLICYRETURN POLICYFIND A STOREPRIVACY POLICYTERMS OF USECompanyABOUT USPRESSBLOGCopyright © 2003-2020 Candle Delirium, Inc. All Rights Reserved.',\n",
              " '***Title: Apotheke - Tonka Oak 3 Wick Candle\\nDescription: Apotheke Tonka Oak 3 Wick Candle fills any room in your home with hours of unforgettable bliss. Made of perfume grade fragrance oils, Tonka Oak combines sweet almond, warm cardamom, and clove, accentuated by coconut, Iris petals, musk, and tonka bean to create a sophisticated and full bodied fragrance.',\n",
              " 'Apotheke Candles include extraordinary scents that burn clean, enhancing any room with beautiful, simple design. Apotheke Candles are made in Brooklyn, of a high quality soy wax blend and burn up to 120 hours.\\nImage URL: https://www.candledelirium.com/media/catalog/product/cache/214a8a112b9327a038b7723d3f9364f6/3/2/32oz-to_2048x.jpg \\nURL: https://www.candledelirium.com/apotheke-tonka-oak-3-wick-candle/ \\nAvailability: In stock\\ntype: product \\nImages : \\n ***']"
            ]
          },
          "metadata": {},
          "execution_count": 15
        }
      ]
    },
    {
      "cell_type": "markdown",
      "source": [
        "## Embeddings and Vectorstores\n",
        "Let's take our splits and embed them."
      ],
      "metadata": {
        "id": "Ok2IFWFB2eUG"
      }
    },
    {
      "cell_type": "code",
      "source": [
        "from langchain.embeddings.openai import OpenAIEmbeddings\n",
        "embedding = OpenAIEmbeddings()"
      ],
      "metadata": {
        "colab": {
          "base_uri": "https://localhost:8080/"
        },
        "id": "TAt1_Hf92juq",
        "outputId": "b78fff72-02c6-40df-e9b0-597e1c436a75"
      },
      "execution_count": 16,
      "outputs": [
        {
          "output_type": "stream",
          "name": "stderr",
          "text": [
            "/usr/local/lib/python3.10/dist-packages/langchain_core/_api/deprecation.py:117: LangChainDeprecationWarning: The class `langchain_community.embeddings.openai.OpenAIEmbeddings` was deprecated in langchain-community 0.0.9 and will be removed in 0.2.0. An updated version of the class exists in the langchain-openai package and should be used instead. To use it run `pip install -U langchain-openai` and import as `from langchain_openai import OpenAIEmbeddings`.\n",
            "  warn_deprecated(\n"
          ]
        }
      ]
    },
    {
      "cell_type": "code",
      "source": [
        "!pip install chromadb\n",
        "\n",
        "from langchain.vectorstores import Chroma\n",
        "persist_directory = 'docs/chroma/'\n",
        "!rm -rf ./docs/chroma  # remove old database files if any\n",
        "import sys\n",
        "sys.path.append('../..')\n",
        "\n",
        "\n"
      ],
      "metadata": {
        "colab": {
          "base_uri": "https://localhost:8080/"
        },
        "id": "_ykwtXcf3-mV",
        "outputId": "1d0c5832-ed56-4ed4-d236-a84addd94cc9"
      },
      "execution_count": 17,
      "outputs": [
        {
          "output_type": "stream",
          "name": "stdout",
          "text": [
            "Collecting chromadb\n",
            "  Downloading chromadb-0.4.24-py3-none-any.whl (525 kB)\n",
            "\u001b[2K     \u001b[90m━━━━━━━━━━━━━━━━━━━━━━━━━━━━━━━━━━━━━━━━\u001b[0m \u001b[32m525.5/525.5 kB\u001b[0m \u001b[31m3.2 MB/s\u001b[0m eta \u001b[36m0:00:00\u001b[0m\n",
            "\u001b[?25hRequirement already satisfied: build>=1.0.3 in /usr/local/lib/python3.10/dist-packages (from chromadb) (1.1.1)\n",
            "Requirement already satisfied: requests>=2.28 in /usr/local/lib/python3.10/dist-packages (from chromadb) (2.31.0)\n",
            "Requirement already satisfied: pydantic>=1.9 in /usr/local/lib/python3.10/dist-packages (from chromadb) (2.6.3)\n",
            "Collecting chroma-hnswlib==0.7.3 (from chromadb)\n",
            "  Downloading chroma_hnswlib-0.7.3-cp310-cp310-manylinux_2_17_x86_64.manylinux2014_x86_64.whl (2.4 MB)\n",
            "\u001b[2K     \u001b[90m━━━━━━━━━━━━━━━━━━━━━━━━━━━━━━━━━━━━━━━━\u001b[0m \u001b[32m2.4/2.4 MB\u001b[0m \u001b[31m15.4 MB/s\u001b[0m eta \u001b[36m0:00:00\u001b[0m\n",
            "\u001b[?25hCollecting fastapi>=0.95.2 (from chromadb)\n",
            "  Downloading fastapi-0.110.0-py3-none-any.whl (92 kB)\n",
            "\u001b[2K     \u001b[90m━━━━━━━━━━━━━━━━━━━━━━━━━━━━━━━━━━━━━━━━\u001b[0m \u001b[32m92.1/92.1 kB\u001b[0m \u001b[31m10.5 MB/s\u001b[0m eta \u001b[36m0:00:00\u001b[0m\n",
            "\u001b[?25hCollecting uvicorn[standard]>=0.18.3 (from chromadb)\n",
            "  Downloading uvicorn-0.28.0-py3-none-any.whl (60 kB)\n",
            "\u001b[2K     \u001b[90m━━━━━━━━━━━━━━━━━━━━━━━━━━━━━━━━━━━━━━━━\u001b[0m \u001b[32m60.6/60.6 kB\u001b[0m \u001b[31m6.6 MB/s\u001b[0m eta \u001b[36m0:00:00\u001b[0m\n",
            "\u001b[?25hRequirement already satisfied: numpy>=1.22.5 in /usr/local/lib/python3.10/dist-packages (from chromadb) (1.25.2)\n",
            "Collecting posthog>=2.4.0 (from chromadb)\n",
            "  Downloading posthog-3.5.0-py2.py3-none-any.whl (41 kB)\n",
            "\u001b[2K     \u001b[90m━━━━━━━━━━━━━━━━━━━━━━━━━━━━━━━━━━━━━━━━\u001b[0m \u001b[32m41.3/41.3 kB\u001b[0m \u001b[31m4.6 MB/s\u001b[0m eta \u001b[36m0:00:00\u001b[0m\n",
            "\u001b[?25hRequirement already satisfied: typing-extensions>=4.5.0 in /usr/local/lib/python3.10/dist-packages (from chromadb) (4.10.0)\n",
            "Collecting pulsar-client>=3.1.0 (from chromadb)\n",
            "  Downloading pulsar_client-3.4.0-cp310-cp310-manylinux_2_17_x86_64.manylinux2014_x86_64.whl (5.4 MB)\n",
            "\u001b[2K     \u001b[90m━━━━━━━━━━━━━━━━━━━━━━━━━━━━━━━━━━━━━━━━\u001b[0m \u001b[32m5.4/5.4 MB\u001b[0m \u001b[31m16.5 MB/s\u001b[0m eta \u001b[36m0:00:00\u001b[0m\n",
            "\u001b[?25hCollecting onnxruntime>=1.14.1 (from chromadb)\n",
            "  Downloading onnxruntime-1.17.1-cp310-cp310-manylinux_2_27_x86_64.manylinux_2_28_x86_64.whl (6.8 MB)\n",
            "\u001b[2K     \u001b[90m━━━━━━━━━━━━━━━━━━━━━━━━━━━━━━━━━━━━━━━━\u001b[0m \u001b[32m6.8/6.8 MB\u001b[0m \u001b[31m12.4 MB/s\u001b[0m eta \u001b[36m0:00:00\u001b[0m\n",
            "\u001b[?25hCollecting opentelemetry-api>=1.2.0 (from chromadb)\n",
            "  Downloading opentelemetry_api-1.23.0-py3-none-any.whl (58 kB)\n",
            "\u001b[2K     \u001b[90m━━━━━━━━━━━━━━━━━━━━━━━━━━━━━━━━━━━━━━━━\u001b[0m \u001b[32m58.4/58.4 kB\u001b[0m \u001b[31m7.0 MB/s\u001b[0m eta \u001b[36m0:00:00\u001b[0m\n",
            "\u001b[?25hCollecting opentelemetry-exporter-otlp-proto-grpc>=1.2.0 (from chromadb)\n",
            "  Downloading opentelemetry_exporter_otlp_proto_grpc-1.23.0-py3-none-any.whl (18 kB)\n",
            "Collecting opentelemetry-instrumentation-fastapi>=0.41b0 (from chromadb)\n",
            "  Downloading opentelemetry_instrumentation_fastapi-0.44b0-py3-none-any.whl (11 kB)\n",
            "Collecting opentelemetry-sdk>=1.2.0 (from chromadb)\n",
            "  Downloading opentelemetry_sdk-1.23.0-py3-none-any.whl (105 kB)\n",
            "\u001b[2K     \u001b[90m━━━━━━━━━━━━━━━━━━━━━━━━━━━━━━━━━━━━━━━━\u001b[0m \u001b[32m105.7/105.7 kB\u001b[0m \u001b[31m8.5 MB/s\u001b[0m eta \u001b[36m0:00:00\u001b[0m\n",
            "\u001b[?25hRequirement already satisfied: tokenizers>=0.13.2 in /usr/local/lib/python3.10/dist-packages (from chromadb) (0.15.2)\n",
            "Collecting pypika>=0.48.9 (from chromadb)\n",
            "  Downloading PyPika-0.48.9.tar.gz (67 kB)\n",
            "\u001b[2K     \u001b[90m━━━━━━━━━━━━━━━━━━━━━━━━━━━━━━━━━━━━━━━━\u001b[0m \u001b[32m67.3/67.3 kB\u001b[0m \u001b[31m7.2 MB/s\u001b[0m eta \u001b[36m0:00:00\u001b[0m\n",
            "\u001b[?25h  Installing build dependencies ... \u001b[?25l\u001b[?25hdone\n",
            "  Getting requirements to build wheel ... \u001b[?25l\u001b[?25hdone\n",
            "  Preparing metadata (pyproject.toml) ... \u001b[?25l\u001b[?25hdone\n",
            "Requirement already satisfied: tqdm>=4.65.0 in /usr/local/lib/python3.10/dist-packages (from chromadb) (4.66.2)\n",
            "Collecting overrides>=7.3.1 (from chromadb)\n",
            "  Downloading overrides-7.7.0-py3-none-any.whl (17 kB)\n",
            "Requirement already satisfied: importlib-resources in /usr/local/lib/python3.10/dist-packages (from chromadb) (6.1.3)\n",
            "Requirement already satisfied: grpcio>=1.58.0 in /usr/local/lib/python3.10/dist-packages (from chromadb) (1.62.1)\n",
            "Collecting bcrypt>=4.0.1 (from chromadb)\n",
            "  Downloading bcrypt-4.1.2-cp39-abi3-manylinux_2_28_x86_64.whl (698 kB)\n",
            "\u001b[2K     \u001b[90m━━━━━━━━━━━━━━━━━━━━━━━━━━━━━━━━━━━━━━━━\u001b[0m \u001b[32m698.9/698.9 kB\u001b[0m \u001b[31m8.5 MB/s\u001b[0m eta \u001b[36m0:00:00\u001b[0m\n",
            "\u001b[?25hRequirement already satisfied: typer>=0.9.0 in /usr/local/lib/python3.10/dist-packages (from chromadb) (0.9.0)\n",
            "Collecting kubernetes>=28.1.0 (from chromadb)\n",
            "  Downloading kubernetes-29.0.0-py2.py3-none-any.whl (1.6 MB)\n",
            "\u001b[2K     \u001b[90m━━━━━━━━━━━━━━━━━━━━━━━━━━━━━━━━━━━━━━━━\u001b[0m \u001b[32m1.6/1.6 MB\u001b[0m \u001b[31m8.0 MB/s\u001b[0m eta \u001b[36m0:00:00\u001b[0m\n",
            "\u001b[?25hRequirement already satisfied: tenacity>=8.2.3 in /usr/local/lib/python3.10/dist-packages (from chromadb) (8.2.3)\n",
            "Requirement already satisfied: PyYAML>=6.0.0 in /usr/local/lib/python3.10/dist-packages (from chromadb) (6.0.1)\n",
            "Collecting mmh3>=4.0.1 (from chromadb)\n",
            "  Downloading mmh3-4.1.0-cp310-cp310-manylinux_2_5_x86_64.manylinux1_x86_64.manylinux_2_17_x86_64.manylinux2014_x86_64.whl (67 kB)\n",
            "\u001b[2K     \u001b[90m━━━━━━━━━━━━━━━━━━━━━━━━━━━━━━━━━━━━━━━━\u001b[0m \u001b[32m67.6/67.6 kB\u001b[0m \u001b[31m8.4 MB/s\u001b[0m eta \u001b[36m0:00:00\u001b[0m\n",
            "\u001b[?25hRequirement already satisfied: orjson>=3.9.12 in /usr/local/lib/python3.10/dist-packages (from chromadb) (3.9.15)\n",
            "Requirement already satisfied: packaging>=19.0 in /usr/local/lib/python3.10/dist-packages (from build>=1.0.3->chromadb) (23.2)\n",
            "Requirement already satisfied: pyproject_hooks in /usr/local/lib/python3.10/dist-packages (from build>=1.0.3->chromadb) (1.0.0)\n",
            "Requirement already satisfied: tomli>=1.1.0 in /usr/local/lib/python3.10/dist-packages (from build>=1.0.3->chromadb) (2.0.1)\n",
            "Collecting starlette<0.37.0,>=0.36.3 (from fastapi>=0.95.2->chromadb)\n",
            "  Downloading starlette-0.36.3-py3-none-any.whl (71 kB)\n",
            "\u001b[2K     \u001b[90m━━━━━━━━━━━━━━━━━━━━━━━━━━━━━━━━━━━━━━━━\u001b[0m \u001b[32m71.5/71.5 kB\u001b[0m \u001b[31m7.1 MB/s\u001b[0m eta \u001b[36m0:00:00\u001b[0m\n",
            "\u001b[?25hRequirement already satisfied: certifi>=14.05.14 in /usr/local/lib/python3.10/dist-packages (from kubernetes>=28.1.0->chromadb) (2024.2.2)\n",
            "Requirement already satisfied: six>=1.9.0 in /usr/local/lib/python3.10/dist-packages (from kubernetes>=28.1.0->chromadb) (1.16.0)\n",
            "Requirement already satisfied: python-dateutil>=2.5.3 in /usr/local/lib/python3.10/dist-packages (from kubernetes>=28.1.0->chromadb) (2.8.2)\n",
            "Requirement already satisfied: google-auth>=1.0.1 in /usr/local/lib/python3.10/dist-packages (from kubernetes>=28.1.0->chromadb) (2.27.0)\n",
            "Requirement already satisfied: websocket-client!=0.40.0,!=0.41.*,!=0.42.*,>=0.32.0 in /usr/local/lib/python3.10/dist-packages (from kubernetes>=28.1.0->chromadb) (1.7.0)\n",
            "Requirement already satisfied: requests-oauthlib in /usr/local/lib/python3.10/dist-packages (from kubernetes>=28.1.0->chromadb) (1.4.0)\n",
            "Requirement already satisfied: oauthlib>=3.2.2 in /usr/local/lib/python3.10/dist-packages (from kubernetes>=28.1.0->chromadb) (3.2.2)\n",
            "Requirement already satisfied: urllib3>=1.24.2 in /usr/local/lib/python3.10/dist-packages (from kubernetes>=28.1.0->chromadb) (2.0.7)\n",
            "Collecting coloredlogs (from onnxruntime>=1.14.1->chromadb)\n",
            "  Downloading coloredlogs-15.0.1-py2.py3-none-any.whl (46 kB)\n",
            "\u001b[2K     \u001b[90m━━━━━━━━━━━━━━━━━━━━━━━━━━━━━━━━━━━━━━━━\u001b[0m \u001b[32m46.0/46.0 kB\u001b[0m \u001b[31m5.8 MB/s\u001b[0m eta \u001b[36m0:00:00\u001b[0m\n",
            "\u001b[?25hRequirement already satisfied: flatbuffers in /usr/local/lib/python3.10/dist-packages (from onnxruntime>=1.14.1->chromadb) (24.3.7)\n",
            "Requirement already satisfied: protobuf in /usr/local/lib/python3.10/dist-packages (from onnxruntime>=1.14.1->chromadb) (3.20.3)\n",
            "Requirement already satisfied: sympy in /usr/local/lib/python3.10/dist-packages (from onnxruntime>=1.14.1->chromadb) (1.12)\n",
            "Collecting deprecated>=1.2.6 (from opentelemetry-api>=1.2.0->chromadb)\n",
            "  Downloading Deprecated-1.2.14-py2.py3-none-any.whl (9.6 kB)\n",
            "Collecting importlib-metadata<7.0,>=6.0 (from opentelemetry-api>=1.2.0->chromadb)\n",
            "  Downloading importlib_metadata-6.11.0-py3-none-any.whl (23 kB)\n",
            "Requirement already satisfied: googleapis-common-protos~=1.52 in /usr/local/lib/python3.10/dist-packages (from opentelemetry-exporter-otlp-proto-grpc>=1.2.0->chromadb) (1.63.0)\n",
            "Collecting opentelemetry-exporter-otlp-proto-common==1.23.0 (from opentelemetry-exporter-otlp-proto-grpc>=1.2.0->chromadb)\n",
            "  Downloading opentelemetry_exporter_otlp_proto_common-1.23.0-py3-none-any.whl (17 kB)\n",
            "Collecting opentelemetry-proto==1.23.0 (from opentelemetry-exporter-otlp-proto-grpc>=1.2.0->chromadb)\n",
            "  Downloading opentelemetry_proto-1.23.0-py3-none-any.whl (50 kB)\n",
            "\u001b[2K     \u001b[90m━━━━━━━━━━━━━━━━━━━━━━━━━━━━━━━━━━━━━━━━\u001b[0m \u001b[32m50.8/50.8 kB\u001b[0m \u001b[31m6.2 MB/s\u001b[0m eta \u001b[36m0:00:00\u001b[0m\n",
            "\u001b[?25hCollecting opentelemetry-instrumentation-asgi==0.44b0 (from opentelemetry-instrumentation-fastapi>=0.41b0->chromadb)\n",
            "  Downloading opentelemetry_instrumentation_asgi-0.44b0-py3-none-any.whl (14 kB)\n",
            "Collecting opentelemetry-instrumentation==0.44b0 (from opentelemetry-instrumentation-fastapi>=0.41b0->chromadb)\n",
            "  Downloading opentelemetry_instrumentation-0.44b0-py3-none-any.whl (28 kB)\n",
            "Collecting opentelemetry-semantic-conventions==0.44b0 (from opentelemetry-instrumentation-fastapi>=0.41b0->chromadb)\n",
            "  Downloading opentelemetry_semantic_conventions-0.44b0-py3-none-any.whl (36 kB)\n",
            "Collecting opentelemetry-util-http==0.44b0 (from opentelemetry-instrumentation-fastapi>=0.41b0->chromadb)\n",
            "  Downloading opentelemetry_util_http-0.44b0-py3-none-any.whl (6.9 kB)\n",
            "Requirement already satisfied: setuptools>=16.0 in /usr/local/lib/python3.10/dist-packages (from opentelemetry-instrumentation==0.44b0->opentelemetry-instrumentation-fastapi>=0.41b0->chromadb) (67.7.2)\n",
            "Requirement already satisfied: wrapt<2.0.0,>=1.0.0 in /usr/local/lib/python3.10/dist-packages (from opentelemetry-instrumentation==0.44b0->opentelemetry-instrumentation-fastapi>=0.41b0->chromadb) (1.14.1)\n",
            "Collecting asgiref~=3.0 (from opentelemetry-instrumentation-asgi==0.44b0->opentelemetry-instrumentation-fastapi>=0.41b0->chromadb)\n",
            "  Downloading asgiref-3.7.2-py3-none-any.whl (24 kB)\n",
            "Collecting monotonic>=1.5 (from posthog>=2.4.0->chromadb)\n",
            "  Downloading monotonic-1.6-py2.py3-none-any.whl (8.2 kB)\n",
            "Collecting backoff>=1.10.0 (from posthog>=2.4.0->chromadb)\n",
            "  Downloading backoff-2.2.1-py3-none-any.whl (15 kB)\n",
            "Requirement already satisfied: annotated-types>=0.4.0 in /usr/local/lib/python3.10/dist-packages (from pydantic>=1.9->chromadb) (0.6.0)\n",
            "Requirement already satisfied: pydantic-core==2.16.3 in /usr/local/lib/python3.10/dist-packages (from pydantic>=1.9->chromadb) (2.16.3)\n",
            "Requirement already satisfied: charset-normalizer<4,>=2 in /usr/local/lib/python3.10/dist-packages (from requests>=2.28->chromadb) (3.3.2)\n",
            "Requirement already satisfied: idna<4,>=2.5 in /usr/local/lib/python3.10/dist-packages (from requests>=2.28->chromadb) (3.6)\n",
            "Requirement already satisfied: huggingface_hub<1.0,>=0.16.4 in /usr/local/lib/python3.10/dist-packages (from tokenizers>=0.13.2->chromadb) (0.20.3)\n",
            "Requirement already satisfied: click<9.0.0,>=7.1.1 in /usr/local/lib/python3.10/dist-packages (from typer>=0.9.0->chromadb) (8.1.7)\n",
            "Requirement already satisfied: h11>=0.8 in /usr/local/lib/python3.10/dist-packages (from uvicorn[standard]>=0.18.3->chromadb) (0.14.0)\n",
            "Collecting httptools>=0.5.0 (from uvicorn[standard]>=0.18.3->chromadb)\n",
            "  Downloading httptools-0.6.1-cp310-cp310-manylinux_2_5_x86_64.manylinux1_x86_64.manylinux_2_17_x86_64.manylinux2014_x86_64.whl (341 kB)\n",
            "\u001b[2K     \u001b[90m━━━━━━━━━━━━━━━━━━━━━━━━━━━━━━━━━━━━━━━━\u001b[0m \u001b[32m341.4/341.4 kB\u001b[0m \u001b[31m8.6 MB/s\u001b[0m eta \u001b[36m0:00:00\u001b[0m\n",
            "\u001b[?25hCollecting python-dotenv>=0.13 (from uvicorn[standard]>=0.18.3->chromadb)\n",
            "  Downloading python_dotenv-1.0.1-py3-none-any.whl (19 kB)\n",
            "Collecting uvloop!=0.15.0,!=0.15.1,>=0.14.0 (from uvicorn[standard]>=0.18.3->chromadb)\n",
            "  Downloading uvloop-0.19.0-cp310-cp310-manylinux_2_17_x86_64.manylinux2014_x86_64.whl (3.4 MB)\n",
            "\u001b[2K     \u001b[90m━━━━━━━━━━━━━━━━━━━━━━━━━━━━━━━━━━━━━━━━\u001b[0m \u001b[32m3.4/3.4 MB\u001b[0m \u001b[31m7.0 MB/s\u001b[0m eta \u001b[36m0:00:00\u001b[0m\n",
            "\u001b[?25hCollecting watchfiles>=0.13 (from uvicorn[standard]>=0.18.3->chromadb)\n",
            "  Downloading watchfiles-0.21.0-cp310-cp310-manylinux_2_17_x86_64.manylinux2014_x86_64.whl (1.3 MB)\n",
            "\u001b[2K     \u001b[90m━━━━━━━━━━━━━━━━━━━━━━━━━━━━━━━━━━━━━━━━\u001b[0m \u001b[32m1.3/1.3 MB\u001b[0m \u001b[31m9.0 MB/s\u001b[0m eta \u001b[36m0:00:00\u001b[0m\n",
            "\u001b[?25hCollecting websockets>=10.4 (from uvicorn[standard]>=0.18.3->chromadb)\n",
            "  Downloading websockets-12.0-cp310-cp310-manylinux_2_5_x86_64.manylinux1_x86_64.manylinux_2_17_x86_64.manylinux2014_x86_64.whl (130 kB)\n",
            "\u001b[2K     \u001b[90m━━━━━━━━━━━━━━━━━━━━━━━━━━━━━━━━━━━━━━━━\u001b[0m \u001b[32m130.2/130.2 kB\u001b[0m \u001b[31m8.9 MB/s\u001b[0m eta \u001b[36m0:00:00\u001b[0m\n",
            "\u001b[?25hRequirement already satisfied: cachetools<6.0,>=2.0.0 in /usr/local/lib/python3.10/dist-packages (from google-auth>=1.0.1->kubernetes>=28.1.0->chromadb) (5.3.3)\n",
            "Requirement already satisfied: pyasn1-modules>=0.2.1 in /usr/local/lib/python3.10/dist-packages (from google-auth>=1.0.1->kubernetes>=28.1.0->chromadb) (0.3.0)\n",
            "Requirement already satisfied: rsa<5,>=3.1.4 in /usr/local/lib/python3.10/dist-packages (from google-auth>=1.0.1->kubernetes>=28.1.0->chromadb) (4.9)\n",
            "Requirement already satisfied: filelock in /usr/local/lib/python3.10/dist-packages (from huggingface_hub<1.0,>=0.16.4->tokenizers>=0.13.2->chromadb) (3.13.1)\n",
            "Requirement already satisfied: fsspec>=2023.5.0 in /usr/local/lib/python3.10/dist-packages (from huggingface_hub<1.0,>=0.16.4->tokenizers>=0.13.2->chromadb) (2023.6.0)\n",
            "Requirement already satisfied: zipp>=0.5 in /usr/local/lib/python3.10/dist-packages (from importlib-metadata<7.0,>=6.0->opentelemetry-api>=1.2.0->chromadb) (3.17.0)\n",
            "Requirement already satisfied: anyio<5,>=3.4.0 in /usr/local/lib/python3.10/dist-packages (from starlette<0.37.0,>=0.36.3->fastapi>=0.95.2->chromadb) (3.7.1)\n",
            "Collecting humanfriendly>=9.1 (from coloredlogs->onnxruntime>=1.14.1->chromadb)\n",
            "  Downloading humanfriendly-10.0-py2.py3-none-any.whl (86 kB)\n",
            "\u001b[2K     \u001b[90m━━━━━━━━━━━━━━━━━━━━━━━━━━━━━━━━━━━━━━━━\u001b[0m \u001b[32m86.8/86.8 kB\u001b[0m \u001b[31m7.3 MB/s\u001b[0m eta \u001b[36m0:00:00\u001b[0m\n",
            "\u001b[?25hRequirement already satisfied: mpmath>=0.19 in /usr/local/lib/python3.10/dist-packages (from sympy->onnxruntime>=1.14.1->chromadb) (1.3.0)\n",
            "Requirement already satisfied: sniffio>=1.1 in /usr/local/lib/python3.10/dist-packages (from anyio<5,>=3.4.0->starlette<0.37.0,>=0.36.3->fastapi>=0.95.2->chromadb) (1.3.1)\n",
            "Requirement already satisfied: exceptiongroup in /usr/local/lib/python3.10/dist-packages (from anyio<5,>=3.4.0->starlette<0.37.0,>=0.36.3->fastapi>=0.95.2->chromadb) (1.2.0)\n",
            "Requirement already satisfied: pyasn1<0.6.0,>=0.4.6 in /usr/local/lib/python3.10/dist-packages (from pyasn1-modules>=0.2.1->google-auth>=1.0.1->kubernetes>=28.1.0->chromadb) (0.5.1)\n",
            "Building wheels for collected packages: pypika\n",
            "  Building wheel for pypika (pyproject.toml) ... \u001b[?25l\u001b[?25hdone\n",
            "  Created wheel for pypika: filename=PyPika-0.48.9-py2.py3-none-any.whl size=53724 sha256=72b015e7116783ec8e2bb31dd34a8276ca40f80f9c3d3ef2dd737a31a919123c\n",
            "  Stored in directory: /root/.cache/pip/wheels/e1/26/51/d0bffb3d2fd82256676d7ad3003faea3bd6dddc9577af665f4\n",
            "Successfully built pypika\n",
            "Installing collected packages: pypika, monotonic, mmh3, websockets, uvloop, uvicorn, python-dotenv, pulsar-client, overrides, opentelemetry-util-http, opentelemetry-semantic-conventions, opentelemetry-proto, importlib-metadata, humanfriendly, httptools, deprecated, chroma-hnswlib, bcrypt, backoff, asgiref, watchfiles, starlette, posthog, opentelemetry-exporter-otlp-proto-common, opentelemetry-api, coloredlogs, opentelemetry-sdk, opentelemetry-instrumentation, onnxruntime, kubernetes, fastapi, opentelemetry-instrumentation-asgi, opentelemetry-exporter-otlp-proto-grpc, opentelemetry-instrumentation-fastapi, chromadb\n",
            "  Attempting uninstall: importlib-metadata\n",
            "    Found existing installation: importlib_metadata 7.0.2\n",
            "    Uninstalling importlib_metadata-7.0.2:\n",
            "      Successfully uninstalled importlib_metadata-7.0.2\n",
            "Successfully installed asgiref-3.7.2 backoff-2.2.1 bcrypt-4.1.2 chroma-hnswlib-0.7.3 chromadb-0.4.24 coloredlogs-15.0.1 deprecated-1.2.14 fastapi-0.110.0 httptools-0.6.1 humanfriendly-10.0 importlib-metadata-6.11.0 kubernetes-29.0.0 mmh3-4.1.0 monotonic-1.6 onnxruntime-1.17.1 opentelemetry-api-1.23.0 opentelemetry-exporter-otlp-proto-common-1.23.0 opentelemetry-exporter-otlp-proto-grpc-1.23.0 opentelemetry-instrumentation-0.44b0 opentelemetry-instrumentation-asgi-0.44b0 opentelemetry-instrumentation-fastapi-0.44b0 opentelemetry-proto-1.23.0 opentelemetry-sdk-1.23.0 opentelemetry-semantic-conventions-0.44b0 opentelemetry-util-http-0.44b0 overrides-7.7.0 posthog-3.5.0 pulsar-client-3.4.0 pypika-0.48.9 python-dotenv-1.0.1 starlette-0.36.3 uvicorn-0.28.0 uvloop-0.19.0 watchfiles-0.21.0 websockets-12.0\n"
          ]
        }
      ]
    },
    {
      "cell_type": "code",
      "source": [
        "vectordb = Chroma(\n",
        "    persist_directory=persist_directory,\n",
        "    embedding_function=embedding\n",
        ")"
      ],
      "metadata": {
        "id": "3QpR0yFe4OkW"
      },
      "execution_count": 18,
      "outputs": []
    },
    {
      "cell_type": "code",
      "source": [
        "vectordb = Chroma.from_texts(splits, embedding=embedding)"
      ],
      "metadata": {
        "id": "LSQmBKkUi5vY"
      },
      "execution_count": 19,
      "outputs": []
    },
    {
      "cell_type": "code",
      "source": [
        "print(vectordb._collection.count())"
      ],
      "metadata": {
        "colab": {
          "base_uri": "https://localhost:8080/"
        },
        "id": "RG5vU-q7mdzy",
        "outputId": "b53f197e-5d31-4f98-80cb-2e023251e0b8"
      },
      "execution_count": 20,
      "outputs": [
        {
          "output_type": "stream",
          "name": "stdout",
          "text": [
            "209\n"
          ]
        }
      ]
    },
    {
      "cell_type": "code",
      "source": [
        "vectordb.similarity_search(column+\" upc description\", k=5)"
      ],
      "metadata": {
        "colab": {
          "base_uri": "https://localhost:8080/"
        },
        "id": "qi06WfIZjEaF",
        "outputId": "40ca5aba-2519-4103-f63f-2b61bed155be"
      },
      "execution_count": 21,
      "outputs": [
        {
          "output_type": "execute_result",
          "data": {
            "text/plain": [
              "[Document(page_content='URL: https://apothekeco.com/collections/3-wick-candles \\nAvailability: Unknown\\nSite Name: APOTHEKE \\ntype: product.group \\nImages : ,http://apothekeco.com/cdn/shop/collections/3-wick-candles-681433.jpg?v=1661870647&width=1950'),\n",
              " Document(page_content='***Title: 3-Wick Candles | APOTHEKE\\nDescription: Made with a premium soy wax blend and essential and perfume-grade fragrance oils, our luxury scented 3-wick candles are designed to provide a clean-burning and exceptional scent experience.\\nImage URL: http:collections/3-wick-candles-681433.jpg \\nURL: https://apothekeco.com/collections/3-wick-candles \\nAvailability: Unknown\\nSite Name: APOTHEKE \\ntype: product.group'),\n",
              " Document(page_content='3-Wick Scented Candle is made with a premium soy wax blend and essential and perfume-grade fragrance oils in a glossy blue-translucent glass vessel. The\\xa0...Apotheke 3-Wick Candles Collection - Amazon.comwww.amazon.com › Scented-Candles-Home-Soy-Wax-Jar-CandleRating4.2(147)·$78.00·In stockOur candles are hand poured and made with a proprietary blend of essential and perfume-grade oils for a long-lasting fragrance. Each 26 oz candle burns for\\xa0...APOTHEKE 3-Wick Candle - Goodywww.ongoody.com ›'),\n",
              " Document(page_content='URL: https://apothekeco.com/collections/candles-votives-and-3-wicks \\nAvailability: Unknown\\nSite Name: APOTHEKE \\ntype: product.group \\nImages : ,http://apothekeco.com/cdn/shop/collections/candles-votives-and-3-wicks-224786.jpg?v=1691471633&width=1950'),\n",
              " Document(page_content='Google×Please clickhereif you are not redirected within a few seconds.AllImagesShoppingNewsMapsVideosBooksSearch toolsAny timeAny timePast hourPast 24 hoursPast weekPast monthPast yearAll resultsAll resultsVerbatim3-Wick Candles | APOTHEKEapothekeco.com › collections › 3-wick-candlesMade with a premium soy wax blend and essential and perfume-grade fragrance oils, our luxury scented 3-wick candles are designed to provide a clean-burning\\xa0...Charcoal 3-Wick Candle - Apothekeapothekeco.com ›')]"
            ]
          },
          "metadata": {},
          "execution_count": 21
        }
      ]
    },
    {
      "cell_type": "code",
      "source": [
        "vectordb.max_marginal_relevance_search(column+\" upc\",k=5)"
      ],
      "metadata": {
        "colab": {
          "base_uri": "https://localhost:8080/"
        },
        "id": "0BG5lhqlm6tW",
        "outputId": "63eaf551-626d-4a66-b783-572c036c1242"
      },
      "execution_count": 22,
      "outputs": [
        {
          "output_type": "execute_result",
          "data": {
            "text/plain": [
              "[Document(page_content='URL: https://apothekeco.com/collections/3-wick-candles \\nAvailability: Unknown\\nSite Name: APOTHEKE \\ntype: product.group \\nImages : ,http://apothekeco.com/cdn/shop/collections/3-wick-candles-681433.jpg?v=1661870647&width=1950'),\n",
              " Document(page_content='The FragranceCanvas 3-Wick Candle - Apothekeapothekeco.com › products › canvas-3-wick-candleRating5.0(8)·$78.00·In stockThis 3-Wick Scented Candle is made with a premium soy wax blend and essential and perfume-grade fragrance oils in a luxe white-translucent glass vessel. The\\xa0...APOTHEKE Market Collection Luxury Scented 3-Wick Jar Candle ...www.amazon.com › APOTHEKE-Market-Collection-Luxury-ScentedRating4.2(147)·$72.95Buy APOTHEKE Market Collection Luxury Scented 3-Wick Jar Candle, Meyer Lemon'),\n",
              " Document(page_content='***Title: Apotheke - Tonka Oak 3 Wick Candle\\nDescription: Apotheke Tonka Oak 3 Wick Candle fills any room in your home with hours of unforgettable bliss. Made of perfume grade fragrance oils, Tonka Oak combines sweet almond, warm cardamom, and clove, accentuated by coconut, Iris petals, musk, and tonka bean to create a sophisticated and full bodied fragrance.'),\n",
              " Document(page_content='3-Wick Candle$78.00Quick ViewEarl Grey Bitters 3-Wick Candle$78.00Quick ViewOrange Blossom Neroli 3-Wick Candle$78.00Quick ViewBlack Iris Oak 3-Wick Candle$78.00Quick ViewCedarwood Ginger 3-Wick Candle$78.00Quick ViewSaffron Vanilla 3-Wick Candle$78.00Quick ViewTonka Oak 3-Wick Candle$78.00Quick ViewWild Mint and Ivy 3-Wick Candle$78.00Quick ViewApricot Red Currant 3-Wick Candle$78.00Follow UsYoutubeInstagramPinterestTwitterQuick LinksStore LocatorShipping & ReturnsAPOTHEKE RewardsBecome an'),\n",
              " Document(page_content=\"out of 5 stars147 ratings4.2 out of 5 starsBest Sellers Rank#88,376 in Health & Household (See Top 100 in Health & Household)#323 inAromatherapy CandlesDate First AvailableMarch 16, 2019Warranty & SupportProduct Warranty:For warranty information about this product, pleaseclick hereFeedbackWould you like totell us about a lower price?Apotheke 3-Wick Candles CollectionShare:Found a lower price? Let us know. Although we can't match every price reported, we'll use your feedback to ensure that our\")]"
            ]
          },
          "metadata": {},
          "execution_count": 22
        }
      ]
    },
    {
      "cell_type": "code",
      "source": [
        "retriever = vectordb.as_retriever()"
      ],
      "metadata": {
        "id": "KNCB2i0tjab8"
      },
      "execution_count": 36,
      "outputs": []
    },
    {
      "cell_type": "code",
      "source": [
        "retriever.get_relevant_documents(\"where did harrison work?\")\n"
      ],
      "metadata": {
        "id": "QYk3RyN2jd0e",
        "outputId": "0f66a22e-ce85-481f-97dd-29ece0edb5d2",
        "colab": {
          "base_uri": "https://localhost:8080/"
        }
      },
      "execution_count": 37,
      "outputs": [
        {
          "output_type": "execute_result",
          "data": {
            "text/plain": [
              "[Document(page_content='RewardsBecome an AmbassadorBlogFAQPrivacyTerms & ConditionsMSRP/MAP PolicyApply for WholesaleContact UsSign up to receive exclusive discounts, stay up to date with the latest releases, and learn a little bit about... us!Right arrow longCurrencyUnited States (USD\\xa0$)Australia(USD\\xa0$)Austria(USD\\xa0$)Belgium(USD\\xa0$)Bulgaria(USD\\xa0$)Canada(USD\\xa0$)Czechia(USD\\xa0$)Denmark(USD\\xa0$)Estonia(USD\\xa0$)Finland(USD\\xa0$)France(USD\\xa0$)Germany(USD\\xa0$)Hong Kong'),\n",
              " Document(page_content='RewardsBecome an AmbassadorBlogFAQPrivacyTerms & ConditionsMSRP/MAP PolicyApply for WholesaleContact UsSign up to receive exclusive discounts, stay up to date with the latest releases, and learn a little bit about... us!Right arrow longCurrencyUnited States (USD\\xa0$)Australia(USD\\xa0$)Austria(USD\\xa0$)Belgium(USD\\xa0$)Bulgaria(USD\\xa0$)Canada(USD\\xa0$)Czechia(USD\\xa0$)Denmark(USD\\xa0$)Estonia(USD\\xa0$)Finland(USD\\xa0$)France(USD\\xa0$)Germany(USD\\xa0$)Hong Kong'),\n",
              " Document(page_content='RewardsBecome an AmbassadorBlogFAQPrivacyTerms & ConditionsMSRP/MAP PolicyApply for WholesaleContact UsSign up to receive exclusive discounts, stay up to date with the latest releases, and learn a little bit about... us!Right arrow longCurrencyUnited States (USD\\xa0$)Australia(USD\\xa0$)Austria(USD\\xa0$)Belgium(USD\\xa0$)Bulgaria(USD\\xa0$)Canada(USD\\xa0$)Czechia(USD\\xa0$)Denmark(USD\\xa0$)Estonia(USD\\xa0$)Finland(USD\\xa0$)France(USD\\xa0$)Germany(USD\\xa0$)Hong Kong'),\n",
              " Document(page_content='RewardsBecome an AmbassadorBlogFAQPrivacyTerms & ConditionsMSRP/MAP PolicyApply for WholesaleContact UsSign up to receive exclusive discounts, stay up to date with the latest releases, and learn a little bit about... us!Right arrow longCurrencyUnited States (USD\\xa0$)Australia(USD\\xa0$)Austria(USD\\xa0$)Belgium(USD\\xa0$)Bulgaria(USD\\xa0$)Canada(USD\\xa0$)Czechia(USD\\xa0$)Denmark(USD\\xa0$)Estonia(USD\\xa0$)Finland(USD\\xa0$)France(USD\\xa0$)Germany(USD\\xa0$)Hong Kong')]"
            ]
          },
          "metadata": {},
          "execution_count": 37
        }
      ]
    },
    {
      "cell_type": "markdown",
      "source": [
        "# LangChain Expression Language (LCEL)"
      ],
      "metadata": {
        "id": "ji1uUGHYAA4n"
      }
    },
    {
      "cell_type": "code",
      "source": [
        "from langchain.prompts import ChatPromptTemplate\n",
        "from langchain.schema.output_parser import StrOutputParser\n",
        "from langchain.schema.runnable import RunnableMap"
      ],
      "metadata": {
        "id": "Fy2hkH9WADbI"
      },
      "execution_count": 25,
      "outputs": []
    },
    {
      "cell_type": "code",
      "source": [
        "template = \"\"\"\n",
        "As a search analyst, your task is to find specific information online. We've provided context to assist:\n",
        "\n",
        "{context}\n",
        "\n",
        "Answer the following question based solely on the context:\n",
        "\n",
        "Question: {question}\n",
        "\n",
        "Provide the requested information in this format:\n",
        "\n",
        "Brand name:\n",
        "Product name:\n",
        "Product image(s): [provide at least one link]\n",
        "Color: [list colors, separated by commas]\n",
        "Category: [identify the product's category on Amazon]\n",
        "Description: [include a brief product description]\n",
        "Sold on Amazon: true / false\n",
        "Amazon price: [indicate the price range]\n",
        "ASIN: [list ASIN codes, separated by commas]\n",
        "UPC: [mention the UPC]\n",
        "\n",
        "If the information isn't available, conduct your own search and provide an answer.\n",
        "\"\"\"\n",
        "prompt = ChatPromptTemplate.from_template(template)"
      ],
      "metadata": {
        "id": "CWys22wJAwb6"
      },
      "execution_count": 26,
      "outputs": []
    },
    {
      "cell_type": "code",
      "source": [
        "model = llm\n",
        "output_parser = StrOutputParser()\n",
        "\n"
      ],
      "metadata": {
        "id": "-cdw-6OtA4YE"
      },
      "execution_count": 27,
      "outputs": []
    },
    {
      "cell_type": "code",
      "source": [
        "chain = RunnableMap({\n",
        "    \"context\": lambda x:retriever.get_relevant_documents(x[\"question\"]),       #google_scraper(x[\"question\"]),     #combined_scraped_api_search(x[\"question\"]),\n",
        "    \"question\": lambda x: x[\"question\"]\n",
        "}) | prompt | model | output_parser"
      ],
      "metadata": {
        "id": "DFu7PmQoBBEH"
      },
      "execution_count": 43,
      "outputs": []
    },
    {
      "cell_type": "code",
      "source": [
        "print(chain.invoke({\"question\": \"Apotheke 3-Wick Candles Collection charcoal\"}))"
      ],
      "metadata": {
        "colab": {
          "base_uri": "https://localhost:8080/"
        },
        "id": "oOTjxIf0A_Ru",
        "outputId": "5fc9f6ae-7825-43c7-aabd-0621108c2aba"
      },
      "execution_count": 44,
      "outputs": [
        {
          "output_type": "stream",
          "name": "stdout",
          "text": [
            "Brand name: Apotheke\n",
            "Product name: Charcoal 3-Wick Candle\n",
            "Product image(s): [http://apothekeco.com/cdn/shop/products/AP03-CH_Charcoal_26oz_3WickCandle_1000x1000.jpg?v=1704389442]\n",
            "Color: Matte black\n",
            "Category: Home & Kitchen\n",
            "Description: Our number 1 best seller, Charcoal, featured in our signature matte black vessel will elevate any room in your home. Notes of cedarwood and sandalwood blended with smokey amber and oud come together to create a broody full-bodied fragrance.\n",
            "Sold on Amazon: true\n",
            "Amazon price: $78.00\n",
            "ASIN: B08K3ZQZ3P\n",
            "UPC: 850000236013\n"
          ]
        }
      ]
    },
    {
      "cell_type": "code",
      "source": [
        "from langchain.callbacks import get_openai_callback\n"
      ],
      "metadata": {
        "id": "J4DftzUgw3UR"
      },
      "execution_count": 45,
      "outputs": []
    },
    {
      "cell_type": "code",
      "source": [
        "with get_openai_callback() as cb:\n",
        "    result = chain.invoke({\"question\": \"Apotheke 3-Wick Candles Collection charcoal\"})\n",
        "    print(cb)"
      ],
      "metadata": {
        "colab": {
          "base_uri": "https://localhost:8080/"
        },
        "id": "1WB0hPfFw8q9",
        "outputId": "3af933e4-50a6-4b1f-90df-233f5982958d"
      },
      "execution_count": 47,
      "outputs": [
        {
          "output_type": "stream",
          "name": "stdout",
          "text": [
            "Tokens Used: 836\n",
            "\tPrompt Tokens: 676\n",
            "\tCompletion Tokens: 160\n",
            "Successful Requests: 1\n",
            "Total Cost (USD): $0.0013340000000000001\n"
          ]
        }
      ]
    }
  ]
}