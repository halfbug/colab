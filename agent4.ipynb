{
  "nbformat": 4,
  "nbformat_minor": 0,
  "metadata": {
    "colab": {
      "provenance": [],
      "authorship_tag": "ABX9TyM9JYPIKB55FnQ+uxWGZnxJ",
      "include_colab_link": true
    },
    "kernelspec": {
      "name": "python3",
      "display_name": "Python 3"
    },
    "language_info": {
      "name": "python"
    }
  },
  "cells": [
    {
      "cell_type": "markdown",
      "metadata": {
        "id": "view-in-github",
        "colab_type": "text"
      },
      "source": [
        "<a href=\"https://colab.research.google.com/github/halfbug/colab/blob/main/agent4.ipynb\" target=\"_parent\"><img src=\"https://colab.research.google.com/assets/colab-badge.svg\" alt=\"Open In Colab\"/></a>"
      ]
    },
    {
      "cell_type": "markdown",
      "source": [
        "## **LangChain and OpenAI installation**\n"
      ],
      "metadata": {
        "id": "mkl0jefz5ppY"
      }
    },
    {
      "cell_type": "code",
      "source": [
        "try:\n",
        "  import openai\n",
        "  from langchain_openai import ChatOpenAI\n",
        "except:\n",
        "    !pip install openai\n",
        "    !pip install langchain\n",
        "    !pip install langchain-openai"
      ],
      "metadata": {
        "id": "xPDvuNzT5vac",
        "outputId": "7d3ffa3a-d970-452e-a1bc-39de80958b8a",
        "colab": {
          "base_uri": "https://localhost:8080/"
        }
      },
      "execution_count": 2,
      "outputs": [
        {
          "output_type": "stream",
          "name": "stdout",
          "text": [
            "Collecting openai\n",
            "  Downloading openai-1.13.3-py3-none-any.whl (227 kB)\n",
            "\u001b[?25l     \u001b[90m━━━━━━━━━━━━━━━━━━━━━━━━━━━━━━━━━━━━━━━━\u001b[0m \u001b[32m0.0/227.4 kB\u001b[0m \u001b[31m?\u001b[0m eta \u001b[36m-:--:--\u001b[0m\r\u001b[2K     \u001b[91m━━━━━━━━━━━━━━━━━━━━━━━━━\u001b[0m\u001b[90m╺\u001b[0m\u001b[90m━━━━━━━━━━━━━━\u001b[0m \u001b[32m143.4/227.4 kB\u001b[0m \u001b[31m4.1 MB/s\u001b[0m eta \u001b[36m0:00:01\u001b[0m\r\u001b[2K     \u001b[90m━━━━━━━━━━━━━━━━━━━━━━━━━━━━━━━━━━━━━━━━\u001b[0m \u001b[32m227.4/227.4 kB\u001b[0m \u001b[31m4.5 MB/s\u001b[0m eta \u001b[36m0:00:00\u001b[0m\n",
            "\u001b[?25hRequirement already satisfied: anyio<5,>=3.5.0 in /usr/local/lib/python3.10/dist-packages (from openai) (3.7.1)\n",
            "Requirement already satisfied: distro<2,>=1.7.0 in /usr/lib/python3/dist-packages (from openai) (1.7.0)\n",
            "Collecting httpx<1,>=0.23.0 (from openai)\n",
            "  Downloading httpx-0.27.0-py3-none-any.whl (75 kB)\n",
            "\u001b[2K     \u001b[90m━━━━━━━━━━━━━━━━━━━━━━━━━━━━━━━━━━━━━━━━\u001b[0m \u001b[32m75.6/75.6 kB\u001b[0m \u001b[31m9.4 MB/s\u001b[0m eta \u001b[36m0:00:00\u001b[0m\n",
            "\u001b[?25hRequirement already satisfied: pydantic<3,>=1.9.0 in /usr/local/lib/python3.10/dist-packages (from openai) (2.6.3)\n",
            "Requirement already satisfied: sniffio in /usr/local/lib/python3.10/dist-packages (from openai) (1.3.1)\n",
            "Requirement already satisfied: tqdm>4 in /usr/local/lib/python3.10/dist-packages (from openai) (4.66.2)\n",
            "Requirement already satisfied: typing-extensions<5,>=4.7 in /usr/local/lib/python3.10/dist-packages (from openai) (4.10.0)\n",
            "Requirement already satisfied: idna>=2.8 in /usr/local/lib/python3.10/dist-packages (from anyio<5,>=3.5.0->openai) (3.6)\n",
            "Requirement already satisfied: exceptiongroup in /usr/local/lib/python3.10/dist-packages (from anyio<5,>=3.5.0->openai) (1.2.0)\n",
            "Requirement already satisfied: certifi in /usr/local/lib/python3.10/dist-packages (from httpx<1,>=0.23.0->openai) (2024.2.2)\n",
            "Collecting httpcore==1.* (from httpx<1,>=0.23.0->openai)\n",
            "  Downloading httpcore-1.0.4-py3-none-any.whl (77 kB)\n",
            "\u001b[2K     \u001b[90m━━━━━━━━━━━━━━━━━━━━━━━━━━━━━━━━━━━━━━━━\u001b[0m \u001b[32m77.8/77.8 kB\u001b[0m \u001b[31m8.3 MB/s\u001b[0m eta \u001b[36m0:00:00\u001b[0m\n",
            "\u001b[?25hCollecting h11<0.15,>=0.13 (from httpcore==1.*->httpx<1,>=0.23.0->openai)\n",
            "  Downloading h11-0.14.0-py3-none-any.whl (58 kB)\n",
            "\u001b[2K     \u001b[90m━━━━━━━━━━━━━━━━━━━━━━━━━━━━━━━━━━━━━━━━\u001b[0m \u001b[32m58.3/58.3 kB\u001b[0m \u001b[31m7.8 MB/s\u001b[0m eta \u001b[36m0:00:00\u001b[0m\n",
            "\u001b[?25hRequirement already satisfied: annotated-types>=0.4.0 in /usr/local/lib/python3.10/dist-packages (from pydantic<3,>=1.9.0->openai) (0.6.0)\n",
            "Requirement already satisfied: pydantic-core==2.16.3 in /usr/local/lib/python3.10/dist-packages (from pydantic<3,>=1.9.0->openai) (2.16.3)\n",
            "Installing collected packages: h11, httpcore, httpx, openai\n",
            "Successfully installed h11-0.14.0 httpcore-1.0.4 httpx-0.27.0 openai-1.13.3\n",
            "Collecting langchain\n",
            "  Downloading langchain-0.1.11-py3-none-any.whl (807 kB)\n",
            "\u001b[2K     \u001b[90m━━━━━━━━━━━━━━━━━━━━━━━━━━━━━━━━━━━━━━━━\u001b[0m \u001b[32m807.5/807.5 kB\u001b[0m \u001b[31m8.3 MB/s\u001b[0m eta \u001b[36m0:00:00\u001b[0m\n",
            "\u001b[?25hRequirement already satisfied: PyYAML>=5.3 in /usr/local/lib/python3.10/dist-packages (from langchain) (6.0.1)\n",
            "Requirement already satisfied: SQLAlchemy<3,>=1.4 in /usr/local/lib/python3.10/dist-packages (from langchain) (2.0.28)\n",
            "Requirement already satisfied: aiohttp<4.0.0,>=3.8.3 in /usr/local/lib/python3.10/dist-packages (from langchain) (3.9.3)\n",
            "Requirement already satisfied: async-timeout<5.0.0,>=4.0.0 in /usr/local/lib/python3.10/dist-packages (from langchain) (4.0.3)\n",
            "Collecting dataclasses-json<0.7,>=0.5.7 (from langchain)\n",
            "  Downloading dataclasses_json-0.6.4-py3-none-any.whl (28 kB)\n",
            "Collecting jsonpatch<2.0,>=1.33 (from langchain)\n",
            "  Downloading jsonpatch-1.33-py2.py3-none-any.whl (12 kB)\n",
            "Collecting langchain-community<0.1,>=0.0.25 (from langchain)\n",
            "  Downloading langchain_community-0.0.27-py3-none-any.whl (1.8 MB)\n",
            "\u001b[2K     \u001b[90m━━━━━━━━━━━━━━━━━━━━━━━━━━━━━━━━━━━━━━━━\u001b[0m \u001b[32m1.8/1.8 MB\u001b[0m \u001b[31m13.8 MB/s\u001b[0m eta \u001b[36m0:00:00\u001b[0m\n",
            "\u001b[?25hCollecting langchain-core<0.2,>=0.1.29 (from langchain)\n",
            "  Downloading langchain_core-0.1.30-py3-none-any.whl (256 kB)\n",
            "\u001b[2K     \u001b[90m━━━━━━━━━━━━━━━━━━━━━━━━━━━━━━━━━━━━━━━━\u001b[0m \u001b[32m256.9/256.9 kB\u001b[0m \u001b[31m15.7 MB/s\u001b[0m eta \u001b[36m0:00:00\u001b[0m\n",
            "\u001b[?25hCollecting langchain-text-splitters<0.1,>=0.0.1 (from langchain)\n",
            "  Downloading langchain_text_splitters-0.0.1-py3-none-any.whl (21 kB)\n",
            "Collecting langsmith<0.2.0,>=0.1.17 (from langchain)\n",
            "  Downloading langsmith-0.1.23-py3-none-any.whl (66 kB)\n",
            "\u001b[2K     \u001b[90m━━━━━━━━━━━━━━━━━━━━━━━━━━━━━━━━━━━━━━━━\u001b[0m \u001b[32m66.6/66.6 kB\u001b[0m \u001b[31m8.4 MB/s\u001b[0m eta \u001b[36m0:00:00\u001b[0m\n",
            "\u001b[?25hRequirement already satisfied: numpy<2,>=1 in /usr/local/lib/python3.10/dist-packages (from langchain) (1.25.2)\n",
            "Requirement already satisfied: pydantic<3,>=1 in /usr/local/lib/python3.10/dist-packages (from langchain) (2.6.3)\n",
            "Requirement already satisfied: requests<3,>=2 in /usr/local/lib/python3.10/dist-packages (from langchain) (2.31.0)\n",
            "Requirement already satisfied: tenacity<9.0.0,>=8.1.0 in /usr/local/lib/python3.10/dist-packages (from langchain) (8.2.3)\n",
            "Requirement already satisfied: aiosignal>=1.1.2 in /usr/local/lib/python3.10/dist-packages (from aiohttp<4.0.0,>=3.8.3->langchain) (1.3.1)\n",
            "Requirement already satisfied: attrs>=17.3.0 in /usr/local/lib/python3.10/dist-packages (from aiohttp<4.0.0,>=3.8.3->langchain) (23.2.0)\n",
            "Requirement already satisfied: frozenlist>=1.1.1 in /usr/local/lib/python3.10/dist-packages (from aiohttp<4.0.0,>=3.8.3->langchain) (1.4.1)\n",
            "Requirement already satisfied: multidict<7.0,>=4.5 in /usr/local/lib/python3.10/dist-packages (from aiohttp<4.0.0,>=3.8.3->langchain) (6.0.5)\n",
            "Requirement already satisfied: yarl<2.0,>=1.0 in /usr/local/lib/python3.10/dist-packages (from aiohttp<4.0.0,>=3.8.3->langchain) (1.9.4)\n",
            "Collecting marshmallow<4.0.0,>=3.18.0 (from dataclasses-json<0.7,>=0.5.7->langchain)\n",
            "  Downloading marshmallow-3.21.1-py3-none-any.whl (49 kB)\n",
            "\u001b[2K     \u001b[90m━━━━━━━━━━━━━━━━━━━━━━━━━━━━━━━━━━━━━━━━\u001b[0m \u001b[32m49.4/49.4 kB\u001b[0m \u001b[31m5.9 MB/s\u001b[0m eta \u001b[36m0:00:00\u001b[0m\n",
            "\u001b[?25hCollecting typing-inspect<1,>=0.4.0 (from dataclasses-json<0.7,>=0.5.7->langchain)\n",
            "  Downloading typing_inspect-0.9.0-py3-none-any.whl (8.8 kB)\n",
            "Collecting jsonpointer>=1.9 (from jsonpatch<2.0,>=1.33->langchain)\n",
            "  Downloading jsonpointer-2.4-py2.py3-none-any.whl (7.8 kB)\n",
            "Requirement already satisfied: anyio<5,>=3 in /usr/local/lib/python3.10/dist-packages (from langchain-core<0.2,>=0.1.29->langchain) (3.7.1)\n",
            "Requirement already satisfied: packaging<24.0,>=23.2 in /usr/local/lib/python3.10/dist-packages (from langchain-core<0.2,>=0.1.29->langchain) (23.2)\n",
            "Collecting orjson<4.0.0,>=3.9.14 (from langsmith<0.2.0,>=0.1.17->langchain)\n",
            "  Downloading orjson-3.9.15-cp310-cp310-manylinux_2_17_x86_64.manylinux2014_x86_64.whl (138 kB)\n",
            "\u001b[2K     \u001b[90m━━━━━━━━━━━━━━━━━━━━━━━━━━━━━━━━━━━━━━━━\u001b[0m \u001b[32m138.5/138.5 kB\u001b[0m \u001b[31m14.8 MB/s\u001b[0m eta \u001b[36m0:00:00\u001b[0m\n",
            "\u001b[?25hRequirement already satisfied: annotated-types>=0.4.0 in /usr/local/lib/python3.10/dist-packages (from pydantic<3,>=1->langchain) (0.6.0)\n",
            "Requirement already satisfied: pydantic-core==2.16.3 in /usr/local/lib/python3.10/dist-packages (from pydantic<3,>=1->langchain) (2.16.3)\n",
            "Requirement already satisfied: typing-extensions>=4.6.1 in /usr/local/lib/python3.10/dist-packages (from pydantic<3,>=1->langchain) (4.10.0)\n",
            "Requirement already satisfied: charset-normalizer<4,>=2 in /usr/local/lib/python3.10/dist-packages (from requests<3,>=2->langchain) (3.3.2)\n",
            "Requirement already satisfied: idna<4,>=2.5 in /usr/local/lib/python3.10/dist-packages (from requests<3,>=2->langchain) (3.6)\n",
            "Requirement already satisfied: urllib3<3,>=1.21.1 in /usr/local/lib/python3.10/dist-packages (from requests<3,>=2->langchain) (2.0.7)\n",
            "Requirement already satisfied: certifi>=2017.4.17 in /usr/local/lib/python3.10/dist-packages (from requests<3,>=2->langchain) (2024.2.2)\n",
            "Requirement already satisfied: greenlet!=0.4.17 in /usr/local/lib/python3.10/dist-packages (from SQLAlchemy<3,>=1.4->langchain) (3.0.3)\n",
            "Requirement already satisfied: sniffio>=1.1 in /usr/local/lib/python3.10/dist-packages (from anyio<5,>=3->langchain-core<0.2,>=0.1.29->langchain) (1.3.1)\n",
            "Requirement already satisfied: exceptiongroup in /usr/local/lib/python3.10/dist-packages (from anyio<5,>=3->langchain-core<0.2,>=0.1.29->langchain) (1.2.0)\n",
            "Collecting mypy-extensions>=0.3.0 (from typing-inspect<1,>=0.4.0->dataclasses-json<0.7,>=0.5.7->langchain)\n",
            "  Downloading mypy_extensions-1.0.0-py3-none-any.whl (4.7 kB)\n",
            "Installing collected packages: orjson, mypy-extensions, marshmallow, jsonpointer, typing-inspect, jsonpatch, langsmith, dataclasses-json, langchain-core, langchain-text-splitters, langchain-community, langchain\n",
            "Successfully installed dataclasses-json-0.6.4 jsonpatch-1.33 jsonpointer-2.4 langchain-0.1.11 langchain-community-0.0.27 langchain-core-0.1.30 langchain-text-splitters-0.0.1 langsmith-0.1.23 marshmallow-3.21.1 mypy-extensions-1.0.0 orjson-3.9.15 typing-inspect-0.9.0\n",
            "Collecting langchain-openai\n",
            "  Downloading langchain_openai-0.0.8-py3-none-any.whl (32 kB)\n",
            "Requirement already satisfied: langchain-core<0.2.0,>=0.1.27 in /usr/local/lib/python3.10/dist-packages (from langchain-openai) (0.1.30)\n",
            "Requirement already satisfied: openai<2.0.0,>=1.10.0 in /usr/local/lib/python3.10/dist-packages (from langchain-openai) (1.13.3)\n",
            "Collecting tiktoken<1,>=0.5.2 (from langchain-openai)\n",
            "  Downloading tiktoken-0.6.0-cp310-cp310-manylinux_2_17_x86_64.manylinux2014_x86_64.whl (1.8 MB)\n",
            "\u001b[2K     \u001b[90m━━━━━━━━━━━━━━━━━━━━━━━━━━━━━━━━━━━━━━━━\u001b[0m \u001b[32m1.8/1.8 MB\u001b[0m \u001b[31m7.0 MB/s\u001b[0m eta \u001b[36m0:00:00\u001b[0m\n",
            "\u001b[?25hRequirement already satisfied: PyYAML>=5.3 in /usr/local/lib/python3.10/dist-packages (from langchain-core<0.2.0,>=0.1.27->langchain-openai) (6.0.1)\n",
            "Requirement already satisfied: anyio<5,>=3 in /usr/local/lib/python3.10/dist-packages (from langchain-core<0.2.0,>=0.1.27->langchain-openai) (3.7.1)\n",
            "Requirement already satisfied: jsonpatch<2.0,>=1.33 in /usr/local/lib/python3.10/dist-packages (from langchain-core<0.2.0,>=0.1.27->langchain-openai) (1.33)\n",
            "Requirement already satisfied: langsmith<0.2.0,>=0.1.0 in /usr/local/lib/python3.10/dist-packages (from langchain-core<0.2.0,>=0.1.27->langchain-openai) (0.1.23)\n",
            "Requirement already satisfied: packaging<24.0,>=23.2 in /usr/local/lib/python3.10/dist-packages (from langchain-core<0.2.0,>=0.1.27->langchain-openai) (23.2)\n",
            "Requirement already satisfied: pydantic<3,>=1 in /usr/local/lib/python3.10/dist-packages (from langchain-core<0.2.0,>=0.1.27->langchain-openai) (2.6.3)\n",
            "Requirement already satisfied: requests<3,>=2 in /usr/local/lib/python3.10/dist-packages (from langchain-core<0.2.0,>=0.1.27->langchain-openai) (2.31.0)\n",
            "Requirement already satisfied: tenacity<9.0.0,>=8.1.0 in /usr/local/lib/python3.10/dist-packages (from langchain-core<0.2.0,>=0.1.27->langchain-openai) (8.2.3)\n",
            "Requirement already satisfied: distro<2,>=1.7.0 in /usr/lib/python3/dist-packages (from openai<2.0.0,>=1.10.0->langchain-openai) (1.7.0)\n",
            "Requirement already satisfied: httpx<1,>=0.23.0 in /usr/local/lib/python3.10/dist-packages (from openai<2.0.0,>=1.10.0->langchain-openai) (0.27.0)\n",
            "Requirement already satisfied: sniffio in /usr/local/lib/python3.10/dist-packages (from openai<2.0.0,>=1.10.0->langchain-openai) (1.3.1)\n",
            "Requirement already satisfied: tqdm>4 in /usr/local/lib/python3.10/dist-packages (from openai<2.0.0,>=1.10.0->langchain-openai) (4.66.2)\n",
            "Requirement already satisfied: typing-extensions<5,>=4.7 in /usr/local/lib/python3.10/dist-packages (from openai<2.0.0,>=1.10.0->langchain-openai) (4.10.0)\n",
            "Requirement already satisfied: regex>=2022.1.18 in /usr/local/lib/python3.10/dist-packages (from tiktoken<1,>=0.5.2->langchain-openai) (2023.12.25)\n",
            "Requirement already satisfied: idna>=2.8 in /usr/local/lib/python3.10/dist-packages (from anyio<5,>=3->langchain-core<0.2.0,>=0.1.27->langchain-openai) (3.6)\n",
            "Requirement already satisfied: exceptiongroup in /usr/local/lib/python3.10/dist-packages (from anyio<5,>=3->langchain-core<0.2.0,>=0.1.27->langchain-openai) (1.2.0)\n",
            "Requirement already satisfied: certifi in /usr/local/lib/python3.10/dist-packages (from httpx<1,>=0.23.0->openai<2.0.0,>=1.10.0->langchain-openai) (2024.2.2)\n",
            "Requirement already satisfied: httpcore==1.* in /usr/local/lib/python3.10/dist-packages (from httpx<1,>=0.23.0->openai<2.0.0,>=1.10.0->langchain-openai) (1.0.4)\n",
            "Requirement already satisfied: h11<0.15,>=0.13 in /usr/local/lib/python3.10/dist-packages (from httpcore==1.*->httpx<1,>=0.23.0->openai<2.0.0,>=1.10.0->langchain-openai) (0.14.0)\n",
            "Requirement already satisfied: jsonpointer>=1.9 in /usr/local/lib/python3.10/dist-packages (from jsonpatch<2.0,>=1.33->langchain-core<0.2.0,>=0.1.27->langchain-openai) (2.4)\n",
            "Requirement already satisfied: orjson<4.0.0,>=3.9.14 in /usr/local/lib/python3.10/dist-packages (from langsmith<0.2.0,>=0.1.0->langchain-core<0.2.0,>=0.1.27->langchain-openai) (3.9.15)\n",
            "Requirement already satisfied: annotated-types>=0.4.0 in /usr/local/lib/python3.10/dist-packages (from pydantic<3,>=1->langchain-core<0.2.0,>=0.1.27->langchain-openai) (0.6.0)\n",
            "Requirement already satisfied: pydantic-core==2.16.3 in /usr/local/lib/python3.10/dist-packages (from pydantic<3,>=1->langchain-core<0.2.0,>=0.1.27->langchain-openai) (2.16.3)\n",
            "Requirement already satisfied: charset-normalizer<4,>=2 in /usr/local/lib/python3.10/dist-packages (from requests<3,>=2->langchain-core<0.2.0,>=0.1.27->langchain-openai) (3.3.2)\n",
            "Requirement already satisfied: urllib3<3,>=1.21.1 in /usr/local/lib/python3.10/dist-packages (from requests<3,>=2->langchain-core<0.2.0,>=0.1.27->langchain-openai) (2.0.7)\n",
            "Installing collected packages: tiktoken, langchain-openai\n",
            "Successfully installed langchain-openai-0.0.8 tiktoken-0.6.0\n"
          ]
        }
      ]
    },
    {
      "cell_type": "code",
      "source": [
        "import openai\n",
        "from google.colab import userdata\n",
        "import os\n",
        "\n",
        "os.environ[\"OPENAI_API_KEY\"] = userdata.get('OPENAI_API_KEY')\n",
        "# llm = ChatOpenAI(openai_api_key=os.getenv('OPENAI_API_KEY'))\n",
        "openai.api_key  = os.getenv('OPENAI_API_KEY')"
      ],
      "metadata": {
        "id": "8U76-LF_6Z8y"
      },
      "execution_count": 3,
      "outputs": []
    },
    {
      "cell_type": "code",
      "source": [
        "from langchain.chat_models import ChatOpenAI\n",
        "import datetime\n",
        "current_date = datetime.datetime.now().date()\n",
        "llm_name = \"gpt-4\"\n",
        "# if current_date < datetime.date(2023, 9, 2):\n",
        "#     llm_name = \"gpt-3.5-turbo-0301\"\n",
        "# else:\n",
        "#     llm_name = \"gpt-3.5-turbo\"\n",
        "print(llm_name)\n",
        "llm = ChatOpenAI(model_name=llm_name, temperature=0)\n",
        "llm.invoke(\"Hello world!\")"
      ],
      "metadata": {
        "colab": {
          "base_uri": "https://localhost:8080/"
        },
        "id": "gtNkHmw77N5Q",
        "outputId": "1339ff53-feee-4bac-f96c-2e9987db1823"
      },
      "execution_count": 4,
      "outputs": [
        {
          "output_type": "stream",
          "name": "stdout",
          "text": [
            "gpt-4\n"
          ]
        },
        {
          "output_type": "stream",
          "name": "stderr",
          "text": [
            "/usr/local/lib/python3.10/dist-packages/langchain_core/_api/deprecation.py:117: LangChainDeprecationWarning: The class `langchain_community.chat_models.openai.ChatOpenAI` was deprecated in langchain-community 0.0.10 and will be removed in 0.2.0. An updated version of the class exists in the langchain-openai package and should be used instead. To use it run `pip install -U langchain-openai` and import as `from langchain_openai import ChatOpenAI`.\n",
            "  warn_deprecated(\n"
          ]
        },
        {
          "output_type": "execute_result",
          "data": {
            "text/plain": [
              "AIMessage(content='Hello! How can I assist you today?')"
            ]
          },
          "metadata": {},
          "execution_count": 4
        }
      ]
    },
    {
      "cell_type": "code",
      "source": [],
      "metadata": {
        "id": "PgAj3mLUzYAg"
      },
      "execution_count": 4,
      "outputs": []
    },
    {
      "cell_type": "code",
      "source": [
        "from langchain.tools import Tool\n",
        "from langchain_community.utilities import GoogleSearchAPIWrapper\n",
        "os.environ[\"GOOGLE_API_KEY\"] = userdata.get('GOOGLE_SEARCH_API')\n",
        "os.environ[\"GOOGLE_CSE_ID\"] = userdata.get('GOOGLE_CSE_ID')\n",
        "search = GoogleSearchAPIWrapper(k=8)\n",
        "\n",
        "stool = Tool(\n",
        "    name=\"google_search\",\n",
        "    description=\"Search Google for recent results.\",\n",
        "    func=search.run,\n",
        ")"
      ],
      "metadata": {
        "id": "Aynw5jIG7yFa"
      },
      "execution_count": 9,
      "outputs": []
    },
    {
      "cell_type": "code",
      "source": [
        "from langchain.agents import AgentType, Tool, initialize_agent\n",
        "\n",
        "\n",
        "\n",
        "tools = [\n",
        "    Tool(\n",
        "        name=\"Intermediate Answer\",\n",
        "        func=search.run,\n",
        "        description=\"useful for when you need to ask with search\",\n",
        "    )\n",
        "]\n",
        "\n",
        "# self_ask_with_search = initialize_agent(\n",
        "#     tools, llm, agent=AgentType.SELF_ASK_WITH_SEARCH, verbose=True\n",
        "# )\n",
        "# self_ask_with_search.run(\n",
        "#     \"Apotheke 3 wick candles collection price images\"\n",
        "# )\n",
        "\n",
        "agent= initialize_agent(\n",
        "    tools,\n",
        "    llm,\n",
        "    agent=AgentType.CHAT_ZERO_SHOT_REACT_DESCRIPTION,\n",
        "    handle_parsing_errors=True,\n",
        "    verbose = True)\n"
      ],
      "metadata": {
        "id": "W0heALkW2-wj"
      },
      "execution_count": 11,
      "outputs": []
    },
    {
      "cell_type": "code",
      "source": [
        "user_message = f\"\"\"\\\n",
        "Apotheke 3-Wick Candles Collection charcoal\"\"\""
      ],
      "metadata": {
        "id": "H13YHl1VnvHF"
      },
      "execution_count": 12,
      "outputs": []
    },
    {
      "cell_type": "code",
      "source": [
        "delimiter = \"###\"\n",
        "system_message = f\"\"\"\n",
        "You my search analysit provide the follwoing information by doing search on internet. \\\n",
        "The query will be delimited with \\\n",
        "triple hash characters.\n",
        "you have to generate response in the following format \\\n",
        "Brand name:  \\\n",
        "Product image(s): give altest one links \\\n",
        "color : give colors comma separated\\\n",
        "category: product's category for amazon \\\n",
        "description: product description \\\n",
        "Sold on amazon: true / false \\\n",
        "Amazon price: give price range \\\n",
        "ASIN: comma seperated asin codes\\\n",
        "UPC: mention UPC.\n",
        "if you dont able to find informatin in context try to search at your own and give answer\n",
        "\"\"\"\n",
        "message = f\"{system_message}{delimiter}{user_message}{delimiter}\"\n",
        "message"
      ],
      "metadata": {
        "id": "adM-BO6ymA9R",
        "outputId": "ae5a6fde-cf34-4498-b5dd-846ed749f4aa",
        "colab": {
          "base_uri": "https://localhost:8080/",
          "height": 73
        }
      },
      "execution_count": 18,
      "outputs": [
        {
          "output_type": "execute_result",
          "data": {
            "text/plain": [
              "\"\\nYou my search analysit provide the follwoing information by doing search on internet. The query will be delimited with triple hash characters.\\nyou have to generate response in the following format Brand name:  Product image(s): give altest one links color : give colors comma separatedcategory: product's category for amazon description: product description Sold on amazon: true / false Amazon price: give price range ASIN: comma seperated asin codesUPC: mention UPC.\\nif you dont able to find informatin in context try to search at your own and give answer\\n###Apotheke 3-Wick Candles Collection charcoal###\""
            ],
            "application/vnd.google.colaboratory.intrinsic+json": {
              "type": "string"
            }
          },
          "metadata": {},
          "execution_count": 18
        }
      ]
    },
    {
      "cell_type": "code",
      "source": [
        "agent(message)"
      ],
      "metadata": {
        "id": "bgB-F08kLTmS",
        "outputId": "eb2b9a99-ab15-4af9-b07c-24712f7a727b",
        "colab": {
          "base_uri": "https://localhost:8080/"
        }
      },
      "execution_count": 19,
      "outputs": [
        {
          "output_type": "stream",
          "name": "stdout",
          "text": [
            "\n",
            "\n",
            "\u001b[1m> Entering new AgentExecutor chain...\u001b[0m\n",
            "\u001b[32;1m\u001b[1;3mThought: I need to find information about the Apotheke 3-Wick Candles Collection in charcoal. I will use the Intermediate Answer tool to search for this information on the internet.\n",
            "Action:\n",
            "```\n",
            "{\n",
            "  \"action\": \"Intermediate Answer\",\n",
            "  \"action_input\": \"Apotheke 3-Wick Candles Collection charcoal\"\n",
            "}\n",
            "```\u001b[0m\n",
            "Observation: \u001b[36;1m\u001b[1;3mExperience the rich and addictive aroma of our broody bestselling fragrance, Charcoal. This 3-Wick Scented Candle is made with a premium soy wax blend and ... Brand. APOTHEKE ; Product Dimensions. 5.5\"W x 5.25\"H ; Item Weight. 0.69 Pounds ; Number of Items. 1 ; Scent. Charcoal. Thank you. I was skeptical at first but after lighting it I was immediately hooked!! I may need the 3-wick next! Batteries Required? ‎No ; Material, ‎Soy Wax ; Seasons, ‎All Season ; Special Feature, ‎Long Lasting,Scented ; Wick Quantity, ‎1. Charcoal has become an iconic fragrance that is both complex and alluring. The Charcoal Collection ... Charcoal 3-Wick Candle. 4.4 out of 5 star rating. 4.4. 124 ... Mar 18, 2022 ... ... Apotheke Charcoal candle in the bathroom has remained a constant. ... So I did, and have again a few times since as each old wick burns down to ... Shop the Collection · Charcoal Rouge Classic Candle · Charcoal Rouge 3-Wick Candle · Charcoal Rouge Reed Diffuser. Apotheke's Charcoal collection smells like a crackling fire on a cold winter night. Made in Brooklyn, this unique fragrance beautifully combines scents of ...\u001b[0m\n",
            "Thought:\u001b[32;1m\u001b[1;3mThe information provided gives me details about the product's brand, dimensions, weight, scent, material, and special features. However, it does not provide information about the product's image, color, category, description, whether it is sold on Amazon, its price on Amazon, its ASIN, or its UPC. I will need to perform another search to find this information.\n",
            "Action:\n",
            "```\n",
            "{\n",
            "  \"action\": \"Intermediate Answer\",\n",
            "  \"action_input\": \"Apotheke 3-Wick Candles Collection charcoal on Amazon\"\n",
            "}\n",
            "```\u001b[0m\n",
            "Observation: \u001b[36;1m\u001b[1;3mBrand. APOTHEKE ; Product Dimensions. 5.5\"W x 5.25\"H ; Item Weight. 0.69 Pounds ; Number of Items. 1 ; Scent. Charcoal. Mar 18, 2022 ... Amazon · $42 ... wick burns down to the glass base. Especially in small, enclosed spaces like bathrooms, scented candles are liable to overwhelm. Batteries Required? ‎No ; Material, ‎Soy Wax ; Seasons, ‎All Season ; Special Feature, ‎Long Lasting,Scented ; Wick Quantity, ‎1. Experience the rich and addictive aroma of our broody bestselling fragrance, Charcoal. This 3-Wick Scented Candle is made with a premium soy wax blend and ... Benevolence LA 3 Wick Candles | Charcoal Scented Large Candle | 14.5 Oz Valentine Candles, ... Apotheke 3-Wick Candles Collection. Charcoal · Options: 14 scents. APOTHEKE Luxury Charcoal Candle $38. New Moon New Beginnings & Manifestation ... 3 Wick Cactus Candle $18. WoodWick Juniper & Spruce Scented Candle $33. Sweet ... Buy APOTHEKE Market Collection Luxury Scented 3-Wick Jar Candle, Purple Basil, 32 oz - Basil, Ginger Lime & Lily of The Valley Scent, Strong Fragrance, ... Enjoy the lush and captivating aroma of our newest fragrance, Charcoal Rouge. This 3-Wick Scented Candle is made with a premium soy wax blend and essential ...\u001b[0m\n",
            "Thought:\u001b[32;1m\u001b[1;3mThe information provided gives me details about the product's brand, dimensions, weight, scent, material, and special features. It also provides information about the product's price on Amazon. However, it does not provide information about the product's image, color, category, description, its ASIN, or its UPC. I will need to perform another search to find this information.\n",
            "Action:\n",
            "```\n",
            "{\n",
            "  \"action\": \"Intermediate Answer\",\n",
            "  \"action_input\": \"Apotheke 3-Wick Candles Collection charcoal ASIN and UPC on Amazon\"\n",
            "}\n",
            "```\u001b[0m\n",
            "Observation: \u001b[36;1m\u001b[1;3mAlways keep an eye on a burning candle. Keep away from flammables. Ingredients : Coconut and beeswax blend with braided cotton wick ... ... collection called short arts lot ask display limited powered solutions means ... apotheke nonlethal neckar hochman zowie prel vbulletinorg aorn mutexes ... 1 day ago ... Chesapeake Bay Candle The Collection Two-Wick Scented Candle, Cashmere Plum Medium Jar. Model: TA35218 UPC: 754870352188 ASIN: B077V3959Y ... ... collection called short arts lot ask display limited powered solutions means ... apotheke sniffin jmg transpor unutterable plyometrics mitterrand exoto ... 2 days ago ... ... Candle Sea Minerals 3-Wick Candles Chesapeake Bay Candle Lavender Mint Leaf ... products like Apotheke Charcoal Candle, Homesick Kentucky Candle ... ... amazon amazonas amazouz ambach ambady ambalada ambassador ambeault ambelang ... apotheke apotheken apotheloz apotheosis apotre apow app appalachia ...\u001b[0m\n",
            "Thought:\u001b[32;1m\u001b[1;3mThe information provided does not give me the ASIN or UPC for the Apotheke 3-Wick Candles Collection in charcoal. I will need to perform another search to find this information.\n",
            "Action:\n",
            "```\n",
            "{\n",
            "  \"action\": \"Intermediate Answer\",\n",
            "  \"action_input\": \"Apotheke 3-Wick Candles Collection charcoal product image\"\n",
            "}\n",
            "```\n",
            "\u001b[0m\n",
            "Observation: \u001b[36;1m\u001b[1;3mBrand. APOTHEKE ; Product Dimensions. 5.5\"W x 5.25\"H ; Item Weight. 0.69 Pounds ; Number of Items. 1 ; Scent. Charcoal. Charcoal combines cedarwood and sandalwood with smoky embers, burnt maple, and a hint of raspberry for a broody and full-bodied fragrance. The Product Made with ... SHOP THE COLLECTION · SUNNY DAYS AHEAD SHOP OUTDOOR · DELIVERY AS FAST AS 7 DAYS ... Viewing product image Apotheke Charcoal-Scented 3-Wick Candle - image 3 of 7. Charcoal combines cedarwood and sandalwood with smoky embers, burnt maple, and a hint of raspberry for a broody and full-bodied fragrance. The Product Made with ... Mar 18, 2022 ... Image collage of Apotheke's Charcoal candle. Illustration by Hazel Zavala. All products are independently selected by our editors. If you buy ... Enjoy the lush and captivating aroma of our newest fragrance, Charcoal Rouge. This 3-Wick Scented Candle is made with a premium soy wax blend and essential ... Viewing product image Apotheke Mini Charcoal-Scented Candle and Diffuser Set - image 3 of ... Monochrome No. 7 Pampas 1-Wick Scented Candle - Beach Grass, Nutmeg ... Viewing product image Apotheke Charcoal-Scented Candle - image 2 of 5. Viewing product image Apotheke Charcoal-Scented Candle - image 3 of 5. Viewing product ...\u001b[0m\n",
            "Thought:\u001b[32;1m\u001b[1;3mThe information provided does not give me a direct link to the product image for the Apotheke 3-Wick Candles Collection in charcoal. I will need to perform another search to find this information.\n",
            "Action:\n",
            "```\n",
            "{\n",
            "  \"action\": \"Intermediate Answer\",\n",
            "  \"action_input\": \"Apotheke 3-Wick Candles Collection charcoal product image link\"\n",
            "}\n",
            "```\n",
            "\u001b[0m\n",
            "Observation: \u001b[36;1m\u001b[1;3mCharcoal combines cedarwood and sandalwood with smoky embers, burnt maple, and a hint of raspberry for a broody and full-bodied fragrance. The Product Made with ... Mar 18, 2022 ... Image collage of Apotheke's Charcoal candle. Illustration by Hazel Zavala. All products are independently selected by our editors. If you buy ... Enjoy the lush and captivating aroma of our newest fragrance, Charcoal Rouge. This 3-Wick Scented Candle is made with a premium soy wax blend and essential ... ... Scented Candle Tins as the Best Limited-Edition Scented Candle Set. Each candle ... Our moody, broody, and oud-y Charcoal 3-Wick Candle is shining a bit ... Charcoal combines cedarwood and sandalwood with smoky embers, burnt maple, and a hint of raspberry for a broody and full-bodied fragrance. The Product Made with ... ... Apotheke Brooklyn Charcoal 2-Wick Ceramic Candle. view details. Apotheke Brooklyn ... Please NEVER ... Read More. Lisa R. Product image for Iconic Collection - ... Keep wicks trimmed and tidy to ensure your scented candles perform optimally with this attractive Black Wick Trimmer.Use to trim candle wicks to ¼” inch ... product-image-Apotheke Charcoal Candle. Apotheke Charcoal Candle ... product-image-Royal Craft Wood Cheese Board Set. Royal Craft Wood Cheese Board Set ...\u001b[0m\n",
            "Thought:\u001b[32;1m\u001b[1;3mThe information provided does not give me a direct link to the product image for the Apotheke 3-Wick Candles Collection in charcoal. I will need to perform another search to find this information.\n",
            "Action:\n",
            "```\n",
            "{\n",
            "  \"action\": \"Intermediate Answer\",\n",
            "  \"action_input\": \"Apotheke 3-Wick Candles Collection charcoal product color\"\n",
            "}\n",
            "```\n",
            "\u001b[0m\n",
            "Observation: \u001b[36;1m\u001b[1;3mCharcoal combines cedarwood and sandalwood with smoky embers, burnt maple, and a hint of raspberry for a broody and full-bodied fragrance. The Product Made with ... Brand. APOTHEKE ; Product Dimensions. 5.5\"W x 5.25\"H ; Item Weight. 0.69 Pounds ; Number of Items. 1 ; Scent. Charcoal. Shop the Collection · Charcoal Rouge Classic Candle · Charcoal Rouge 3-Wick Candle · Charcoal Rouge Reed Diffuser. Luxury Scented Candles for Home, Charcoal - Aromatherapy Jar Candle with Soy Wax Blend ... Apotheke 3-Wick Candles Collection. Charcoal combines cedarwood and sandalwood with smoky embers, burnt maple, and a hint of raspberry for a broody and full-bodied fragrance. The Product Made with ... Color. Black ; Product Dimensions. 4\"W x 4.5\"H ; Item Weight. 1.4 Pounds ; Number of Items. 1 ; Scent. Charcoal. Enjoy the lush and captivating aroma of our newest fragrance, Charcoal Rouge. This 3-Wick Scented Candle is made with a premium soy wax blend and essential ... Benevolence LA 3 Wick Candles | Charcoal Scented Large Candle | 14.5 Oz Valentine Candles, ... Apotheke 3-Wick Candles Collection. Charcoal · Options: 14 scents.\u001b[0m\n",
            "Thought:\u001b[32;1m\u001b[1;3mThe information provided gives me the color of the Apotheke 3-Wick Candles Collection in charcoal, which is black. However, it does not provide information about the product's category, description, its ASIN, or its UPC. I will need to perform another search to find this information.\n",
            "Action:\n",
            "```\n",
            "{\n",
            "  \"action\": \"Intermediate Answer\",\n",
            "  \"action_input\": \"Apotheke 3-Wick Candles Collection charcoal product category on Amazon\"\n",
            "}\n",
            "```\n",
            "\u001b[0m\n",
            "Observation: \u001b[36;1m\u001b[1;3mWick Quantity, ‎1 ; Package Information, ‎Jar ; Material Type Free, ‎Cruelty Free,Non-gmo,Phthalate Free ; Unit Count, ‎1.0 Count ; APOTHEKE Apotheke Luxury Scented ... Mar 18, 2022 ... Here is the thing about the Apotheke charcoal candle: Even if it smelled like garbage (which it doesn't!), I would consider buying it just for ... Luxury Scented Candles for Home, Charcoal - Aromatherapy Jar Candle with Soy Wax Blend ... Apotheke 3-Wick Candles Collection. Charcoal combines cedarwood and sandalwood with smoky embers, burnt maple, and a hint of raspberry for a broody and full-bodied fragrance. The Product Made with ... Product information ; ‎No · ‎All Season · ‎Long Lasting,Scented,Strong Fragrance · ‎Jar · ‎32 Ounce ... Nov 15, 2023 ... The Apotheke Charcoal Candle smells like charred sandalwood and cedar after a heavy rain. The scent is very fragrant but also mild enough that ... Amazon.com: Apotheke Luxury Scented Candles for Home, Holiday Gift Set (Seasonal Discovery) : Home & Kitchen. Product type. 2-Wick Candles 3-Wick Candles Bar Soap Body Care Bundles Classic Candles Fragrance Cards Liquid Soap Lotion Mini Tin Candles Pura Smart ...\u001b[0m\n",
            "Thought:\u001b[32;1m\u001b[1;3mThe information provided gives me the category of the Apotheke 3-Wick Candles Collection in charcoal, which is a type of scented candle for home use. However, it does not provide information about the product's description, its ASIN, or its UPC. I will need to perform another search to find this information.\n",
            "Action:\n",
            "```\n",
            "{\n",
            "  \"action\": \"Intermediate Answer\",\n",
            "  \"action_input\": \"Apotheke 3-Wick Candles Collection charcoal product description on Amazon\"\n",
            "}\n",
            "```\n",
            "\u001b[0m\n",
            "Observation: \u001b[36;1m\u001b[1;3mDetailsDetails ; Brand. APOTHEKE ; Product Dimensions. 5.5\"W x 5.25\"H ; Item Weight. 0.69 Pounds ; Number of Items. 1 ; Scent. Charcoal. Charcoal combines cedarwood and sandalwood with smoky embers, burnt maple, and a hint of raspberry for a broody and full-bodied fragrance. The Product Made with ... Product information ; ‎Soy Wax · ‎All Season · ‎Long Lasting,Scented · ‎1 · ‎Jar. Mar 18, 2022 ... Here is the thing about the Apotheke charcoal candle: Even if it smelled like garbage (which it doesn't!), I would consider buying it just for ... Buy APOTHEKE Market Collection Luxury Scented 3-Wick Jar Candle, Purple Basil, 32 oz - Basil, Ginger Lime & Lily of The Valley Scent, Strong Fragrance, ... Charcoal combines cedarwood and sandalwood with smoky embers, burnt maple, and a hint of raspberry for a broody and full-bodied fragrance. The Product Made with ... Apotheke Luxury Scented Oil Reed Diffuser for Home (Charcoal) - Home Fragrance Diffuser Set ... Product description. Apotheke Banner. Feb 14, 2023 ... alert The Apotheke 3 wick Purple Basil candle is $48 on Amazon! ... I blind bought charcoal with these two and that's actually my least ...\u001b[0m\n",
            "Thought:\u001b[32;1m\u001b[1;3mThe information provided gives me the description of the Apotheke 3-Wick Candles Collection in charcoal, which combines cedarwood and sandalwood with smoky embers, burnt maple, and a hint of raspberry for a broody and full-bodied fragrance. However, it does not provide information about the product's ASIN or its UPC. I will need to perform another search to find this information.\n",
            "Action:\n",
            "```\n",
            "{\n",
            "  \"action\": \"Intermediate Answer\",\n",
            "  \"action_input\": \"Apotheke 3-Wick Candles Collection charcoal ASIN on Amazon\"\n",
            "}\n",
            "```\n",
            "\u001b[0m\n",
            "Observation: \u001b[36;1m\u001b[1;3mBatteries Required? ‎No ; Material, ‎Soy Wax ; Seasons, ‎All Season ; Special Feature, ‎Long Lasting,Scented ; Wick Quantity, ‎1. REED DIFFUSER. You control the fragrance level. The 'set it and forget' it is doable with these fresh reed diffusers. If you are sensitive to fragrance ... Wick Quantity, ‎3. Model Name, ‎3-Wick. Package Information, ‎Can. Unit Count, ‎26.0 Ounce. Additional Information. ASIN: B0CTJ8LKT6; Customer Reviews: 4.2 out ... One of my favorite candles! Reviewed in the United States on January 24, 2024. Scent: Charcoal. I am a candle maker, and this ... Amazon.com: Apotheke Luxury Scented Candles for Home, Holiday Gift Set (Seasonal Discovery) : Home & Kitchen. REED DIFFUSER. You control the fragrance level. The 'set it and forget' it is doable with these fresh reed diffusers. If you are sensitive to fragrance ... Apotheke Signature Collection · Amber Woods · Apricot Red Currant · Black Iris Oak · Canvas · Charcoal · Cedarwood Ginger · Charcoal Rouge · Earl Grey Bitters ... Apotheke Luxury Scented Candles for Home, Charcoal - Aromatherapy Jar Candle with Soy Wax Blend ... Apotheke 3-Wick Candles Collection · 4.2 ...\u001b[0m\n",
            "Thought:\u001b[32;1m\u001b[1;3mThe information provided does not give me the ASIN for the Apotheke 3-Wick Candles Collection in charcoal. I will need to perform another search to find this information.\n",
            "Action:\n",
            "```\n",
            "{\n",
            "  \"action\": \"Intermediate Answer\",\n",
            "  \"action_input\": \"Apotheke 3-Wick Candles Collection charcoal UPC on Amazon\"\n",
            "}\n",
            "```\u001b[0m\n",
            "Observation: \u001b[36;1m\u001b[1;3mAlways keep an eye on a burning candle. Keep away from flammables. Ingredients : Coconut and beeswax blend with braided cotton wick ... APOTHEKE Orange Blossom Neroli 120hr Candle. $185.00. APOTHEKE Garden Discovery Set ... APOTHEKE Charcoal 3 Wick Candle. $198.00. APOTHEKE Charcoal Reed Diffuser. Choose from our collection of scented candles and enjoy Same Day Delivery or ... 2-Wick Clear Glass Emerald Amazon Lidded Jar Candle 15.1oz - Opalhouse™. 2 ... ... Set Of 2 Good Egg Diffuser And ... 22oz 3 Wick French Lavender Iris Candle. THE BASICS Our candles are hand-poured with perfume-grade fragrance oils and a high quality soy wax blend. Each scent is formulated with a unique wick, wax, and ... AMAC PLASTIC PRODUCTS CORP. AMANATEX INTERNATIONAL; AMANDA JONES; AMARANTHINE LASHES; AMARANTHINE SKIN CARE; AMAZING VENTURES, LLC; AMAZON ENTERPRISES; AMAZON ... Layer 3: Fudge sauce. Layer 4: Madagascan vanilla bean gelato. Layer 5: Chocolate waffle cone crumbles for an extra crunch. Drooling yet? Talenti ... 1 day ago ... Chesapeake Bay Candle The Collection Two-Wick Scented Candle, Cashmere Plum Medium Jar. Model: TA35218 UPC: 754870352188 ASIN: B077V3959Y ...\u001b[0m\n",
            "Thought:\u001b[32;1m\u001b[1;3mThe information provided does not give me the UPC for the Apotheke 3-Wick Candles Collection in charcoal. I will need to perform another search to find this information.\n",
            "Action:\n",
            "```\n",
            "{\n",
            "  \"action\": \"Intermediate Answer\",\n",
            "  \"action_input\": \"Apotheke 3-Wick Candles Collection charcoal UPC\"\n",
            "}\n",
            "```\n",
            "\u001b[0m\n",
            "Observation: \u001b[36;1m\u001b[1;3mShop Apotheke Charcoal 2-Wick Ceramic Scented Candle at Bluemercury. Rich and addictive, this two-wick scented candle features a premium soy wax blend in an ... APOTHEKE Orange Blossom Neroli 120hr Candle. $185.00. APOTHEKE Garden Discovery Set ... APOTHEKE Charcoal 3 Wick Candle. $198.00. APOTHEKE Charcoal Reed Diffuser. APOTHEKE Charcoal Classic Candle product · APOTHEKE. Charcoal Classic Candle ... APOTHEKE Earl Grey Bitters 3-Wick Candle product · APOTHEKE. Earl Grey Bitters ... Hand poured in Brooklyn, USA using essential and perfume grade oils, a black hued soy wax blend and cotton wick. Officially imported + exclusively distributed ... Always keep an eye on a burning candle. Keep away from flammables. Ingredients : Coconut and beeswax blend with braided cotton wick ... Shop APOTHEKE Luxury Scented Lotion, 10 oz - Nourishing, Moisturizing, Hydrating for Hand & Body, Enriched Aloe Vera, Plant Based for Dry Skin Charcoal ... ... Set Of 3 Melted Smooth ... 22oz 3 Wick French Lavender Iris Candle. Apotheke Charcoal-Scented Candles and Diffusers. CAD 60.00 - CAD 115.00 ...\u001b[0m\n",
            "Thought:\u001b[32;1m\u001b[1;3mThe information provided does not give me the UPC for the Apotheke 3-Wick Candles Collection in charcoal. It seems that this information is not readily available online. I have gathered as much information as I could find about the product.\n",
            "\n",
            "Final Answer: \n",
            "Brand name: APOTHEKE\n",
            "Product image(s): Unable to find a direct link to the product image\n",
            "Color: Black\n",
            "Category: Scented Candles for Home\n",
            "Description: The Apotheke 3-Wick Candles Collection in charcoal combines cedarwood and sandalwood with smoky embers, burnt maple, and a hint of raspberry for a broody and full-bodied fragrance. It is made with a premium soy wax blend.\n",
            "Sold on Amazon: True\n",
            "Amazon price: $42\n",
            "ASIN: Unable to find\n",
            "UPC: Unable to find\u001b[0m\n",
            "\n",
            "\u001b[1m> Finished chain.\u001b[0m\n"
          ]
        },
        {
          "output_type": "execute_result",
          "data": {
            "text/plain": [
              "{'input': \"\\nYou my search analysit provide the follwoing information by doing search on internet. The query will be delimited with triple hash characters.\\nyou have to generate response in the following format Brand name:  Product image(s): give altest one links color : give colors comma separatedcategory: product's category for amazon description: product description Sold on amazon: true / false Amazon price: give price range ASIN: comma seperated asin codesUPC: mention UPC.\\nif you dont able to find informatin in context try to search at your own and give answer\\n###Apotheke 3-Wick Candles Collection charcoal###\",\n",
              " 'output': 'Brand name: APOTHEKE\\nProduct image(s): Unable to find a direct link to the product image\\nColor: Black\\nCategory: Scented Candles for Home\\nDescription: The Apotheke 3-Wick Candles Collection in charcoal combines cedarwood and sandalwood with smoky embers, burnt maple, and a hint of raspberry for a broody and full-bodied fragrance. It is made with a premium soy wax blend.\\nSold on Amazon: True\\nAmazon price: $42\\nASIN: Unable to find\\nUPC: Unable to find'}"
            ]
          },
          "metadata": {},
          "execution_count": 19
        }
      ]
    }
  ]
}